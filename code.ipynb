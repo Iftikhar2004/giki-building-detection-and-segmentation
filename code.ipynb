{
  "nbformat": 4,
  "nbformat_minor": 0,
  "metadata": {
    "colab": {
      "provenance": [],
      "gpuType": "T4"
    },
    "kernelspec": {
      "name": "python3",
      "display_name": "Python 3"
    },
    "language_info": {
      "name": "python"
    },
    "accelerator": "GPU"
  },
  "cells": [
    {
      "cell_type": "code",
      "source": [
        "# Install YOLOv8\n",
        "!pip install ultralytics\n"
      ],
      "metadata": {
        "colab": {
          "base_uri": "https://localhost:8080/"
        },
        "collapsed": true,
        "id": "1NPO6pp7E2G1",
        "outputId": "99ce5bf9-36f3-465f-e8c0-556bff18ecbf"
      },
      "execution_count": 1,
      "outputs": [
        {
          "output_type": "stream",
          "name": "stdout",
          "text": [
            "Collecting ultralytics\n",
            "  Downloading ultralytics-8.3.176-py3-none-any.whl.metadata (37 kB)\n",
            "Requirement already satisfied: numpy>=1.23.0 in /usr/local/lib/python3.11/dist-packages (from ultralytics) (2.0.2)\n",
            "Requirement already satisfied: matplotlib>=3.3.0 in /usr/local/lib/python3.11/dist-packages (from ultralytics) (3.10.0)\n",
            "Requirement already satisfied: opencv-python>=4.6.0 in /usr/local/lib/python3.11/dist-packages (from ultralytics) (4.12.0.88)\n",
            "Requirement already satisfied: pillow>=7.1.2 in /usr/local/lib/python3.11/dist-packages (from ultralytics) (11.3.0)\n",
            "Requirement already satisfied: pyyaml>=5.3.1 in /usr/local/lib/python3.11/dist-packages (from ultralytics) (6.0.2)\n",
            "Requirement already satisfied: requests>=2.23.0 in /usr/local/lib/python3.11/dist-packages (from ultralytics) (2.32.3)\n",
            "Requirement already satisfied: scipy>=1.4.1 in /usr/local/lib/python3.11/dist-packages (from ultralytics) (1.16.1)\n",
            "Requirement already satisfied: torch>=1.8.0 in /usr/local/lib/python3.11/dist-packages (from ultralytics) (2.6.0+cu124)\n",
            "Requirement already satisfied: torchvision>=0.9.0 in /usr/local/lib/python3.11/dist-packages (from ultralytics) (0.21.0+cu124)\n",
            "Requirement already satisfied: tqdm>=4.64.0 in /usr/local/lib/python3.11/dist-packages (from ultralytics) (4.67.1)\n",
            "Requirement already satisfied: psutil in /usr/local/lib/python3.11/dist-packages (from ultralytics) (5.9.5)\n",
            "Requirement already satisfied: py-cpuinfo in /usr/local/lib/python3.11/dist-packages (from ultralytics) (9.0.0)\n",
            "Requirement already satisfied: pandas>=1.1.4 in /usr/local/lib/python3.11/dist-packages (from ultralytics) (2.2.2)\n",
            "Collecting ultralytics-thop>=2.0.0 (from ultralytics)\n",
            "  Downloading ultralytics_thop-2.0.15-py3-none-any.whl.metadata (14 kB)\n",
            "Requirement already satisfied: contourpy>=1.0.1 in /usr/local/lib/python3.11/dist-packages (from matplotlib>=3.3.0->ultralytics) (1.3.3)\n",
            "Requirement already satisfied: cycler>=0.10 in /usr/local/lib/python3.11/dist-packages (from matplotlib>=3.3.0->ultralytics) (0.12.1)\n",
            "Requirement already satisfied: fonttools>=4.22.0 in /usr/local/lib/python3.11/dist-packages (from matplotlib>=3.3.0->ultralytics) (4.59.0)\n",
            "Requirement already satisfied: kiwisolver>=1.3.1 in /usr/local/lib/python3.11/dist-packages (from matplotlib>=3.3.0->ultralytics) (1.4.8)\n",
            "Requirement already satisfied: packaging>=20.0 in /usr/local/lib/python3.11/dist-packages (from matplotlib>=3.3.0->ultralytics) (25.0)\n",
            "Requirement already satisfied: pyparsing>=2.3.1 in /usr/local/lib/python3.11/dist-packages (from matplotlib>=3.3.0->ultralytics) (3.2.3)\n",
            "Requirement already satisfied: python-dateutil>=2.7 in /usr/local/lib/python3.11/dist-packages (from matplotlib>=3.3.0->ultralytics) (2.9.0.post0)\n",
            "Requirement already satisfied: pytz>=2020.1 in /usr/local/lib/python3.11/dist-packages (from pandas>=1.1.4->ultralytics) (2025.2)\n",
            "Requirement already satisfied: tzdata>=2022.7 in /usr/local/lib/python3.11/dist-packages (from pandas>=1.1.4->ultralytics) (2025.2)\n",
            "Requirement already satisfied: charset-normalizer<4,>=2 in /usr/local/lib/python3.11/dist-packages (from requests>=2.23.0->ultralytics) (3.4.2)\n",
            "Requirement already satisfied: idna<4,>=2.5 in /usr/local/lib/python3.11/dist-packages (from requests>=2.23.0->ultralytics) (3.10)\n",
            "Requirement already satisfied: urllib3<3,>=1.21.1 in /usr/local/lib/python3.11/dist-packages (from requests>=2.23.0->ultralytics) (2.5.0)\n",
            "Requirement already satisfied: certifi>=2017.4.17 in /usr/local/lib/python3.11/dist-packages (from requests>=2.23.0->ultralytics) (2025.8.3)\n",
            "Requirement already satisfied: filelock in /usr/local/lib/python3.11/dist-packages (from torch>=1.8.0->ultralytics) (3.18.0)\n",
            "Requirement already satisfied: typing-extensions>=4.10.0 in /usr/local/lib/python3.11/dist-packages (from torch>=1.8.0->ultralytics) (4.14.1)\n",
            "Requirement already satisfied: networkx in /usr/local/lib/python3.11/dist-packages (from torch>=1.8.0->ultralytics) (3.5)\n",
            "Requirement already satisfied: jinja2 in /usr/local/lib/python3.11/dist-packages (from torch>=1.8.0->ultralytics) (3.1.6)\n",
            "Requirement already satisfied: fsspec in /usr/local/lib/python3.11/dist-packages (from torch>=1.8.0->ultralytics) (2025.3.0)\n",
            "Collecting nvidia-cuda-nvrtc-cu12==12.4.127 (from torch>=1.8.0->ultralytics)\n",
            "  Downloading nvidia_cuda_nvrtc_cu12-12.4.127-py3-none-manylinux2014_x86_64.whl.metadata (1.5 kB)\n",
            "Collecting nvidia-cuda-runtime-cu12==12.4.127 (from torch>=1.8.0->ultralytics)\n",
            "  Downloading nvidia_cuda_runtime_cu12-12.4.127-py3-none-manylinux2014_x86_64.whl.metadata (1.5 kB)\n",
            "Collecting nvidia-cuda-cupti-cu12==12.4.127 (from torch>=1.8.0->ultralytics)\n",
            "  Downloading nvidia_cuda_cupti_cu12-12.4.127-py3-none-manylinux2014_x86_64.whl.metadata (1.6 kB)\n",
            "Collecting nvidia-cudnn-cu12==9.1.0.70 (from torch>=1.8.0->ultralytics)\n",
            "  Downloading nvidia_cudnn_cu12-9.1.0.70-py3-none-manylinux2014_x86_64.whl.metadata (1.6 kB)\n",
            "Collecting nvidia-cublas-cu12==12.4.5.8 (from torch>=1.8.0->ultralytics)\n",
            "  Downloading nvidia_cublas_cu12-12.4.5.8-py3-none-manylinux2014_x86_64.whl.metadata (1.5 kB)\n",
            "Collecting nvidia-cufft-cu12==11.2.1.3 (from torch>=1.8.0->ultralytics)\n",
            "  Downloading nvidia_cufft_cu12-11.2.1.3-py3-none-manylinux2014_x86_64.whl.metadata (1.5 kB)\n",
            "Collecting nvidia-curand-cu12==10.3.5.147 (from torch>=1.8.0->ultralytics)\n",
            "  Downloading nvidia_curand_cu12-10.3.5.147-py3-none-manylinux2014_x86_64.whl.metadata (1.5 kB)\n",
            "Collecting nvidia-cusolver-cu12==11.6.1.9 (from torch>=1.8.0->ultralytics)\n",
            "  Downloading nvidia_cusolver_cu12-11.6.1.9-py3-none-manylinux2014_x86_64.whl.metadata (1.6 kB)\n",
            "Collecting nvidia-cusparse-cu12==12.3.1.170 (from torch>=1.8.0->ultralytics)\n",
            "  Downloading nvidia_cusparse_cu12-12.3.1.170-py3-none-manylinux2014_x86_64.whl.metadata (1.6 kB)\n",
            "Requirement already satisfied: nvidia-cusparselt-cu12==0.6.2 in /usr/local/lib/python3.11/dist-packages (from torch>=1.8.0->ultralytics) (0.6.2)\n",
            "Collecting nvidia-nccl-cu12==2.21.5 (from torch>=1.8.0->ultralytics)\n",
            "  Downloading nvidia_nccl_cu12-2.21.5-py3-none-manylinux2014_x86_64.whl.metadata (1.8 kB)\n",
            "Requirement already satisfied: nvidia-nvtx-cu12==12.4.127 in /usr/local/lib/python3.11/dist-packages (from torch>=1.8.0->ultralytics) (12.4.127)\n",
            "Collecting nvidia-nvjitlink-cu12==12.4.127 (from torch>=1.8.0->ultralytics)\n",
            "  Downloading nvidia_nvjitlink_cu12-12.4.127-py3-none-manylinux2014_x86_64.whl.metadata (1.5 kB)\n",
            "Requirement already satisfied: triton==3.2.0 in /usr/local/lib/python3.11/dist-packages (from torch>=1.8.0->ultralytics) (3.2.0)\n",
            "Requirement already satisfied: sympy==1.13.1 in /usr/local/lib/python3.11/dist-packages (from torch>=1.8.0->ultralytics) (1.13.1)\n",
            "Requirement already satisfied: mpmath<1.4,>=1.1.0 in /usr/local/lib/python3.11/dist-packages (from sympy==1.13.1->torch>=1.8.0->ultralytics) (1.3.0)\n",
            "Requirement already satisfied: six>=1.5 in /usr/local/lib/python3.11/dist-packages (from python-dateutil>=2.7->matplotlib>=3.3.0->ultralytics) (1.17.0)\n",
            "Requirement already satisfied: MarkupSafe>=2.0 in /usr/local/lib/python3.11/dist-packages (from jinja2->torch>=1.8.0->ultralytics) (3.0.2)\n",
            "Downloading ultralytics-8.3.176-py3-none-any.whl (1.0 MB)\n",
            "\u001b[2K   \u001b[90m━━━━━━━━━━━━━━━━━━━━━━━━━━━━━━━━━━━━━━━━\u001b[0m \u001b[32m1.0/1.0 MB\u001b[0m \u001b[31m28.3 MB/s\u001b[0m eta \u001b[36m0:00:00\u001b[0m\n",
            "\u001b[?25hDownloading nvidia_cublas_cu12-12.4.5.8-py3-none-manylinux2014_x86_64.whl (363.4 MB)\n",
            "\u001b[2K   \u001b[90m━━━━━━━━━━━━━━━━━━━━━━━━━━━━━━━━━━━━━━━━\u001b[0m \u001b[32m363.4/363.4 MB\u001b[0m \u001b[31m1.4 MB/s\u001b[0m eta \u001b[36m0:00:00\u001b[0m\n",
            "\u001b[?25hDownloading nvidia_cuda_cupti_cu12-12.4.127-py3-none-manylinux2014_x86_64.whl (13.8 MB)\n",
            "\u001b[2K   \u001b[90m━━━━━━━━━━━━━━━━━━━━━━━━━━━━━━━━━━━━━━━━\u001b[0m \u001b[32m13.8/13.8 MB\u001b[0m \u001b[31m72.3 MB/s\u001b[0m eta \u001b[36m0:00:00\u001b[0m\n",
            "\u001b[?25hDownloading nvidia_cuda_nvrtc_cu12-12.4.127-py3-none-manylinux2014_x86_64.whl (24.6 MB)\n",
            "\u001b[2K   \u001b[90m━━━━━━━━━━━━━━━━━━━━━━━━━━━━━━━━━━━━━━━━\u001b[0m \u001b[32m24.6/24.6 MB\u001b[0m \u001b[31m71.3 MB/s\u001b[0m eta \u001b[36m0:00:00\u001b[0m\n",
            "\u001b[?25hDownloading nvidia_cuda_runtime_cu12-12.4.127-py3-none-manylinux2014_x86_64.whl (883 kB)\n",
            "\u001b[2K   \u001b[90m━━━━━━━━━━━━━━━━━━━━━━━━━━━━━━━━━━━━━━━━\u001b[0m \u001b[32m883.7/883.7 kB\u001b[0m \u001b[31m59.7 MB/s\u001b[0m eta \u001b[36m0:00:00\u001b[0m\n",
            "\u001b[?25hDownloading nvidia_cudnn_cu12-9.1.0.70-py3-none-manylinux2014_x86_64.whl (664.8 MB)\n",
            "\u001b[2K   \u001b[90m━━━━━━━━━━━━━━━━━━━━━━━━━━━━━━━━━━━━━━━━\u001b[0m \u001b[32m664.8/664.8 MB\u001b[0m \u001b[31m2.6 MB/s\u001b[0m eta \u001b[36m0:00:00\u001b[0m\n",
            "\u001b[?25hDownloading nvidia_cufft_cu12-11.2.1.3-py3-none-manylinux2014_x86_64.whl (211.5 MB)\n",
            "\u001b[2K   \u001b[90m━━━━━━━━━━━━━━━━━━━━━━━━━━━━━━━━━━━━━━━━\u001b[0m \u001b[32m211.5/211.5 MB\u001b[0m \u001b[31m6.3 MB/s\u001b[0m eta \u001b[36m0:00:00\u001b[0m\n",
            "\u001b[?25hDownloading nvidia_curand_cu12-10.3.5.147-py3-none-manylinux2014_x86_64.whl (56.3 MB)\n",
            "\u001b[2K   \u001b[90m━━━━━━━━━━━━━━━━━━━━━━━━━━━━━━━━━━━━━━━━\u001b[0m \u001b[32m56.3/56.3 MB\u001b[0m \u001b[31m13.2 MB/s\u001b[0m eta \u001b[36m0:00:00\u001b[0m\n",
            "\u001b[?25hDownloading nvidia_cusolver_cu12-11.6.1.9-py3-none-manylinux2014_x86_64.whl (127.9 MB)\n",
            "\u001b[2K   \u001b[90m━━━━━━━━━━━━━━━━━━━━━━━━━━━━━━━━━━━━━━━━\u001b[0m \u001b[32m127.9/127.9 MB\u001b[0m \u001b[31m7.5 MB/s\u001b[0m eta \u001b[36m0:00:00\u001b[0m\n",
            "\u001b[?25hDownloading nvidia_cusparse_cu12-12.3.1.170-py3-none-manylinux2014_x86_64.whl (207.5 MB)\n",
            "\u001b[2K   \u001b[90m━━━━━━━━━━━━━━━━━━━━━━━━━━━━━━━━━━━━━━━━\u001b[0m \u001b[32m207.5/207.5 MB\u001b[0m \u001b[31m5.2 MB/s\u001b[0m eta \u001b[36m0:00:00\u001b[0m\n",
            "\u001b[?25hDownloading nvidia_nccl_cu12-2.21.5-py3-none-manylinux2014_x86_64.whl (188.7 MB)\n",
            "\u001b[2K   \u001b[90m━━━━━━━━━━━━━━━━━━━━━━━━━━━━━━━━━━━━━━━━\u001b[0m \u001b[32m188.7/188.7 MB\u001b[0m \u001b[31m5.8 MB/s\u001b[0m eta \u001b[36m0:00:00\u001b[0m\n",
            "\u001b[?25hDownloading nvidia_nvjitlink_cu12-12.4.127-py3-none-manylinux2014_x86_64.whl (21.1 MB)\n",
            "\u001b[2K   \u001b[90m━━━━━━━━━━━━━━━━━━━━━━━━━━━━━━━━━━━━━━━━\u001b[0m \u001b[32m21.1/21.1 MB\u001b[0m \u001b[31m79.9 MB/s\u001b[0m eta \u001b[36m0:00:00\u001b[0m\n",
            "\u001b[?25hDownloading ultralytics_thop-2.0.15-py3-none-any.whl (28 kB)\n",
            "Installing collected packages: nvidia-nvjitlink-cu12, nvidia-nccl-cu12, nvidia-curand-cu12, nvidia-cufft-cu12, nvidia-cuda-runtime-cu12, nvidia-cuda-nvrtc-cu12, nvidia-cuda-cupti-cu12, nvidia-cublas-cu12, nvidia-cusparse-cu12, nvidia-cudnn-cu12, nvidia-cusolver-cu12, ultralytics-thop, ultralytics\n",
            "  Attempting uninstall: nvidia-nvjitlink-cu12\n",
            "    Found existing installation: nvidia-nvjitlink-cu12 12.5.82\n",
            "    Uninstalling nvidia-nvjitlink-cu12-12.5.82:\n",
            "      Successfully uninstalled nvidia-nvjitlink-cu12-12.5.82\n",
            "  Attempting uninstall: nvidia-nccl-cu12\n",
            "    Found existing installation: nvidia-nccl-cu12 2.23.4\n",
            "    Uninstalling nvidia-nccl-cu12-2.23.4:\n",
            "      Successfully uninstalled nvidia-nccl-cu12-2.23.4\n",
            "  Attempting uninstall: nvidia-curand-cu12\n",
            "    Found existing installation: nvidia-curand-cu12 10.3.6.82\n",
            "    Uninstalling nvidia-curand-cu12-10.3.6.82:\n",
            "      Successfully uninstalled nvidia-curand-cu12-10.3.6.82\n",
            "  Attempting uninstall: nvidia-cufft-cu12\n",
            "    Found existing installation: nvidia-cufft-cu12 11.2.3.61\n",
            "    Uninstalling nvidia-cufft-cu12-11.2.3.61:\n",
            "      Successfully uninstalled nvidia-cufft-cu12-11.2.3.61\n",
            "  Attempting uninstall: nvidia-cuda-runtime-cu12\n",
            "    Found existing installation: nvidia-cuda-runtime-cu12 12.5.82\n",
            "    Uninstalling nvidia-cuda-runtime-cu12-12.5.82:\n",
            "      Successfully uninstalled nvidia-cuda-runtime-cu12-12.5.82\n",
            "  Attempting uninstall: nvidia-cuda-nvrtc-cu12\n",
            "    Found existing installation: nvidia-cuda-nvrtc-cu12 12.5.82\n",
            "    Uninstalling nvidia-cuda-nvrtc-cu12-12.5.82:\n",
            "      Successfully uninstalled nvidia-cuda-nvrtc-cu12-12.5.82\n",
            "  Attempting uninstall: nvidia-cuda-cupti-cu12\n",
            "    Found existing installation: nvidia-cuda-cupti-cu12 12.5.82\n",
            "    Uninstalling nvidia-cuda-cupti-cu12-12.5.82:\n",
            "      Successfully uninstalled nvidia-cuda-cupti-cu12-12.5.82\n",
            "  Attempting uninstall: nvidia-cublas-cu12\n",
            "    Found existing installation: nvidia-cublas-cu12 12.5.3.2\n",
            "    Uninstalling nvidia-cublas-cu12-12.5.3.2:\n",
            "      Successfully uninstalled nvidia-cublas-cu12-12.5.3.2\n",
            "  Attempting uninstall: nvidia-cusparse-cu12\n",
            "    Found existing installation: nvidia-cusparse-cu12 12.5.1.3\n",
            "    Uninstalling nvidia-cusparse-cu12-12.5.1.3:\n",
            "      Successfully uninstalled nvidia-cusparse-cu12-12.5.1.3\n",
            "  Attempting uninstall: nvidia-cudnn-cu12\n",
            "    Found existing installation: nvidia-cudnn-cu12 9.3.0.75\n",
            "    Uninstalling nvidia-cudnn-cu12-9.3.0.75:\n",
            "      Successfully uninstalled nvidia-cudnn-cu12-9.3.0.75\n",
            "  Attempting uninstall: nvidia-cusolver-cu12\n",
            "    Found existing installation: nvidia-cusolver-cu12 11.6.3.83\n",
            "    Uninstalling nvidia-cusolver-cu12-11.6.3.83:\n",
            "      Successfully uninstalled nvidia-cusolver-cu12-11.6.3.83\n",
            "Successfully installed nvidia-cublas-cu12-12.4.5.8 nvidia-cuda-cupti-cu12-12.4.127 nvidia-cuda-nvrtc-cu12-12.4.127 nvidia-cuda-runtime-cu12-12.4.127 nvidia-cudnn-cu12-9.1.0.70 nvidia-cufft-cu12-11.2.1.3 nvidia-curand-cu12-10.3.5.147 nvidia-cusolver-cu12-11.6.1.9 nvidia-cusparse-cu12-12.3.1.170 nvidia-nccl-cu12-2.21.5 nvidia-nvjitlink-cu12-12.4.127 ultralytics-8.3.176 ultralytics-thop-2.0.15\n"
          ]
        }
      ]
    },
    {
      "cell_type": "code",
      "source": [
        "from google.colab import files\n"
      ],
      "metadata": {
        "id": "4XysVaj1E6yV"
      },
      "execution_count": 2,
      "outputs": []
    },
    {
      "cell_type": "code",
      "source": [
        "\n",
        "# Upload dataset ZIP from your PC\n",
        "uploaded = files.upload()\n"
      ],
      "metadata": {
        "colab": {
          "base_uri": "https://localhost:8080/",
          "height": 110
        },
        "id": "LpTYAo7gFYWx",
        "outputId": "7eddac31-7703-4dc5-c5f9-7468c39badc3"
      },
      "execution_count": 4,
      "outputs": [
        {
          "output_type": "display_data",
          "data": {
            "text/plain": [
              "<IPython.core.display.HTML object>"
            ],
            "text/html": [
              "\n",
              "     <input type=\"file\" id=\"files-f49005a6-d79b-4fc5-86f4-27ef35a58c9d\" name=\"files[]\" multiple disabled\n",
              "        style=\"border:none\" />\n",
              "     <output id=\"result-f49005a6-d79b-4fc5-86f4-27ef35a58c9d\">\n",
              "      Upload widget is only available when the cell has been executed in the\n",
              "      current browser session. Please rerun this cell to enable.\n",
              "      </output>\n",
              "      <script>// Copyright 2017 Google LLC\n",
              "//\n",
              "// Licensed under the Apache License, Version 2.0 (the \"License\");\n",
              "// you may not use this file except in compliance with the License.\n",
              "// You may obtain a copy of the License at\n",
              "//\n",
              "//      http://www.apache.org/licenses/LICENSE-2.0\n",
              "//\n",
              "// Unless required by applicable law or agreed to in writing, software\n",
              "// distributed under the License is distributed on an \"AS IS\" BASIS,\n",
              "// WITHOUT WARRANTIES OR CONDITIONS OF ANY KIND, either express or implied.\n",
              "// See the License for the specific language governing permissions and\n",
              "// limitations under the License.\n",
              "\n",
              "/**\n",
              " * @fileoverview Helpers for google.colab Python module.\n",
              " */\n",
              "(function(scope) {\n",
              "function span(text, styleAttributes = {}) {\n",
              "  const element = document.createElement('span');\n",
              "  element.textContent = text;\n",
              "  for (const key of Object.keys(styleAttributes)) {\n",
              "    element.style[key] = styleAttributes[key];\n",
              "  }\n",
              "  return element;\n",
              "}\n",
              "\n",
              "// Max number of bytes which will be uploaded at a time.\n",
              "const MAX_PAYLOAD_SIZE = 100 * 1024;\n",
              "\n",
              "function _uploadFiles(inputId, outputId) {\n",
              "  const steps = uploadFilesStep(inputId, outputId);\n",
              "  const outputElement = document.getElementById(outputId);\n",
              "  // Cache steps on the outputElement to make it available for the next call\n",
              "  // to uploadFilesContinue from Python.\n",
              "  outputElement.steps = steps;\n",
              "\n",
              "  return _uploadFilesContinue(outputId);\n",
              "}\n",
              "\n",
              "// This is roughly an async generator (not supported in the browser yet),\n",
              "// where there are multiple asynchronous steps and the Python side is going\n",
              "// to poll for completion of each step.\n",
              "// This uses a Promise to block the python side on completion of each step,\n",
              "// then passes the result of the previous step as the input to the next step.\n",
              "function _uploadFilesContinue(outputId) {\n",
              "  const outputElement = document.getElementById(outputId);\n",
              "  const steps = outputElement.steps;\n",
              "\n",
              "  const next = steps.next(outputElement.lastPromiseValue);\n",
              "  return Promise.resolve(next.value.promise).then((value) => {\n",
              "    // Cache the last promise value to make it available to the next\n",
              "    // step of the generator.\n",
              "    outputElement.lastPromiseValue = value;\n",
              "    return next.value.response;\n",
              "  });\n",
              "}\n",
              "\n",
              "/**\n",
              " * Generator function which is called between each async step of the upload\n",
              " * process.\n",
              " * @param {string} inputId Element ID of the input file picker element.\n",
              " * @param {string} outputId Element ID of the output display.\n",
              " * @return {!Iterable<!Object>} Iterable of next steps.\n",
              " */\n",
              "function* uploadFilesStep(inputId, outputId) {\n",
              "  const inputElement = document.getElementById(inputId);\n",
              "  inputElement.disabled = false;\n",
              "\n",
              "  const outputElement = document.getElementById(outputId);\n",
              "  outputElement.innerHTML = '';\n",
              "\n",
              "  const pickedPromise = new Promise((resolve) => {\n",
              "    inputElement.addEventListener('change', (e) => {\n",
              "      resolve(e.target.files);\n",
              "    });\n",
              "  });\n",
              "\n",
              "  const cancel = document.createElement('button');\n",
              "  inputElement.parentElement.appendChild(cancel);\n",
              "  cancel.textContent = 'Cancel upload';\n",
              "  const cancelPromise = new Promise((resolve) => {\n",
              "    cancel.onclick = () => {\n",
              "      resolve(null);\n",
              "    };\n",
              "  });\n",
              "\n",
              "  // Wait for the user to pick the files.\n",
              "  const files = yield {\n",
              "    promise: Promise.race([pickedPromise, cancelPromise]),\n",
              "    response: {\n",
              "      action: 'starting',\n",
              "    }\n",
              "  };\n",
              "\n",
              "  cancel.remove();\n",
              "\n",
              "  // Disable the input element since further picks are not allowed.\n",
              "  inputElement.disabled = true;\n",
              "\n",
              "  if (!files) {\n",
              "    return {\n",
              "      response: {\n",
              "        action: 'complete',\n",
              "      }\n",
              "    };\n",
              "  }\n",
              "\n",
              "  for (const file of files) {\n",
              "    const li = document.createElement('li');\n",
              "    li.append(span(file.name, {fontWeight: 'bold'}));\n",
              "    li.append(span(\n",
              "        `(${file.type || 'n/a'}) - ${file.size} bytes, ` +\n",
              "        `last modified: ${\n",
              "            file.lastModifiedDate ? file.lastModifiedDate.toLocaleDateString() :\n",
              "                                    'n/a'} - `));\n",
              "    const percent = span('0% done');\n",
              "    li.appendChild(percent);\n",
              "\n",
              "    outputElement.appendChild(li);\n",
              "\n",
              "    const fileDataPromise = new Promise((resolve) => {\n",
              "      const reader = new FileReader();\n",
              "      reader.onload = (e) => {\n",
              "        resolve(e.target.result);\n",
              "      };\n",
              "      reader.readAsArrayBuffer(file);\n",
              "    });\n",
              "    // Wait for the data to be ready.\n",
              "    let fileData = yield {\n",
              "      promise: fileDataPromise,\n",
              "      response: {\n",
              "        action: 'continue',\n",
              "      }\n",
              "    };\n",
              "\n",
              "    // Use a chunked sending to avoid message size limits. See b/62115660.\n",
              "    let position = 0;\n",
              "    do {\n",
              "      const length = Math.min(fileData.byteLength - position, MAX_PAYLOAD_SIZE);\n",
              "      const chunk = new Uint8Array(fileData, position, length);\n",
              "      position += length;\n",
              "\n",
              "      const base64 = btoa(String.fromCharCode.apply(null, chunk));\n",
              "      yield {\n",
              "        response: {\n",
              "          action: 'append',\n",
              "          file: file.name,\n",
              "          data: base64,\n",
              "        },\n",
              "      };\n",
              "\n",
              "      let percentDone = fileData.byteLength === 0 ?\n",
              "          100 :\n",
              "          Math.round((position / fileData.byteLength) * 100);\n",
              "      percent.textContent = `${percentDone}% done`;\n",
              "\n",
              "    } while (position < fileData.byteLength);\n",
              "  }\n",
              "\n",
              "  // All done.\n",
              "  yield {\n",
              "    response: {\n",
              "      action: 'complete',\n",
              "    }\n",
              "  };\n",
              "}\n",
              "\n",
              "scope.google = scope.google || {};\n",
              "scope.google.colab = scope.google.colab || {};\n",
              "scope.google.colab._files = {\n",
              "  _uploadFiles,\n",
              "  _uploadFilesContinue,\n",
              "};\n",
              "})(self);\n",
              "</script> "
            ]
          },
          "metadata": {}
        },
        {
          "output_type": "stream",
          "name": "stdout",
          "text": [
            "Saving building detection.v1-roboflow-instant-1--eval-.yolov8.zip to building detection.v1-roboflow-instant-1--eval-.yolov8.zip\n"
          ]
        }
      ]
    },
    {
      "cell_type": "code",
      "source": [
        "import zipfile, os"
      ],
      "metadata": {
        "id": "k1usT6BmFZ0k"
      },
      "execution_count": 5,
      "outputs": []
    },
    {
      "cell_type": "code",
      "source": [
        "zip_filename = list(uploaded.keys())[0]\n"
      ],
      "metadata": {
        "id": "Cu8KTfAnF_0X"
      },
      "execution_count": 6,
      "outputs": []
    },
    {
      "cell_type": "code",
      "source": [
        "with zipfile.ZipFile(zip_filename, 'r') as z:\n",
        "    z.extractall('/content/dataset')\n",
        "\n",
        "print(\"Extracted to /content/dataset\")\n",
        "print(\"Contents:\", os.listdir('/content/dataset'))"
      ],
      "metadata": {
        "colab": {
          "base_uri": "https://localhost:8080/"
        },
        "id": "qnQ_58PPGCSz",
        "outputId": "1c2e5050-9c61-4725-f54b-9bbe37f45873"
      },
      "execution_count": 7,
      "outputs": [
        {
          "output_type": "stream",
          "name": "stdout",
          "text": [
            "Extracted to /content/dataset\n",
            "Contents: ['valid', 'train', 'data.yaml', 'README.roboflow.txt', 'README.dataset.txt', 'test']\n"
          ]
        }
      ]
    },
    {
      "cell_type": "code",
      "source": [
        "# View dataset config\n",
        "with open('/content/dataset/data.yaml', 'r') as f:\n",
        "    print(f.read())\n"
      ],
      "metadata": {
        "colab": {
          "base_uri": "https://localhost:8080/"
        },
        "collapsed": true,
        "id": "jTcGtD8wGGil",
        "outputId": "04814be9-7d64-4885-8a01-55a313775d81"
      },
      "execution_count": 8,
      "outputs": [
        {
          "output_type": "stream",
          "name": "stdout",
          "text": [
            "train: ../train/images\n",
            "val: ../valid/images\n",
            "test: ../test/images\n",
            "\n",
            "nc: 14\n",
            "names: ['HBL_bank', 'Main_gate', 'auditorium', 'central_library', 'clock_tower', 'faculty_of_Basics_Science', 'faculty_of_electrical_and_computer_science', 'faculty_of_material_and_chemical_eng', 'faculty_of_mechanical_eng', 'hostel_11', 'hostel_12', 'laundry_shop', 'new_academic_block', 'tuck']\n",
            "\n",
            "roboflow:\n",
            "  workspace: iftikhar-ali\n",
            "  project: building-detection-lzkni\n",
            "  version: 1\n",
            "  license: CC BY 4.0\n",
            "  url: https://universe.roboflow.com/iftikhar-ali/building-detection-lzkni/dataset/1\n"
          ]
        }
      ]
    },
    {
      "cell_type": "code",
      "source": [
        "from ultralytics import YOLO\n",
        "\n",
        "# Load pretrained YOLOv8 small model\n",
        "model = YOLO(\"yolov8s.pt\")\n",
        "\n",
        "# Train model\n",
        "model.train(\n",
        "    data=\"/content/dataset/data.yaml\",\n",
        "    epochs=50,\n",
        "    imgsz=640,\n",
        "    batch=8\n",
        ")\n"
      ],
      "metadata": {
        "colab": {
          "base_uri": "https://localhost:8080/"
        },
        "collapsed": true,
        "id": "KyOiGJIhGI4x",
        "outputId": "b1c26079-2a64-4ed8-c261-65ea16844b4c"
      },
      "execution_count": 9,
      "outputs": [
        {
          "output_type": "stream",
          "name": "stdout",
          "text": [
            "Creating new Ultralytics Settings v0.0.6 file ✅ \n",
            "View Ultralytics Settings with 'yolo settings' or at '/root/.config/Ultralytics/settings.json'\n",
            "Update Settings with 'yolo settings key=value', i.e. 'yolo settings runs_dir=path/to/dir'. For help see https://docs.ultralytics.com/quickstart/#ultralytics-settings.\n"
          ]
        },
        {
          "output_type": "stream",
          "name": "stderr",
          "text": [
            "Downloading https://github.com/ultralytics/assets/releases/download/v8.3.0/yolov8s.pt to 'yolov8s.pt': 100%|██████████| 21.5M/21.5M [00:00<00:00, 82.4MB/s]\n"
          ]
        },
        {
          "output_type": "stream",
          "name": "stdout",
          "text": [
            "Ultralytics 8.3.176 🚀 Python-3.11.13 torch-2.6.0+cu124 CUDA:0 (Tesla T4, 15095MiB)\n",
            "\u001b[34m\u001b[1mengine/trainer: \u001b[0magnostic_nms=False, amp=True, augment=False, auto_augment=randaugment, batch=8, bgr=0.0, box=7.5, cache=False, cfg=None, classes=None, close_mosaic=10, cls=0.5, conf=None, copy_paste=0.0, copy_paste_mode=flip, cos_lr=False, cutmix=0.0, data=/content/dataset/data.yaml, degrees=0.0, deterministic=True, device=None, dfl=1.5, dnn=False, dropout=0.0, dynamic=False, embed=None, epochs=50, erasing=0.4, exist_ok=False, fliplr=0.5, flipud=0.0, format=torchscript, fraction=1.0, freeze=None, half=False, hsv_h=0.015, hsv_s=0.7, hsv_v=0.4, imgsz=640, int8=False, iou=0.7, keras=False, kobj=1.0, line_width=None, lr0=0.01, lrf=0.01, mask_ratio=4, max_det=300, mixup=0.0, mode=train, model=yolov8s.pt, momentum=0.937, mosaic=1.0, multi_scale=False, name=train, nbs=64, nms=False, opset=None, optimize=False, optimizer=auto, overlap_mask=True, patience=100, perspective=0.0, plots=True, pose=12.0, pretrained=True, profile=False, project=None, rect=False, resume=False, retina_masks=False, save=True, save_conf=False, save_crop=False, save_dir=runs/detect/train, save_frames=False, save_json=False, save_period=-1, save_txt=False, scale=0.5, seed=0, shear=0.0, show=False, show_boxes=True, show_conf=True, show_labels=True, simplify=True, single_cls=False, source=None, split=val, stream_buffer=False, task=detect, time=None, tracker=botsort.yaml, translate=0.1, val=True, verbose=True, vid_stride=1, visualize=False, warmup_bias_lr=0.1, warmup_epochs=3.0, warmup_momentum=0.8, weight_decay=0.0005, workers=8, workspace=None\n"
          ]
        },
        {
          "output_type": "stream",
          "name": "stderr",
          "text": [
            "Downloading https://ultralytics.com/assets/Arial.ttf to '/root/.config/Ultralytics/Arial.ttf': 100%|██████████| 755k/755k [00:00<00:00, 19.8MB/s]"
          ]
        },
        {
          "output_type": "stream",
          "name": "stdout",
          "text": [
            "Overriding model.yaml nc=80 with nc=14\n",
            "\n",
            "                   from  n    params  module                                       arguments                     \n",
            "  0                  -1  1       928  ultralytics.nn.modules.conv.Conv             [3, 32, 3, 2]                 \n",
            "  1                  -1  1     18560  ultralytics.nn.modules.conv.Conv             [32, 64, 3, 2]                \n",
            "  2                  -1  1     29056  ultralytics.nn.modules.block.C2f             [64, 64, 1, True]             \n",
            "  3                  -1  1     73984  ultralytics.nn.modules.conv.Conv             [64, 128, 3, 2]               \n",
            "  4                  -1  2    197632  ultralytics.nn.modules.block.C2f             [128, 128, 2, True]           \n",
            "  5                  -1  1    295424  ultralytics.nn.modules.conv.Conv             [128, 256, 3, 2]              \n",
            "  6                  -1  2    788480  ultralytics.nn.modules.block.C2f             [256, 256, 2, True]           \n",
            "  7                  -1  1   1180672  ultralytics.nn.modules.conv.Conv             [256, 512, 3, 2]              \n",
            "  8                  -1  1   1838080  ultralytics.nn.modules.block.C2f             [512, 512, 1, True]           \n",
            "  9                  -1  1    656896  ultralytics.nn.modules.block.SPPF            [512, 512, 5]                 \n",
            " 10                  -1  1         0  torch.nn.modules.upsampling.Upsample         [None, 2, 'nearest']          \n",
            " 11             [-1, 6]  1         0  ultralytics.nn.modules.conv.Concat           [1]                           \n",
            " 12                  -1  1    591360  ultralytics.nn.modules.block.C2f             [768, 256, 1]                 \n",
            " 13                  -1  1         0  torch.nn.modules.upsampling.Upsample         [None, 2, 'nearest']          \n",
            " 14             [-1, 4]  1         0  ultralytics.nn.modules.conv.Concat           [1]                           \n",
            " 15                  -1  1    148224  ultralytics.nn.modules.block.C2f             [384, 128, 1]                 \n",
            " 16                  -1  1    147712  ultralytics.nn.modules.conv.Conv             [128, 128, 3, 2]              \n",
            " 17            [-1, 12]  1         0  ultralytics.nn.modules.conv.Concat           [1]                           \n",
            " 18                  -1  1    493056  ultralytics.nn.modules.block.C2f             [384, 256, 1]                 \n",
            " 19                  -1  1    590336  ultralytics.nn.modules.conv.Conv             [256, 256, 3, 2]              \n",
            " 20             [-1, 9]  1         0  ultralytics.nn.modules.conv.Concat           [1]                           \n",
            " 21                  -1  1   1969152  ultralytics.nn.modules.block.C2f             [768, 512, 1]                 \n"
          ]
        },
        {
          "output_type": "stream",
          "name": "stderr",
          "text": [
            "\n"
          ]
        },
        {
          "output_type": "stream",
          "name": "stdout",
          "text": [
            " 22        [15, 18, 21]  1   2121466  ultralytics.nn.modules.head.Detect           [14, [128, 256, 512]]         \n",
            "Model summary: 129 layers, 11,141,018 parameters, 11,141,002 gradients, 28.7 GFLOPs\n",
            "\n",
            "Transferred 349/355 items from pretrained weights\n",
            "Freezing layer 'model.22.dfl.conv.weight'\n",
            "\u001b[34m\u001b[1mAMP: \u001b[0mrunning Automatic Mixed Precision (AMP) checks...\n"
          ]
        },
        {
          "output_type": "stream",
          "name": "stderr",
          "text": [
            "Downloading https://github.com/ultralytics/assets/releases/download/v8.3.0/yolo11n.pt to 'yolo11n.pt': 100%|██████████| 5.35M/5.35M [00:00<00:00, 92.1MB/s]\n"
          ]
        },
        {
          "output_type": "stream",
          "name": "stdout",
          "text": [
            "\u001b[34m\u001b[1mAMP: \u001b[0mchecks passed ✅\n",
            "\u001b[34m\u001b[1mtrain: \u001b[0mFast image access ✅ (ping: 0.0±0.0 ms, read: 835.2±231.6 MB/s, size: 112.7 KB)\n"
          ]
        },
        {
          "output_type": "stream",
          "name": "stderr",
          "text": [
            "\u001b[34m\u001b[1mtrain: \u001b[0mScanning /content/dataset/train/labels... 81 images, 5 backgrounds, 0 corrupt: 100%|██████████| 81/81 [00:00<00:00, 2534.00it/s]"
          ]
        },
        {
          "output_type": "stream",
          "name": "stdout",
          "text": [
            "\u001b[34m\u001b[1mtrain: \u001b[0mNew cache created: /content/dataset/train/labels.cache\n"
          ]
        },
        {
          "output_type": "stream",
          "name": "stderr",
          "text": [
            "\n"
          ]
        },
        {
          "output_type": "stream",
          "name": "stdout",
          "text": [
            "\u001b[34m\u001b[1malbumentations: \u001b[0mBlur(p=0.01, blur_limit=(3, 7)), MedianBlur(p=0.01, blur_limit=(3, 7)), ToGray(p=0.01, method='weighted_average', num_output_channels=3), CLAHE(p=0.01, clip_limit=(1.0, 4.0), tile_grid_size=(8, 8))\n",
            "\u001b[34m\u001b[1mval: \u001b[0mFast image access ✅ (ping: 0.0±0.0 ms, read: 1224.6±884.5 MB/s, size: 162.4 KB)\n"
          ]
        },
        {
          "output_type": "stream",
          "name": "stderr",
          "text": [
            "\u001b[34m\u001b[1mval: \u001b[0mScanning /content/dataset/valid/labels... 23 images, 2 backgrounds, 0 corrupt: 100%|██████████| 23/23 [00:00<00:00, 1746.23it/s]"
          ]
        },
        {
          "output_type": "stream",
          "name": "stdout",
          "text": [
            "\u001b[34m\u001b[1mval: \u001b[0mNew cache created: /content/dataset/valid/labels.cache\n"
          ]
        },
        {
          "output_type": "stream",
          "name": "stderr",
          "text": [
            "\n"
          ]
        },
        {
          "output_type": "stream",
          "name": "stdout",
          "text": [
            "Plotting labels to runs/detect/train/labels.jpg... \n",
            "\u001b[34m\u001b[1moptimizer:\u001b[0m 'optimizer=auto' found, ignoring 'lr0=0.01' and 'momentum=0.937' and determining best 'optimizer', 'lr0' and 'momentum' automatically... \n",
            "\u001b[34m\u001b[1moptimizer:\u001b[0m AdamW(lr=0.000556, momentum=0.9) with parameter groups 57 weight(decay=0.0), 64 weight(decay=0.0005), 63 bias(decay=0.0)\n",
            "Image sizes 640 train, 640 val\n",
            "Using 2 dataloader workers\n",
            "Logging results to \u001b[1mruns/detect/train\u001b[0m\n",
            "Starting training for 50 epochs...\n",
            "\n",
            "      Epoch    GPU_mem   box_loss   cls_loss   dfl_loss  Instances       Size\n"
          ]
        },
        {
          "output_type": "stream",
          "name": "stderr",
          "text": [
            "       1/50      1.96G      2.334      15.74      2.417          3        640: 100%|██████████| 11/11 [00:03<00:00,  3.28it/s]\n",
            "                 Class     Images  Instances      Box(P          R      mAP50  mAP50-95): 100%|██████████| 2/2 [00:01<00:00,  1.54it/s]"
          ]
        },
        {
          "output_type": "stream",
          "name": "stdout",
          "text": [
            "                   all         23         21          0          0          0          0\n"
          ]
        },
        {
          "output_type": "stream",
          "name": "stderr",
          "text": [
            "\n"
          ]
        },
        {
          "output_type": "stream",
          "name": "stdout",
          "text": [
            "\n",
            "      Epoch    GPU_mem   box_loss   cls_loss   dfl_loss  Instances       Size\n"
          ]
        },
        {
          "output_type": "stream",
          "name": "stderr",
          "text": [
            "       2/50      2.11G      1.976      6.275      2.139          3        640: 100%|██████████| 11/11 [00:01<00:00,  6.03it/s]\n",
            "                 Class     Images  Instances      Box(P          R      mAP50  mAP50-95): 100%|██████████| 2/2 [00:00<00:00,  5.33it/s]"
          ]
        },
        {
          "output_type": "stream",
          "name": "stdout",
          "text": [
            "                   all         23         21      0.381      0.136      0.166      0.089\n"
          ]
        },
        {
          "output_type": "stream",
          "name": "stderr",
          "text": [
            "\n"
          ]
        },
        {
          "output_type": "stream",
          "name": "stdout",
          "text": [
            "\n",
            "      Epoch    GPU_mem   box_loss   cls_loss   dfl_loss  Instances       Size\n"
          ]
        },
        {
          "output_type": "stream",
          "name": "stderr",
          "text": [
            "       3/50      2.15G      1.664      4.012      1.904          2        640: 100%|██████████| 11/11 [00:01<00:00,  6.73it/s]\n",
            "                 Class     Images  Instances      Box(P          R      mAP50  mAP50-95): 100%|██████████| 2/2 [00:00<00:00,  3.88it/s]"
          ]
        },
        {
          "output_type": "stream",
          "name": "stdout",
          "text": [
            "                   all         23         21      0.509      0.584      0.462      0.213\n"
          ]
        },
        {
          "output_type": "stream",
          "name": "stderr",
          "text": [
            "\n"
          ]
        },
        {
          "output_type": "stream",
          "name": "stdout",
          "text": [
            "\n",
            "      Epoch    GPU_mem   box_loss   cls_loss   dfl_loss  Instances       Size\n"
          ]
        },
        {
          "output_type": "stream",
          "name": "stderr",
          "text": [
            "       4/50      2.18G      1.631      3.231      1.733          4        640: 100%|██████████| 11/11 [00:02<00:00,  5.14it/s]\n",
            "                 Class     Images  Instances      Box(P          R      mAP50  mAP50-95): 100%|██████████| 2/2 [00:00<00:00,  8.50it/s]"
          ]
        },
        {
          "output_type": "stream",
          "name": "stdout",
          "text": [
            "                   all         23         21      0.589      0.707      0.608      0.306\n"
          ]
        },
        {
          "output_type": "stream",
          "name": "stderr",
          "text": [
            "\n"
          ]
        },
        {
          "output_type": "stream",
          "name": "stdout",
          "text": [
            "\n",
            "      Epoch    GPU_mem   box_loss   cls_loss   dfl_loss  Instances       Size\n"
          ]
        },
        {
          "output_type": "stream",
          "name": "stderr",
          "text": [
            "       5/50      2.22G      1.631      2.772      1.749          2        640: 100%|██████████| 11/11 [00:01<00:00,  6.41it/s]\n",
            "                 Class     Images  Instances      Box(P          R      mAP50  mAP50-95): 100%|██████████| 2/2 [00:00<00:00,  9.49it/s]"
          ]
        },
        {
          "output_type": "stream",
          "name": "stdout",
          "text": [
            "                   all         23         21      0.538      0.794      0.656      0.367\n"
          ]
        },
        {
          "output_type": "stream",
          "name": "stderr",
          "text": [
            "\n"
          ]
        },
        {
          "output_type": "stream",
          "name": "stdout",
          "text": [
            "\n",
            "      Epoch    GPU_mem   box_loss   cls_loss   dfl_loss  Instances       Size\n"
          ]
        },
        {
          "output_type": "stream",
          "name": "stderr",
          "text": [
            "       6/50      2.24G        1.5      2.389      1.652          4        640: 100%|██████████| 11/11 [00:01<00:00,  6.45it/s]\n",
            "                 Class     Images  Instances      Box(P          R      mAP50  mAP50-95): 100%|██████████| 2/2 [00:00<00:00,  7.44it/s]"
          ]
        },
        {
          "output_type": "stream",
          "name": "stdout",
          "text": [
            "                   all         23         21      0.597      0.758      0.711      0.369\n"
          ]
        },
        {
          "output_type": "stream",
          "name": "stderr",
          "text": [
            "\n"
          ]
        },
        {
          "output_type": "stream",
          "name": "stdout",
          "text": [
            "\n",
            "      Epoch    GPU_mem   box_loss   cls_loss   dfl_loss  Instances       Size\n"
          ]
        },
        {
          "output_type": "stream",
          "name": "stderr",
          "text": [
            "       7/50      2.29G      1.327      3.053      1.473          0        640: 100%|██████████| 11/11 [00:01<00:00,  6.79it/s]\n",
            "                 Class     Images  Instances      Box(P          R      mAP50  mAP50-95): 100%|██████████| 2/2 [00:00<00:00,  9.05it/s]"
          ]
        },
        {
          "output_type": "stream",
          "name": "stdout",
          "text": [
            "                   all         23         21        0.8      0.636      0.801      0.374\n"
          ]
        },
        {
          "output_type": "stream",
          "name": "stderr",
          "text": [
            "\n"
          ]
        },
        {
          "output_type": "stream",
          "name": "stdout",
          "text": [
            "\n",
            "      Epoch    GPU_mem   box_loss   cls_loss   dfl_loss  Instances       Size\n"
          ]
        },
        {
          "output_type": "stream",
          "name": "stderr",
          "text": [
            "       8/50      2.33G      1.398      2.276      1.569          1        640: 100%|██████████| 11/11 [00:01<00:00,  6.83it/s]\n",
            "                 Class     Images  Instances      Box(P          R      mAP50  mAP50-95): 100%|██████████| 2/2 [00:00<00:00,  5.98it/s]"
          ]
        },
        {
          "output_type": "stream",
          "name": "stdout",
          "text": [
            "                   all         23         21      0.669      0.596      0.722       0.38\n"
          ]
        },
        {
          "output_type": "stream",
          "name": "stderr",
          "text": [
            "\n"
          ]
        },
        {
          "output_type": "stream",
          "name": "stdout",
          "text": [
            "\n",
            "      Epoch    GPU_mem   box_loss   cls_loss   dfl_loss  Instances       Size\n"
          ]
        },
        {
          "output_type": "stream",
          "name": "stderr",
          "text": [
            "       9/50      2.38G      1.375      2.291      1.554          1        640: 100%|██████████| 11/11 [00:02<00:00,  4.63it/s]\n",
            "                 Class     Images  Instances      Box(P          R      mAP50  mAP50-95): 100%|██████████| 2/2 [00:00<00:00,  9.94it/s]"
          ]
        },
        {
          "output_type": "stream",
          "name": "stdout",
          "text": [
            "                   all         23         21      0.714      0.575      0.638      0.371\n"
          ]
        },
        {
          "output_type": "stream",
          "name": "stderr",
          "text": [
            "\n"
          ]
        },
        {
          "output_type": "stream",
          "name": "stdout",
          "text": [
            "\n",
            "      Epoch    GPU_mem   box_loss   cls_loss   dfl_loss  Instances       Size\n"
          ]
        },
        {
          "output_type": "stream",
          "name": "stderr",
          "text": [
            "      10/50      2.45G       1.34      1.976      1.562          1        640: 100%|██████████| 11/11 [00:01<00:00,  7.05it/s]\n",
            "                 Class     Images  Instances      Box(P          R      mAP50  mAP50-95): 100%|██████████| 2/2 [00:00<00:00,  9.32it/s]"
          ]
        },
        {
          "output_type": "stream",
          "name": "stdout",
          "text": [
            "                   all         23         21      0.786      0.688      0.834      0.451\n"
          ]
        },
        {
          "output_type": "stream",
          "name": "stderr",
          "text": [
            "\n"
          ]
        },
        {
          "output_type": "stream",
          "name": "stdout",
          "text": [
            "\n",
            "      Epoch    GPU_mem   box_loss   cls_loss   dfl_loss  Instances       Size\n"
          ]
        },
        {
          "output_type": "stream",
          "name": "stderr",
          "text": [
            "      11/50      2.52G      1.333      2.183      1.617          1        640: 100%|██████████| 11/11 [00:01<00:00,  7.09it/s]\n",
            "                 Class     Images  Instances      Box(P          R      mAP50  mAP50-95): 100%|██████████| 2/2 [00:00<00:00, 11.32it/s]\n"
          ]
        },
        {
          "output_type": "stream",
          "name": "stdout",
          "text": [
            "                   all         23         21      0.633      0.874      0.867      0.401\n",
            "\n",
            "      Epoch    GPU_mem   box_loss   cls_loss   dfl_loss  Instances       Size\n"
          ]
        },
        {
          "output_type": "stream",
          "name": "stderr",
          "text": [
            "      12/50      2.58G      1.415       1.96      1.634          3        640: 100%|██████████| 11/11 [00:01<00:00,  6.84it/s]\n",
            "                 Class     Images  Instances      Box(P          R      mAP50  mAP50-95): 100%|██████████| 2/2 [00:00<00:00,  8.48it/s]"
          ]
        },
        {
          "output_type": "stream",
          "name": "stdout",
          "text": [
            "                   all         23         21      0.811      0.633      0.857      0.455\n"
          ]
        },
        {
          "output_type": "stream",
          "name": "stderr",
          "text": [
            "\n"
          ]
        },
        {
          "output_type": "stream",
          "name": "stdout",
          "text": [
            "\n",
            "      Epoch    GPU_mem   box_loss   cls_loss   dfl_loss  Instances       Size\n"
          ]
        },
        {
          "output_type": "stream",
          "name": "stderr",
          "text": [
            "      13/50      2.65G      1.228      1.994      1.524          1        640: 100%|██████████| 11/11 [00:01<00:00,  6.49it/s]\n",
            "                 Class     Images  Instances      Box(P          R      mAP50  mAP50-95): 100%|██████████| 2/2 [00:00<00:00,  8.81it/s]"
          ]
        },
        {
          "output_type": "stream",
          "name": "stdout",
          "text": [
            "                   all         23         21      0.651      0.848      0.845       0.48\n"
          ]
        },
        {
          "output_type": "stream",
          "name": "stderr",
          "text": [
            "\n"
          ]
        },
        {
          "output_type": "stream",
          "name": "stdout",
          "text": [
            "\n",
            "      Epoch    GPU_mem   box_loss   cls_loss   dfl_loss  Instances       Size\n"
          ]
        },
        {
          "output_type": "stream",
          "name": "stderr",
          "text": [
            "      14/50      2.72G      1.255      1.682      1.501          4        640: 100%|██████████| 11/11 [00:02<00:00,  4.58it/s]\n",
            "                 Class     Images  Instances      Box(P          R      mAP50  mAP50-95): 100%|██████████| 2/2 [00:00<00:00,  8.60it/s]"
          ]
        },
        {
          "output_type": "stream",
          "name": "stdout",
          "text": [
            "                   all         23         21      0.776      0.842      0.892      0.473\n"
          ]
        },
        {
          "output_type": "stream",
          "name": "stderr",
          "text": [
            "\n"
          ]
        },
        {
          "output_type": "stream",
          "name": "stdout",
          "text": [
            "\n",
            "      Epoch    GPU_mem   box_loss   cls_loss   dfl_loss  Instances       Size\n"
          ]
        },
        {
          "output_type": "stream",
          "name": "stderr",
          "text": [
            "      15/50      2.78G      1.191      1.541      1.399          2        640: 100%|██████████| 11/11 [00:01<00:00,  6.60it/s]\n",
            "                 Class     Images  Instances      Box(P          R      mAP50  mAP50-95): 100%|██████████| 2/2 [00:00<00:00,  4.22it/s]"
          ]
        },
        {
          "output_type": "stream",
          "name": "stdout",
          "text": [
            "                   all         23         21      0.821      0.677        0.9      0.473\n"
          ]
        },
        {
          "output_type": "stream",
          "name": "stderr",
          "text": [
            "\n"
          ]
        },
        {
          "output_type": "stream",
          "name": "stdout",
          "text": [
            "\n",
            "      Epoch    GPU_mem   box_loss   cls_loss   dfl_loss  Instances       Size\n"
          ]
        },
        {
          "output_type": "stream",
          "name": "stderr",
          "text": [
            "      16/50      2.85G      1.339      1.693      1.618          2        640: 100%|██████████| 11/11 [00:01<00:00,  5.99it/s]\n",
            "                 Class     Images  Instances      Box(P          R      mAP50  mAP50-95): 100%|██████████| 2/2 [00:00<00:00,  9.40it/s]"
          ]
        },
        {
          "output_type": "stream",
          "name": "stdout",
          "text": [
            "                   all         23         21      0.597      0.886      0.902      0.481\n"
          ]
        },
        {
          "output_type": "stream",
          "name": "stderr",
          "text": [
            "\n"
          ]
        },
        {
          "output_type": "stream",
          "name": "stdout",
          "text": [
            "\n",
            "      Epoch    GPU_mem   box_loss   cls_loss   dfl_loss  Instances       Size\n"
          ]
        },
        {
          "output_type": "stream",
          "name": "stderr",
          "text": [
            "      17/50      2.92G      1.311      1.621      1.554          4        640: 100%|██████████| 11/11 [00:01<00:00,  6.53it/s]\n",
            "                 Class     Images  Instances      Box(P          R      mAP50  mAP50-95): 100%|██████████| 2/2 [00:00<00:00, 10.23it/s]\n"
          ]
        },
        {
          "output_type": "stream",
          "name": "stdout",
          "text": [
            "                   all         23         21      0.511      0.904      0.812      0.408\n",
            "\n",
            "      Epoch    GPU_mem   box_loss   cls_loss   dfl_loss  Instances       Size\n"
          ]
        },
        {
          "output_type": "stream",
          "name": "stderr",
          "text": [
            "      18/50      2.97G       1.28      1.461      1.532          4        640: 100%|██████████| 11/11 [00:01<00:00,  6.75it/s]\n",
            "                 Class     Images  Instances      Box(P          R      mAP50  mAP50-95): 100%|██████████| 2/2 [00:00<00:00,  8.90it/s]"
          ]
        },
        {
          "output_type": "stream",
          "name": "stdout",
          "text": [
            "                   all         23         21      0.575      0.939      0.881      0.457\n"
          ]
        },
        {
          "output_type": "stream",
          "name": "stderr",
          "text": [
            "\n"
          ]
        },
        {
          "output_type": "stream",
          "name": "stdout",
          "text": [
            "\n",
            "      Epoch    GPU_mem   box_loss   cls_loss   dfl_loss  Instances       Size\n"
          ]
        },
        {
          "output_type": "stream",
          "name": "stderr",
          "text": [
            "      19/50      3.04G      1.267      1.587       1.51          2        640: 100%|██████████| 11/11 [00:02<00:00,  5.04it/s]\n",
            "                 Class     Images  Instances      Box(P          R      mAP50  mAP50-95): 100%|██████████| 2/2 [00:00<00:00,  8.78it/s]"
          ]
        },
        {
          "output_type": "stream",
          "name": "stdout",
          "text": [
            "                   all         23         21      0.762      0.729      0.836      0.466\n"
          ]
        },
        {
          "output_type": "stream",
          "name": "stderr",
          "text": [
            "\n"
          ]
        },
        {
          "output_type": "stream",
          "name": "stdout",
          "text": [
            "\n",
            "      Epoch    GPU_mem   box_loss   cls_loss   dfl_loss  Instances       Size\n"
          ]
        },
        {
          "output_type": "stream",
          "name": "stderr",
          "text": [
            "      20/50       3.1G      1.229      1.397      1.413          1        640: 100%|██████████| 11/11 [00:01<00:00,  6.82it/s]\n",
            "                 Class     Images  Instances      Box(P          R      mAP50  mAP50-95): 100%|██████████| 2/2 [00:00<00:00,  9.38it/s]"
          ]
        },
        {
          "output_type": "stream",
          "name": "stdout",
          "text": [
            "                   all         23         21      0.653       0.83      0.899      0.503\n"
          ]
        },
        {
          "output_type": "stream",
          "name": "stderr",
          "text": [
            "\n"
          ]
        },
        {
          "output_type": "stream",
          "name": "stdout",
          "text": [
            "\n",
            "      Epoch    GPU_mem   box_loss   cls_loss   dfl_loss  Instances       Size\n"
          ]
        },
        {
          "output_type": "stream",
          "name": "stderr",
          "text": [
            "      21/50      3.17G      1.171      1.387      1.402          4        640: 100%|██████████| 11/11 [00:01<00:00,  6.78it/s]\n",
            "                 Class     Images  Instances      Box(P          R      mAP50  mAP50-95): 100%|██████████| 2/2 [00:00<00:00,  8.87it/s]"
          ]
        },
        {
          "output_type": "stream",
          "name": "stdout",
          "text": [
            "                   all         23         21      0.674      0.808      0.898      0.512\n"
          ]
        },
        {
          "output_type": "stream",
          "name": "stderr",
          "text": [
            "\n"
          ]
        },
        {
          "output_type": "stream",
          "name": "stdout",
          "text": [
            "\n",
            "      Epoch    GPU_mem   box_loss   cls_loss   dfl_loss  Instances       Size\n"
          ]
        },
        {
          "output_type": "stream",
          "name": "stderr",
          "text": [
            "      22/50      3.24G      1.104      1.364      1.389          2        640: 100%|██████████| 11/11 [00:01<00:00,  6.48it/s]\n",
            "                 Class     Images  Instances      Box(P          R      mAP50  mAP50-95): 100%|██████████| 2/2 [00:00<00:00,  9.56it/s]"
          ]
        },
        {
          "output_type": "stream",
          "name": "stdout",
          "text": [
            "                   all         23         21      0.728       0.69      0.888      0.497\n"
          ]
        },
        {
          "output_type": "stream",
          "name": "stderr",
          "text": [
            "\n"
          ]
        },
        {
          "output_type": "stream",
          "name": "stdout",
          "text": [
            "\n",
            "      Epoch    GPU_mem   box_loss   cls_loss   dfl_loss  Instances       Size\n"
          ]
        },
        {
          "output_type": "stream",
          "name": "stderr",
          "text": [
            "      23/50      3.31G      1.184      1.329      1.384          2        640: 100%|██████████| 11/11 [00:01<00:00,  6.71it/s]\n",
            "                 Class     Images  Instances      Box(P          R      mAP50  mAP50-95): 100%|██████████| 2/2 [00:00<00:00,  9.78it/s]"
          ]
        },
        {
          "output_type": "stream",
          "name": "stdout",
          "text": [
            "                   all         23         21      0.668      0.803      0.855       0.46\n"
          ]
        },
        {
          "output_type": "stream",
          "name": "stderr",
          "text": [
            "\n"
          ]
        },
        {
          "output_type": "stream",
          "name": "stdout",
          "text": [
            "\n",
            "      Epoch    GPU_mem   box_loss   cls_loss   dfl_loss  Instances       Size\n"
          ]
        },
        {
          "output_type": "stream",
          "name": "stderr",
          "text": [
            "      24/50      3.37G      1.095      1.255       1.36          2        640: 100%|██████████| 11/11 [00:02<00:00,  4.92it/s]\n",
            "                 Class     Images  Instances      Box(P          R      mAP50  mAP50-95): 100%|██████████| 2/2 [00:00<00:00,  5.04it/s]\n"
          ]
        },
        {
          "output_type": "stream",
          "name": "stdout",
          "text": [
            "                   all         23         21       0.59      0.917      0.821      0.447\n",
            "\n",
            "      Epoch    GPU_mem   box_loss   cls_loss   dfl_loss  Instances       Size\n"
          ]
        },
        {
          "output_type": "stream",
          "name": "stderr",
          "text": [
            "      25/50      3.44G      1.093      1.257      1.296          4        640: 100%|██████████| 11/11 [00:01<00:00,  6.45it/s]\n",
            "                 Class     Images  Instances      Box(P          R      mAP50  mAP50-95): 100%|██████████| 2/2 [00:00<00:00, 10.39it/s]\n"
          ]
        },
        {
          "output_type": "stream",
          "name": "stdout",
          "text": [
            "                   all         23         21      0.777      0.872      0.847       0.45\n",
            "\n",
            "      Epoch    GPU_mem   box_loss   cls_loss   dfl_loss  Instances       Size\n"
          ]
        },
        {
          "output_type": "stream",
          "name": "stderr",
          "text": [
            "      26/50      3.49G      1.097      1.187      1.374          4        640: 100%|██████████| 11/11 [00:01<00:00,  6.93it/s]\n",
            "                 Class     Images  Instances      Box(P          R      mAP50  mAP50-95): 100%|██████████| 2/2 [00:00<00:00,  8.33it/s]"
          ]
        },
        {
          "output_type": "stream",
          "name": "stdout",
          "text": [
            "                   all         23         21      0.784       0.87      0.865      0.448\n"
          ]
        },
        {
          "output_type": "stream",
          "name": "stderr",
          "text": [
            "\n"
          ]
        },
        {
          "output_type": "stream",
          "name": "stdout",
          "text": [
            "\n",
            "      Epoch    GPU_mem   box_loss   cls_loss   dfl_loss  Instances       Size\n"
          ]
        },
        {
          "output_type": "stream",
          "name": "stderr",
          "text": [
            "      27/50      3.56G       1.02      1.264      1.393          1        640: 100%|██████████| 11/11 [00:01<00:00,  6.37it/s]\n",
            "                 Class     Images  Instances      Box(P          R      mAP50  mAP50-95): 100%|██████████| 2/2 [00:00<00:00,  9.66it/s]"
          ]
        },
        {
          "output_type": "stream",
          "name": "stdout",
          "text": [
            "                   all         23         21       0.82      0.864      0.866      0.469\n"
          ]
        },
        {
          "output_type": "stream",
          "name": "stderr",
          "text": [
            "\n"
          ]
        },
        {
          "output_type": "stream",
          "name": "stdout",
          "text": [
            "\n",
            "      Epoch    GPU_mem   box_loss   cls_loss   dfl_loss  Instances       Size\n"
          ]
        },
        {
          "output_type": "stream",
          "name": "stderr",
          "text": [
            "      28/50      3.62G      1.064      1.074      1.337          4        640: 100%|██████████| 11/11 [00:01<00:00,  6.60it/s]\n",
            "                 Class     Images  Instances      Box(P          R      mAP50  mAP50-95): 100%|██████████| 2/2 [00:00<00:00,  9.81it/s]"
          ]
        },
        {
          "output_type": "stream",
          "name": "stdout",
          "text": [
            "                   all         23         21      0.784      0.937      0.871      0.476\n"
          ]
        },
        {
          "output_type": "stream",
          "name": "stderr",
          "text": [
            "\n"
          ]
        },
        {
          "output_type": "stream",
          "name": "stdout",
          "text": [
            "\n",
            "      Epoch    GPU_mem   box_loss   cls_loss   dfl_loss  Instances       Size\n"
          ]
        },
        {
          "output_type": "stream",
          "name": "stderr",
          "text": [
            "      29/50      3.71G       1.17      1.315      1.404          4        640: 100%|██████████| 11/11 [00:02<00:00,  5.48it/s]\n",
            "                 Class     Images  Instances      Box(P          R      mAP50  mAP50-95): 100%|██████████| 2/2 [00:00<00:00,  7.88it/s]"
          ]
        },
        {
          "output_type": "stream",
          "name": "stdout",
          "text": [
            "                   all         23         21      0.787      0.939      0.915      0.465\n"
          ]
        },
        {
          "output_type": "stream",
          "name": "stderr",
          "text": [
            "\n"
          ]
        },
        {
          "output_type": "stream",
          "name": "stdout",
          "text": [
            "\n",
            "      Epoch    GPU_mem   box_loss   cls_loss   dfl_loss  Instances       Size\n"
          ]
        },
        {
          "output_type": "stream",
          "name": "stderr",
          "text": [
            "      30/50      3.84G      1.107      1.222      1.365          2        640: 100%|██████████| 11/11 [00:01<00:00,  6.10it/s]\n",
            "                 Class     Images  Instances      Box(P          R      mAP50  mAP50-95): 100%|██████████| 2/2 [00:00<00:00,  9.93it/s]"
          ]
        },
        {
          "output_type": "stream",
          "name": "stdout",
          "text": [
            "                   all         23         21      0.653      0.758      0.768      0.445\n"
          ]
        },
        {
          "output_type": "stream",
          "name": "stderr",
          "text": [
            "\n"
          ]
        },
        {
          "output_type": "stream",
          "name": "stdout",
          "text": [
            "\n",
            "      Epoch    GPU_mem   box_loss   cls_loss   dfl_loss  Instances       Size\n"
          ]
        },
        {
          "output_type": "stream",
          "name": "stderr",
          "text": [
            "      31/50      3.87G      1.031      1.105      1.299          4        640: 100%|██████████| 11/11 [00:01<00:00,  6.43it/s]\n",
            "                 Class     Images  Instances      Box(P          R      mAP50  mAP50-95): 100%|██████████| 2/2 [00:00<00:00,  9.09it/s]"
          ]
        },
        {
          "output_type": "stream",
          "name": "stdout",
          "text": [
            "                   all         23         21      0.632      0.848      0.852      0.446\n"
          ]
        },
        {
          "output_type": "stream",
          "name": "stderr",
          "text": [
            "\n"
          ]
        },
        {
          "output_type": "stream",
          "name": "stdout",
          "text": [
            "\n",
            "      Epoch    GPU_mem   box_loss   cls_loss   dfl_loss  Instances       Size\n"
          ]
        },
        {
          "output_type": "stream",
          "name": "stderr",
          "text": [
            "      32/50      3.91G       1.05      1.161      1.335          2        640: 100%|██████████| 11/11 [00:01<00:00,  6.40it/s]\n",
            "                 Class     Images  Instances      Box(P          R      mAP50  mAP50-95): 100%|██████████| 2/2 [00:00<00:00,  8.66it/s]"
          ]
        },
        {
          "output_type": "stream",
          "name": "stdout",
          "text": [
            "                   all         23         21      0.543      0.848      0.845      0.443\n"
          ]
        },
        {
          "output_type": "stream",
          "name": "stderr",
          "text": [
            "\n"
          ]
        },
        {
          "output_type": "stream",
          "name": "stdout",
          "text": [
            "\n",
            "      Epoch    GPU_mem   box_loss   cls_loss   dfl_loss  Instances       Size\n"
          ]
        },
        {
          "output_type": "stream",
          "name": "stderr",
          "text": [
            "      33/50      3.95G      1.044      1.118      1.324          2        640: 100%|██████████| 11/11 [00:01<00:00,  6.72it/s]\n",
            "                 Class     Images  Instances      Box(P          R      mAP50  mAP50-95): 100%|██████████| 2/2 [00:00<00:00, 10.16it/s]"
          ]
        },
        {
          "output_type": "stream",
          "name": "stdout",
          "text": [
            "                   all         23         21      0.605      0.749      0.784      0.432\n"
          ]
        },
        {
          "output_type": "stream",
          "name": "stderr",
          "text": [
            "\n"
          ]
        },
        {
          "output_type": "stream",
          "name": "stdout",
          "text": [
            "\n",
            "      Epoch    GPU_mem   box_loss   cls_loss   dfl_loss  Instances       Size\n"
          ]
        },
        {
          "output_type": "stream",
          "name": "stderr",
          "text": [
            "      34/50      4.02G      1.072      1.145      1.349          2        640: 100%|██████████| 11/11 [00:01<00:00,  5.68it/s]\n",
            "                 Class     Images  Instances      Box(P          R      mAP50  mAP50-95): 100%|██████████| 2/2 [00:00<00:00,  9.10it/s]"
          ]
        },
        {
          "output_type": "stream",
          "name": "stdout",
          "text": [
            "                   all         23         21      0.683      0.826      0.844      0.432\n"
          ]
        },
        {
          "output_type": "stream",
          "name": "stderr",
          "text": [
            "\n"
          ]
        },
        {
          "output_type": "stream",
          "name": "stdout",
          "text": [
            "\n",
            "      Epoch    GPU_mem   box_loss   cls_loss   dfl_loss  Instances       Size\n"
          ]
        },
        {
          "output_type": "stream",
          "name": "stderr",
          "text": [
            "      35/50      4.09G     0.9661      1.141      1.279          2        640: 100%|██████████| 11/11 [00:02<00:00,  5.33it/s]\n",
            "                 Class     Images  Instances      Box(P          R      mAP50  mAP50-95): 100%|██████████| 2/2 [00:00<00:00,  9.50it/s]"
          ]
        },
        {
          "output_type": "stream",
          "name": "stdout",
          "text": [
            "                   all         23         21       0.69      0.848      0.852      0.441\n"
          ]
        },
        {
          "output_type": "stream",
          "name": "stderr",
          "text": [
            "\n"
          ]
        },
        {
          "output_type": "stream",
          "name": "stdout",
          "text": [
            "\n",
            "      Epoch    GPU_mem   box_loss   cls_loss   dfl_loss  Instances       Size\n"
          ]
        },
        {
          "output_type": "stream",
          "name": "stderr",
          "text": [
            "      36/50      4.15G     0.9951     0.9901      1.302          2        640: 100%|██████████| 11/11 [00:01<00:00,  6.82it/s]\n",
            "                 Class     Images  Instances      Box(P          R      mAP50  mAP50-95): 100%|██████████| 2/2 [00:00<00:00,  8.07it/s]"
          ]
        },
        {
          "output_type": "stream",
          "name": "stdout",
          "text": [
            "                   all         23         21      0.683      0.875      0.825      0.479\n"
          ]
        },
        {
          "output_type": "stream",
          "name": "stderr",
          "text": [
            "\n"
          ]
        },
        {
          "output_type": "stream",
          "name": "stdout",
          "text": [
            "\n",
            "      Epoch    GPU_mem   box_loss   cls_loss   dfl_loss  Instances       Size\n"
          ]
        },
        {
          "output_type": "stream",
          "name": "stderr",
          "text": [
            "      37/50      4.23G       1.02      1.151      1.299          1        640: 100%|██████████| 11/11 [00:01<00:00,  6.64it/s]\n",
            "                 Class     Images  Instances      Box(P          R      mAP50  mAP50-95): 100%|██████████| 2/2 [00:00<00:00,  8.53it/s]"
          ]
        },
        {
          "output_type": "stream",
          "name": "stdout",
          "text": [
            "                   all         23         21      0.633      0.929      0.825      0.471\n"
          ]
        },
        {
          "output_type": "stream",
          "name": "stderr",
          "text": [
            "\n"
          ]
        },
        {
          "output_type": "stream",
          "name": "stdout",
          "text": [
            "\n",
            "      Epoch    GPU_mem   box_loss   cls_loss   dfl_loss  Instances       Size\n"
          ]
        },
        {
          "output_type": "stream",
          "name": "stderr",
          "text": [
            "      38/50      4.29G     0.9272     0.9483      1.254          4        640: 100%|██████████| 11/11 [00:01<00:00,  6.53it/s]\n",
            "                 Class     Images  Instances      Box(P          R      mAP50  mAP50-95): 100%|██████████| 2/2 [00:00<00:00,  9.34it/s]"
          ]
        },
        {
          "output_type": "stream",
          "name": "stdout",
          "text": [
            "                   all         23         21      0.782      0.844      0.825      0.469\n"
          ]
        },
        {
          "output_type": "stream",
          "name": "stderr",
          "text": [
            "\n"
          ]
        },
        {
          "output_type": "stream",
          "name": "stdout",
          "text": [
            "\n",
            "      Epoch    GPU_mem   box_loss   cls_loss   dfl_loss  Instances       Size\n"
          ]
        },
        {
          "output_type": "stream",
          "name": "stderr",
          "text": [
            "      39/50      4.36G     0.9926      1.051      1.285          4        640: 100%|██████████| 11/11 [00:01<00:00,  6.67it/s]\n",
            "                 Class     Images  Instances      Box(P          R      mAP50  mAP50-95): 100%|██████████| 2/2 [00:00<00:00,  9.38it/s]"
          ]
        },
        {
          "output_type": "stream",
          "name": "stdout",
          "text": [
            "                   all         23         21      0.619      0.939      0.874      0.477\n"
          ]
        },
        {
          "output_type": "stream",
          "name": "stderr",
          "text": [
            "\n"
          ]
        },
        {
          "output_type": "stream",
          "name": "stdout",
          "text": [
            "\n",
            "      Epoch    GPU_mem   box_loss   cls_loss   dfl_loss  Instances       Size\n"
          ]
        },
        {
          "output_type": "stream",
          "name": "stderr",
          "text": [
            "      40/50      4.41G     0.9037      0.951      1.189          3        640: 100%|██████████| 11/11 [00:02<00:00,  4.48it/s]\n",
            "                 Class     Images  Instances      Box(P          R      mAP50  mAP50-95): 100%|██████████| 2/2 [00:00<00:00, 10.13it/s]\n"
          ]
        },
        {
          "output_type": "stream",
          "name": "stdout",
          "text": [
            "                   all         23         21      0.607      0.932      0.878      0.492\n",
            "Closing dataloader mosaic\n",
            "\u001b[34m\u001b[1malbumentations: \u001b[0mBlur(p=0.01, blur_limit=(3, 7)), MedianBlur(p=0.01, blur_limit=(3, 7)), ToGray(p=0.01, method='weighted_average', num_output_channels=3), CLAHE(p=0.01, clip_limit=(1.0, 4.0), tile_grid_size=(8, 8))\n",
            "\n",
            "      Epoch    GPU_mem   box_loss   cls_loss   dfl_loss  Instances       Size\n"
          ]
        },
        {
          "output_type": "stream",
          "name": "stderr",
          "text": [
            "      41/50      4.52G      1.054      1.347      1.449          1        640: 100%|██████████| 11/11 [00:02<00:00,  4.39it/s]\n",
            "                 Class     Images  Instances      Box(P          R      mAP50  mAP50-95): 100%|██████████| 2/2 [00:00<00:00,  7.29it/s]"
          ]
        },
        {
          "output_type": "stream",
          "name": "stdout",
          "text": [
            "                   all         23         21      0.638      0.931      0.875      0.486\n"
          ]
        },
        {
          "output_type": "stream",
          "name": "stderr",
          "text": [
            "\n"
          ]
        },
        {
          "output_type": "stream",
          "name": "stdout",
          "text": [
            "\n",
            "      Epoch    GPU_mem   box_loss   cls_loss   dfl_loss  Instances       Size\n"
          ]
        },
        {
          "output_type": "stream",
          "name": "stderr",
          "text": [
            "      42/50      4.56G      1.012      1.288      1.452          1        640: 100%|██████████| 11/11 [00:02<00:00,  4.74it/s]\n",
            "                 Class     Images  Instances      Box(P          R      mAP50  mAP50-95): 100%|██████████| 2/2 [00:00<00:00,  6.32it/s]"
          ]
        },
        {
          "output_type": "stream",
          "name": "stdout",
          "text": [
            "                   all         23         21      0.649      0.934      0.875      0.484\n"
          ]
        },
        {
          "output_type": "stream",
          "name": "stderr",
          "text": [
            "\n"
          ]
        },
        {
          "output_type": "stream",
          "name": "stdout",
          "text": [
            "\n",
            "      Epoch    GPU_mem   box_loss   cls_loss   dfl_loss  Instances       Size\n"
          ]
        },
        {
          "output_type": "stream",
          "name": "stderr",
          "text": [
            "      43/50      4.61G     0.9757       1.23      1.417          1        640: 100%|██████████| 11/11 [00:01<00:00,  6.83it/s]\n",
            "                 Class     Images  Instances      Box(P          R      mAP50  mAP50-95): 100%|██████████| 2/2 [00:00<00:00,  9.35it/s]"
          ]
        },
        {
          "output_type": "stream",
          "name": "stdout",
          "text": [
            "                   all         23         21      0.666      0.931      0.875      0.483\n"
          ]
        },
        {
          "output_type": "stream",
          "name": "stderr",
          "text": [
            "\n"
          ]
        },
        {
          "output_type": "stream",
          "name": "stdout",
          "text": [
            "\n",
            "      Epoch    GPU_mem   box_loss   cls_loss   dfl_loss  Instances       Size\n"
          ]
        },
        {
          "output_type": "stream",
          "name": "stderr",
          "text": [
            "      44/50      4.67G     0.9101      1.079      1.393          1        640: 100%|██████████| 11/11 [00:02<00:00,  5.46it/s]\n",
            "                 Class     Images  Instances      Box(P          R      mAP50  mAP50-95): 100%|██████████| 2/2 [00:00<00:00,  4.90it/s]"
          ]
        },
        {
          "output_type": "stream",
          "name": "stdout",
          "text": [
            "                   all         23         21      0.669      0.939      0.884      0.478\n"
          ]
        },
        {
          "output_type": "stream",
          "name": "stderr",
          "text": [
            "\n"
          ]
        },
        {
          "output_type": "stream",
          "name": "stdout",
          "text": [
            "\n",
            "      Epoch    GPU_mem   box_loss   cls_loss   dfl_loss  Instances       Size\n"
          ]
        },
        {
          "output_type": "stream",
          "name": "stderr",
          "text": [
            "      45/50      4.75G      1.057      1.274       1.51          1        640: 100%|██████████| 11/11 [00:01<00:00,  6.62it/s]\n",
            "                 Class     Images  Instances      Box(P          R      mAP50  mAP50-95): 100%|██████████| 2/2 [00:00<00:00,  9.63it/s]"
          ]
        },
        {
          "output_type": "stream",
          "name": "stdout",
          "text": [
            "                   all         23         21      0.665      0.939      0.884      0.498\n"
          ]
        },
        {
          "output_type": "stream",
          "name": "stderr",
          "text": [
            "\n"
          ]
        },
        {
          "output_type": "stream",
          "name": "stdout",
          "text": [
            "\n",
            "      Epoch    GPU_mem   box_loss   cls_loss   dfl_loss  Instances       Size\n"
          ]
        },
        {
          "output_type": "stream",
          "name": "stderr",
          "text": [
            "      46/50      4.81G     0.9292      1.048      1.325          1        640: 100%|██████████| 11/11 [00:01<00:00,  6.54it/s]\n",
            "                 Class     Images  Instances      Box(P          R      mAP50  mAP50-95): 100%|██████████| 2/2 [00:00<00:00,  9.59it/s]"
          ]
        },
        {
          "output_type": "stream",
          "name": "stdout",
          "text": [
            "                   all         23         21      0.806      0.838      0.884      0.499\n"
          ]
        },
        {
          "output_type": "stream",
          "name": "stderr",
          "text": [
            "\n"
          ]
        },
        {
          "output_type": "stream",
          "name": "stdout",
          "text": [
            "\n",
            "      Epoch    GPU_mem   box_loss   cls_loss   dfl_loss  Instances       Size\n"
          ]
        },
        {
          "output_type": "stream",
          "name": "stderr",
          "text": [
            "      47/50      4.86G     0.8695     0.9834      1.293          1        640: 100%|██████████| 11/11 [00:01<00:00,  6.79it/s]\n",
            "                 Class     Images  Instances      Box(P          R      mAP50  mAP50-95): 100%|██████████| 2/2 [00:00<00:00,  9.59it/s]"
          ]
        },
        {
          "output_type": "stream",
          "name": "stdout",
          "text": [
            "                   all         23         21      0.816      0.848      0.884      0.487\n"
          ]
        },
        {
          "output_type": "stream",
          "name": "stderr",
          "text": [
            "\n"
          ]
        },
        {
          "output_type": "stream",
          "name": "stdout",
          "text": [
            "\n",
            "      Epoch    GPU_mem   box_loss   cls_loss   dfl_loss  Instances       Size\n"
          ]
        },
        {
          "output_type": "stream",
          "name": "stderr",
          "text": [
            "      48/50      4.93G     0.7108     0.9961      1.177          0        640: 100%|██████████| 11/11 [00:01<00:00,  7.06it/s]\n",
            "                 Class     Images  Instances      Box(P          R      mAP50  mAP50-95): 100%|██████████| 2/2 [00:00<00:00, 11.10it/s]\n"
          ]
        },
        {
          "output_type": "stream",
          "name": "stdout",
          "text": [
            "                   all         23         21      0.813      0.848      0.886      0.485\n",
            "\n",
            "      Epoch    GPU_mem   box_loss   cls_loss   dfl_loss  Instances       Size\n"
          ]
        },
        {
          "output_type": "stream",
          "name": "stderr",
          "text": [
            "      49/50      5.03G      0.698      1.062      1.115          0        640: 100%|██████████| 11/11 [00:01<00:00,  5.68it/s]\n",
            "                 Class     Images  Instances      Box(P          R      mAP50  mAP50-95): 100%|██████████| 2/2 [00:00<00:00,  5.58it/s]"
          ]
        },
        {
          "output_type": "stream",
          "name": "stdout",
          "text": [
            "                   all         23         21      0.806      0.847      0.886      0.478\n"
          ]
        },
        {
          "output_type": "stream",
          "name": "stderr",
          "text": [
            "\n"
          ]
        },
        {
          "output_type": "stream",
          "name": "stdout",
          "text": [
            "\n",
            "      Epoch    GPU_mem   box_loss   cls_loss   dfl_loss  Instances       Size\n"
          ]
        },
        {
          "output_type": "stream",
          "name": "stderr",
          "text": [
            "      50/50      5.06G     0.8452     0.9077      1.365          1        640: 100%|██████████| 11/11 [00:01<00:00,  5.74it/s]\n",
            "                 Class     Images  Instances      Box(P          R      mAP50  mAP50-95): 100%|██████████| 2/2 [00:00<00:00, 10.36it/s]\n"
          ]
        },
        {
          "output_type": "stream",
          "name": "stdout",
          "text": [
            "                   all         23         21      0.802      0.845      0.886       0.48\n",
            "\n",
            "50 epochs completed in 0.036 hours.\n",
            "Optimizer stripped from runs/detect/train/weights/last.pt, 22.5MB\n",
            "Optimizer stripped from runs/detect/train/weights/best.pt, 22.5MB\n",
            "\n",
            "Validating runs/detect/train/weights/best.pt...\n",
            "Ultralytics 8.3.176 🚀 Python-3.11.13 torch-2.6.0+cu124 CUDA:0 (Tesla T4, 15095MiB)\n",
            "Model summary (fused): 72 layers, 11,131,002 parameters, 0 gradients, 28.5 GFLOPs\n"
          ]
        },
        {
          "output_type": "stream",
          "name": "stderr",
          "text": [
            "                 Class     Images  Instances      Box(P          R      mAP50  mAP50-95): 100%|██████████| 2/2 [00:00<00:00,  7.40it/s]\n"
          ]
        },
        {
          "output_type": "stream",
          "name": "stdout",
          "text": [
            "                   all         23         21      0.673      0.808      0.897      0.512\n",
            "            auditorium          1          1      0.457          1      0.995      0.398\n",
            "       central_library          2          2      0.903          1      0.995      0.748\n",
            "           clock_tower          1          1       0.95          1      0.995      0.438\n",
            "faculty_of_Basics_Science          1          1          1          0      0.995      0.199\n",
            "faculty_of_material_and_chemical_eng          1          1      0.811          1      0.995      0.895\n",
            "faculty_of_mechanical_eng          3          3      0.318      0.333      0.338     0.0684\n",
            "             hostel_11          1          1      0.534          1      0.995      0.697\n",
            "             hostel_12          1          1      0.801          1      0.995      0.697\n",
            "          laundry_shop          1          1      0.394          1      0.995      0.597\n",
            "    new_academic_block          5          5       0.77        0.8      0.895      0.598\n",
            "                  tuck          4          4      0.465       0.75      0.673      0.293\n",
            "Speed: 0.3ms preprocess, 3.1ms inference, 0.0ms loss, 2.1ms postprocess per image\n",
            "Results saved to \u001b[1mruns/detect/train\u001b[0m\n"
          ]
        },
        {
          "output_type": "execute_result",
          "data": {
            "text/plain": [
              "ultralytics.utils.metrics.DetMetrics object with attributes:\n",
              "\n",
              "ap_class_index: array([ 2,  3,  4,  5,  7,  8,  9, 10, 11, 12, 13])\n",
              "box: ultralytics.utils.metrics.Metric object\n",
              "confusion_matrix: <ultralytics.utils.metrics.ConfusionMatrix object at 0x7bd8b25fef50>\n",
              "curves: ['Precision-Recall(B)', 'F1-Confidence(B)', 'Precision-Confidence(B)', 'Recall-Confidence(B)']\n",
              "curves_results: [[array([          0,    0.001001,    0.002002,    0.003003,    0.004004,    0.005005,    0.006006,    0.007007,    0.008008,    0.009009,     0.01001,    0.011011,    0.012012,    0.013013,    0.014014,    0.015015,    0.016016,    0.017017,    0.018018,    0.019019,     0.02002,    0.021021,    0.022022,    0.023023,\n",
              "          0.024024,    0.025025,    0.026026,    0.027027,    0.028028,    0.029029,     0.03003,    0.031031,    0.032032,    0.033033,    0.034034,    0.035035,    0.036036,    0.037037,    0.038038,    0.039039,     0.04004,    0.041041,    0.042042,    0.043043,    0.044044,    0.045045,    0.046046,    0.047047,\n",
              "          0.048048,    0.049049,     0.05005,    0.051051,    0.052052,    0.053053,    0.054054,    0.055055,    0.056056,    0.057057,    0.058058,    0.059059,     0.06006,    0.061061,    0.062062,    0.063063,    0.064064,    0.065065,    0.066066,    0.067067,    0.068068,    0.069069,     0.07007,    0.071071,\n",
              "          0.072072,    0.073073,    0.074074,    0.075075,    0.076076,    0.077077,    0.078078,    0.079079,     0.08008,    0.081081,    0.082082,    0.083083,    0.084084,    0.085085,    0.086086,    0.087087,    0.088088,    0.089089,     0.09009,    0.091091,    0.092092,    0.093093,    0.094094,    0.095095,\n",
              "          0.096096,    0.097097,    0.098098,    0.099099,      0.1001,      0.1011,      0.1021,      0.1031,      0.1041,     0.10511,     0.10611,     0.10711,     0.10811,     0.10911,     0.11011,     0.11111,     0.11211,     0.11311,     0.11411,     0.11512,     0.11612,     0.11712,     0.11812,     0.11912,\n",
              "           0.12012,     0.12112,     0.12212,     0.12312,     0.12412,     0.12513,     0.12613,     0.12713,     0.12813,     0.12913,     0.13013,     0.13113,     0.13213,     0.13313,     0.13413,     0.13514,     0.13614,     0.13714,     0.13814,     0.13914,     0.14014,     0.14114,     0.14214,     0.14314,\n",
              "           0.14414,     0.14515,     0.14615,     0.14715,     0.14815,     0.14915,     0.15015,     0.15115,     0.15215,     0.15315,     0.15415,     0.15516,     0.15616,     0.15716,     0.15816,     0.15916,     0.16016,     0.16116,     0.16216,     0.16316,     0.16416,     0.16517,     0.16617,     0.16717,\n",
              "           0.16817,     0.16917,     0.17017,     0.17117,     0.17217,     0.17317,     0.17417,     0.17518,     0.17618,     0.17718,     0.17818,     0.17918,     0.18018,     0.18118,     0.18218,     0.18318,     0.18418,     0.18519,     0.18619,     0.18719,     0.18819,     0.18919,     0.19019,     0.19119,\n",
              "           0.19219,     0.19319,     0.19419,      0.1952,      0.1962,      0.1972,      0.1982,      0.1992,      0.2002,      0.2012,      0.2022,      0.2032,      0.2042,     0.20521,     0.20621,     0.20721,     0.20821,     0.20921,     0.21021,     0.21121,     0.21221,     0.21321,     0.21421,     0.21522,\n",
              "           0.21622,     0.21722,     0.21822,     0.21922,     0.22022,     0.22122,     0.22222,     0.22322,     0.22422,     0.22523,     0.22623,     0.22723,     0.22823,     0.22923,     0.23023,     0.23123,     0.23223,     0.23323,     0.23423,     0.23524,     0.23624,     0.23724,     0.23824,     0.23924,\n",
              "           0.24024,     0.24124,     0.24224,     0.24324,     0.24424,     0.24525,     0.24625,     0.24725,     0.24825,     0.24925,     0.25025,     0.25125,     0.25225,     0.25325,     0.25425,     0.25526,     0.25626,     0.25726,     0.25826,     0.25926,     0.26026,     0.26126,     0.26226,     0.26326,\n",
              "           0.26426,     0.26527,     0.26627,     0.26727,     0.26827,     0.26927,     0.27027,     0.27127,     0.27227,     0.27327,     0.27427,     0.27528,     0.27628,     0.27728,     0.27828,     0.27928,     0.28028,     0.28128,     0.28228,     0.28328,     0.28428,     0.28529,     0.28629,     0.28729,\n",
              "           0.28829,     0.28929,     0.29029,     0.29129,     0.29229,     0.29329,     0.29429,      0.2953,      0.2963,      0.2973,      0.2983,      0.2993,      0.3003,      0.3013,      0.3023,      0.3033,      0.3043,     0.30531,     0.30631,     0.30731,     0.30831,     0.30931,     0.31031,     0.31131,\n",
              "           0.31231,     0.31331,     0.31431,     0.31532,     0.31632,     0.31732,     0.31832,     0.31932,     0.32032,     0.32132,     0.32232,     0.32332,     0.32432,     0.32533,     0.32633,     0.32733,     0.32833,     0.32933,     0.33033,     0.33133,     0.33233,     0.33333,     0.33433,     0.33534,\n",
              "           0.33634,     0.33734,     0.33834,     0.33934,     0.34034,     0.34134,     0.34234,     0.34334,     0.34434,     0.34535,     0.34635,     0.34735,     0.34835,     0.34935,     0.35035,     0.35135,     0.35235,     0.35335,     0.35435,     0.35536,     0.35636,     0.35736,     0.35836,     0.35936,\n",
              "           0.36036,     0.36136,     0.36236,     0.36336,     0.36436,     0.36537,     0.36637,     0.36737,     0.36837,     0.36937,     0.37037,     0.37137,     0.37237,     0.37337,     0.37437,     0.37538,     0.37638,     0.37738,     0.37838,     0.37938,     0.38038,     0.38138,     0.38238,     0.38338,\n",
              "           0.38438,     0.38539,     0.38639,     0.38739,     0.38839,     0.38939,     0.39039,     0.39139,     0.39239,     0.39339,     0.39439,      0.3954,      0.3964,      0.3974,      0.3984,      0.3994,      0.4004,      0.4014,      0.4024,      0.4034,      0.4044,     0.40541,     0.40641,     0.40741,\n",
              "           0.40841,     0.40941,     0.41041,     0.41141,     0.41241,     0.41341,     0.41441,     0.41542,     0.41642,     0.41742,     0.41842,     0.41942,     0.42042,     0.42142,     0.42242,     0.42342,     0.42442,     0.42543,     0.42643,     0.42743,     0.42843,     0.42943,     0.43043,     0.43143,\n",
              "           0.43243,     0.43343,     0.43443,     0.43544,     0.43644,     0.43744,     0.43844,     0.43944,     0.44044,     0.44144,     0.44244,     0.44344,     0.44444,     0.44545,     0.44645,     0.44745,     0.44845,     0.44945,     0.45045,     0.45145,     0.45245,     0.45345,     0.45445,     0.45546,\n",
              "           0.45646,     0.45746,     0.45846,     0.45946,     0.46046,     0.46146,     0.46246,     0.46346,     0.46446,     0.46547,     0.46647,     0.46747,     0.46847,     0.46947,     0.47047,     0.47147,     0.47247,     0.47347,     0.47447,     0.47548,     0.47648,     0.47748,     0.47848,     0.47948,\n",
              "           0.48048,     0.48148,     0.48248,     0.48348,     0.48448,     0.48549,     0.48649,     0.48749,     0.48849,     0.48949,     0.49049,     0.49149,     0.49249,     0.49349,     0.49449,      0.4955,      0.4965,      0.4975,      0.4985,      0.4995,      0.5005,      0.5015,      0.5025,      0.5035,\n",
              "            0.5045,     0.50551,     0.50651,     0.50751,     0.50851,     0.50951,     0.51051,     0.51151,     0.51251,     0.51351,     0.51451,     0.51552,     0.51652,     0.51752,     0.51852,     0.51952,     0.52052,     0.52152,     0.52252,     0.52352,     0.52452,     0.52553,     0.52653,     0.52753,\n",
              "           0.52853,     0.52953,     0.53053,     0.53153,     0.53253,     0.53353,     0.53453,     0.53554,     0.53654,     0.53754,     0.53854,     0.53954,     0.54054,     0.54154,     0.54254,     0.54354,     0.54454,     0.54555,     0.54655,     0.54755,     0.54855,     0.54955,     0.55055,     0.55155,\n",
              "           0.55255,     0.55355,     0.55455,     0.55556,     0.55656,     0.55756,     0.55856,     0.55956,     0.56056,     0.56156,     0.56256,     0.56356,     0.56456,     0.56557,     0.56657,     0.56757,     0.56857,     0.56957,     0.57057,     0.57157,     0.57257,     0.57357,     0.57457,     0.57558,\n",
              "           0.57658,     0.57758,     0.57858,     0.57958,     0.58058,     0.58158,     0.58258,     0.58358,     0.58458,     0.58559,     0.58659,     0.58759,     0.58859,     0.58959,     0.59059,     0.59159,     0.59259,     0.59359,     0.59459,      0.5956,      0.5966,      0.5976,      0.5986,      0.5996,\n",
              "            0.6006,      0.6016,      0.6026,      0.6036,      0.6046,     0.60561,     0.60661,     0.60761,     0.60861,     0.60961,     0.61061,     0.61161,     0.61261,     0.61361,     0.61461,     0.61562,     0.61662,     0.61762,     0.61862,     0.61962,     0.62062,     0.62162,     0.62262,     0.62362,\n",
              "           0.62462,     0.62563,     0.62663,     0.62763,     0.62863,     0.62963,     0.63063,     0.63163,     0.63263,     0.63363,     0.63463,     0.63564,     0.63664,     0.63764,     0.63864,     0.63964,     0.64064,     0.64164,     0.64264,     0.64364,     0.64464,     0.64565,     0.64665,     0.64765,\n",
              "           0.64865,     0.64965,     0.65065,     0.65165,     0.65265,     0.65365,     0.65465,     0.65566,     0.65666,     0.65766,     0.65866,     0.65966,     0.66066,     0.66166,     0.66266,     0.66366,     0.66466,     0.66567,     0.66667,     0.66767,     0.66867,     0.66967,     0.67067,     0.67167,\n",
              "           0.67267,     0.67367,     0.67467,     0.67568,     0.67668,     0.67768,     0.67868,     0.67968,     0.68068,     0.68168,     0.68268,     0.68368,     0.68468,     0.68569,     0.68669,     0.68769,     0.68869,     0.68969,     0.69069,     0.69169,     0.69269,     0.69369,     0.69469,      0.6957,\n",
              "            0.6967,      0.6977,      0.6987,      0.6997,      0.7007,      0.7017,      0.7027,      0.7037,      0.7047,     0.70571,     0.70671,     0.70771,     0.70871,     0.70971,     0.71071,     0.71171,     0.71271,     0.71371,     0.71471,     0.71572,     0.71672,     0.71772,     0.71872,     0.71972,\n",
              "           0.72072,     0.72172,     0.72272,     0.72372,     0.72472,     0.72573,     0.72673,     0.72773,     0.72873,     0.72973,     0.73073,     0.73173,     0.73273,     0.73373,     0.73473,     0.73574,     0.73674,     0.73774,     0.73874,     0.73974,     0.74074,     0.74174,     0.74274,     0.74374,\n",
              "           0.74474,     0.74575,     0.74675,     0.74775,     0.74875,     0.74975,     0.75075,     0.75175,     0.75275,     0.75375,     0.75475,     0.75576,     0.75676,     0.75776,     0.75876,     0.75976,     0.76076,     0.76176,     0.76276,     0.76376,     0.76476,     0.76577,     0.76677,     0.76777,\n",
              "           0.76877,     0.76977,     0.77077,     0.77177,     0.77277,     0.77377,     0.77477,     0.77578,     0.77678,     0.77778,     0.77878,     0.77978,     0.78078,     0.78178,     0.78278,     0.78378,     0.78478,     0.78579,     0.78679,     0.78779,     0.78879,     0.78979,     0.79079,     0.79179,\n",
              "           0.79279,     0.79379,     0.79479,      0.7958,      0.7968,      0.7978,      0.7988,      0.7998,      0.8008,      0.8018,      0.8028,      0.8038,      0.8048,     0.80581,     0.80681,     0.80781,     0.80881,     0.80981,     0.81081,     0.81181,     0.81281,     0.81381,     0.81481,     0.81582,\n",
              "           0.81682,     0.81782,     0.81882,     0.81982,     0.82082,     0.82182,     0.82282,     0.82382,     0.82482,     0.82583,     0.82683,     0.82783,     0.82883,     0.82983,     0.83083,     0.83183,     0.83283,     0.83383,     0.83483,     0.83584,     0.83684,     0.83784,     0.83884,     0.83984,\n",
              "           0.84084,     0.84184,     0.84284,     0.84384,     0.84484,     0.84585,     0.84685,     0.84785,     0.84885,     0.84985,     0.85085,     0.85185,     0.85285,     0.85385,     0.85485,     0.85586,     0.85686,     0.85786,     0.85886,     0.85986,     0.86086,     0.86186,     0.86286,     0.86386,\n",
              "           0.86486,     0.86587,     0.86687,     0.86787,     0.86887,     0.86987,     0.87087,     0.87187,     0.87287,     0.87387,     0.87487,     0.87588,     0.87688,     0.87788,     0.87888,     0.87988,     0.88088,     0.88188,     0.88288,     0.88388,     0.88488,     0.88589,     0.88689,     0.88789,\n",
              "           0.88889,     0.88989,     0.89089,     0.89189,     0.89289,     0.89389,     0.89489,      0.8959,      0.8969,      0.8979,      0.8989,      0.8999,      0.9009,      0.9019,      0.9029,      0.9039,      0.9049,     0.90591,     0.90691,     0.90791,     0.90891,     0.90991,     0.91091,     0.91191,\n",
              "           0.91291,     0.91391,     0.91491,     0.91592,     0.91692,     0.91792,     0.91892,     0.91992,     0.92092,     0.92192,     0.92292,     0.92392,     0.92492,     0.92593,     0.92693,     0.92793,     0.92893,     0.92993,     0.93093,     0.93193,     0.93293,     0.93393,     0.93493,     0.93594,\n",
              "           0.93694,     0.93794,     0.93894,     0.93994,     0.94094,     0.94194,     0.94294,     0.94394,     0.94494,     0.94595,     0.94695,     0.94795,     0.94895,     0.94995,     0.95095,     0.95195,     0.95295,     0.95395,     0.95495,     0.95596,     0.95696,     0.95796,     0.95896,     0.95996,\n",
              "           0.96096,     0.96196,     0.96296,     0.96396,     0.96496,     0.96597,     0.96697,     0.96797,     0.96897,     0.96997,     0.97097,     0.97197,     0.97297,     0.97397,     0.97497,     0.97598,     0.97698,     0.97798,     0.97898,     0.97998,     0.98098,     0.98198,     0.98298,     0.98398,\n",
              "           0.98498,     0.98599,     0.98699,     0.98799,     0.98899,     0.98999,     0.99099,     0.99199,     0.99299,     0.99399,     0.99499,       0.996,       0.997,       0.998,       0.999,           1]), array([[          1,           1,           1, ...,           1,           1,           0],\n",
              "       [          1,           1,           1, ...,           1,           1,           0],\n",
              "       [          1,           1,           1, ...,           1,           1,           0],\n",
              "       ...,\n",
              "       [          1,           1,           1, ...,           1,           1,           0],\n",
              "       [          1,           1,           1, ...,         0.5,         0.5,           0],\n",
              "       [          1,           1,           1, ...,     0.44444,     0.44444,           0]]), 'Recall', 'Precision'], [array([          0,    0.001001,    0.002002,    0.003003,    0.004004,    0.005005,    0.006006,    0.007007,    0.008008,    0.009009,     0.01001,    0.011011,    0.012012,    0.013013,    0.014014,    0.015015,    0.016016,    0.017017,    0.018018,    0.019019,     0.02002,    0.021021,    0.022022,    0.023023,\n",
              "          0.024024,    0.025025,    0.026026,    0.027027,    0.028028,    0.029029,     0.03003,    0.031031,    0.032032,    0.033033,    0.034034,    0.035035,    0.036036,    0.037037,    0.038038,    0.039039,     0.04004,    0.041041,    0.042042,    0.043043,    0.044044,    0.045045,    0.046046,    0.047047,\n",
              "          0.048048,    0.049049,     0.05005,    0.051051,    0.052052,    0.053053,    0.054054,    0.055055,    0.056056,    0.057057,    0.058058,    0.059059,     0.06006,    0.061061,    0.062062,    0.063063,    0.064064,    0.065065,    0.066066,    0.067067,    0.068068,    0.069069,     0.07007,    0.071071,\n",
              "          0.072072,    0.073073,    0.074074,    0.075075,    0.076076,    0.077077,    0.078078,    0.079079,     0.08008,    0.081081,    0.082082,    0.083083,    0.084084,    0.085085,    0.086086,    0.087087,    0.088088,    0.089089,     0.09009,    0.091091,    0.092092,    0.093093,    0.094094,    0.095095,\n",
              "          0.096096,    0.097097,    0.098098,    0.099099,      0.1001,      0.1011,      0.1021,      0.1031,      0.1041,     0.10511,     0.10611,     0.10711,     0.10811,     0.10911,     0.11011,     0.11111,     0.11211,     0.11311,     0.11411,     0.11512,     0.11612,     0.11712,     0.11812,     0.11912,\n",
              "           0.12012,     0.12112,     0.12212,     0.12312,     0.12412,     0.12513,     0.12613,     0.12713,     0.12813,     0.12913,     0.13013,     0.13113,     0.13213,     0.13313,     0.13413,     0.13514,     0.13614,     0.13714,     0.13814,     0.13914,     0.14014,     0.14114,     0.14214,     0.14314,\n",
              "           0.14414,     0.14515,     0.14615,     0.14715,     0.14815,     0.14915,     0.15015,     0.15115,     0.15215,     0.15315,     0.15415,     0.15516,     0.15616,     0.15716,     0.15816,     0.15916,     0.16016,     0.16116,     0.16216,     0.16316,     0.16416,     0.16517,     0.16617,     0.16717,\n",
              "           0.16817,     0.16917,     0.17017,     0.17117,     0.17217,     0.17317,     0.17417,     0.17518,     0.17618,     0.17718,     0.17818,     0.17918,     0.18018,     0.18118,     0.18218,     0.18318,     0.18418,     0.18519,     0.18619,     0.18719,     0.18819,     0.18919,     0.19019,     0.19119,\n",
              "           0.19219,     0.19319,     0.19419,      0.1952,      0.1962,      0.1972,      0.1982,      0.1992,      0.2002,      0.2012,      0.2022,      0.2032,      0.2042,     0.20521,     0.20621,     0.20721,     0.20821,     0.20921,     0.21021,     0.21121,     0.21221,     0.21321,     0.21421,     0.21522,\n",
              "           0.21622,     0.21722,     0.21822,     0.21922,     0.22022,     0.22122,     0.22222,     0.22322,     0.22422,     0.22523,     0.22623,     0.22723,     0.22823,     0.22923,     0.23023,     0.23123,     0.23223,     0.23323,     0.23423,     0.23524,     0.23624,     0.23724,     0.23824,     0.23924,\n",
              "           0.24024,     0.24124,     0.24224,     0.24324,     0.24424,     0.24525,     0.24625,     0.24725,     0.24825,     0.24925,     0.25025,     0.25125,     0.25225,     0.25325,     0.25425,     0.25526,     0.25626,     0.25726,     0.25826,     0.25926,     0.26026,     0.26126,     0.26226,     0.26326,\n",
              "           0.26426,     0.26527,     0.26627,     0.26727,     0.26827,     0.26927,     0.27027,     0.27127,     0.27227,     0.27327,     0.27427,     0.27528,     0.27628,     0.27728,     0.27828,     0.27928,     0.28028,     0.28128,     0.28228,     0.28328,     0.28428,     0.28529,     0.28629,     0.28729,\n",
              "           0.28829,     0.28929,     0.29029,     0.29129,     0.29229,     0.29329,     0.29429,      0.2953,      0.2963,      0.2973,      0.2983,      0.2993,      0.3003,      0.3013,      0.3023,      0.3033,      0.3043,     0.30531,     0.30631,     0.30731,     0.30831,     0.30931,     0.31031,     0.31131,\n",
              "           0.31231,     0.31331,     0.31431,     0.31532,     0.31632,     0.31732,     0.31832,     0.31932,     0.32032,     0.32132,     0.32232,     0.32332,     0.32432,     0.32533,     0.32633,     0.32733,     0.32833,     0.32933,     0.33033,     0.33133,     0.33233,     0.33333,     0.33433,     0.33534,\n",
              "           0.33634,     0.33734,     0.33834,     0.33934,     0.34034,     0.34134,     0.34234,     0.34334,     0.34434,     0.34535,     0.34635,     0.34735,     0.34835,     0.34935,     0.35035,     0.35135,     0.35235,     0.35335,     0.35435,     0.35536,     0.35636,     0.35736,     0.35836,     0.35936,\n",
              "           0.36036,     0.36136,     0.36236,     0.36336,     0.36436,     0.36537,     0.36637,     0.36737,     0.36837,     0.36937,     0.37037,     0.37137,     0.37237,     0.37337,     0.37437,     0.37538,     0.37638,     0.37738,     0.37838,     0.37938,     0.38038,     0.38138,     0.38238,     0.38338,\n",
              "           0.38438,     0.38539,     0.38639,     0.38739,     0.38839,     0.38939,     0.39039,     0.39139,     0.39239,     0.39339,     0.39439,      0.3954,      0.3964,      0.3974,      0.3984,      0.3994,      0.4004,      0.4014,      0.4024,      0.4034,      0.4044,     0.40541,     0.40641,     0.40741,\n",
              "           0.40841,     0.40941,     0.41041,     0.41141,     0.41241,     0.41341,     0.41441,     0.41542,     0.41642,     0.41742,     0.41842,     0.41942,     0.42042,     0.42142,     0.42242,     0.42342,     0.42442,     0.42543,     0.42643,     0.42743,     0.42843,     0.42943,     0.43043,     0.43143,\n",
              "           0.43243,     0.43343,     0.43443,     0.43544,     0.43644,     0.43744,     0.43844,     0.43944,     0.44044,     0.44144,     0.44244,     0.44344,     0.44444,     0.44545,     0.44645,     0.44745,     0.44845,     0.44945,     0.45045,     0.45145,     0.45245,     0.45345,     0.45445,     0.45546,\n",
              "           0.45646,     0.45746,     0.45846,     0.45946,     0.46046,     0.46146,     0.46246,     0.46346,     0.46446,     0.46547,     0.46647,     0.46747,     0.46847,     0.46947,     0.47047,     0.47147,     0.47247,     0.47347,     0.47447,     0.47548,     0.47648,     0.47748,     0.47848,     0.47948,\n",
              "           0.48048,     0.48148,     0.48248,     0.48348,     0.48448,     0.48549,     0.48649,     0.48749,     0.48849,     0.48949,     0.49049,     0.49149,     0.49249,     0.49349,     0.49449,      0.4955,      0.4965,      0.4975,      0.4985,      0.4995,      0.5005,      0.5015,      0.5025,      0.5035,\n",
              "            0.5045,     0.50551,     0.50651,     0.50751,     0.50851,     0.50951,     0.51051,     0.51151,     0.51251,     0.51351,     0.51451,     0.51552,     0.51652,     0.51752,     0.51852,     0.51952,     0.52052,     0.52152,     0.52252,     0.52352,     0.52452,     0.52553,     0.52653,     0.52753,\n",
              "           0.52853,     0.52953,     0.53053,     0.53153,     0.53253,     0.53353,     0.53453,     0.53554,     0.53654,     0.53754,     0.53854,     0.53954,     0.54054,     0.54154,     0.54254,     0.54354,     0.54454,     0.54555,     0.54655,     0.54755,     0.54855,     0.54955,     0.55055,     0.55155,\n",
              "           0.55255,     0.55355,     0.55455,     0.55556,     0.55656,     0.55756,     0.55856,     0.55956,     0.56056,     0.56156,     0.56256,     0.56356,     0.56456,     0.56557,     0.56657,     0.56757,     0.56857,     0.56957,     0.57057,     0.57157,     0.57257,     0.57357,     0.57457,     0.57558,\n",
              "           0.57658,     0.57758,     0.57858,     0.57958,     0.58058,     0.58158,     0.58258,     0.58358,     0.58458,     0.58559,     0.58659,     0.58759,     0.58859,     0.58959,     0.59059,     0.59159,     0.59259,     0.59359,     0.59459,      0.5956,      0.5966,      0.5976,      0.5986,      0.5996,\n",
              "            0.6006,      0.6016,      0.6026,      0.6036,      0.6046,     0.60561,     0.60661,     0.60761,     0.60861,     0.60961,     0.61061,     0.61161,     0.61261,     0.61361,     0.61461,     0.61562,     0.61662,     0.61762,     0.61862,     0.61962,     0.62062,     0.62162,     0.62262,     0.62362,\n",
              "           0.62462,     0.62563,     0.62663,     0.62763,     0.62863,     0.62963,     0.63063,     0.63163,     0.63263,     0.63363,     0.63463,     0.63564,     0.63664,     0.63764,     0.63864,     0.63964,     0.64064,     0.64164,     0.64264,     0.64364,     0.64464,     0.64565,     0.64665,     0.64765,\n",
              "           0.64865,     0.64965,     0.65065,     0.65165,     0.65265,     0.65365,     0.65465,     0.65566,     0.65666,     0.65766,     0.65866,     0.65966,     0.66066,     0.66166,     0.66266,     0.66366,     0.66466,     0.66567,     0.66667,     0.66767,     0.66867,     0.66967,     0.67067,     0.67167,\n",
              "           0.67267,     0.67367,     0.67467,     0.67568,     0.67668,     0.67768,     0.67868,     0.67968,     0.68068,     0.68168,     0.68268,     0.68368,     0.68468,     0.68569,     0.68669,     0.68769,     0.68869,     0.68969,     0.69069,     0.69169,     0.69269,     0.69369,     0.69469,      0.6957,\n",
              "            0.6967,      0.6977,      0.6987,      0.6997,      0.7007,      0.7017,      0.7027,      0.7037,      0.7047,     0.70571,     0.70671,     0.70771,     0.70871,     0.70971,     0.71071,     0.71171,     0.71271,     0.71371,     0.71471,     0.71572,     0.71672,     0.71772,     0.71872,     0.71972,\n",
              "           0.72072,     0.72172,     0.72272,     0.72372,     0.72472,     0.72573,     0.72673,     0.72773,     0.72873,     0.72973,     0.73073,     0.73173,     0.73273,     0.73373,     0.73473,     0.73574,     0.73674,     0.73774,     0.73874,     0.73974,     0.74074,     0.74174,     0.74274,     0.74374,\n",
              "           0.74474,     0.74575,     0.74675,     0.74775,     0.74875,     0.74975,     0.75075,     0.75175,     0.75275,     0.75375,     0.75475,     0.75576,     0.75676,     0.75776,     0.75876,     0.75976,     0.76076,     0.76176,     0.76276,     0.76376,     0.76476,     0.76577,     0.76677,     0.76777,\n",
              "           0.76877,     0.76977,     0.77077,     0.77177,     0.77277,     0.77377,     0.77477,     0.77578,     0.77678,     0.77778,     0.77878,     0.77978,     0.78078,     0.78178,     0.78278,     0.78378,     0.78478,     0.78579,     0.78679,     0.78779,     0.78879,     0.78979,     0.79079,     0.79179,\n",
              "           0.79279,     0.79379,     0.79479,      0.7958,      0.7968,      0.7978,      0.7988,      0.7998,      0.8008,      0.8018,      0.8028,      0.8038,      0.8048,     0.80581,     0.80681,     0.80781,     0.80881,     0.80981,     0.81081,     0.81181,     0.81281,     0.81381,     0.81481,     0.81582,\n",
              "           0.81682,     0.81782,     0.81882,     0.81982,     0.82082,     0.82182,     0.82282,     0.82382,     0.82482,     0.82583,     0.82683,     0.82783,     0.82883,     0.82983,     0.83083,     0.83183,     0.83283,     0.83383,     0.83483,     0.83584,     0.83684,     0.83784,     0.83884,     0.83984,\n",
              "           0.84084,     0.84184,     0.84284,     0.84384,     0.84484,     0.84585,     0.84685,     0.84785,     0.84885,     0.84985,     0.85085,     0.85185,     0.85285,     0.85385,     0.85485,     0.85586,     0.85686,     0.85786,     0.85886,     0.85986,     0.86086,     0.86186,     0.86286,     0.86386,\n",
              "           0.86486,     0.86587,     0.86687,     0.86787,     0.86887,     0.86987,     0.87087,     0.87187,     0.87287,     0.87387,     0.87487,     0.87588,     0.87688,     0.87788,     0.87888,     0.87988,     0.88088,     0.88188,     0.88288,     0.88388,     0.88488,     0.88589,     0.88689,     0.88789,\n",
              "           0.88889,     0.88989,     0.89089,     0.89189,     0.89289,     0.89389,     0.89489,      0.8959,      0.8969,      0.8979,      0.8989,      0.8999,      0.9009,      0.9019,      0.9029,      0.9039,      0.9049,     0.90591,     0.90691,     0.90791,     0.90891,     0.90991,     0.91091,     0.91191,\n",
              "           0.91291,     0.91391,     0.91491,     0.91592,     0.91692,     0.91792,     0.91892,     0.91992,     0.92092,     0.92192,     0.92292,     0.92392,     0.92492,     0.92593,     0.92693,     0.92793,     0.92893,     0.92993,     0.93093,     0.93193,     0.93293,     0.93393,     0.93493,     0.93594,\n",
              "           0.93694,     0.93794,     0.93894,     0.93994,     0.94094,     0.94194,     0.94294,     0.94394,     0.94494,     0.94595,     0.94695,     0.94795,     0.94895,     0.94995,     0.95095,     0.95195,     0.95295,     0.95395,     0.95495,     0.95596,     0.95696,     0.95796,     0.95896,     0.95996,\n",
              "           0.96096,     0.96196,     0.96296,     0.96396,     0.96496,     0.96597,     0.96697,     0.96797,     0.96897,     0.96997,     0.97097,     0.97197,     0.97297,     0.97397,     0.97497,     0.97598,     0.97698,     0.97798,     0.97898,     0.97998,     0.98098,     0.98198,     0.98298,     0.98398,\n",
              "           0.98498,     0.98599,     0.98699,     0.98799,     0.98899,     0.98999,     0.99099,     0.99199,     0.99299,     0.99399,     0.99499,       0.996,       0.997,       0.998,       0.999,           1]), array([[     0.0625,      0.0625,    0.099977, ...,           0,           0,           0],\n",
              "       [    0.10256,     0.10256,     0.22413, ...,           0,           0,           0],\n",
              "       [   0.047619,    0.047619,    0.080899, ...,           0,           0,           0],\n",
              "       ...,\n",
              "       [   0.052632,    0.052632,     0.07266, ...,           0,           0,           0],\n",
              "       [   0.065359,    0.065359,     0.22117, ...,           0,           0,           0],\n",
              "       [   0.020513,    0.020513,    0.090199, ...,           0,           0,           0]]), 'Confidence', 'F1'], [array([          0,    0.001001,    0.002002,    0.003003,    0.004004,    0.005005,    0.006006,    0.007007,    0.008008,    0.009009,     0.01001,    0.011011,    0.012012,    0.013013,    0.014014,    0.015015,    0.016016,    0.017017,    0.018018,    0.019019,     0.02002,    0.021021,    0.022022,    0.023023,\n",
              "          0.024024,    0.025025,    0.026026,    0.027027,    0.028028,    0.029029,     0.03003,    0.031031,    0.032032,    0.033033,    0.034034,    0.035035,    0.036036,    0.037037,    0.038038,    0.039039,     0.04004,    0.041041,    0.042042,    0.043043,    0.044044,    0.045045,    0.046046,    0.047047,\n",
              "          0.048048,    0.049049,     0.05005,    0.051051,    0.052052,    0.053053,    0.054054,    0.055055,    0.056056,    0.057057,    0.058058,    0.059059,     0.06006,    0.061061,    0.062062,    0.063063,    0.064064,    0.065065,    0.066066,    0.067067,    0.068068,    0.069069,     0.07007,    0.071071,\n",
              "          0.072072,    0.073073,    0.074074,    0.075075,    0.076076,    0.077077,    0.078078,    0.079079,     0.08008,    0.081081,    0.082082,    0.083083,    0.084084,    0.085085,    0.086086,    0.087087,    0.088088,    0.089089,     0.09009,    0.091091,    0.092092,    0.093093,    0.094094,    0.095095,\n",
              "          0.096096,    0.097097,    0.098098,    0.099099,      0.1001,      0.1011,      0.1021,      0.1031,      0.1041,     0.10511,     0.10611,     0.10711,     0.10811,     0.10911,     0.11011,     0.11111,     0.11211,     0.11311,     0.11411,     0.11512,     0.11612,     0.11712,     0.11812,     0.11912,\n",
              "           0.12012,     0.12112,     0.12212,     0.12312,     0.12412,     0.12513,     0.12613,     0.12713,     0.12813,     0.12913,     0.13013,     0.13113,     0.13213,     0.13313,     0.13413,     0.13514,     0.13614,     0.13714,     0.13814,     0.13914,     0.14014,     0.14114,     0.14214,     0.14314,\n",
              "           0.14414,     0.14515,     0.14615,     0.14715,     0.14815,     0.14915,     0.15015,     0.15115,     0.15215,     0.15315,     0.15415,     0.15516,     0.15616,     0.15716,     0.15816,     0.15916,     0.16016,     0.16116,     0.16216,     0.16316,     0.16416,     0.16517,     0.16617,     0.16717,\n",
              "           0.16817,     0.16917,     0.17017,     0.17117,     0.17217,     0.17317,     0.17417,     0.17518,     0.17618,     0.17718,     0.17818,     0.17918,     0.18018,     0.18118,     0.18218,     0.18318,     0.18418,     0.18519,     0.18619,     0.18719,     0.18819,     0.18919,     0.19019,     0.19119,\n",
              "           0.19219,     0.19319,     0.19419,      0.1952,      0.1962,      0.1972,      0.1982,      0.1992,      0.2002,      0.2012,      0.2022,      0.2032,      0.2042,     0.20521,     0.20621,     0.20721,     0.20821,     0.20921,     0.21021,     0.21121,     0.21221,     0.21321,     0.21421,     0.21522,\n",
              "           0.21622,     0.21722,     0.21822,     0.21922,     0.22022,     0.22122,     0.22222,     0.22322,     0.22422,     0.22523,     0.22623,     0.22723,     0.22823,     0.22923,     0.23023,     0.23123,     0.23223,     0.23323,     0.23423,     0.23524,     0.23624,     0.23724,     0.23824,     0.23924,\n",
              "           0.24024,     0.24124,     0.24224,     0.24324,     0.24424,     0.24525,     0.24625,     0.24725,     0.24825,     0.24925,     0.25025,     0.25125,     0.25225,     0.25325,     0.25425,     0.25526,     0.25626,     0.25726,     0.25826,     0.25926,     0.26026,     0.26126,     0.26226,     0.26326,\n",
              "           0.26426,     0.26527,     0.26627,     0.26727,     0.26827,     0.26927,     0.27027,     0.27127,     0.27227,     0.27327,     0.27427,     0.27528,     0.27628,     0.27728,     0.27828,     0.27928,     0.28028,     0.28128,     0.28228,     0.28328,     0.28428,     0.28529,     0.28629,     0.28729,\n",
              "           0.28829,     0.28929,     0.29029,     0.29129,     0.29229,     0.29329,     0.29429,      0.2953,      0.2963,      0.2973,      0.2983,      0.2993,      0.3003,      0.3013,      0.3023,      0.3033,      0.3043,     0.30531,     0.30631,     0.30731,     0.30831,     0.30931,     0.31031,     0.31131,\n",
              "           0.31231,     0.31331,     0.31431,     0.31532,     0.31632,     0.31732,     0.31832,     0.31932,     0.32032,     0.32132,     0.32232,     0.32332,     0.32432,     0.32533,     0.32633,     0.32733,     0.32833,     0.32933,     0.33033,     0.33133,     0.33233,     0.33333,     0.33433,     0.33534,\n",
              "           0.33634,     0.33734,     0.33834,     0.33934,     0.34034,     0.34134,     0.34234,     0.34334,     0.34434,     0.34535,     0.34635,     0.34735,     0.34835,     0.34935,     0.35035,     0.35135,     0.35235,     0.35335,     0.35435,     0.35536,     0.35636,     0.35736,     0.35836,     0.35936,\n",
              "           0.36036,     0.36136,     0.36236,     0.36336,     0.36436,     0.36537,     0.36637,     0.36737,     0.36837,     0.36937,     0.37037,     0.37137,     0.37237,     0.37337,     0.37437,     0.37538,     0.37638,     0.37738,     0.37838,     0.37938,     0.38038,     0.38138,     0.38238,     0.38338,\n",
              "           0.38438,     0.38539,     0.38639,     0.38739,     0.38839,     0.38939,     0.39039,     0.39139,     0.39239,     0.39339,     0.39439,      0.3954,      0.3964,      0.3974,      0.3984,      0.3994,      0.4004,      0.4014,      0.4024,      0.4034,      0.4044,     0.40541,     0.40641,     0.40741,\n",
              "           0.40841,     0.40941,     0.41041,     0.41141,     0.41241,     0.41341,     0.41441,     0.41542,     0.41642,     0.41742,     0.41842,     0.41942,     0.42042,     0.42142,     0.42242,     0.42342,     0.42442,     0.42543,     0.42643,     0.42743,     0.42843,     0.42943,     0.43043,     0.43143,\n",
              "           0.43243,     0.43343,     0.43443,     0.43544,     0.43644,     0.43744,     0.43844,     0.43944,     0.44044,     0.44144,     0.44244,     0.44344,     0.44444,     0.44545,     0.44645,     0.44745,     0.44845,     0.44945,     0.45045,     0.45145,     0.45245,     0.45345,     0.45445,     0.45546,\n",
              "           0.45646,     0.45746,     0.45846,     0.45946,     0.46046,     0.46146,     0.46246,     0.46346,     0.46446,     0.46547,     0.46647,     0.46747,     0.46847,     0.46947,     0.47047,     0.47147,     0.47247,     0.47347,     0.47447,     0.47548,     0.47648,     0.47748,     0.47848,     0.47948,\n",
              "           0.48048,     0.48148,     0.48248,     0.48348,     0.48448,     0.48549,     0.48649,     0.48749,     0.48849,     0.48949,     0.49049,     0.49149,     0.49249,     0.49349,     0.49449,      0.4955,      0.4965,      0.4975,      0.4985,      0.4995,      0.5005,      0.5015,      0.5025,      0.5035,\n",
              "            0.5045,     0.50551,     0.50651,     0.50751,     0.50851,     0.50951,     0.51051,     0.51151,     0.51251,     0.51351,     0.51451,     0.51552,     0.51652,     0.51752,     0.51852,     0.51952,     0.52052,     0.52152,     0.52252,     0.52352,     0.52452,     0.52553,     0.52653,     0.52753,\n",
              "           0.52853,     0.52953,     0.53053,     0.53153,     0.53253,     0.53353,     0.53453,     0.53554,     0.53654,     0.53754,     0.53854,     0.53954,     0.54054,     0.54154,     0.54254,     0.54354,     0.54454,     0.54555,     0.54655,     0.54755,     0.54855,     0.54955,     0.55055,     0.55155,\n",
              "           0.55255,     0.55355,     0.55455,     0.55556,     0.55656,     0.55756,     0.55856,     0.55956,     0.56056,     0.56156,     0.56256,     0.56356,     0.56456,     0.56557,     0.56657,     0.56757,     0.56857,     0.56957,     0.57057,     0.57157,     0.57257,     0.57357,     0.57457,     0.57558,\n",
              "           0.57658,     0.57758,     0.57858,     0.57958,     0.58058,     0.58158,     0.58258,     0.58358,     0.58458,     0.58559,     0.58659,     0.58759,     0.58859,     0.58959,     0.59059,     0.59159,     0.59259,     0.59359,     0.59459,      0.5956,      0.5966,      0.5976,      0.5986,      0.5996,\n",
              "            0.6006,      0.6016,      0.6026,      0.6036,      0.6046,     0.60561,     0.60661,     0.60761,     0.60861,     0.60961,     0.61061,     0.61161,     0.61261,     0.61361,     0.61461,     0.61562,     0.61662,     0.61762,     0.61862,     0.61962,     0.62062,     0.62162,     0.62262,     0.62362,\n",
              "           0.62462,     0.62563,     0.62663,     0.62763,     0.62863,     0.62963,     0.63063,     0.63163,     0.63263,     0.63363,     0.63463,     0.63564,     0.63664,     0.63764,     0.63864,     0.63964,     0.64064,     0.64164,     0.64264,     0.64364,     0.64464,     0.64565,     0.64665,     0.64765,\n",
              "           0.64865,     0.64965,     0.65065,     0.65165,     0.65265,     0.65365,     0.65465,     0.65566,     0.65666,     0.65766,     0.65866,     0.65966,     0.66066,     0.66166,     0.66266,     0.66366,     0.66466,     0.66567,     0.66667,     0.66767,     0.66867,     0.66967,     0.67067,     0.67167,\n",
              "           0.67267,     0.67367,     0.67467,     0.67568,     0.67668,     0.67768,     0.67868,     0.67968,     0.68068,     0.68168,     0.68268,     0.68368,     0.68468,     0.68569,     0.68669,     0.68769,     0.68869,     0.68969,     0.69069,     0.69169,     0.69269,     0.69369,     0.69469,      0.6957,\n",
              "            0.6967,      0.6977,      0.6987,      0.6997,      0.7007,      0.7017,      0.7027,      0.7037,      0.7047,     0.70571,     0.70671,     0.70771,     0.70871,     0.70971,     0.71071,     0.71171,     0.71271,     0.71371,     0.71471,     0.71572,     0.71672,     0.71772,     0.71872,     0.71972,\n",
              "           0.72072,     0.72172,     0.72272,     0.72372,     0.72472,     0.72573,     0.72673,     0.72773,     0.72873,     0.72973,     0.73073,     0.73173,     0.73273,     0.73373,     0.73473,     0.73574,     0.73674,     0.73774,     0.73874,     0.73974,     0.74074,     0.74174,     0.74274,     0.74374,\n",
              "           0.74474,     0.74575,     0.74675,     0.74775,     0.74875,     0.74975,     0.75075,     0.75175,     0.75275,     0.75375,     0.75475,     0.75576,     0.75676,     0.75776,     0.75876,     0.75976,     0.76076,     0.76176,     0.76276,     0.76376,     0.76476,     0.76577,     0.76677,     0.76777,\n",
              "           0.76877,     0.76977,     0.77077,     0.77177,     0.77277,     0.77377,     0.77477,     0.77578,     0.77678,     0.77778,     0.77878,     0.77978,     0.78078,     0.78178,     0.78278,     0.78378,     0.78478,     0.78579,     0.78679,     0.78779,     0.78879,     0.78979,     0.79079,     0.79179,\n",
              "           0.79279,     0.79379,     0.79479,      0.7958,      0.7968,      0.7978,      0.7988,      0.7998,      0.8008,      0.8018,      0.8028,      0.8038,      0.8048,     0.80581,     0.80681,     0.80781,     0.80881,     0.80981,     0.81081,     0.81181,     0.81281,     0.81381,     0.81481,     0.81582,\n",
              "           0.81682,     0.81782,     0.81882,     0.81982,     0.82082,     0.82182,     0.82282,     0.82382,     0.82482,     0.82583,     0.82683,     0.82783,     0.82883,     0.82983,     0.83083,     0.83183,     0.83283,     0.83383,     0.83483,     0.83584,     0.83684,     0.83784,     0.83884,     0.83984,\n",
              "           0.84084,     0.84184,     0.84284,     0.84384,     0.84484,     0.84585,     0.84685,     0.84785,     0.84885,     0.84985,     0.85085,     0.85185,     0.85285,     0.85385,     0.85485,     0.85586,     0.85686,     0.85786,     0.85886,     0.85986,     0.86086,     0.86186,     0.86286,     0.86386,\n",
              "           0.86486,     0.86587,     0.86687,     0.86787,     0.86887,     0.86987,     0.87087,     0.87187,     0.87287,     0.87387,     0.87487,     0.87588,     0.87688,     0.87788,     0.87888,     0.87988,     0.88088,     0.88188,     0.88288,     0.88388,     0.88488,     0.88589,     0.88689,     0.88789,\n",
              "           0.88889,     0.88989,     0.89089,     0.89189,     0.89289,     0.89389,     0.89489,      0.8959,      0.8969,      0.8979,      0.8989,      0.8999,      0.9009,      0.9019,      0.9029,      0.9039,      0.9049,     0.90591,     0.90691,     0.90791,     0.90891,     0.90991,     0.91091,     0.91191,\n",
              "           0.91291,     0.91391,     0.91491,     0.91592,     0.91692,     0.91792,     0.91892,     0.91992,     0.92092,     0.92192,     0.92292,     0.92392,     0.92492,     0.92593,     0.92693,     0.92793,     0.92893,     0.92993,     0.93093,     0.93193,     0.93293,     0.93393,     0.93493,     0.93594,\n",
              "           0.93694,     0.93794,     0.93894,     0.93994,     0.94094,     0.94194,     0.94294,     0.94394,     0.94494,     0.94595,     0.94695,     0.94795,     0.94895,     0.94995,     0.95095,     0.95195,     0.95295,     0.95395,     0.95495,     0.95596,     0.95696,     0.95796,     0.95896,     0.95996,\n",
              "           0.96096,     0.96196,     0.96296,     0.96396,     0.96496,     0.96597,     0.96697,     0.96797,     0.96897,     0.96997,     0.97097,     0.97197,     0.97297,     0.97397,     0.97497,     0.97598,     0.97698,     0.97798,     0.97898,     0.97998,     0.98098,     0.98198,     0.98298,     0.98398,\n",
              "           0.98498,     0.98599,     0.98699,     0.98799,     0.98899,     0.98999,     0.99099,     0.99199,     0.99299,     0.99399,     0.99499,       0.996,       0.997,       0.998,       0.999,           1]), array([[   0.032258,    0.032258,    0.052619, ...,           1,           1,           1],\n",
              "       [   0.054054,    0.054054,     0.12621, ...,           1,           1,           1],\n",
              "       [    0.02439,     0.02439,    0.042155, ...,           1,           1,           1],\n",
              "       ...,\n",
              "       [   0.027027,    0.027027,    0.037699, ...,           1,           1,           1],\n",
              "       [   0.033784,    0.033784,     0.12433, ...,           1,           1,           1],\n",
              "       [   0.010363,    0.010363,     0.04723, ...,           1,           1,           1]]), 'Confidence', 'Precision'], [array([          0,    0.001001,    0.002002,    0.003003,    0.004004,    0.005005,    0.006006,    0.007007,    0.008008,    0.009009,     0.01001,    0.011011,    0.012012,    0.013013,    0.014014,    0.015015,    0.016016,    0.017017,    0.018018,    0.019019,     0.02002,    0.021021,    0.022022,    0.023023,\n",
              "          0.024024,    0.025025,    0.026026,    0.027027,    0.028028,    0.029029,     0.03003,    0.031031,    0.032032,    0.033033,    0.034034,    0.035035,    0.036036,    0.037037,    0.038038,    0.039039,     0.04004,    0.041041,    0.042042,    0.043043,    0.044044,    0.045045,    0.046046,    0.047047,\n",
              "          0.048048,    0.049049,     0.05005,    0.051051,    0.052052,    0.053053,    0.054054,    0.055055,    0.056056,    0.057057,    0.058058,    0.059059,     0.06006,    0.061061,    0.062062,    0.063063,    0.064064,    0.065065,    0.066066,    0.067067,    0.068068,    0.069069,     0.07007,    0.071071,\n",
              "          0.072072,    0.073073,    0.074074,    0.075075,    0.076076,    0.077077,    0.078078,    0.079079,     0.08008,    0.081081,    0.082082,    0.083083,    0.084084,    0.085085,    0.086086,    0.087087,    0.088088,    0.089089,     0.09009,    0.091091,    0.092092,    0.093093,    0.094094,    0.095095,\n",
              "          0.096096,    0.097097,    0.098098,    0.099099,      0.1001,      0.1011,      0.1021,      0.1031,      0.1041,     0.10511,     0.10611,     0.10711,     0.10811,     0.10911,     0.11011,     0.11111,     0.11211,     0.11311,     0.11411,     0.11512,     0.11612,     0.11712,     0.11812,     0.11912,\n",
              "           0.12012,     0.12112,     0.12212,     0.12312,     0.12412,     0.12513,     0.12613,     0.12713,     0.12813,     0.12913,     0.13013,     0.13113,     0.13213,     0.13313,     0.13413,     0.13514,     0.13614,     0.13714,     0.13814,     0.13914,     0.14014,     0.14114,     0.14214,     0.14314,\n",
              "           0.14414,     0.14515,     0.14615,     0.14715,     0.14815,     0.14915,     0.15015,     0.15115,     0.15215,     0.15315,     0.15415,     0.15516,     0.15616,     0.15716,     0.15816,     0.15916,     0.16016,     0.16116,     0.16216,     0.16316,     0.16416,     0.16517,     0.16617,     0.16717,\n",
              "           0.16817,     0.16917,     0.17017,     0.17117,     0.17217,     0.17317,     0.17417,     0.17518,     0.17618,     0.17718,     0.17818,     0.17918,     0.18018,     0.18118,     0.18218,     0.18318,     0.18418,     0.18519,     0.18619,     0.18719,     0.18819,     0.18919,     0.19019,     0.19119,\n",
              "           0.19219,     0.19319,     0.19419,      0.1952,      0.1962,      0.1972,      0.1982,      0.1992,      0.2002,      0.2012,      0.2022,      0.2032,      0.2042,     0.20521,     0.20621,     0.20721,     0.20821,     0.20921,     0.21021,     0.21121,     0.21221,     0.21321,     0.21421,     0.21522,\n",
              "           0.21622,     0.21722,     0.21822,     0.21922,     0.22022,     0.22122,     0.22222,     0.22322,     0.22422,     0.22523,     0.22623,     0.22723,     0.22823,     0.22923,     0.23023,     0.23123,     0.23223,     0.23323,     0.23423,     0.23524,     0.23624,     0.23724,     0.23824,     0.23924,\n",
              "           0.24024,     0.24124,     0.24224,     0.24324,     0.24424,     0.24525,     0.24625,     0.24725,     0.24825,     0.24925,     0.25025,     0.25125,     0.25225,     0.25325,     0.25425,     0.25526,     0.25626,     0.25726,     0.25826,     0.25926,     0.26026,     0.26126,     0.26226,     0.26326,\n",
              "           0.26426,     0.26527,     0.26627,     0.26727,     0.26827,     0.26927,     0.27027,     0.27127,     0.27227,     0.27327,     0.27427,     0.27528,     0.27628,     0.27728,     0.27828,     0.27928,     0.28028,     0.28128,     0.28228,     0.28328,     0.28428,     0.28529,     0.28629,     0.28729,\n",
              "           0.28829,     0.28929,     0.29029,     0.29129,     0.29229,     0.29329,     0.29429,      0.2953,      0.2963,      0.2973,      0.2983,      0.2993,      0.3003,      0.3013,      0.3023,      0.3033,      0.3043,     0.30531,     0.30631,     0.30731,     0.30831,     0.30931,     0.31031,     0.31131,\n",
              "           0.31231,     0.31331,     0.31431,     0.31532,     0.31632,     0.31732,     0.31832,     0.31932,     0.32032,     0.32132,     0.32232,     0.32332,     0.32432,     0.32533,     0.32633,     0.32733,     0.32833,     0.32933,     0.33033,     0.33133,     0.33233,     0.33333,     0.33433,     0.33534,\n",
              "           0.33634,     0.33734,     0.33834,     0.33934,     0.34034,     0.34134,     0.34234,     0.34334,     0.34434,     0.34535,     0.34635,     0.34735,     0.34835,     0.34935,     0.35035,     0.35135,     0.35235,     0.35335,     0.35435,     0.35536,     0.35636,     0.35736,     0.35836,     0.35936,\n",
              "           0.36036,     0.36136,     0.36236,     0.36336,     0.36436,     0.36537,     0.36637,     0.36737,     0.36837,     0.36937,     0.37037,     0.37137,     0.37237,     0.37337,     0.37437,     0.37538,     0.37638,     0.37738,     0.37838,     0.37938,     0.38038,     0.38138,     0.38238,     0.38338,\n",
              "           0.38438,     0.38539,     0.38639,     0.38739,     0.38839,     0.38939,     0.39039,     0.39139,     0.39239,     0.39339,     0.39439,      0.3954,      0.3964,      0.3974,      0.3984,      0.3994,      0.4004,      0.4014,      0.4024,      0.4034,      0.4044,     0.40541,     0.40641,     0.40741,\n",
              "           0.40841,     0.40941,     0.41041,     0.41141,     0.41241,     0.41341,     0.41441,     0.41542,     0.41642,     0.41742,     0.41842,     0.41942,     0.42042,     0.42142,     0.42242,     0.42342,     0.42442,     0.42543,     0.42643,     0.42743,     0.42843,     0.42943,     0.43043,     0.43143,\n",
              "           0.43243,     0.43343,     0.43443,     0.43544,     0.43644,     0.43744,     0.43844,     0.43944,     0.44044,     0.44144,     0.44244,     0.44344,     0.44444,     0.44545,     0.44645,     0.44745,     0.44845,     0.44945,     0.45045,     0.45145,     0.45245,     0.45345,     0.45445,     0.45546,\n",
              "           0.45646,     0.45746,     0.45846,     0.45946,     0.46046,     0.46146,     0.46246,     0.46346,     0.46446,     0.46547,     0.46647,     0.46747,     0.46847,     0.46947,     0.47047,     0.47147,     0.47247,     0.47347,     0.47447,     0.47548,     0.47648,     0.47748,     0.47848,     0.47948,\n",
              "           0.48048,     0.48148,     0.48248,     0.48348,     0.48448,     0.48549,     0.48649,     0.48749,     0.48849,     0.48949,     0.49049,     0.49149,     0.49249,     0.49349,     0.49449,      0.4955,      0.4965,      0.4975,      0.4985,      0.4995,      0.5005,      0.5015,      0.5025,      0.5035,\n",
              "            0.5045,     0.50551,     0.50651,     0.50751,     0.50851,     0.50951,     0.51051,     0.51151,     0.51251,     0.51351,     0.51451,     0.51552,     0.51652,     0.51752,     0.51852,     0.51952,     0.52052,     0.52152,     0.52252,     0.52352,     0.52452,     0.52553,     0.52653,     0.52753,\n",
              "           0.52853,     0.52953,     0.53053,     0.53153,     0.53253,     0.53353,     0.53453,     0.53554,     0.53654,     0.53754,     0.53854,     0.53954,     0.54054,     0.54154,     0.54254,     0.54354,     0.54454,     0.54555,     0.54655,     0.54755,     0.54855,     0.54955,     0.55055,     0.55155,\n",
              "           0.55255,     0.55355,     0.55455,     0.55556,     0.55656,     0.55756,     0.55856,     0.55956,     0.56056,     0.56156,     0.56256,     0.56356,     0.56456,     0.56557,     0.56657,     0.56757,     0.56857,     0.56957,     0.57057,     0.57157,     0.57257,     0.57357,     0.57457,     0.57558,\n",
              "           0.57658,     0.57758,     0.57858,     0.57958,     0.58058,     0.58158,     0.58258,     0.58358,     0.58458,     0.58559,     0.58659,     0.58759,     0.58859,     0.58959,     0.59059,     0.59159,     0.59259,     0.59359,     0.59459,      0.5956,      0.5966,      0.5976,      0.5986,      0.5996,\n",
              "            0.6006,      0.6016,      0.6026,      0.6036,      0.6046,     0.60561,     0.60661,     0.60761,     0.60861,     0.60961,     0.61061,     0.61161,     0.61261,     0.61361,     0.61461,     0.61562,     0.61662,     0.61762,     0.61862,     0.61962,     0.62062,     0.62162,     0.62262,     0.62362,\n",
              "           0.62462,     0.62563,     0.62663,     0.62763,     0.62863,     0.62963,     0.63063,     0.63163,     0.63263,     0.63363,     0.63463,     0.63564,     0.63664,     0.63764,     0.63864,     0.63964,     0.64064,     0.64164,     0.64264,     0.64364,     0.64464,     0.64565,     0.64665,     0.64765,\n",
              "           0.64865,     0.64965,     0.65065,     0.65165,     0.65265,     0.65365,     0.65465,     0.65566,     0.65666,     0.65766,     0.65866,     0.65966,     0.66066,     0.66166,     0.66266,     0.66366,     0.66466,     0.66567,     0.66667,     0.66767,     0.66867,     0.66967,     0.67067,     0.67167,\n",
              "           0.67267,     0.67367,     0.67467,     0.67568,     0.67668,     0.67768,     0.67868,     0.67968,     0.68068,     0.68168,     0.68268,     0.68368,     0.68468,     0.68569,     0.68669,     0.68769,     0.68869,     0.68969,     0.69069,     0.69169,     0.69269,     0.69369,     0.69469,      0.6957,\n",
              "            0.6967,      0.6977,      0.6987,      0.6997,      0.7007,      0.7017,      0.7027,      0.7037,      0.7047,     0.70571,     0.70671,     0.70771,     0.70871,     0.70971,     0.71071,     0.71171,     0.71271,     0.71371,     0.71471,     0.71572,     0.71672,     0.71772,     0.71872,     0.71972,\n",
              "           0.72072,     0.72172,     0.72272,     0.72372,     0.72472,     0.72573,     0.72673,     0.72773,     0.72873,     0.72973,     0.73073,     0.73173,     0.73273,     0.73373,     0.73473,     0.73574,     0.73674,     0.73774,     0.73874,     0.73974,     0.74074,     0.74174,     0.74274,     0.74374,\n",
              "           0.74474,     0.74575,     0.74675,     0.74775,     0.74875,     0.74975,     0.75075,     0.75175,     0.75275,     0.75375,     0.75475,     0.75576,     0.75676,     0.75776,     0.75876,     0.75976,     0.76076,     0.76176,     0.76276,     0.76376,     0.76476,     0.76577,     0.76677,     0.76777,\n",
              "           0.76877,     0.76977,     0.77077,     0.77177,     0.77277,     0.77377,     0.77477,     0.77578,     0.77678,     0.77778,     0.77878,     0.77978,     0.78078,     0.78178,     0.78278,     0.78378,     0.78478,     0.78579,     0.78679,     0.78779,     0.78879,     0.78979,     0.79079,     0.79179,\n",
              "           0.79279,     0.79379,     0.79479,      0.7958,      0.7968,      0.7978,      0.7988,      0.7998,      0.8008,      0.8018,      0.8028,      0.8038,      0.8048,     0.80581,     0.80681,     0.80781,     0.80881,     0.80981,     0.81081,     0.81181,     0.81281,     0.81381,     0.81481,     0.81582,\n",
              "           0.81682,     0.81782,     0.81882,     0.81982,     0.82082,     0.82182,     0.82282,     0.82382,     0.82482,     0.82583,     0.82683,     0.82783,     0.82883,     0.82983,     0.83083,     0.83183,     0.83283,     0.83383,     0.83483,     0.83584,     0.83684,     0.83784,     0.83884,     0.83984,\n",
              "           0.84084,     0.84184,     0.84284,     0.84384,     0.84484,     0.84585,     0.84685,     0.84785,     0.84885,     0.84985,     0.85085,     0.85185,     0.85285,     0.85385,     0.85485,     0.85586,     0.85686,     0.85786,     0.85886,     0.85986,     0.86086,     0.86186,     0.86286,     0.86386,\n",
              "           0.86486,     0.86587,     0.86687,     0.86787,     0.86887,     0.86987,     0.87087,     0.87187,     0.87287,     0.87387,     0.87487,     0.87588,     0.87688,     0.87788,     0.87888,     0.87988,     0.88088,     0.88188,     0.88288,     0.88388,     0.88488,     0.88589,     0.88689,     0.88789,\n",
              "           0.88889,     0.88989,     0.89089,     0.89189,     0.89289,     0.89389,     0.89489,      0.8959,      0.8969,      0.8979,      0.8989,      0.8999,      0.9009,      0.9019,      0.9029,      0.9039,      0.9049,     0.90591,     0.90691,     0.90791,     0.90891,     0.90991,     0.91091,     0.91191,\n",
              "           0.91291,     0.91391,     0.91491,     0.91592,     0.91692,     0.91792,     0.91892,     0.91992,     0.92092,     0.92192,     0.92292,     0.92392,     0.92492,     0.92593,     0.92693,     0.92793,     0.92893,     0.92993,     0.93093,     0.93193,     0.93293,     0.93393,     0.93493,     0.93594,\n",
              "           0.93694,     0.93794,     0.93894,     0.93994,     0.94094,     0.94194,     0.94294,     0.94394,     0.94494,     0.94595,     0.94695,     0.94795,     0.94895,     0.94995,     0.95095,     0.95195,     0.95295,     0.95395,     0.95495,     0.95596,     0.95696,     0.95796,     0.95896,     0.95996,\n",
              "           0.96096,     0.96196,     0.96296,     0.96396,     0.96496,     0.96597,     0.96697,     0.96797,     0.96897,     0.96997,     0.97097,     0.97197,     0.97297,     0.97397,     0.97497,     0.97598,     0.97698,     0.97798,     0.97898,     0.97998,     0.98098,     0.98198,     0.98298,     0.98398,\n",
              "           0.98498,     0.98599,     0.98699,     0.98799,     0.98899,     0.98999,     0.99099,     0.99199,     0.99299,     0.99399,     0.99499,       0.996,       0.997,       0.998,       0.999,           1]), array([[          1,           1,           1, ...,           0,           0,           0],\n",
              "       [          1,           1,           1, ...,           0,           0,           0],\n",
              "       [          1,           1,           1, ...,           0,           0,           0],\n",
              "       ...,\n",
              "       [          1,           1,           1, ...,           0,           0,           0],\n",
              "       [          1,           1,           1, ...,           0,           0,           0],\n",
              "       [          1,           1,           1, ...,           0,           0,           0]]), 'Confidence', 'Recall']]\n",
              "fitness: np.float64(0.5500737369511363)\n",
              "keys: ['metrics/precision(B)', 'metrics/recall(B)', 'metrics/mAP50(B)', 'metrics/mAP50-95(B)']\n",
              "maps: array([    0.51154,     0.51154,       0.398,     0.74757,      0.4378,       0.199,     0.51154,      0.8955,     0.06843,      0.6965,      0.6965,       0.597,     0.59773,     0.29291])\n",
              "names: {0: 'HBL_bank', 1: 'Main_gate', 2: 'auditorium', 3: 'central_library', 4: 'clock_tower', 5: 'faculty_of_Basics_Science', 6: 'faculty_of_electrical_and_computer_science', 7: 'faculty_of_material_and_chemical_eng', 8: 'faculty_of_mechanical_eng', 9: 'hostel_11', 10: 'hostel_12', 11: 'laundry_shop', 12: 'new_academic_block', 13: 'tuck'}\n",
              "nt_per_class: array([0, 0, 1, 2, 1, 1, 0, 1, 3, 1, 1, 1, 5, 4])\n",
              "nt_per_image: array([0, 0, 1, 2, 1, 1, 0, 1, 3, 1, 1, 1, 5, 4])\n",
              "results_dict: {'metrics/precision(B)': np.float64(0.6730865306607366), 'metrics/recall(B)': np.float64(0.8075757575757575), 'metrics/mAP50(B)': np.float64(0.896876075409265), 'metrics/mAP50-95(B)': np.float64(0.5115401437891219), 'fitness': np.float64(0.5500737369511363)}\n",
              "save_dir: PosixPath('runs/detect/train')\n",
              "speed: {'preprocess': 0.27167513043541874, 'inference': 3.0709457391327777, 'loss': 0.0009682173937187104, 'postprocess': 2.1380099999977693}\n",
              "stats: {'tp': [], 'conf': [], 'pred_cls': [], 'target_cls': [], 'target_img': []}\n",
              "task: 'detect'"
            ]
          },
          "metadata": {},
          "execution_count": 9
        }
      ]
    },
    {
      "cell_type": "code",
      "source": [
        "# Validate on validation set\n",
        "metrics = model.val()\n",
        "print(metrics)\n"
      ],
      "metadata": {
        "colab": {
          "base_uri": "https://localhost:8080/"
        },
        "collapsed": true,
        "id": "MSYNuONdGK_u",
        "outputId": "3a671880-3444-4275-b044-81777c01aaa8"
      },
      "execution_count": 10,
      "outputs": [
        {
          "output_type": "stream",
          "name": "stdout",
          "text": [
            "Ultralytics 8.3.176 🚀 Python-3.11.13 torch-2.6.0+cu124 CUDA:0 (Tesla T4, 15095MiB)\n",
            "Model summary (fused): 72 layers, 11,131,002 parameters, 0 gradients, 28.5 GFLOPs\n",
            "\u001b[34m\u001b[1mval: \u001b[0mFast image access ✅ (ping: 0.0±0.0 ms, read: 1336.9±335.0 MB/s, size: 116.6 KB)\n"
          ]
        },
        {
          "output_type": "stream",
          "name": "stderr",
          "text": [
            "\u001b[34m\u001b[1mval: \u001b[0mScanning /content/dataset/valid/labels.cache... 23 images, 2 backgrounds, 0 corrupt: 100%|██████████| 23/23 [00:00<?, ?it/s]\n",
            "                 Class     Images  Instances      Box(P          R      mAP50  mAP50-95): 100%|██████████| 3/3 [00:01<00:00,  2.69it/s]\n"
          ]
        },
        {
          "output_type": "stream",
          "name": "stdout",
          "text": [
            "                   all         23         21      0.674      0.808      0.897      0.512\n",
            "            auditorium          1          1      0.458          1      0.995      0.398\n",
            "       central_library          2          2      0.903          1      0.995      0.748\n",
            "           clock_tower          1          1       0.95          1      0.995      0.438\n",
            "faculty_of_Basics_Science          1          1          1          0      0.995      0.199\n",
            "faculty_of_material_and_chemical_eng          1          1      0.811          1      0.995      0.895\n",
            "faculty_of_mechanical_eng          3          3      0.318      0.333      0.338     0.0684\n",
            "             hostel_11          1          1      0.538          1      0.995      0.697\n",
            "             hostel_12          1          1      0.802          1      0.995      0.697\n",
            "          laundry_shop          1          1      0.393          1      0.995      0.597\n",
            "    new_academic_block          5          5       0.77        0.8      0.895      0.598\n",
            "                  tuck          4          4      0.465       0.75      0.673      0.293\n",
            "Speed: 6.5ms preprocess, 23.7ms inference, 0.0ms loss, 2.9ms postprocess per image\n",
            "Results saved to \u001b[1mruns/detect/train2\u001b[0m\n",
            "ultralytics.utils.metrics.DetMetrics object with attributes:\n",
            "\n",
            "ap_class_index: array([ 2,  3,  4,  5,  7,  8,  9, 10, 11, 12, 13])\n",
            "box: ultralytics.utils.metrics.Metric object\n",
            "confusion_matrix: <ultralytics.utils.metrics.ConfusionMatrix object at 0x7bd78a959a10>\n",
            "curves: ['Precision-Recall(B)', 'F1-Confidence(B)', 'Precision-Confidence(B)', 'Recall-Confidence(B)']\n",
            "curves_results: [[array([          0,    0.001001,    0.002002,    0.003003,    0.004004,    0.005005,    0.006006,    0.007007,    0.008008,    0.009009,     0.01001,    0.011011,    0.012012,    0.013013,    0.014014,    0.015015,    0.016016,    0.017017,    0.018018,    0.019019,     0.02002,    0.021021,    0.022022,    0.023023,\n",
            "          0.024024,    0.025025,    0.026026,    0.027027,    0.028028,    0.029029,     0.03003,    0.031031,    0.032032,    0.033033,    0.034034,    0.035035,    0.036036,    0.037037,    0.038038,    0.039039,     0.04004,    0.041041,    0.042042,    0.043043,    0.044044,    0.045045,    0.046046,    0.047047,\n",
            "          0.048048,    0.049049,     0.05005,    0.051051,    0.052052,    0.053053,    0.054054,    0.055055,    0.056056,    0.057057,    0.058058,    0.059059,     0.06006,    0.061061,    0.062062,    0.063063,    0.064064,    0.065065,    0.066066,    0.067067,    0.068068,    0.069069,     0.07007,    0.071071,\n",
            "          0.072072,    0.073073,    0.074074,    0.075075,    0.076076,    0.077077,    0.078078,    0.079079,     0.08008,    0.081081,    0.082082,    0.083083,    0.084084,    0.085085,    0.086086,    0.087087,    0.088088,    0.089089,     0.09009,    0.091091,    0.092092,    0.093093,    0.094094,    0.095095,\n",
            "          0.096096,    0.097097,    0.098098,    0.099099,      0.1001,      0.1011,      0.1021,      0.1031,      0.1041,     0.10511,     0.10611,     0.10711,     0.10811,     0.10911,     0.11011,     0.11111,     0.11211,     0.11311,     0.11411,     0.11512,     0.11612,     0.11712,     0.11812,     0.11912,\n",
            "           0.12012,     0.12112,     0.12212,     0.12312,     0.12412,     0.12513,     0.12613,     0.12713,     0.12813,     0.12913,     0.13013,     0.13113,     0.13213,     0.13313,     0.13413,     0.13514,     0.13614,     0.13714,     0.13814,     0.13914,     0.14014,     0.14114,     0.14214,     0.14314,\n",
            "           0.14414,     0.14515,     0.14615,     0.14715,     0.14815,     0.14915,     0.15015,     0.15115,     0.15215,     0.15315,     0.15415,     0.15516,     0.15616,     0.15716,     0.15816,     0.15916,     0.16016,     0.16116,     0.16216,     0.16316,     0.16416,     0.16517,     0.16617,     0.16717,\n",
            "           0.16817,     0.16917,     0.17017,     0.17117,     0.17217,     0.17317,     0.17417,     0.17518,     0.17618,     0.17718,     0.17818,     0.17918,     0.18018,     0.18118,     0.18218,     0.18318,     0.18418,     0.18519,     0.18619,     0.18719,     0.18819,     0.18919,     0.19019,     0.19119,\n",
            "           0.19219,     0.19319,     0.19419,      0.1952,      0.1962,      0.1972,      0.1982,      0.1992,      0.2002,      0.2012,      0.2022,      0.2032,      0.2042,     0.20521,     0.20621,     0.20721,     0.20821,     0.20921,     0.21021,     0.21121,     0.21221,     0.21321,     0.21421,     0.21522,\n",
            "           0.21622,     0.21722,     0.21822,     0.21922,     0.22022,     0.22122,     0.22222,     0.22322,     0.22422,     0.22523,     0.22623,     0.22723,     0.22823,     0.22923,     0.23023,     0.23123,     0.23223,     0.23323,     0.23423,     0.23524,     0.23624,     0.23724,     0.23824,     0.23924,\n",
            "           0.24024,     0.24124,     0.24224,     0.24324,     0.24424,     0.24525,     0.24625,     0.24725,     0.24825,     0.24925,     0.25025,     0.25125,     0.25225,     0.25325,     0.25425,     0.25526,     0.25626,     0.25726,     0.25826,     0.25926,     0.26026,     0.26126,     0.26226,     0.26326,\n",
            "           0.26426,     0.26527,     0.26627,     0.26727,     0.26827,     0.26927,     0.27027,     0.27127,     0.27227,     0.27327,     0.27427,     0.27528,     0.27628,     0.27728,     0.27828,     0.27928,     0.28028,     0.28128,     0.28228,     0.28328,     0.28428,     0.28529,     0.28629,     0.28729,\n",
            "           0.28829,     0.28929,     0.29029,     0.29129,     0.29229,     0.29329,     0.29429,      0.2953,      0.2963,      0.2973,      0.2983,      0.2993,      0.3003,      0.3013,      0.3023,      0.3033,      0.3043,     0.30531,     0.30631,     0.30731,     0.30831,     0.30931,     0.31031,     0.31131,\n",
            "           0.31231,     0.31331,     0.31431,     0.31532,     0.31632,     0.31732,     0.31832,     0.31932,     0.32032,     0.32132,     0.32232,     0.32332,     0.32432,     0.32533,     0.32633,     0.32733,     0.32833,     0.32933,     0.33033,     0.33133,     0.33233,     0.33333,     0.33433,     0.33534,\n",
            "           0.33634,     0.33734,     0.33834,     0.33934,     0.34034,     0.34134,     0.34234,     0.34334,     0.34434,     0.34535,     0.34635,     0.34735,     0.34835,     0.34935,     0.35035,     0.35135,     0.35235,     0.35335,     0.35435,     0.35536,     0.35636,     0.35736,     0.35836,     0.35936,\n",
            "           0.36036,     0.36136,     0.36236,     0.36336,     0.36436,     0.36537,     0.36637,     0.36737,     0.36837,     0.36937,     0.37037,     0.37137,     0.37237,     0.37337,     0.37437,     0.37538,     0.37638,     0.37738,     0.37838,     0.37938,     0.38038,     0.38138,     0.38238,     0.38338,\n",
            "           0.38438,     0.38539,     0.38639,     0.38739,     0.38839,     0.38939,     0.39039,     0.39139,     0.39239,     0.39339,     0.39439,      0.3954,      0.3964,      0.3974,      0.3984,      0.3994,      0.4004,      0.4014,      0.4024,      0.4034,      0.4044,     0.40541,     0.40641,     0.40741,\n",
            "           0.40841,     0.40941,     0.41041,     0.41141,     0.41241,     0.41341,     0.41441,     0.41542,     0.41642,     0.41742,     0.41842,     0.41942,     0.42042,     0.42142,     0.42242,     0.42342,     0.42442,     0.42543,     0.42643,     0.42743,     0.42843,     0.42943,     0.43043,     0.43143,\n",
            "           0.43243,     0.43343,     0.43443,     0.43544,     0.43644,     0.43744,     0.43844,     0.43944,     0.44044,     0.44144,     0.44244,     0.44344,     0.44444,     0.44545,     0.44645,     0.44745,     0.44845,     0.44945,     0.45045,     0.45145,     0.45245,     0.45345,     0.45445,     0.45546,\n",
            "           0.45646,     0.45746,     0.45846,     0.45946,     0.46046,     0.46146,     0.46246,     0.46346,     0.46446,     0.46547,     0.46647,     0.46747,     0.46847,     0.46947,     0.47047,     0.47147,     0.47247,     0.47347,     0.47447,     0.47548,     0.47648,     0.47748,     0.47848,     0.47948,\n",
            "           0.48048,     0.48148,     0.48248,     0.48348,     0.48448,     0.48549,     0.48649,     0.48749,     0.48849,     0.48949,     0.49049,     0.49149,     0.49249,     0.49349,     0.49449,      0.4955,      0.4965,      0.4975,      0.4985,      0.4995,      0.5005,      0.5015,      0.5025,      0.5035,\n",
            "            0.5045,     0.50551,     0.50651,     0.50751,     0.50851,     0.50951,     0.51051,     0.51151,     0.51251,     0.51351,     0.51451,     0.51552,     0.51652,     0.51752,     0.51852,     0.51952,     0.52052,     0.52152,     0.52252,     0.52352,     0.52452,     0.52553,     0.52653,     0.52753,\n",
            "           0.52853,     0.52953,     0.53053,     0.53153,     0.53253,     0.53353,     0.53453,     0.53554,     0.53654,     0.53754,     0.53854,     0.53954,     0.54054,     0.54154,     0.54254,     0.54354,     0.54454,     0.54555,     0.54655,     0.54755,     0.54855,     0.54955,     0.55055,     0.55155,\n",
            "           0.55255,     0.55355,     0.55455,     0.55556,     0.55656,     0.55756,     0.55856,     0.55956,     0.56056,     0.56156,     0.56256,     0.56356,     0.56456,     0.56557,     0.56657,     0.56757,     0.56857,     0.56957,     0.57057,     0.57157,     0.57257,     0.57357,     0.57457,     0.57558,\n",
            "           0.57658,     0.57758,     0.57858,     0.57958,     0.58058,     0.58158,     0.58258,     0.58358,     0.58458,     0.58559,     0.58659,     0.58759,     0.58859,     0.58959,     0.59059,     0.59159,     0.59259,     0.59359,     0.59459,      0.5956,      0.5966,      0.5976,      0.5986,      0.5996,\n",
            "            0.6006,      0.6016,      0.6026,      0.6036,      0.6046,     0.60561,     0.60661,     0.60761,     0.60861,     0.60961,     0.61061,     0.61161,     0.61261,     0.61361,     0.61461,     0.61562,     0.61662,     0.61762,     0.61862,     0.61962,     0.62062,     0.62162,     0.62262,     0.62362,\n",
            "           0.62462,     0.62563,     0.62663,     0.62763,     0.62863,     0.62963,     0.63063,     0.63163,     0.63263,     0.63363,     0.63463,     0.63564,     0.63664,     0.63764,     0.63864,     0.63964,     0.64064,     0.64164,     0.64264,     0.64364,     0.64464,     0.64565,     0.64665,     0.64765,\n",
            "           0.64865,     0.64965,     0.65065,     0.65165,     0.65265,     0.65365,     0.65465,     0.65566,     0.65666,     0.65766,     0.65866,     0.65966,     0.66066,     0.66166,     0.66266,     0.66366,     0.66466,     0.66567,     0.66667,     0.66767,     0.66867,     0.66967,     0.67067,     0.67167,\n",
            "           0.67267,     0.67367,     0.67467,     0.67568,     0.67668,     0.67768,     0.67868,     0.67968,     0.68068,     0.68168,     0.68268,     0.68368,     0.68468,     0.68569,     0.68669,     0.68769,     0.68869,     0.68969,     0.69069,     0.69169,     0.69269,     0.69369,     0.69469,      0.6957,\n",
            "            0.6967,      0.6977,      0.6987,      0.6997,      0.7007,      0.7017,      0.7027,      0.7037,      0.7047,     0.70571,     0.70671,     0.70771,     0.70871,     0.70971,     0.71071,     0.71171,     0.71271,     0.71371,     0.71471,     0.71572,     0.71672,     0.71772,     0.71872,     0.71972,\n",
            "           0.72072,     0.72172,     0.72272,     0.72372,     0.72472,     0.72573,     0.72673,     0.72773,     0.72873,     0.72973,     0.73073,     0.73173,     0.73273,     0.73373,     0.73473,     0.73574,     0.73674,     0.73774,     0.73874,     0.73974,     0.74074,     0.74174,     0.74274,     0.74374,\n",
            "           0.74474,     0.74575,     0.74675,     0.74775,     0.74875,     0.74975,     0.75075,     0.75175,     0.75275,     0.75375,     0.75475,     0.75576,     0.75676,     0.75776,     0.75876,     0.75976,     0.76076,     0.76176,     0.76276,     0.76376,     0.76476,     0.76577,     0.76677,     0.76777,\n",
            "           0.76877,     0.76977,     0.77077,     0.77177,     0.77277,     0.77377,     0.77477,     0.77578,     0.77678,     0.77778,     0.77878,     0.77978,     0.78078,     0.78178,     0.78278,     0.78378,     0.78478,     0.78579,     0.78679,     0.78779,     0.78879,     0.78979,     0.79079,     0.79179,\n",
            "           0.79279,     0.79379,     0.79479,      0.7958,      0.7968,      0.7978,      0.7988,      0.7998,      0.8008,      0.8018,      0.8028,      0.8038,      0.8048,     0.80581,     0.80681,     0.80781,     0.80881,     0.80981,     0.81081,     0.81181,     0.81281,     0.81381,     0.81481,     0.81582,\n",
            "           0.81682,     0.81782,     0.81882,     0.81982,     0.82082,     0.82182,     0.82282,     0.82382,     0.82482,     0.82583,     0.82683,     0.82783,     0.82883,     0.82983,     0.83083,     0.83183,     0.83283,     0.83383,     0.83483,     0.83584,     0.83684,     0.83784,     0.83884,     0.83984,\n",
            "           0.84084,     0.84184,     0.84284,     0.84384,     0.84484,     0.84585,     0.84685,     0.84785,     0.84885,     0.84985,     0.85085,     0.85185,     0.85285,     0.85385,     0.85485,     0.85586,     0.85686,     0.85786,     0.85886,     0.85986,     0.86086,     0.86186,     0.86286,     0.86386,\n",
            "           0.86486,     0.86587,     0.86687,     0.86787,     0.86887,     0.86987,     0.87087,     0.87187,     0.87287,     0.87387,     0.87487,     0.87588,     0.87688,     0.87788,     0.87888,     0.87988,     0.88088,     0.88188,     0.88288,     0.88388,     0.88488,     0.88589,     0.88689,     0.88789,\n",
            "           0.88889,     0.88989,     0.89089,     0.89189,     0.89289,     0.89389,     0.89489,      0.8959,      0.8969,      0.8979,      0.8989,      0.8999,      0.9009,      0.9019,      0.9029,      0.9039,      0.9049,     0.90591,     0.90691,     0.90791,     0.90891,     0.90991,     0.91091,     0.91191,\n",
            "           0.91291,     0.91391,     0.91491,     0.91592,     0.91692,     0.91792,     0.91892,     0.91992,     0.92092,     0.92192,     0.92292,     0.92392,     0.92492,     0.92593,     0.92693,     0.92793,     0.92893,     0.92993,     0.93093,     0.93193,     0.93293,     0.93393,     0.93493,     0.93594,\n",
            "           0.93694,     0.93794,     0.93894,     0.93994,     0.94094,     0.94194,     0.94294,     0.94394,     0.94494,     0.94595,     0.94695,     0.94795,     0.94895,     0.94995,     0.95095,     0.95195,     0.95295,     0.95395,     0.95495,     0.95596,     0.95696,     0.95796,     0.95896,     0.95996,\n",
            "           0.96096,     0.96196,     0.96296,     0.96396,     0.96496,     0.96597,     0.96697,     0.96797,     0.96897,     0.96997,     0.97097,     0.97197,     0.97297,     0.97397,     0.97497,     0.97598,     0.97698,     0.97798,     0.97898,     0.97998,     0.98098,     0.98198,     0.98298,     0.98398,\n",
            "           0.98498,     0.98599,     0.98699,     0.98799,     0.98899,     0.98999,     0.99099,     0.99199,     0.99299,     0.99399,     0.99499,       0.996,       0.997,       0.998,       0.999,           1]), array([[          1,           1,           1, ...,           1,           1,           0],\n",
            "       [          1,           1,           1, ...,           1,           1,           0],\n",
            "       [          1,           1,           1, ...,           1,           1,           0],\n",
            "       ...,\n",
            "       [          1,           1,           1, ...,           1,           1,           0],\n",
            "       [          1,           1,           1, ...,         0.5,         0.5,           0],\n",
            "       [          1,           1,           1, ...,     0.44444,     0.44444,           0]]), 'Recall', 'Precision'], [array([          0,    0.001001,    0.002002,    0.003003,    0.004004,    0.005005,    0.006006,    0.007007,    0.008008,    0.009009,     0.01001,    0.011011,    0.012012,    0.013013,    0.014014,    0.015015,    0.016016,    0.017017,    0.018018,    0.019019,     0.02002,    0.021021,    0.022022,    0.023023,\n",
            "          0.024024,    0.025025,    0.026026,    0.027027,    0.028028,    0.029029,     0.03003,    0.031031,    0.032032,    0.033033,    0.034034,    0.035035,    0.036036,    0.037037,    0.038038,    0.039039,     0.04004,    0.041041,    0.042042,    0.043043,    0.044044,    0.045045,    0.046046,    0.047047,\n",
            "          0.048048,    0.049049,     0.05005,    0.051051,    0.052052,    0.053053,    0.054054,    0.055055,    0.056056,    0.057057,    0.058058,    0.059059,     0.06006,    0.061061,    0.062062,    0.063063,    0.064064,    0.065065,    0.066066,    0.067067,    0.068068,    0.069069,     0.07007,    0.071071,\n",
            "          0.072072,    0.073073,    0.074074,    0.075075,    0.076076,    0.077077,    0.078078,    0.079079,     0.08008,    0.081081,    0.082082,    0.083083,    0.084084,    0.085085,    0.086086,    0.087087,    0.088088,    0.089089,     0.09009,    0.091091,    0.092092,    0.093093,    0.094094,    0.095095,\n",
            "          0.096096,    0.097097,    0.098098,    0.099099,      0.1001,      0.1011,      0.1021,      0.1031,      0.1041,     0.10511,     0.10611,     0.10711,     0.10811,     0.10911,     0.11011,     0.11111,     0.11211,     0.11311,     0.11411,     0.11512,     0.11612,     0.11712,     0.11812,     0.11912,\n",
            "           0.12012,     0.12112,     0.12212,     0.12312,     0.12412,     0.12513,     0.12613,     0.12713,     0.12813,     0.12913,     0.13013,     0.13113,     0.13213,     0.13313,     0.13413,     0.13514,     0.13614,     0.13714,     0.13814,     0.13914,     0.14014,     0.14114,     0.14214,     0.14314,\n",
            "           0.14414,     0.14515,     0.14615,     0.14715,     0.14815,     0.14915,     0.15015,     0.15115,     0.15215,     0.15315,     0.15415,     0.15516,     0.15616,     0.15716,     0.15816,     0.15916,     0.16016,     0.16116,     0.16216,     0.16316,     0.16416,     0.16517,     0.16617,     0.16717,\n",
            "           0.16817,     0.16917,     0.17017,     0.17117,     0.17217,     0.17317,     0.17417,     0.17518,     0.17618,     0.17718,     0.17818,     0.17918,     0.18018,     0.18118,     0.18218,     0.18318,     0.18418,     0.18519,     0.18619,     0.18719,     0.18819,     0.18919,     0.19019,     0.19119,\n",
            "           0.19219,     0.19319,     0.19419,      0.1952,      0.1962,      0.1972,      0.1982,      0.1992,      0.2002,      0.2012,      0.2022,      0.2032,      0.2042,     0.20521,     0.20621,     0.20721,     0.20821,     0.20921,     0.21021,     0.21121,     0.21221,     0.21321,     0.21421,     0.21522,\n",
            "           0.21622,     0.21722,     0.21822,     0.21922,     0.22022,     0.22122,     0.22222,     0.22322,     0.22422,     0.22523,     0.22623,     0.22723,     0.22823,     0.22923,     0.23023,     0.23123,     0.23223,     0.23323,     0.23423,     0.23524,     0.23624,     0.23724,     0.23824,     0.23924,\n",
            "           0.24024,     0.24124,     0.24224,     0.24324,     0.24424,     0.24525,     0.24625,     0.24725,     0.24825,     0.24925,     0.25025,     0.25125,     0.25225,     0.25325,     0.25425,     0.25526,     0.25626,     0.25726,     0.25826,     0.25926,     0.26026,     0.26126,     0.26226,     0.26326,\n",
            "           0.26426,     0.26527,     0.26627,     0.26727,     0.26827,     0.26927,     0.27027,     0.27127,     0.27227,     0.27327,     0.27427,     0.27528,     0.27628,     0.27728,     0.27828,     0.27928,     0.28028,     0.28128,     0.28228,     0.28328,     0.28428,     0.28529,     0.28629,     0.28729,\n",
            "           0.28829,     0.28929,     0.29029,     0.29129,     0.29229,     0.29329,     0.29429,      0.2953,      0.2963,      0.2973,      0.2983,      0.2993,      0.3003,      0.3013,      0.3023,      0.3033,      0.3043,     0.30531,     0.30631,     0.30731,     0.30831,     0.30931,     0.31031,     0.31131,\n",
            "           0.31231,     0.31331,     0.31431,     0.31532,     0.31632,     0.31732,     0.31832,     0.31932,     0.32032,     0.32132,     0.32232,     0.32332,     0.32432,     0.32533,     0.32633,     0.32733,     0.32833,     0.32933,     0.33033,     0.33133,     0.33233,     0.33333,     0.33433,     0.33534,\n",
            "           0.33634,     0.33734,     0.33834,     0.33934,     0.34034,     0.34134,     0.34234,     0.34334,     0.34434,     0.34535,     0.34635,     0.34735,     0.34835,     0.34935,     0.35035,     0.35135,     0.35235,     0.35335,     0.35435,     0.35536,     0.35636,     0.35736,     0.35836,     0.35936,\n",
            "           0.36036,     0.36136,     0.36236,     0.36336,     0.36436,     0.36537,     0.36637,     0.36737,     0.36837,     0.36937,     0.37037,     0.37137,     0.37237,     0.37337,     0.37437,     0.37538,     0.37638,     0.37738,     0.37838,     0.37938,     0.38038,     0.38138,     0.38238,     0.38338,\n",
            "           0.38438,     0.38539,     0.38639,     0.38739,     0.38839,     0.38939,     0.39039,     0.39139,     0.39239,     0.39339,     0.39439,      0.3954,      0.3964,      0.3974,      0.3984,      0.3994,      0.4004,      0.4014,      0.4024,      0.4034,      0.4044,     0.40541,     0.40641,     0.40741,\n",
            "           0.40841,     0.40941,     0.41041,     0.41141,     0.41241,     0.41341,     0.41441,     0.41542,     0.41642,     0.41742,     0.41842,     0.41942,     0.42042,     0.42142,     0.42242,     0.42342,     0.42442,     0.42543,     0.42643,     0.42743,     0.42843,     0.42943,     0.43043,     0.43143,\n",
            "           0.43243,     0.43343,     0.43443,     0.43544,     0.43644,     0.43744,     0.43844,     0.43944,     0.44044,     0.44144,     0.44244,     0.44344,     0.44444,     0.44545,     0.44645,     0.44745,     0.44845,     0.44945,     0.45045,     0.45145,     0.45245,     0.45345,     0.45445,     0.45546,\n",
            "           0.45646,     0.45746,     0.45846,     0.45946,     0.46046,     0.46146,     0.46246,     0.46346,     0.46446,     0.46547,     0.46647,     0.46747,     0.46847,     0.46947,     0.47047,     0.47147,     0.47247,     0.47347,     0.47447,     0.47548,     0.47648,     0.47748,     0.47848,     0.47948,\n",
            "           0.48048,     0.48148,     0.48248,     0.48348,     0.48448,     0.48549,     0.48649,     0.48749,     0.48849,     0.48949,     0.49049,     0.49149,     0.49249,     0.49349,     0.49449,      0.4955,      0.4965,      0.4975,      0.4985,      0.4995,      0.5005,      0.5015,      0.5025,      0.5035,\n",
            "            0.5045,     0.50551,     0.50651,     0.50751,     0.50851,     0.50951,     0.51051,     0.51151,     0.51251,     0.51351,     0.51451,     0.51552,     0.51652,     0.51752,     0.51852,     0.51952,     0.52052,     0.52152,     0.52252,     0.52352,     0.52452,     0.52553,     0.52653,     0.52753,\n",
            "           0.52853,     0.52953,     0.53053,     0.53153,     0.53253,     0.53353,     0.53453,     0.53554,     0.53654,     0.53754,     0.53854,     0.53954,     0.54054,     0.54154,     0.54254,     0.54354,     0.54454,     0.54555,     0.54655,     0.54755,     0.54855,     0.54955,     0.55055,     0.55155,\n",
            "           0.55255,     0.55355,     0.55455,     0.55556,     0.55656,     0.55756,     0.55856,     0.55956,     0.56056,     0.56156,     0.56256,     0.56356,     0.56456,     0.56557,     0.56657,     0.56757,     0.56857,     0.56957,     0.57057,     0.57157,     0.57257,     0.57357,     0.57457,     0.57558,\n",
            "           0.57658,     0.57758,     0.57858,     0.57958,     0.58058,     0.58158,     0.58258,     0.58358,     0.58458,     0.58559,     0.58659,     0.58759,     0.58859,     0.58959,     0.59059,     0.59159,     0.59259,     0.59359,     0.59459,      0.5956,      0.5966,      0.5976,      0.5986,      0.5996,\n",
            "            0.6006,      0.6016,      0.6026,      0.6036,      0.6046,     0.60561,     0.60661,     0.60761,     0.60861,     0.60961,     0.61061,     0.61161,     0.61261,     0.61361,     0.61461,     0.61562,     0.61662,     0.61762,     0.61862,     0.61962,     0.62062,     0.62162,     0.62262,     0.62362,\n",
            "           0.62462,     0.62563,     0.62663,     0.62763,     0.62863,     0.62963,     0.63063,     0.63163,     0.63263,     0.63363,     0.63463,     0.63564,     0.63664,     0.63764,     0.63864,     0.63964,     0.64064,     0.64164,     0.64264,     0.64364,     0.64464,     0.64565,     0.64665,     0.64765,\n",
            "           0.64865,     0.64965,     0.65065,     0.65165,     0.65265,     0.65365,     0.65465,     0.65566,     0.65666,     0.65766,     0.65866,     0.65966,     0.66066,     0.66166,     0.66266,     0.66366,     0.66466,     0.66567,     0.66667,     0.66767,     0.66867,     0.66967,     0.67067,     0.67167,\n",
            "           0.67267,     0.67367,     0.67467,     0.67568,     0.67668,     0.67768,     0.67868,     0.67968,     0.68068,     0.68168,     0.68268,     0.68368,     0.68468,     0.68569,     0.68669,     0.68769,     0.68869,     0.68969,     0.69069,     0.69169,     0.69269,     0.69369,     0.69469,      0.6957,\n",
            "            0.6967,      0.6977,      0.6987,      0.6997,      0.7007,      0.7017,      0.7027,      0.7037,      0.7047,     0.70571,     0.70671,     0.70771,     0.70871,     0.70971,     0.71071,     0.71171,     0.71271,     0.71371,     0.71471,     0.71572,     0.71672,     0.71772,     0.71872,     0.71972,\n",
            "           0.72072,     0.72172,     0.72272,     0.72372,     0.72472,     0.72573,     0.72673,     0.72773,     0.72873,     0.72973,     0.73073,     0.73173,     0.73273,     0.73373,     0.73473,     0.73574,     0.73674,     0.73774,     0.73874,     0.73974,     0.74074,     0.74174,     0.74274,     0.74374,\n",
            "           0.74474,     0.74575,     0.74675,     0.74775,     0.74875,     0.74975,     0.75075,     0.75175,     0.75275,     0.75375,     0.75475,     0.75576,     0.75676,     0.75776,     0.75876,     0.75976,     0.76076,     0.76176,     0.76276,     0.76376,     0.76476,     0.76577,     0.76677,     0.76777,\n",
            "           0.76877,     0.76977,     0.77077,     0.77177,     0.77277,     0.77377,     0.77477,     0.77578,     0.77678,     0.77778,     0.77878,     0.77978,     0.78078,     0.78178,     0.78278,     0.78378,     0.78478,     0.78579,     0.78679,     0.78779,     0.78879,     0.78979,     0.79079,     0.79179,\n",
            "           0.79279,     0.79379,     0.79479,      0.7958,      0.7968,      0.7978,      0.7988,      0.7998,      0.8008,      0.8018,      0.8028,      0.8038,      0.8048,     0.80581,     0.80681,     0.80781,     0.80881,     0.80981,     0.81081,     0.81181,     0.81281,     0.81381,     0.81481,     0.81582,\n",
            "           0.81682,     0.81782,     0.81882,     0.81982,     0.82082,     0.82182,     0.82282,     0.82382,     0.82482,     0.82583,     0.82683,     0.82783,     0.82883,     0.82983,     0.83083,     0.83183,     0.83283,     0.83383,     0.83483,     0.83584,     0.83684,     0.83784,     0.83884,     0.83984,\n",
            "           0.84084,     0.84184,     0.84284,     0.84384,     0.84484,     0.84585,     0.84685,     0.84785,     0.84885,     0.84985,     0.85085,     0.85185,     0.85285,     0.85385,     0.85485,     0.85586,     0.85686,     0.85786,     0.85886,     0.85986,     0.86086,     0.86186,     0.86286,     0.86386,\n",
            "           0.86486,     0.86587,     0.86687,     0.86787,     0.86887,     0.86987,     0.87087,     0.87187,     0.87287,     0.87387,     0.87487,     0.87588,     0.87688,     0.87788,     0.87888,     0.87988,     0.88088,     0.88188,     0.88288,     0.88388,     0.88488,     0.88589,     0.88689,     0.88789,\n",
            "           0.88889,     0.88989,     0.89089,     0.89189,     0.89289,     0.89389,     0.89489,      0.8959,      0.8969,      0.8979,      0.8989,      0.8999,      0.9009,      0.9019,      0.9029,      0.9039,      0.9049,     0.90591,     0.90691,     0.90791,     0.90891,     0.90991,     0.91091,     0.91191,\n",
            "           0.91291,     0.91391,     0.91491,     0.91592,     0.91692,     0.91792,     0.91892,     0.91992,     0.92092,     0.92192,     0.92292,     0.92392,     0.92492,     0.92593,     0.92693,     0.92793,     0.92893,     0.92993,     0.93093,     0.93193,     0.93293,     0.93393,     0.93493,     0.93594,\n",
            "           0.93694,     0.93794,     0.93894,     0.93994,     0.94094,     0.94194,     0.94294,     0.94394,     0.94494,     0.94595,     0.94695,     0.94795,     0.94895,     0.94995,     0.95095,     0.95195,     0.95295,     0.95395,     0.95495,     0.95596,     0.95696,     0.95796,     0.95896,     0.95996,\n",
            "           0.96096,     0.96196,     0.96296,     0.96396,     0.96496,     0.96597,     0.96697,     0.96797,     0.96897,     0.96997,     0.97097,     0.97197,     0.97297,     0.97397,     0.97497,     0.97598,     0.97698,     0.97798,     0.97898,     0.97998,     0.98098,     0.98198,     0.98298,     0.98398,\n",
            "           0.98498,     0.98599,     0.98699,     0.98799,     0.98899,     0.98999,     0.99099,     0.99199,     0.99299,     0.99399,     0.99499,       0.996,       0.997,       0.998,       0.999,           1]), array([[     0.0625,      0.0625,    0.099552, ...,           0,           0,           0],\n",
            "       [    0.10256,     0.10256,     0.21192, ...,           0,           0,           0],\n",
            "       [   0.047619,    0.047619,    0.081444, ...,           0,           0,           0],\n",
            "       ...,\n",
            "       [   0.052632,    0.052632,    0.072648, ...,           0,           0,           0],\n",
            "       [   0.064935,    0.064935,     0.22054, ...,           0,           0,           0],\n",
            "       [   0.020619,    0.020619,    0.090172, ...,           0,           0,           0]]), 'Confidence', 'F1'], [array([          0,    0.001001,    0.002002,    0.003003,    0.004004,    0.005005,    0.006006,    0.007007,    0.008008,    0.009009,     0.01001,    0.011011,    0.012012,    0.013013,    0.014014,    0.015015,    0.016016,    0.017017,    0.018018,    0.019019,     0.02002,    0.021021,    0.022022,    0.023023,\n",
            "          0.024024,    0.025025,    0.026026,    0.027027,    0.028028,    0.029029,     0.03003,    0.031031,    0.032032,    0.033033,    0.034034,    0.035035,    0.036036,    0.037037,    0.038038,    0.039039,     0.04004,    0.041041,    0.042042,    0.043043,    0.044044,    0.045045,    0.046046,    0.047047,\n",
            "          0.048048,    0.049049,     0.05005,    0.051051,    0.052052,    0.053053,    0.054054,    0.055055,    0.056056,    0.057057,    0.058058,    0.059059,     0.06006,    0.061061,    0.062062,    0.063063,    0.064064,    0.065065,    0.066066,    0.067067,    0.068068,    0.069069,     0.07007,    0.071071,\n",
            "          0.072072,    0.073073,    0.074074,    0.075075,    0.076076,    0.077077,    0.078078,    0.079079,     0.08008,    0.081081,    0.082082,    0.083083,    0.084084,    0.085085,    0.086086,    0.087087,    0.088088,    0.089089,     0.09009,    0.091091,    0.092092,    0.093093,    0.094094,    0.095095,\n",
            "          0.096096,    0.097097,    0.098098,    0.099099,      0.1001,      0.1011,      0.1021,      0.1031,      0.1041,     0.10511,     0.10611,     0.10711,     0.10811,     0.10911,     0.11011,     0.11111,     0.11211,     0.11311,     0.11411,     0.11512,     0.11612,     0.11712,     0.11812,     0.11912,\n",
            "           0.12012,     0.12112,     0.12212,     0.12312,     0.12412,     0.12513,     0.12613,     0.12713,     0.12813,     0.12913,     0.13013,     0.13113,     0.13213,     0.13313,     0.13413,     0.13514,     0.13614,     0.13714,     0.13814,     0.13914,     0.14014,     0.14114,     0.14214,     0.14314,\n",
            "           0.14414,     0.14515,     0.14615,     0.14715,     0.14815,     0.14915,     0.15015,     0.15115,     0.15215,     0.15315,     0.15415,     0.15516,     0.15616,     0.15716,     0.15816,     0.15916,     0.16016,     0.16116,     0.16216,     0.16316,     0.16416,     0.16517,     0.16617,     0.16717,\n",
            "           0.16817,     0.16917,     0.17017,     0.17117,     0.17217,     0.17317,     0.17417,     0.17518,     0.17618,     0.17718,     0.17818,     0.17918,     0.18018,     0.18118,     0.18218,     0.18318,     0.18418,     0.18519,     0.18619,     0.18719,     0.18819,     0.18919,     0.19019,     0.19119,\n",
            "           0.19219,     0.19319,     0.19419,      0.1952,      0.1962,      0.1972,      0.1982,      0.1992,      0.2002,      0.2012,      0.2022,      0.2032,      0.2042,     0.20521,     0.20621,     0.20721,     0.20821,     0.20921,     0.21021,     0.21121,     0.21221,     0.21321,     0.21421,     0.21522,\n",
            "           0.21622,     0.21722,     0.21822,     0.21922,     0.22022,     0.22122,     0.22222,     0.22322,     0.22422,     0.22523,     0.22623,     0.22723,     0.22823,     0.22923,     0.23023,     0.23123,     0.23223,     0.23323,     0.23423,     0.23524,     0.23624,     0.23724,     0.23824,     0.23924,\n",
            "           0.24024,     0.24124,     0.24224,     0.24324,     0.24424,     0.24525,     0.24625,     0.24725,     0.24825,     0.24925,     0.25025,     0.25125,     0.25225,     0.25325,     0.25425,     0.25526,     0.25626,     0.25726,     0.25826,     0.25926,     0.26026,     0.26126,     0.26226,     0.26326,\n",
            "           0.26426,     0.26527,     0.26627,     0.26727,     0.26827,     0.26927,     0.27027,     0.27127,     0.27227,     0.27327,     0.27427,     0.27528,     0.27628,     0.27728,     0.27828,     0.27928,     0.28028,     0.28128,     0.28228,     0.28328,     0.28428,     0.28529,     0.28629,     0.28729,\n",
            "           0.28829,     0.28929,     0.29029,     0.29129,     0.29229,     0.29329,     0.29429,      0.2953,      0.2963,      0.2973,      0.2983,      0.2993,      0.3003,      0.3013,      0.3023,      0.3033,      0.3043,     0.30531,     0.30631,     0.30731,     0.30831,     0.30931,     0.31031,     0.31131,\n",
            "           0.31231,     0.31331,     0.31431,     0.31532,     0.31632,     0.31732,     0.31832,     0.31932,     0.32032,     0.32132,     0.32232,     0.32332,     0.32432,     0.32533,     0.32633,     0.32733,     0.32833,     0.32933,     0.33033,     0.33133,     0.33233,     0.33333,     0.33433,     0.33534,\n",
            "           0.33634,     0.33734,     0.33834,     0.33934,     0.34034,     0.34134,     0.34234,     0.34334,     0.34434,     0.34535,     0.34635,     0.34735,     0.34835,     0.34935,     0.35035,     0.35135,     0.35235,     0.35335,     0.35435,     0.35536,     0.35636,     0.35736,     0.35836,     0.35936,\n",
            "           0.36036,     0.36136,     0.36236,     0.36336,     0.36436,     0.36537,     0.36637,     0.36737,     0.36837,     0.36937,     0.37037,     0.37137,     0.37237,     0.37337,     0.37437,     0.37538,     0.37638,     0.37738,     0.37838,     0.37938,     0.38038,     0.38138,     0.38238,     0.38338,\n",
            "           0.38438,     0.38539,     0.38639,     0.38739,     0.38839,     0.38939,     0.39039,     0.39139,     0.39239,     0.39339,     0.39439,      0.3954,      0.3964,      0.3974,      0.3984,      0.3994,      0.4004,      0.4014,      0.4024,      0.4034,      0.4044,     0.40541,     0.40641,     0.40741,\n",
            "           0.40841,     0.40941,     0.41041,     0.41141,     0.41241,     0.41341,     0.41441,     0.41542,     0.41642,     0.41742,     0.41842,     0.41942,     0.42042,     0.42142,     0.42242,     0.42342,     0.42442,     0.42543,     0.42643,     0.42743,     0.42843,     0.42943,     0.43043,     0.43143,\n",
            "           0.43243,     0.43343,     0.43443,     0.43544,     0.43644,     0.43744,     0.43844,     0.43944,     0.44044,     0.44144,     0.44244,     0.44344,     0.44444,     0.44545,     0.44645,     0.44745,     0.44845,     0.44945,     0.45045,     0.45145,     0.45245,     0.45345,     0.45445,     0.45546,\n",
            "           0.45646,     0.45746,     0.45846,     0.45946,     0.46046,     0.46146,     0.46246,     0.46346,     0.46446,     0.46547,     0.46647,     0.46747,     0.46847,     0.46947,     0.47047,     0.47147,     0.47247,     0.47347,     0.47447,     0.47548,     0.47648,     0.47748,     0.47848,     0.47948,\n",
            "           0.48048,     0.48148,     0.48248,     0.48348,     0.48448,     0.48549,     0.48649,     0.48749,     0.48849,     0.48949,     0.49049,     0.49149,     0.49249,     0.49349,     0.49449,      0.4955,      0.4965,      0.4975,      0.4985,      0.4995,      0.5005,      0.5015,      0.5025,      0.5035,\n",
            "            0.5045,     0.50551,     0.50651,     0.50751,     0.50851,     0.50951,     0.51051,     0.51151,     0.51251,     0.51351,     0.51451,     0.51552,     0.51652,     0.51752,     0.51852,     0.51952,     0.52052,     0.52152,     0.52252,     0.52352,     0.52452,     0.52553,     0.52653,     0.52753,\n",
            "           0.52853,     0.52953,     0.53053,     0.53153,     0.53253,     0.53353,     0.53453,     0.53554,     0.53654,     0.53754,     0.53854,     0.53954,     0.54054,     0.54154,     0.54254,     0.54354,     0.54454,     0.54555,     0.54655,     0.54755,     0.54855,     0.54955,     0.55055,     0.55155,\n",
            "           0.55255,     0.55355,     0.55455,     0.55556,     0.55656,     0.55756,     0.55856,     0.55956,     0.56056,     0.56156,     0.56256,     0.56356,     0.56456,     0.56557,     0.56657,     0.56757,     0.56857,     0.56957,     0.57057,     0.57157,     0.57257,     0.57357,     0.57457,     0.57558,\n",
            "           0.57658,     0.57758,     0.57858,     0.57958,     0.58058,     0.58158,     0.58258,     0.58358,     0.58458,     0.58559,     0.58659,     0.58759,     0.58859,     0.58959,     0.59059,     0.59159,     0.59259,     0.59359,     0.59459,      0.5956,      0.5966,      0.5976,      0.5986,      0.5996,\n",
            "            0.6006,      0.6016,      0.6026,      0.6036,      0.6046,     0.60561,     0.60661,     0.60761,     0.60861,     0.60961,     0.61061,     0.61161,     0.61261,     0.61361,     0.61461,     0.61562,     0.61662,     0.61762,     0.61862,     0.61962,     0.62062,     0.62162,     0.62262,     0.62362,\n",
            "           0.62462,     0.62563,     0.62663,     0.62763,     0.62863,     0.62963,     0.63063,     0.63163,     0.63263,     0.63363,     0.63463,     0.63564,     0.63664,     0.63764,     0.63864,     0.63964,     0.64064,     0.64164,     0.64264,     0.64364,     0.64464,     0.64565,     0.64665,     0.64765,\n",
            "           0.64865,     0.64965,     0.65065,     0.65165,     0.65265,     0.65365,     0.65465,     0.65566,     0.65666,     0.65766,     0.65866,     0.65966,     0.66066,     0.66166,     0.66266,     0.66366,     0.66466,     0.66567,     0.66667,     0.66767,     0.66867,     0.66967,     0.67067,     0.67167,\n",
            "           0.67267,     0.67367,     0.67467,     0.67568,     0.67668,     0.67768,     0.67868,     0.67968,     0.68068,     0.68168,     0.68268,     0.68368,     0.68468,     0.68569,     0.68669,     0.68769,     0.68869,     0.68969,     0.69069,     0.69169,     0.69269,     0.69369,     0.69469,      0.6957,\n",
            "            0.6967,      0.6977,      0.6987,      0.6997,      0.7007,      0.7017,      0.7027,      0.7037,      0.7047,     0.70571,     0.70671,     0.70771,     0.70871,     0.70971,     0.71071,     0.71171,     0.71271,     0.71371,     0.71471,     0.71572,     0.71672,     0.71772,     0.71872,     0.71972,\n",
            "           0.72072,     0.72172,     0.72272,     0.72372,     0.72472,     0.72573,     0.72673,     0.72773,     0.72873,     0.72973,     0.73073,     0.73173,     0.73273,     0.73373,     0.73473,     0.73574,     0.73674,     0.73774,     0.73874,     0.73974,     0.74074,     0.74174,     0.74274,     0.74374,\n",
            "           0.74474,     0.74575,     0.74675,     0.74775,     0.74875,     0.74975,     0.75075,     0.75175,     0.75275,     0.75375,     0.75475,     0.75576,     0.75676,     0.75776,     0.75876,     0.75976,     0.76076,     0.76176,     0.76276,     0.76376,     0.76476,     0.76577,     0.76677,     0.76777,\n",
            "           0.76877,     0.76977,     0.77077,     0.77177,     0.77277,     0.77377,     0.77477,     0.77578,     0.77678,     0.77778,     0.77878,     0.77978,     0.78078,     0.78178,     0.78278,     0.78378,     0.78478,     0.78579,     0.78679,     0.78779,     0.78879,     0.78979,     0.79079,     0.79179,\n",
            "           0.79279,     0.79379,     0.79479,      0.7958,      0.7968,      0.7978,      0.7988,      0.7998,      0.8008,      0.8018,      0.8028,      0.8038,      0.8048,     0.80581,     0.80681,     0.80781,     0.80881,     0.80981,     0.81081,     0.81181,     0.81281,     0.81381,     0.81481,     0.81582,\n",
            "           0.81682,     0.81782,     0.81882,     0.81982,     0.82082,     0.82182,     0.82282,     0.82382,     0.82482,     0.82583,     0.82683,     0.82783,     0.82883,     0.82983,     0.83083,     0.83183,     0.83283,     0.83383,     0.83483,     0.83584,     0.83684,     0.83784,     0.83884,     0.83984,\n",
            "           0.84084,     0.84184,     0.84284,     0.84384,     0.84484,     0.84585,     0.84685,     0.84785,     0.84885,     0.84985,     0.85085,     0.85185,     0.85285,     0.85385,     0.85485,     0.85586,     0.85686,     0.85786,     0.85886,     0.85986,     0.86086,     0.86186,     0.86286,     0.86386,\n",
            "           0.86486,     0.86587,     0.86687,     0.86787,     0.86887,     0.86987,     0.87087,     0.87187,     0.87287,     0.87387,     0.87487,     0.87588,     0.87688,     0.87788,     0.87888,     0.87988,     0.88088,     0.88188,     0.88288,     0.88388,     0.88488,     0.88589,     0.88689,     0.88789,\n",
            "           0.88889,     0.88989,     0.89089,     0.89189,     0.89289,     0.89389,     0.89489,      0.8959,      0.8969,      0.8979,      0.8989,      0.8999,      0.9009,      0.9019,      0.9029,      0.9039,      0.9049,     0.90591,     0.90691,     0.90791,     0.90891,     0.90991,     0.91091,     0.91191,\n",
            "           0.91291,     0.91391,     0.91491,     0.91592,     0.91692,     0.91792,     0.91892,     0.91992,     0.92092,     0.92192,     0.92292,     0.92392,     0.92492,     0.92593,     0.92693,     0.92793,     0.92893,     0.92993,     0.93093,     0.93193,     0.93293,     0.93393,     0.93493,     0.93594,\n",
            "           0.93694,     0.93794,     0.93894,     0.93994,     0.94094,     0.94194,     0.94294,     0.94394,     0.94494,     0.94595,     0.94695,     0.94795,     0.94895,     0.94995,     0.95095,     0.95195,     0.95295,     0.95395,     0.95495,     0.95596,     0.95696,     0.95796,     0.95896,     0.95996,\n",
            "           0.96096,     0.96196,     0.96296,     0.96396,     0.96496,     0.96597,     0.96697,     0.96797,     0.96897,     0.96997,     0.97097,     0.97197,     0.97297,     0.97397,     0.97497,     0.97598,     0.97698,     0.97798,     0.97898,     0.97998,     0.98098,     0.98198,     0.98298,     0.98398,\n",
            "           0.98498,     0.98599,     0.98699,     0.98799,     0.98899,     0.98999,     0.99099,     0.99199,     0.99299,     0.99399,     0.99499,       0.996,       0.997,       0.998,       0.999,           1]), array([[   0.032258,    0.032258,    0.052384, ...,           1,           1,           1],\n",
            "       [   0.054054,    0.054054,     0.11852, ...,           1,           1,           1],\n",
            "       [    0.02439,     0.02439,    0.042451, ...,           1,           1,           1],\n",
            "       ...,\n",
            "       [   0.027027,    0.027027,    0.037693, ...,           1,           1,           1],\n",
            "       [   0.033557,    0.033557,     0.12393, ...,           1,           1,           1],\n",
            "       [   0.010417,    0.010417,    0.047214, ...,           1,           1,           1]]), 'Confidence', 'Precision'], [array([          0,    0.001001,    0.002002,    0.003003,    0.004004,    0.005005,    0.006006,    0.007007,    0.008008,    0.009009,     0.01001,    0.011011,    0.012012,    0.013013,    0.014014,    0.015015,    0.016016,    0.017017,    0.018018,    0.019019,     0.02002,    0.021021,    0.022022,    0.023023,\n",
            "          0.024024,    0.025025,    0.026026,    0.027027,    0.028028,    0.029029,     0.03003,    0.031031,    0.032032,    0.033033,    0.034034,    0.035035,    0.036036,    0.037037,    0.038038,    0.039039,     0.04004,    0.041041,    0.042042,    0.043043,    0.044044,    0.045045,    0.046046,    0.047047,\n",
            "          0.048048,    0.049049,     0.05005,    0.051051,    0.052052,    0.053053,    0.054054,    0.055055,    0.056056,    0.057057,    0.058058,    0.059059,     0.06006,    0.061061,    0.062062,    0.063063,    0.064064,    0.065065,    0.066066,    0.067067,    0.068068,    0.069069,     0.07007,    0.071071,\n",
            "          0.072072,    0.073073,    0.074074,    0.075075,    0.076076,    0.077077,    0.078078,    0.079079,     0.08008,    0.081081,    0.082082,    0.083083,    0.084084,    0.085085,    0.086086,    0.087087,    0.088088,    0.089089,     0.09009,    0.091091,    0.092092,    0.093093,    0.094094,    0.095095,\n",
            "          0.096096,    0.097097,    0.098098,    0.099099,      0.1001,      0.1011,      0.1021,      0.1031,      0.1041,     0.10511,     0.10611,     0.10711,     0.10811,     0.10911,     0.11011,     0.11111,     0.11211,     0.11311,     0.11411,     0.11512,     0.11612,     0.11712,     0.11812,     0.11912,\n",
            "           0.12012,     0.12112,     0.12212,     0.12312,     0.12412,     0.12513,     0.12613,     0.12713,     0.12813,     0.12913,     0.13013,     0.13113,     0.13213,     0.13313,     0.13413,     0.13514,     0.13614,     0.13714,     0.13814,     0.13914,     0.14014,     0.14114,     0.14214,     0.14314,\n",
            "           0.14414,     0.14515,     0.14615,     0.14715,     0.14815,     0.14915,     0.15015,     0.15115,     0.15215,     0.15315,     0.15415,     0.15516,     0.15616,     0.15716,     0.15816,     0.15916,     0.16016,     0.16116,     0.16216,     0.16316,     0.16416,     0.16517,     0.16617,     0.16717,\n",
            "           0.16817,     0.16917,     0.17017,     0.17117,     0.17217,     0.17317,     0.17417,     0.17518,     0.17618,     0.17718,     0.17818,     0.17918,     0.18018,     0.18118,     0.18218,     0.18318,     0.18418,     0.18519,     0.18619,     0.18719,     0.18819,     0.18919,     0.19019,     0.19119,\n",
            "           0.19219,     0.19319,     0.19419,      0.1952,      0.1962,      0.1972,      0.1982,      0.1992,      0.2002,      0.2012,      0.2022,      0.2032,      0.2042,     0.20521,     0.20621,     0.20721,     0.20821,     0.20921,     0.21021,     0.21121,     0.21221,     0.21321,     0.21421,     0.21522,\n",
            "           0.21622,     0.21722,     0.21822,     0.21922,     0.22022,     0.22122,     0.22222,     0.22322,     0.22422,     0.22523,     0.22623,     0.22723,     0.22823,     0.22923,     0.23023,     0.23123,     0.23223,     0.23323,     0.23423,     0.23524,     0.23624,     0.23724,     0.23824,     0.23924,\n",
            "           0.24024,     0.24124,     0.24224,     0.24324,     0.24424,     0.24525,     0.24625,     0.24725,     0.24825,     0.24925,     0.25025,     0.25125,     0.25225,     0.25325,     0.25425,     0.25526,     0.25626,     0.25726,     0.25826,     0.25926,     0.26026,     0.26126,     0.26226,     0.26326,\n",
            "           0.26426,     0.26527,     0.26627,     0.26727,     0.26827,     0.26927,     0.27027,     0.27127,     0.27227,     0.27327,     0.27427,     0.27528,     0.27628,     0.27728,     0.27828,     0.27928,     0.28028,     0.28128,     0.28228,     0.28328,     0.28428,     0.28529,     0.28629,     0.28729,\n",
            "           0.28829,     0.28929,     0.29029,     0.29129,     0.29229,     0.29329,     0.29429,      0.2953,      0.2963,      0.2973,      0.2983,      0.2993,      0.3003,      0.3013,      0.3023,      0.3033,      0.3043,     0.30531,     0.30631,     0.30731,     0.30831,     0.30931,     0.31031,     0.31131,\n",
            "           0.31231,     0.31331,     0.31431,     0.31532,     0.31632,     0.31732,     0.31832,     0.31932,     0.32032,     0.32132,     0.32232,     0.32332,     0.32432,     0.32533,     0.32633,     0.32733,     0.32833,     0.32933,     0.33033,     0.33133,     0.33233,     0.33333,     0.33433,     0.33534,\n",
            "           0.33634,     0.33734,     0.33834,     0.33934,     0.34034,     0.34134,     0.34234,     0.34334,     0.34434,     0.34535,     0.34635,     0.34735,     0.34835,     0.34935,     0.35035,     0.35135,     0.35235,     0.35335,     0.35435,     0.35536,     0.35636,     0.35736,     0.35836,     0.35936,\n",
            "           0.36036,     0.36136,     0.36236,     0.36336,     0.36436,     0.36537,     0.36637,     0.36737,     0.36837,     0.36937,     0.37037,     0.37137,     0.37237,     0.37337,     0.37437,     0.37538,     0.37638,     0.37738,     0.37838,     0.37938,     0.38038,     0.38138,     0.38238,     0.38338,\n",
            "           0.38438,     0.38539,     0.38639,     0.38739,     0.38839,     0.38939,     0.39039,     0.39139,     0.39239,     0.39339,     0.39439,      0.3954,      0.3964,      0.3974,      0.3984,      0.3994,      0.4004,      0.4014,      0.4024,      0.4034,      0.4044,     0.40541,     0.40641,     0.40741,\n",
            "           0.40841,     0.40941,     0.41041,     0.41141,     0.41241,     0.41341,     0.41441,     0.41542,     0.41642,     0.41742,     0.41842,     0.41942,     0.42042,     0.42142,     0.42242,     0.42342,     0.42442,     0.42543,     0.42643,     0.42743,     0.42843,     0.42943,     0.43043,     0.43143,\n",
            "           0.43243,     0.43343,     0.43443,     0.43544,     0.43644,     0.43744,     0.43844,     0.43944,     0.44044,     0.44144,     0.44244,     0.44344,     0.44444,     0.44545,     0.44645,     0.44745,     0.44845,     0.44945,     0.45045,     0.45145,     0.45245,     0.45345,     0.45445,     0.45546,\n",
            "           0.45646,     0.45746,     0.45846,     0.45946,     0.46046,     0.46146,     0.46246,     0.46346,     0.46446,     0.46547,     0.46647,     0.46747,     0.46847,     0.46947,     0.47047,     0.47147,     0.47247,     0.47347,     0.47447,     0.47548,     0.47648,     0.47748,     0.47848,     0.47948,\n",
            "           0.48048,     0.48148,     0.48248,     0.48348,     0.48448,     0.48549,     0.48649,     0.48749,     0.48849,     0.48949,     0.49049,     0.49149,     0.49249,     0.49349,     0.49449,      0.4955,      0.4965,      0.4975,      0.4985,      0.4995,      0.5005,      0.5015,      0.5025,      0.5035,\n",
            "            0.5045,     0.50551,     0.50651,     0.50751,     0.50851,     0.50951,     0.51051,     0.51151,     0.51251,     0.51351,     0.51451,     0.51552,     0.51652,     0.51752,     0.51852,     0.51952,     0.52052,     0.52152,     0.52252,     0.52352,     0.52452,     0.52553,     0.52653,     0.52753,\n",
            "           0.52853,     0.52953,     0.53053,     0.53153,     0.53253,     0.53353,     0.53453,     0.53554,     0.53654,     0.53754,     0.53854,     0.53954,     0.54054,     0.54154,     0.54254,     0.54354,     0.54454,     0.54555,     0.54655,     0.54755,     0.54855,     0.54955,     0.55055,     0.55155,\n",
            "           0.55255,     0.55355,     0.55455,     0.55556,     0.55656,     0.55756,     0.55856,     0.55956,     0.56056,     0.56156,     0.56256,     0.56356,     0.56456,     0.56557,     0.56657,     0.56757,     0.56857,     0.56957,     0.57057,     0.57157,     0.57257,     0.57357,     0.57457,     0.57558,\n",
            "           0.57658,     0.57758,     0.57858,     0.57958,     0.58058,     0.58158,     0.58258,     0.58358,     0.58458,     0.58559,     0.58659,     0.58759,     0.58859,     0.58959,     0.59059,     0.59159,     0.59259,     0.59359,     0.59459,      0.5956,      0.5966,      0.5976,      0.5986,      0.5996,\n",
            "            0.6006,      0.6016,      0.6026,      0.6036,      0.6046,     0.60561,     0.60661,     0.60761,     0.60861,     0.60961,     0.61061,     0.61161,     0.61261,     0.61361,     0.61461,     0.61562,     0.61662,     0.61762,     0.61862,     0.61962,     0.62062,     0.62162,     0.62262,     0.62362,\n",
            "           0.62462,     0.62563,     0.62663,     0.62763,     0.62863,     0.62963,     0.63063,     0.63163,     0.63263,     0.63363,     0.63463,     0.63564,     0.63664,     0.63764,     0.63864,     0.63964,     0.64064,     0.64164,     0.64264,     0.64364,     0.64464,     0.64565,     0.64665,     0.64765,\n",
            "           0.64865,     0.64965,     0.65065,     0.65165,     0.65265,     0.65365,     0.65465,     0.65566,     0.65666,     0.65766,     0.65866,     0.65966,     0.66066,     0.66166,     0.66266,     0.66366,     0.66466,     0.66567,     0.66667,     0.66767,     0.66867,     0.66967,     0.67067,     0.67167,\n",
            "           0.67267,     0.67367,     0.67467,     0.67568,     0.67668,     0.67768,     0.67868,     0.67968,     0.68068,     0.68168,     0.68268,     0.68368,     0.68468,     0.68569,     0.68669,     0.68769,     0.68869,     0.68969,     0.69069,     0.69169,     0.69269,     0.69369,     0.69469,      0.6957,\n",
            "            0.6967,      0.6977,      0.6987,      0.6997,      0.7007,      0.7017,      0.7027,      0.7037,      0.7047,     0.70571,     0.70671,     0.70771,     0.70871,     0.70971,     0.71071,     0.71171,     0.71271,     0.71371,     0.71471,     0.71572,     0.71672,     0.71772,     0.71872,     0.71972,\n",
            "           0.72072,     0.72172,     0.72272,     0.72372,     0.72472,     0.72573,     0.72673,     0.72773,     0.72873,     0.72973,     0.73073,     0.73173,     0.73273,     0.73373,     0.73473,     0.73574,     0.73674,     0.73774,     0.73874,     0.73974,     0.74074,     0.74174,     0.74274,     0.74374,\n",
            "           0.74474,     0.74575,     0.74675,     0.74775,     0.74875,     0.74975,     0.75075,     0.75175,     0.75275,     0.75375,     0.75475,     0.75576,     0.75676,     0.75776,     0.75876,     0.75976,     0.76076,     0.76176,     0.76276,     0.76376,     0.76476,     0.76577,     0.76677,     0.76777,\n",
            "           0.76877,     0.76977,     0.77077,     0.77177,     0.77277,     0.77377,     0.77477,     0.77578,     0.77678,     0.77778,     0.77878,     0.77978,     0.78078,     0.78178,     0.78278,     0.78378,     0.78478,     0.78579,     0.78679,     0.78779,     0.78879,     0.78979,     0.79079,     0.79179,\n",
            "           0.79279,     0.79379,     0.79479,      0.7958,      0.7968,      0.7978,      0.7988,      0.7998,      0.8008,      0.8018,      0.8028,      0.8038,      0.8048,     0.80581,     0.80681,     0.80781,     0.80881,     0.80981,     0.81081,     0.81181,     0.81281,     0.81381,     0.81481,     0.81582,\n",
            "           0.81682,     0.81782,     0.81882,     0.81982,     0.82082,     0.82182,     0.82282,     0.82382,     0.82482,     0.82583,     0.82683,     0.82783,     0.82883,     0.82983,     0.83083,     0.83183,     0.83283,     0.83383,     0.83483,     0.83584,     0.83684,     0.83784,     0.83884,     0.83984,\n",
            "           0.84084,     0.84184,     0.84284,     0.84384,     0.84484,     0.84585,     0.84685,     0.84785,     0.84885,     0.84985,     0.85085,     0.85185,     0.85285,     0.85385,     0.85485,     0.85586,     0.85686,     0.85786,     0.85886,     0.85986,     0.86086,     0.86186,     0.86286,     0.86386,\n",
            "           0.86486,     0.86587,     0.86687,     0.86787,     0.86887,     0.86987,     0.87087,     0.87187,     0.87287,     0.87387,     0.87487,     0.87588,     0.87688,     0.87788,     0.87888,     0.87988,     0.88088,     0.88188,     0.88288,     0.88388,     0.88488,     0.88589,     0.88689,     0.88789,\n",
            "           0.88889,     0.88989,     0.89089,     0.89189,     0.89289,     0.89389,     0.89489,      0.8959,      0.8969,      0.8979,      0.8989,      0.8999,      0.9009,      0.9019,      0.9029,      0.9039,      0.9049,     0.90591,     0.90691,     0.90791,     0.90891,     0.90991,     0.91091,     0.91191,\n",
            "           0.91291,     0.91391,     0.91491,     0.91592,     0.91692,     0.91792,     0.91892,     0.91992,     0.92092,     0.92192,     0.92292,     0.92392,     0.92492,     0.92593,     0.92693,     0.92793,     0.92893,     0.92993,     0.93093,     0.93193,     0.93293,     0.93393,     0.93493,     0.93594,\n",
            "           0.93694,     0.93794,     0.93894,     0.93994,     0.94094,     0.94194,     0.94294,     0.94394,     0.94494,     0.94595,     0.94695,     0.94795,     0.94895,     0.94995,     0.95095,     0.95195,     0.95295,     0.95395,     0.95495,     0.95596,     0.95696,     0.95796,     0.95896,     0.95996,\n",
            "           0.96096,     0.96196,     0.96296,     0.96396,     0.96496,     0.96597,     0.96697,     0.96797,     0.96897,     0.96997,     0.97097,     0.97197,     0.97297,     0.97397,     0.97497,     0.97598,     0.97698,     0.97798,     0.97898,     0.97998,     0.98098,     0.98198,     0.98298,     0.98398,\n",
            "           0.98498,     0.98599,     0.98699,     0.98799,     0.98899,     0.98999,     0.99099,     0.99199,     0.99299,     0.99399,     0.99499,       0.996,       0.997,       0.998,       0.999,           1]), array([[          1,           1,           1, ...,           0,           0,           0],\n",
            "       [          1,           1,           1, ...,           0,           0,           0],\n",
            "       [          1,           1,           1, ...,           0,           0,           0],\n",
            "       ...,\n",
            "       [          1,           1,           1, ...,           0,           0,           0],\n",
            "       [          1,           1,           1, ...,           0,           0,           0],\n",
            "       [          1,           1,           1, ...,           0,           0,           0]]), 'Confidence', 'Recall']]\n",
            "fitness: np.float64(0.5500714865127585)\n",
            "keys: ['metrics/precision(B)', 'metrics/recall(B)', 'metrics/mAP50(B)', 'metrics/mAP50-95(B)']\n",
            "maps: array([    0.51154,     0.51154,       0.398,     0.74757,      0.4378,       0.199,     0.51154,      0.8955,    0.068417,      0.6965,      0.6965,       0.597,     0.59772,     0.29291])\n",
            "names: {0: 'HBL_bank', 1: 'Main_gate', 2: 'auditorium', 3: 'central_library', 4: 'clock_tower', 5: 'faculty_of_Basics_Science', 6: 'faculty_of_electrical_and_computer_science', 7: 'faculty_of_material_and_chemical_eng', 8: 'faculty_of_mechanical_eng', 9: 'hostel_11', 10: 'hostel_12', 11: 'laundry_shop', 12: 'new_academic_block', 13: 'tuck'}\n",
            "nt_per_class: array([0, 0, 1, 2, 1, 1, 0, 1, 3, 1, 1, 1, 5, 4])\n",
            "nt_per_image: array([0, 0, 1, 2, 1, 1, 0, 1, 3, 1, 1, 1, 5, 4])\n",
            "results_dict: {'metrics/precision(B)': np.float64(0.6735108312631772), 'metrics/recall(B)': np.float64(0.8075757575757575), 'metrics/mAP50(B)': np.float64(0.8968738539238538), 'metrics/mAP50-95(B)': np.float64(0.511537890133748), 'fitness': np.float64(0.5500714865127585)}\n",
            "save_dir: PosixPath('runs/detect/train2')\n",
            "speed: {'preprocess': 6.527035478261891, 'inference': 23.74151239130539, 'loss': 0.0015361304369197687, 'postprocess': 2.921814304351716}\n",
            "stats: {'tp': [], 'conf': [], 'pred_cls': [], 'target_cls': [], 'target_img': []}\n",
            "task: 'detect'\n"
          ]
        }
      ]
    },
    {
      "cell_type": "code",
      "source": [
        "# Predict on test images\n",
        "results = model.predict(\n",
        "    source=\"/content/dataset/test/images\",\n",
        "    conf=0.5,\n",
        "    save=True\n",
        ")\n",
        "print(\"Predictions saved in:\", results[0].save_dir)\n"
      ],
      "metadata": {
        "colab": {
          "base_uri": "https://localhost:8080/"
        },
        "id": "0ahiMxoWG88v",
        "outputId": "b5106ed2-b941-4fee-b737-a4295fa34662"
      },
      "execution_count": 11,
      "outputs": [
        {
          "output_type": "stream",
          "name": "stdout",
          "text": [
            "\n",
            "image 1/12 /content/dataset/test/images/WhatsApp-Video-2025-08-10-at-11_21_09-AM_mp4-0009_jpg.rf.5efbb3049389028949d530b890821f55.jpg: 384x640 1 new_academic_block, 40.5ms\n",
            "image 2/12 /content/dataset/test/images/WhatsApp-Video-2025-08-10-at-11_21_09-AM_mp4-0050_jpg.rf.a7ae006722ec3e82ee89fcdcad67eed9.jpg: 384x640 1 tuck, 10.7ms\n",
            "image 3/12 /content/dataset/test/images/WhatsApp-Video-2025-08-10-at-11_21_09-AM_mp4-0060_jpg.rf.a97265383005fd6acd5b960dc022ea92.jpg: 384x640 1 tuck, 22.2ms\n",
            "image 4/12 /content/dataset/test/images/WhatsApp-Video-2025-08-10-at-11_21_09-AM_mp4-0068_jpg.rf.7c895574a19203373a20e36da8355ab0.jpg: 384x640 1 HBL_bank, 12.1ms\n",
            "image 5/12 /content/dataset/test/images/WhatsApp-Video-2025-08-10-at-11_21_09-AM_mp4-0072_jpg.rf.29598ea8e06c4717aee1fa88bf3e336c.jpg: 384x640 (no detections), 11.8ms\n",
            "image 6/12 /content/dataset/test/images/WhatsApp-Video-2025-08-10-at-11_21_09-AM_mp4-0074_jpg.rf.02a804953bdc66afb528222718984982.jpg: 384x640 (no detections), 10.8ms\n",
            "image 7/12 /content/dataset/test/images/WhatsApp-Video-2025-08-10-at-11_21_09-AM_mp4-0080_jpg.rf.6f2c1c8983c75daa4a7bd8badb322842.jpg: 384x640 (no detections), 11.5ms\n",
            "image 8/12 /content/dataset/test/images/WhatsApp-Video-2025-08-10-at-11_21_09-AM_mp4-0088_jpg.rf.e6d6b88cda4b29296ed1c8090a54988c.jpg: 384x640 1 faculty_of_electrical_and_computer_science, 11.9ms\n",
            "image 9/12 /content/dataset/test/images/WhatsApp-Video-2025-08-10-at-11_21_09-AM_mp4-0097_jpg.rf.03afd488e10cabb96e9bdaa49314d514.jpg: 384x640 1 auditorium, 11.2ms\n",
            "image 10/12 /content/dataset/test/images/WhatsApp-Video-2025-08-10-at-11_21_09-AM_mp4-0098_jpg.rf.cf27e4ff1b1854b2a9432e5ab4879d83.jpg: 384x640 1 auditorium, 11.7ms\n",
            "image 11/12 /content/dataset/test/images/WhatsApp-Video-2025-08-10-at-11_21_09-AM_mp4-0102_jpg.rf.4043d0f487dc9eb794bd7abcbf3c371c.jpg: 384x640 (no detections), 11.1ms\n",
            "image 12/12 /content/dataset/test/images/WhatsApp-Video-2025-08-10-at-11_21_09-AM_mp4-0108_jpg.rf.0889a13eac8520c5319632cab690376d.jpg: 384x640 1 hostel_11, 16.3ms\n",
            "Speed: 2.1ms preprocess, 15.1ms inference, 1.9ms postprocess per image at shape (1, 3, 384, 640)\n",
            "Results saved to \u001b[1mruns/detect/train3\u001b[0m\n",
            "Predictions saved in: runs/detect/train3\n"
          ]
        }
      ]
    },
    {
      "cell_type": "code",
      "source": [
        "from google.colab import files\n",
        "\n",
        "files.download('/content/runs/detect/train/weights/best.pt')\n"
      ],
      "metadata": {
        "colab": {
          "base_uri": "https://localhost:8080/",
          "height": 17
        },
        "id": "KLM6nMoYHBTy",
        "outputId": "152266bb-041f-4253-ae0c-b2ee6f75a1d0"
      },
      "execution_count": 12,
      "outputs": [
        {
          "output_type": "display_data",
          "data": {
            "text/plain": [
              "<IPython.core.display.Javascript object>"
            ],
            "application/javascript": [
              "\n",
              "    async function download(id, filename, size) {\n",
              "      if (!google.colab.kernel.accessAllowed) {\n",
              "        return;\n",
              "      }\n",
              "      const div = document.createElement('div');\n",
              "      const label = document.createElement('label');\n",
              "      label.textContent = `Downloading \"${filename}\": `;\n",
              "      div.appendChild(label);\n",
              "      const progress = document.createElement('progress');\n",
              "      progress.max = size;\n",
              "      div.appendChild(progress);\n",
              "      document.body.appendChild(div);\n",
              "\n",
              "      const buffers = [];\n",
              "      let downloaded = 0;\n",
              "\n",
              "      const channel = await google.colab.kernel.comms.open(id);\n",
              "      // Send a message to notify the kernel that we're ready.\n",
              "      channel.send({})\n",
              "\n",
              "      for await (const message of channel.messages) {\n",
              "        // Send a message to notify the kernel that we're ready.\n",
              "        channel.send({})\n",
              "        if (message.buffers) {\n",
              "          for (const buffer of message.buffers) {\n",
              "            buffers.push(buffer);\n",
              "            downloaded += buffer.byteLength;\n",
              "            progress.value = downloaded;\n",
              "          }\n",
              "        }\n",
              "      }\n",
              "      const blob = new Blob(buffers, {type: 'application/binary'});\n",
              "      const a = document.createElement('a');\n",
              "      a.href = window.URL.createObjectURL(blob);\n",
              "      a.download = filename;\n",
              "      div.appendChild(a);\n",
              "      a.click();\n",
              "      div.remove();\n",
              "    }\n",
              "  "
            ]
          },
          "metadata": {}
        },
        {
          "output_type": "display_data",
          "data": {
            "text/plain": [
              "<IPython.core.display.Javascript object>"
            ],
            "application/javascript": [
              "download(\"download_c80093c1-b9fd-4618-aaf7-881d68d64da3\", \"best.pt\", 22503779)"
            ]
          },
          "metadata": {}
        }
      ]
    },
    {
      "cell_type": "code",
      "source": [
        "# Upload video for inference\n",
        "from google.colab import files\n",
        "uploaded_video = files.upload()\n"
      ],
      "metadata": {
        "colab": {
          "base_uri": "https://localhost:8080/",
          "height": 73
        },
        "id": "dAsiWjmSHHOr",
        "outputId": "524927d4-c8be-4d15-ea64-a8ea2a467996"
      },
      "execution_count": 13,
      "outputs": [
        {
          "output_type": "display_data",
          "data": {
            "text/plain": [
              "<IPython.core.display.HTML object>"
            ],
            "text/html": [
              "\n",
              "     <input type=\"file\" id=\"files-98daec1e-120d-4471-8df7-b62b044571b5\" name=\"files[]\" multiple disabled\n",
              "        style=\"border:none\" />\n",
              "     <output id=\"result-98daec1e-120d-4471-8df7-b62b044571b5\">\n",
              "      Upload widget is only available when the cell has been executed in the\n",
              "      current browser session. Please rerun this cell to enable.\n",
              "      </output>\n",
              "      <script>// Copyright 2017 Google LLC\n",
              "//\n",
              "// Licensed under the Apache License, Version 2.0 (the \"License\");\n",
              "// you may not use this file except in compliance with the License.\n",
              "// You may obtain a copy of the License at\n",
              "//\n",
              "//      http://www.apache.org/licenses/LICENSE-2.0\n",
              "//\n",
              "// Unless required by applicable law or agreed to in writing, software\n",
              "// distributed under the License is distributed on an \"AS IS\" BASIS,\n",
              "// WITHOUT WARRANTIES OR CONDITIONS OF ANY KIND, either express or implied.\n",
              "// See the License for the specific language governing permissions and\n",
              "// limitations under the License.\n",
              "\n",
              "/**\n",
              " * @fileoverview Helpers for google.colab Python module.\n",
              " */\n",
              "(function(scope) {\n",
              "function span(text, styleAttributes = {}) {\n",
              "  const element = document.createElement('span');\n",
              "  element.textContent = text;\n",
              "  for (const key of Object.keys(styleAttributes)) {\n",
              "    element.style[key] = styleAttributes[key];\n",
              "  }\n",
              "  return element;\n",
              "}\n",
              "\n",
              "// Max number of bytes which will be uploaded at a time.\n",
              "const MAX_PAYLOAD_SIZE = 100 * 1024;\n",
              "\n",
              "function _uploadFiles(inputId, outputId) {\n",
              "  const steps = uploadFilesStep(inputId, outputId);\n",
              "  const outputElement = document.getElementById(outputId);\n",
              "  // Cache steps on the outputElement to make it available for the next call\n",
              "  // to uploadFilesContinue from Python.\n",
              "  outputElement.steps = steps;\n",
              "\n",
              "  return _uploadFilesContinue(outputId);\n",
              "}\n",
              "\n",
              "// This is roughly an async generator (not supported in the browser yet),\n",
              "// where there are multiple asynchronous steps and the Python side is going\n",
              "// to poll for completion of each step.\n",
              "// This uses a Promise to block the python side on completion of each step,\n",
              "// then passes the result of the previous step as the input to the next step.\n",
              "function _uploadFilesContinue(outputId) {\n",
              "  const outputElement = document.getElementById(outputId);\n",
              "  const steps = outputElement.steps;\n",
              "\n",
              "  const next = steps.next(outputElement.lastPromiseValue);\n",
              "  return Promise.resolve(next.value.promise).then((value) => {\n",
              "    // Cache the last promise value to make it available to the next\n",
              "    // step of the generator.\n",
              "    outputElement.lastPromiseValue = value;\n",
              "    return next.value.response;\n",
              "  });\n",
              "}\n",
              "\n",
              "/**\n",
              " * Generator function which is called between each async step of the upload\n",
              " * process.\n",
              " * @param {string} inputId Element ID of the input file picker element.\n",
              " * @param {string} outputId Element ID of the output display.\n",
              " * @return {!Iterable<!Object>} Iterable of next steps.\n",
              " */\n",
              "function* uploadFilesStep(inputId, outputId) {\n",
              "  const inputElement = document.getElementById(inputId);\n",
              "  inputElement.disabled = false;\n",
              "\n",
              "  const outputElement = document.getElementById(outputId);\n",
              "  outputElement.innerHTML = '';\n",
              "\n",
              "  const pickedPromise = new Promise((resolve) => {\n",
              "    inputElement.addEventListener('change', (e) => {\n",
              "      resolve(e.target.files);\n",
              "    });\n",
              "  });\n",
              "\n",
              "  const cancel = document.createElement('button');\n",
              "  inputElement.parentElement.appendChild(cancel);\n",
              "  cancel.textContent = 'Cancel upload';\n",
              "  const cancelPromise = new Promise((resolve) => {\n",
              "    cancel.onclick = () => {\n",
              "      resolve(null);\n",
              "    };\n",
              "  });\n",
              "\n",
              "  // Wait for the user to pick the files.\n",
              "  const files = yield {\n",
              "    promise: Promise.race([pickedPromise, cancelPromise]),\n",
              "    response: {\n",
              "      action: 'starting',\n",
              "    }\n",
              "  };\n",
              "\n",
              "  cancel.remove();\n",
              "\n",
              "  // Disable the input element since further picks are not allowed.\n",
              "  inputElement.disabled = true;\n",
              "\n",
              "  if (!files) {\n",
              "    return {\n",
              "      response: {\n",
              "        action: 'complete',\n",
              "      }\n",
              "    };\n",
              "  }\n",
              "\n",
              "  for (const file of files) {\n",
              "    const li = document.createElement('li');\n",
              "    li.append(span(file.name, {fontWeight: 'bold'}));\n",
              "    li.append(span(\n",
              "        `(${file.type || 'n/a'}) - ${file.size} bytes, ` +\n",
              "        `last modified: ${\n",
              "            file.lastModifiedDate ? file.lastModifiedDate.toLocaleDateString() :\n",
              "                                    'n/a'} - `));\n",
              "    const percent = span('0% done');\n",
              "    li.appendChild(percent);\n",
              "\n",
              "    outputElement.appendChild(li);\n",
              "\n",
              "    const fileDataPromise = new Promise((resolve) => {\n",
              "      const reader = new FileReader();\n",
              "      reader.onload = (e) => {\n",
              "        resolve(e.target.result);\n",
              "      };\n",
              "      reader.readAsArrayBuffer(file);\n",
              "    });\n",
              "    // Wait for the data to be ready.\n",
              "    let fileData = yield {\n",
              "      promise: fileDataPromise,\n",
              "      response: {\n",
              "        action: 'continue',\n",
              "      }\n",
              "    };\n",
              "\n",
              "    // Use a chunked sending to avoid message size limits. See b/62115660.\n",
              "    let position = 0;\n",
              "    do {\n",
              "      const length = Math.min(fileData.byteLength - position, MAX_PAYLOAD_SIZE);\n",
              "      const chunk = new Uint8Array(fileData, position, length);\n",
              "      position += length;\n",
              "\n",
              "      const base64 = btoa(String.fromCharCode.apply(null, chunk));\n",
              "      yield {\n",
              "        response: {\n",
              "          action: 'append',\n",
              "          file: file.name,\n",
              "          data: base64,\n",
              "        },\n",
              "      };\n",
              "\n",
              "      let percentDone = fileData.byteLength === 0 ?\n",
              "          100 :\n",
              "          Math.round((position / fileData.byteLength) * 100);\n",
              "      percent.textContent = `${percentDone}% done`;\n",
              "\n",
              "    } while (position < fileData.byteLength);\n",
              "  }\n",
              "\n",
              "  // All done.\n",
              "  yield {\n",
              "    response: {\n",
              "      action: 'complete',\n",
              "    }\n",
              "  };\n",
              "}\n",
              "\n",
              "scope.google = scope.google || {};\n",
              "scope.google.colab = scope.google.colab || {};\n",
              "scope.google.colab._files = {\n",
              "  _uploadFiles,\n",
              "  _uploadFilesContinue,\n",
              "};\n",
              "})(self);\n",
              "</script> "
            ]
          },
          "metadata": {}
        },
        {
          "output_type": "stream",
          "name": "stdout",
          "text": [
            "Saving WhatsApp Video 2025-08-10 at 12.34.42 PM.mp4 to WhatsApp Video 2025-08-10 at 12.34.42 PM.mp4\n"
          ]
        }
      ]
    },
    {
      "cell_type": "code",
      "source": [
        "video_path = list(uploaded_video.keys())[0]\n",
        "\n",
        "results = model.predict(\n",
        "    source=video_path,\n",
        "    conf=0.5,\n",
        "    save=True\n",
        ")\n",
        "\n",
        "print(\"Video saved in:\", results[0].save_dir)\n"
      ],
      "metadata": {
        "colab": {
          "base_uri": "https://localhost:8080/"
        },
        "id": "VI-CPFBeHfGa",
        "outputId": "d2da33fa-3138-41d0-b94a-621109d98d0b"
      },
      "execution_count": 14,
      "outputs": [
        {
          "output_type": "stream",
          "name": "stdout",
          "text": [
            "\n",
            "WARNING ⚠️ \n",
            "inference results will accumulate in RAM unless `stream=True` is passed, causing potential out-of-memory\n",
            "errors for large sources or long-running streams and videos. See https://docs.ultralytics.com/modes/predict/ for help.\n",
            "\n",
            "Example:\n",
            "    results = model(source=..., stream=True)  # generator of Results objects\n",
            "    for r in results:\n",
            "        boxes = r.boxes  # Boxes object for bbox outputs\n",
            "        masks = r.masks  # Masks object for segment masks outputs\n",
            "        probs = r.probs  # Class probabilities for classification outputs\n",
            "\n",
            "video 1/1 (frame 1/856) /content/WhatsApp Video 2025-08-10 at 12.34.42 PM.mp4: 384x640 (no detections), 10.9ms\n",
            "video 1/1 (frame 2/856) /content/WhatsApp Video 2025-08-10 at 12.34.42 PM.mp4: 384x640 (no detections), 14.7ms\n",
            "video 1/1 (frame 3/856) /content/WhatsApp Video 2025-08-10 at 12.34.42 PM.mp4: 384x640 (no detections), 23.8ms\n",
            "video 1/1 (frame 4/856) /content/WhatsApp Video 2025-08-10 at 12.34.42 PM.mp4: 384x640 (no detections), 23.9ms\n",
            "video 1/1 (frame 5/856) /content/WhatsApp Video 2025-08-10 at 12.34.42 PM.mp4: 384x640 (no detections), 13.8ms\n",
            "video 1/1 (frame 6/856) /content/WhatsApp Video 2025-08-10 at 12.34.42 PM.mp4: 384x640 (no detections), 11.1ms\n",
            "video 1/1 (frame 7/856) /content/WhatsApp Video 2025-08-10 at 12.34.42 PM.mp4: 384x640 (no detections), 23.2ms\n",
            "video 1/1 (frame 8/856) /content/WhatsApp Video 2025-08-10 at 12.34.42 PM.mp4: 384x640 1 hostel_11, 30.7ms\n",
            "video 1/1 (frame 9/856) /content/WhatsApp Video 2025-08-10 at 12.34.42 PM.mp4: 384x640 (no detections), 20.3ms\n",
            "video 1/1 (frame 10/856) /content/WhatsApp Video 2025-08-10 at 12.34.42 PM.mp4: 384x640 1 hostel_11, 10.7ms\n",
            "video 1/1 (frame 11/856) /content/WhatsApp Video 2025-08-10 at 12.34.42 PM.mp4: 384x640 1 hostel_11, 12.0ms\n",
            "video 1/1 (frame 12/856) /content/WhatsApp Video 2025-08-10 at 12.34.42 PM.mp4: 384x640 (no detections), 10.9ms\n",
            "video 1/1 (frame 13/856) /content/WhatsApp Video 2025-08-10 at 12.34.42 PM.mp4: 384x640 (no detections), 13.6ms\n",
            "video 1/1 (frame 14/856) /content/WhatsApp Video 2025-08-10 at 12.34.42 PM.mp4: 384x640 (no detections), 11.9ms\n",
            "video 1/1 (frame 15/856) /content/WhatsApp Video 2025-08-10 at 12.34.42 PM.mp4: 384x640 (no detections), 10.8ms\n",
            "video 1/1 (frame 16/856) /content/WhatsApp Video 2025-08-10 at 12.34.42 PM.mp4: 384x640 (no detections), 10.8ms\n",
            "video 1/1 (frame 17/856) /content/WhatsApp Video 2025-08-10 at 12.34.42 PM.mp4: 384x640 (no detections), 11.6ms\n",
            "video 1/1 (frame 18/856) /content/WhatsApp Video 2025-08-10 at 12.34.42 PM.mp4: 384x640 (no detections), 10.8ms\n",
            "video 1/1 (frame 19/856) /content/WhatsApp Video 2025-08-10 at 12.34.42 PM.mp4: 384x640 (no detections), 11.8ms\n",
            "video 1/1 (frame 20/856) /content/WhatsApp Video 2025-08-10 at 12.34.42 PM.mp4: 384x640 (no detections), 10.8ms\n",
            "video 1/1 (frame 21/856) /content/WhatsApp Video 2025-08-10 at 12.34.42 PM.mp4: 384x640 (no detections), 10.8ms\n",
            "video 1/1 (frame 22/856) /content/WhatsApp Video 2025-08-10 at 12.34.42 PM.mp4: 384x640 (no detections), 10.8ms\n",
            "video 1/1 (frame 23/856) /content/WhatsApp Video 2025-08-10 at 12.34.42 PM.mp4: 384x640 (no detections), 10.7ms\n",
            "video 1/1 (frame 24/856) /content/WhatsApp Video 2025-08-10 at 12.34.42 PM.mp4: 384x640 (no detections), 10.7ms\n",
            "video 1/1 (frame 25/856) /content/WhatsApp Video 2025-08-10 at 12.34.42 PM.mp4: 384x640 (no detections), 10.7ms\n",
            "video 1/1 (frame 26/856) /content/WhatsApp Video 2025-08-10 at 12.34.42 PM.mp4: 384x640 (no detections), 10.7ms\n",
            "video 1/1 (frame 27/856) /content/WhatsApp Video 2025-08-10 at 12.34.42 PM.mp4: 384x640 (no detections), 10.8ms\n",
            "video 1/1 (frame 28/856) /content/WhatsApp Video 2025-08-10 at 12.34.42 PM.mp4: 384x640 (no detections), 10.8ms\n",
            "video 1/1 (frame 29/856) /content/WhatsApp Video 2025-08-10 at 12.34.42 PM.mp4: 384x640 (no detections), 10.7ms\n",
            "video 1/1 (frame 30/856) /content/WhatsApp Video 2025-08-10 at 12.34.42 PM.mp4: 384x640 (no detections), 10.7ms\n",
            "video 1/1 (frame 31/856) /content/WhatsApp Video 2025-08-10 at 12.34.42 PM.mp4: 384x640 (no detections), 10.8ms\n",
            "video 1/1 (frame 32/856) /content/WhatsApp Video 2025-08-10 at 12.34.42 PM.mp4: 384x640 (no detections), 11.7ms\n",
            "video 1/1 (frame 33/856) /content/WhatsApp Video 2025-08-10 at 12.34.42 PM.mp4: 384x640 (no detections), 10.8ms\n",
            "video 1/1 (frame 34/856) /content/WhatsApp Video 2025-08-10 at 12.34.42 PM.mp4: 384x640 (no detections), 10.8ms\n",
            "video 1/1 (frame 35/856) /content/WhatsApp Video 2025-08-10 at 12.34.42 PM.mp4: 384x640 (no detections), 11.6ms\n",
            "video 1/1 (frame 36/856) /content/WhatsApp Video 2025-08-10 at 12.34.42 PM.mp4: 384x640 (no detections), 10.7ms\n",
            "video 1/1 (frame 37/856) /content/WhatsApp Video 2025-08-10 at 12.34.42 PM.mp4: 384x640 (no detections), 10.7ms\n",
            "video 1/1 (frame 38/856) /content/WhatsApp Video 2025-08-10 at 12.34.42 PM.mp4: 384x640 (no detections), 10.7ms\n",
            "video 1/1 (frame 39/856) /content/WhatsApp Video 2025-08-10 at 12.34.42 PM.mp4: 384x640 (no detections), 11.0ms\n",
            "video 1/1 (frame 40/856) /content/WhatsApp Video 2025-08-10 at 12.34.42 PM.mp4: 384x640 (no detections), 10.7ms\n",
            "video 1/1 (frame 41/856) /content/WhatsApp Video 2025-08-10 at 12.34.42 PM.mp4: 384x640 (no detections), 10.7ms\n",
            "video 1/1 (frame 42/856) /content/WhatsApp Video 2025-08-10 at 12.34.42 PM.mp4: 384x640 (no detections), 10.8ms\n",
            "video 1/1 (frame 43/856) /content/WhatsApp Video 2025-08-10 at 12.34.42 PM.mp4: 384x640 (no detections), 10.8ms\n",
            "video 1/1 (frame 44/856) /content/WhatsApp Video 2025-08-10 at 12.34.42 PM.mp4: 384x640 (no detections), 10.8ms\n",
            "video 1/1 (frame 45/856) /content/WhatsApp Video 2025-08-10 at 12.34.42 PM.mp4: 384x640 (no detections), 10.7ms\n",
            "video 1/1 (frame 46/856) /content/WhatsApp Video 2025-08-10 at 12.34.42 PM.mp4: 384x640 (no detections), 10.8ms\n",
            "video 1/1 (frame 47/856) /content/WhatsApp Video 2025-08-10 at 12.34.42 PM.mp4: 384x640 (no detections), 10.7ms\n",
            "video 1/1 (frame 48/856) /content/WhatsApp Video 2025-08-10 at 12.34.42 PM.mp4: 384x640 (no detections), 10.7ms\n",
            "video 1/1 (frame 49/856) /content/WhatsApp Video 2025-08-10 at 12.34.42 PM.mp4: 384x640 (no detections), 12.9ms\n",
            "video 1/1 (frame 50/856) /content/WhatsApp Video 2025-08-10 at 12.34.42 PM.mp4: 384x640 (no detections), 11.9ms\n",
            "video 1/1 (frame 51/856) /content/WhatsApp Video 2025-08-10 at 12.34.42 PM.mp4: 384x640 (no detections), 10.9ms\n",
            "video 1/1 (frame 52/856) /content/WhatsApp Video 2025-08-10 at 12.34.42 PM.mp4: 384x640 (no detections), 12.2ms\n",
            "video 1/1 (frame 53/856) /content/WhatsApp Video 2025-08-10 at 12.34.42 PM.mp4: 384x640 (no detections), 10.8ms\n",
            "video 1/1 (frame 54/856) /content/WhatsApp Video 2025-08-10 at 12.34.42 PM.mp4: 384x640 (no detections), 11.3ms\n",
            "video 1/1 (frame 55/856) /content/WhatsApp Video 2025-08-10 at 12.34.42 PM.mp4: 384x640 (no detections), 10.8ms\n",
            "video 1/1 (frame 56/856) /content/WhatsApp Video 2025-08-10 at 12.34.42 PM.mp4: 384x640 (no detections), 10.8ms\n",
            "video 1/1 (frame 57/856) /content/WhatsApp Video 2025-08-10 at 12.34.42 PM.mp4: 384x640 (no detections), 10.8ms\n",
            "video 1/1 (frame 58/856) /content/WhatsApp Video 2025-08-10 at 12.34.42 PM.mp4: 384x640 (no detections), 14.4ms\n",
            "video 1/1 (frame 59/856) /content/WhatsApp Video 2025-08-10 at 12.34.42 PM.mp4: 384x640 (no detections), 11.0ms\n",
            "video 1/1 (frame 60/856) /content/WhatsApp Video 2025-08-10 at 12.34.42 PM.mp4: 384x640 (no detections), 11.9ms\n",
            "video 1/1 (frame 61/856) /content/WhatsApp Video 2025-08-10 at 12.34.42 PM.mp4: 384x640 (no detections), 14.0ms\n",
            "video 1/1 (frame 62/856) /content/WhatsApp Video 2025-08-10 at 12.34.42 PM.mp4: 384x640 (no detections), 12.9ms\n",
            "video 1/1 (frame 63/856) /content/WhatsApp Video 2025-08-10 at 12.34.42 PM.mp4: 384x640 (no detections), 10.8ms\n",
            "video 1/1 (frame 64/856) /content/WhatsApp Video 2025-08-10 at 12.34.42 PM.mp4: 384x640 (no detections), 11.0ms\n",
            "video 1/1 (frame 65/856) /content/WhatsApp Video 2025-08-10 at 12.34.42 PM.mp4: 384x640 (no detections), 11.9ms\n",
            "video 1/1 (frame 66/856) /content/WhatsApp Video 2025-08-10 at 12.34.42 PM.mp4: 384x640 (no detections), 10.9ms\n",
            "video 1/1 (frame 67/856) /content/WhatsApp Video 2025-08-10 at 12.34.42 PM.mp4: 384x640 (no detections), 13.7ms\n",
            "video 1/1 (frame 68/856) /content/WhatsApp Video 2025-08-10 at 12.34.42 PM.mp4: 384x640 (no detections), 10.7ms\n",
            "video 1/1 (frame 69/856) /content/WhatsApp Video 2025-08-10 at 12.34.42 PM.mp4: 384x640 (no detections), 10.7ms\n",
            "video 1/1 (frame 70/856) /content/WhatsApp Video 2025-08-10 at 12.34.42 PM.mp4: 384x640 (no detections), 10.7ms\n",
            "video 1/1 (frame 71/856) /content/WhatsApp Video 2025-08-10 at 12.34.42 PM.mp4: 384x640 (no detections), 10.7ms\n",
            "video 1/1 (frame 72/856) /content/WhatsApp Video 2025-08-10 at 12.34.42 PM.mp4: 384x640 (no detections), 10.7ms\n",
            "video 1/1 (frame 73/856) /content/WhatsApp Video 2025-08-10 at 12.34.42 PM.mp4: 384x640 (no detections), 10.7ms\n",
            "video 1/1 (frame 74/856) /content/WhatsApp Video 2025-08-10 at 12.34.42 PM.mp4: 384x640 (no detections), 10.7ms\n",
            "video 1/1 (frame 75/856) /content/WhatsApp Video 2025-08-10 at 12.34.42 PM.mp4: 384x640 (no detections), 10.7ms\n",
            "video 1/1 (frame 76/856) /content/WhatsApp Video 2025-08-10 at 12.34.42 PM.mp4: 384x640 (no detections), 10.7ms\n",
            "video 1/1 (frame 77/856) /content/WhatsApp Video 2025-08-10 at 12.34.42 PM.mp4: 384x640 (no detections), 10.7ms\n",
            "video 1/1 (frame 78/856) /content/WhatsApp Video 2025-08-10 at 12.34.42 PM.mp4: 384x640 (no detections), 10.7ms\n",
            "video 1/1 (frame 79/856) /content/WhatsApp Video 2025-08-10 at 12.34.42 PM.mp4: 384x640 (no detections), 10.7ms\n",
            "video 1/1 (frame 80/856) /content/WhatsApp Video 2025-08-10 at 12.34.42 PM.mp4: 384x640 (no detections), 10.8ms\n",
            "video 1/1 (frame 81/856) /content/WhatsApp Video 2025-08-10 at 12.34.42 PM.mp4: 384x640 (no detections), 10.7ms\n",
            "video 1/1 (frame 82/856) /content/WhatsApp Video 2025-08-10 at 12.34.42 PM.mp4: 384x640 (no detections), 10.8ms\n",
            "video 1/1 (frame 83/856) /content/WhatsApp Video 2025-08-10 at 12.34.42 PM.mp4: 384x640 (no detections), 10.7ms\n",
            "video 1/1 (frame 84/856) /content/WhatsApp Video 2025-08-10 at 12.34.42 PM.mp4: 384x640 (no detections), 10.9ms\n",
            "video 1/1 (frame 85/856) /content/WhatsApp Video 2025-08-10 at 12.34.42 PM.mp4: 384x640 1 faculty_of_material_and_chemical_eng, 10.7ms\n",
            "video 1/1 (frame 86/856) /content/WhatsApp Video 2025-08-10 at 12.34.42 PM.mp4: 384x640 1 faculty_of_material_and_chemical_eng, 11.0ms\n",
            "video 1/1 (frame 87/856) /content/WhatsApp Video 2025-08-10 at 12.34.42 PM.mp4: 384x640 1 faculty_of_material_and_chemical_eng, 10.7ms\n",
            "video 1/1 (frame 88/856) /content/WhatsApp Video 2025-08-10 at 12.34.42 PM.mp4: 384x640 1 faculty_of_material_and_chemical_eng, 10.8ms\n",
            "video 1/1 (frame 89/856) /content/WhatsApp Video 2025-08-10 at 12.34.42 PM.mp4: 384x640 1 faculty_of_material_and_chemical_eng, 13.0ms\n",
            "video 1/1 (frame 90/856) /content/WhatsApp Video 2025-08-10 at 12.34.42 PM.mp4: 384x640 1 faculty_of_material_and_chemical_eng, 10.7ms\n",
            "video 1/1 (frame 91/856) /content/WhatsApp Video 2025-08-10 at 12.34.42 PM.mp4: 384x640 1 faculty_of_material_and_chemical_eng, 10.7ms\n",
            "video 1/1 (frame 92/856) /content/WhatsApp Video 2025-08-10 at 12.34.42 PM.mp4: 384x640 1 faculty_of_material_and_chemical_eng, 10.8ms\n",
            "video 1/1 (frame 93/856) /content/WhatsApp Video 2025-08-10 at 12.34.42 PM.mp4: 384x640 (no detections), 10.7ms\n",
            "video 1/1 (frame 94/856) /content/WhatsApp Video 2025-08-10 at 12.34.42 PM.mp4: 384x640 (no detections), 10.8ms\n",
            "video 1/1 (frame 95/856) /content/WhatsApp Video 2025-08-10 at 12.34.42 PM.mp4: 384x640 (no detections), 10.7ms\n",
            "video 1/1 (frame 96/856) /content/WhatsApp Video 2025-08-10 at 12.34.42 PM.mp4: 384x640 (no detections), 10.7ms\n",
            "video 1/1 (frame 97/856) /content/WhatsApp Video 2025-08-10 at 12.34.42 PM.mp4: 384x640 1 faculty_of_material_and_chemical_eng, 10.7ms\n",
            "video 1/1 (frame 98/856) /content/WhatsApp Video 2025-08-10 at 12.34.42 PM.mp4: 384x640 (no detections), 10.7ms\n",
            "video 1/1 (frame 99/856) /content/WhatsApp Video 2025-08-10 at 12.34.42 PM.mp4: 384x640 1 faculty_of_material_and_chemical_eng, 10.7ms\n",
            "video 1/1 (frame 100/856) /content/WhatsApp Video 2025-08-10 at 12.34.42 PM.mp4: 384x640 1 faculty_of_material_and_chemical_eng, 10.7ms\n",
            "video 1/1 (frame 101/856) /content/WhatsApp Video 2025-08-10 at 12.34.42 PM.mp4: 384x640 (no detections), 10.7ms\n",
            "video 1/1 (frame 102/856) /content/WhatsApp Video 2025-08-10 at 12.34.42 PM.mp4: 384x640 (no detections), 10.7ms\n",
            "video 1/1 (frame 103/856) /content/WhatsApp Video 2025-08-10 at 12.34.42 PM.mp4: 384x640 (no detections), 10.7ms\n",
            "video 1/1 (frame 104/856) /content/WhatsApp Video 2025-08-10 at 12.34.42 PM.mp4: 384x640 (no detections), 10.8ms\n",
            "video 1/1 (frame 105/856) /content/WhatsApp Video 2025-08-10 at 12.34.42 PM.mp4: 384x640 (no detections), 11.1ms\n",
            "video 1/1 (frame 106/856) /content/WhatsApp Video 2025-08-10 at 12.34.42 PM.mp4: 384x640 (no detections), 10.7ms\n",
            "video 1/1 (frame 107/856) /content/WhatsApp Video 2025-08-10 at 12.34.42 PM.mp4: 384x640 (no detections), 10.7ms\n",
            "video 1/1 (frame 108/856) /content/WhatsApp Video 2025-08-10 at 12.34.42 PM.mp4: 384x640 (no detections), 10.8ms\n",
            "video 1/1 (frame 109/856) /content/WhatsApp Video 2025-08-10 at 12.34.42 PM.mp4: 384x640 (no detections), 10.7ms\n",
            "video 1/1 (frame 110/856) /content/WhatsApp Video 2025-08-10 at 12.34.42 PM.mp4: 384x640 (no detections), 10.7ms\n",
            "video 1/1 (frame 111/856) /content/WhatsApp Video 2025-08-10 at 12.34.42 PM.mp4: 384x640 (no detections), 10.8ms\n",
            "video 1/1 (frame 112/856) /content/WhatsApp Video 2025-08-10 at 12.34.42 PM.mp4: 384x640 (no detections), 10.7ms\n",
            "video 1/1 (frame 113/856) /content/WhatsApp Video 2025-08-10 at 12.34.42 PM.mp4: 384x640 (no detections), 11.6ms\n",
            "video 1/1 (frame 114/856) /content/WhatsApp Video 2025-08-10 at 12.34.42 PM.mp4: 384x640 (no detections), 10.7ms\n",
            "video 1/1 (frame 115/856) /content/WhatsApp Video 2025-08-10 at 12.34.42 PM.mp4: 384x640 (no detections), 10.8ms\n",
            "video 1/1 (frame 116/856) /content/WhatsApp Video 2025-08-10 at 12.34.42 PM.mp4: 384x640 (no detections), 10.7ms\n",
            "video 1/1 (frame 117/856) /content/WhatsApp Video 2025-08-10 at 12.34.42 PM.mp4: 384x640 (no detections), 10.8ms\n",
            "video 1/1 (frame 118/856) /content/WhatsApp Video 2025-08-10 at 12.34.42 PM.mp4: 384x640 (no detections), 10.8ms\n",
            "video 1/1 (frame 119/856) /content/WhatsApp Video 2025-08-10 at 12.34.42 PM.mp4: 384x640 (no detections), 10.8ms\n",
            "video 1/1 (frame 120/856) /content/WhatsApp Video 2025-08-10 at 12.34.42 PM.mp4: 384x640 (no detections), 10.7ms\n",
            "video 1/1 (frame 121/856) /content/WhatsApp Video 2025-08-10 at 12.34.42 PM.mp4: 384x640 (no detections), 10.8ms\n",
            "video 1/1 (frame 122/856) /content/WhatsApp Video 2025-08-10 at 12.34.42 PM.mp4: 384x640 (no detections), 10.8ms\n",
            "video 1/1 (frame 123/856) /content/WhatsApp Video 2025-08-10 at 12.34.42 PM.mp4: 384x640 (no detections), 10.7ms\n",
            "video 1/1 (frame 124/856) /content/WhatsApp Video 2025-08-10 at 12.34.42 PM.mp4: 384x640 (no detections), 10.7ms\n",
            "video 1/1 (frame 125/856) /content/WhatsApp Video 2025-08-10 at 12.34.42 PM.mp4: 384x640 (no detections), 10.7ms\n",
            "video 1/1 (frame 126/856) /content/WhatsApp Video 2025-08-10 at 12.34.42 PM.mp4: 384x640 (no detections), 10.7ms\n",
            "video 1/1 (frame 127/856) /content/WhatsApp Video 2025-08-10 at 12.34.42 PM.mp4: 384x640 (no detections), 10.8ms\n",
            "video 1/1 (frame 128/856) /content/WhatsApp Video 2025-08-10 at 12.34.42 PM.mp4: 384x640 (no detections), 10.7ms\n",
            "video 1/1 (frame 129/856) /content/WhatsApp Video 2025-08-10 at 12.34.42 PM.mp4: 384x640 (no detections), 10.7ms\n",
            "video 1/1 (frame 130/856) /content/WhatsApp Video 2025-08-10 at 12.34.42 PM.mp4: 384x640 (no detections), 10.7ms\n",
            "video 1/1 (frame 131/856) /content/WhatsApp Video 2025-08-10 at 12.34.42 PM.mp4: 384x640 (no detections), 10.7ms\n",
            "video 1/1 (frame 132/856) /content/WhatsApp Video 2025-08-10 at 12.34.42 PM.mp4: 384x640 (no detections), 10.7ms\n",
            "video 1/1 (frame 133/856) /content/WhatsApp Video 2025-08-10 at 12.34.42 PM.mp4: 384x640 (no detections), 10.7ms\n",
            "video 1/1 (frame 134/856) /content/WhatsApp Video 2025-08-10 at 12.34.42 PM.mp4: 384x640 (no detections), 10.7ms\n",
            "video 1/1 (frame 135/856) /content/WhatsApp Video 2025-08-10 at 12.34.42 PM.mp4: 384x640 (no detections), 10.8ms\n",
            "video 1/1 (frame 136/856) /content/WhatsApp Video 2025-08-10 at 12.34.42 PM.mp4: 384x640 (no detections), 10.8ms\n",
            "video 1/1 (frame 137/856) /content/WhatsApp Video 2025-08-10 at 12.34.42 PM.mp4: 384x640 (no detections), 10.8ms\n",
            "video 1/1 (frame 138/856) /content/WhatsApp Video 2025-08-10 at 12.34.42 PM.mp4: 384x640 (no detections), 10.8ms\n",
            "video 1/1 (frame 139/856) /content/WhatsApp Video 2025-08-10 at 12.34.42 PM.mp4: 384x640 (no detections), 10.8ms\n",
            "video 1/1 (frame 140/856) /content/WhatsApp Video 2025-08-10 at 12.34.42 PM.mp4: 384x640 (no detections), 10.8ms\n",
            "video 1/1 (frame 141/856) /content/WhatsApp Video 2025-08-10 at 12.34.42 PM.mp4: 384x640 (no detections), 10.7ms\n",
            "video 1/1 (frame 142/856) /content/WhatsApp Video 2025-08-10 at 12.34.42 PM.mp4: 384x640 (no detections), 10.7ms\n",
            "video 1/1 (frame 143/856) /content/WhatsApp Video 2025-08-10 at 12.34.42 PM.mp4: 384x640 (no detections), 10.7ms\n",
            "video 1/1 (frame 144/856) /content/WhatsApp Video 2025-08-10 at 12.34.42 PM.mp4: 384x640 (no detections), 10.7ms\n",
            "video 1/1 (frame 145/856) /content/WhatsApp Video 2025-08-10 at 12.34.42 PM.mp4: 384x640 (no detections), 10.7ms\n",
            "video 1/1 (frame 146/856) /content/WhatsApp Video 2025-08-10 at 12.34.42 PM.mp4: 384x640 (no detections), 10.8ms\n",
            "video 1/1 (frame 147/856) /content/WhatsApp Video 2025-08-10 at 12.34.42 PM.mp4: 384x640 (no detections), 10.7ms\n",
            "video 1/1 (frame 148/856) /content/WhatsApp Video 2025-08-10 at 12.34.42 PM.mp4: 384x640 (no detections), 10.8ms\n",
            "video 1/1 (frame 149/856) /content/WhatsApp Video 2025-08-10 at 12.34.42 PM.mp4: 384x640 (no detections), 10.7ms\n",
            "video 1/1 (frame 150/856) /content/WhatsApp Video 2025-08-10 at 12.34.42 PM.mp4: 384x640 (no detections), 10.8ms\n",
            "video 1/1 (frame 151/856) /content/WhatsApp Video 2025-08-10 at 12.34.42 PM.mp4: 384x640 (no detections), 10.7ms\n",
            "video 1/1 (frame 152/856) /content/WhatsApp Video 2025-08-10 at 12.34.42 PM.mp4: 384x640 (no detections), 11.0ms\n",
            "video 1/1 (frame 153/856) /content/WhatsApp Video 2025-08-10 at 12.34.42 PM.mp4: 384x640 (no detections), 10.7ms\n",
            "video 1/1 (frame 154/856) /content/WhatsApp Video 2025-08-10 at 12.34.42 PM.mp4: 384x640 (no detections), 10.8ms\n",
            "video 1/1 (frame 155/856) /content/WhatsApp Video 2025-08-10 at 12.34.42 PM.mp4: 384x640 (no detections), 10.7ms\n",
            "video 1/1 (frame 156/856) /content/WhatsApp Video 2025-08-10 at 12.34.42 PM.mp4: 384x640 (no detections), 10.8ms\n",
            "video 1/1 (frame 157/856) /content/WhatsApp Video 2025-08-10 at 12.34.42 PM.mp4: 384x640 (no detections), 10.7ms\n",
            "video 1/1 (frame 158/856) /content/WhatsApp Video 2025-08-10 at 12.34.42 PM.mp4: 384x640 (no detections), 10.7ms\n",
            "video 1/1 (frame 159/856) /content/WhatsApp Video 2025-08-10 at 12.34.42 PM.mp4: 384x640 (no detections), 10.8ms\n",
            "video 1/1 (frame 160/856) /content/WhatsApp Video 2025-08-10 at 12.34.42 PM.mp4: 384x640 (no detections), 10.9ms\n",
            "video 1/1 (frame 161/856) /content/WhatsApp Video 2025-08-10 at 12.34.42 PM.mp4: 384x640 (no detections), 10.8ms\n",
            "video 1/1 (frame 162/856) /content/WhatsApp Video 2025-08-10 at 12.34.42 PM.mp4: 384x640 (no detections), 10.8ms\n",
            "video 1/1 (frame 163/856) /content/WhatsApp Video 2025-08-10 at 12.34.42 PM.mp4: 384x640 (no detections), 10.8ms\n",
            "video 1/1 (frame 164/856) /content/WhatsApp Video 2025-08-10 at 12.34.42 PM.mp4: 384x640 (no detections), 10.8ms\n",
            "video 1/1 (frame 165/856) /content/WhatsApp Video 2025-08-10 at 12.34.42 PM.mp4: 384x640 (no detections), 10.7ms\n",
            "video 1/1 (frame 166/856) /content/WhatsApp Video 2025-08-10 at 12.34.42 PM.mp4: 384x640 (no detections), 10.8ms\n",
            "video 1/1 (frame 167/856) /content/WhatsApp Video 2025-08-10 at 12.34.42 PM.mp4: 384x640 (no detections), 10.8ms\n",
            "video 1/1 (frame 168/856) /content/WhatsApp Video 2025-08-10 at 12.34.42 PM.mp4: 384x640 1 new_academic_block, 10.8ms\n",
            "video 1/1 (frame 169/856) /content/WhatsApp Video 2025-08-10 at 12.34.42 PM.mp4: 384x640 1 new_academic_block, 10.7ms\n",
            "video 1/1 (frame 170/856) /content/WhatsApp Video 2025-08-10 at 12.34.42 PM.mp4: 384x640 1 new_academic_block, 10.7ms\n",
            "video 1/1 (frame 171/856) /content/WhatsApp Video 2025-08-10 at 12.34.42 PM.mp4: 384x640 1 new_academic_block, 10.7ms\n",
            "video 1/1 (frame 172/856) /content/WhatsApp Video 2025-08-10 at 12.34.42 PM.mp4: 384x640 1 new_academic_block, 10.7ms\n",
            "video 1/1 (frame 173/856) /content/WhatsApp Video 2025-08-10 at 12.34.42 PM.mp4: 384x640 1 new_academic_block, 10.7ms\n",
            "video 1/1 (frame 174/856) /content/WhatsApp Video 2025-08-10 at 12.34.42 PM.mp4: 384x640 1 new_academic_block, 10.7ms\n",
            "video 1/1 (frame 175/856) /content/WhatsApp Video 2025-08-10 at 12.34.42 PM.mp4: 384x640 1 new_academic_block, 10.7ms\n",
            "video 1/1 (frame 176/856) /content/WhatsApp Video 2025-08-10 at 12.34.42 PM.mp4: 384x640 1 new_academic_block, 10.7ms\n",
            "video 1/1 (frame 177/856) /content/WhatsApp Video 2025-08-10 at 12.34.42 PM.mp4: 384x640 1 new_academic_block, 10.7ms\n",
            "video 1/1 (frame 178/856) /content/WhatsApp Video 2025-08-10 at 12.34.42 PM.mp4: 384x640 1 new_academic_block, 10.7ms\n",
            "video 1/1 (frame 179/856) /content/WhatsApp Video 2025-08-10 at 12.34.42 PM.mp4: 384x640 1 new_academic_block, 10.7ms\n",
            "video 1/1 (frame 180/856) /content/WhatsApp Video 2025-08-10 at 12.34.42 PM.mp4: 384x640 1 new_academic_block, 10.7ms\n",
            "video 1/1 (frame 181/856) /content/WhatsApp Video 2025-08-10 at 12.34.42 PM.mp4: 384x640 1 new_academic_block, 10.7ms\n",
            "video 1/1 (frame 182/856) /content/WhatsApp Video 2025-08-10 at 12.34.42 PM.mp4: 384x640 1 new_academic_block, 10.8ms\n",
            "video 1/1 (frame 183/856) /content/WhatsApp Video 2025-08-10 at 12.34.42 PM.mp4: 384x640 1 new_academic_block, 10.7ms\n",
            "video 1/1 (frame 184/856) /content/WhatsApp Video 2025-08-10 at 12.34.42 PM.mp4: 384x640 1 new_academic_block, 10.8ms\n",
            "video 1/1 (frame 185/856) /content/WhatsApp Video 2025-08-10 at 12.34.42 PM.mp4: 384x640 1 new_academic_block, 10.8ms\n",
            "video 1/1 (frame 186/856) /content/WhatsApp Video 2025-08-10 at 12.34.42 PM.mp4: 384x640 1 new_academic_block, 10.8ms\n",
            "video 1/1 (frame 187/856) /content/WhatsApp Video 2025-08-10 at 12.34.42 PM.mp4: 384x640 1 new_academic_block, 10.8ms\n",
            "video 1/1 (frame 188/856) /content/WhatsApp Video 2025-08-10 at 12.34.42 PM.mp4: 384x640 1 new_academic_block, 11.3ms\n",
            "video 1/1 (frame 189/856) /content/WhatsApp Video 2025-08-10 at 12.34.42 PM.mp4: 384x640 1 new_academic_block, 10.7ms\n",
            "video 1/1 (frame 190/856) /content/WhatsApp Video 2025-08-10 at 12.34.42 PM.mp4: 384x640 1 new_academic_block, 10.7ms\n",
            "video 1/1 (frame 191/856) /content/WhatsApp Video 2025-08-10 at 12.34.42 PM.mp4: 384x640 1 new_academic_block, 10.7ms\n",
            "video 1/1 (frame 192/856) /content/WhatsApp Video 2025-08-10 at 12.34.42 PM.mp4: 384x640 1 new_academic_block, 10.7ms\n",
            "video 1/1 (frame 193/856) /content/WhatsApp Video 2025-08-10 at 12.34.42 PM.mp4: 384x640 1 new_academic_block, 10.7ms\n",
            "video 1/1 (frame 194/856) /content/WhatsApp Video 2025-08-10 at 12.34.42 PM.mp4: 384x640 1 new_academic_block, 10.7ms\n",
            "video 1/1 (frame 195/856) /content/WhatsApp Video 2025-08-10 at 12.34.42 PM.mp4: 384x640 1 new_academic_block, 10.7ms\n",
            "video 1/1 (frame 196/856) /content/WhatsApp Video 2025-08-10 at 12.34.42 PM.mp4: 384x640 1 new_academic_block, 10.7ms\n",
            "video 1/1 (frame 197/856) /content/WhatsApp Video 2025-08-10 at 12.34.42 PM.mp4: 384x640 1 new_academic_block, 10.7ms\n",
            "video 1/1 (frame 198/856) /content/WhatsApp Video 2025-08-10 at 12.34.42 PM.mp4: 384x640 1 new_academic_block, 10.8ms\n",
            "video 1/1 (frame 199/856) /content/WhatsApp Video 2025-08-10 at 12.34.42 PM.mp4: 384x640 1 new_academic_block, 10.8ms\n",
            "video 1/1 (frame 200/856) /content/WhatsApp Video 2025-08-10 at 12.34.42 PM.mp4: 384x640 1 new_academic_block, 10.7ms\n",
            "video 1/1 (frame 201/856) /content/WhatsApp Video 2025-08-10 at 12.34.42 PM.mp4: 384x640 1 new_academic_block, 10.7ms\n",
            "video 1/1 (frame 202/856) /content/WhatsApp Video 2025-08-10 at 12.34.42 PM.mp4: 384x640 1 new_academic_block, 10.7ms\n",
            "video 1/1 (frame 203/856) /content/WhatsApp Video 2025-08-10 at 12.34.42 PM.mp4: 384x640 1 new_academic_block, 10.7ms\n",
            "video 1/1 (frame 204/856) /content/WhatsApp Video 2025-08-10 at 12.34.42 PM.mp4: 384x640 1 new_academic_block, 10.8ms\n",
            "video 1/1 (frame 205/856) /content/WhatsApp Video 2025-08-10 at 12.34.42 PM.mp4: 384x640 1 new_academic_block, 10.7ms\n",
            "video 1/1 (frame 206/856) /content/WhatsApp Video 2025-08-10 at 12.34.42 PM.mp4: 384x640 1 new_academic_block, 10.7ms\n",
            "video 1/1 (frame 207/856) /content/WhatsApp Video 2025-08-10 at 12.34.42 PM.mp4: 384x640 1 new_academic_block, 10.8ms\n",
            "video 1/1 (frame 208/856) /content/WhatsApp Video 2025-08-10 at 12.34.42 PM.mp4: 384x640 1 new_academic_block, 10.7ms\n",
            "video 1/1 (frame 209/856) /content/WhatsApp Video 2025-08-10 at 12.34.42 PM.mp4: 384x640 1 new_academic_block, 10.7ms\n",
            "video 1/1 (frame 210/856) /content/WhatsApp Video 2025-08-10 at 12.34.42 PM.mp4: 384x640 1 new_academic_block, 10.8ms\n",
            "video 1/1 (frame 211/856) /content/WhatsApp Video 2025-08-10 at 12.34.42 PM.mp4: 384x640 1 new_academic_block, 10.7ms\n",
            "video 1/1 (frame 212/856) /content/WhatsApp Video 2025-08-10 at 12.34.42 PM.mp4: 384x640 1 new_academic_block, 10.7ms\n",
            "video 1/1 (frame 213/856) /content/WhatsApp Video 2025-08-10 at 12.34.42 PM.mp4: 384x640 1 new_academic_block, 10.8ms\n",
            "video 1/1 (frame 214/856) /content/WhatsApp Video 2025-08-10 at 12.34.42 PM.mp4: 384x640 1 new_academic_block, 10.7ms\n",
            "video 1/1 (frame 215/856) /content/WhatsApp Video 2025-08-10 at 12.34.42 PM.mp4: 384x640 1 new_academic_block, 10.8ms\n",
            "video 1/1 (frame 216/856) /content/WhatsApp Video 2025-08-10 at 12.34.42 PM.mp4: 384x640 1 new_academic_block, 10.7ms\n",
            "video 1/1 (frame 217/856) /content/WhatsApp Video 2025-08-10 at 12.34.42 PM.mp4: 384x640 1 new_academic_block, 10.8ms\n",
            "video 1/1 (frame 218/856) /content/WhatsApp Video 2025-08-10 at 12.34.42 PM.mp4: 384x640 1 new_academic_block, 10.8ms\n",
            "video 1/1 (frame 219/856) /content/WhatsApp Video 2025-08-10 at 12.34.42 PM.mp4: 384x640 1 new_academic_block, 10.8ms\n",
            "video 1/1 (frame 220/856) /content/WhatsApp Video 2025-08-10 at 12.34.42 PM.mp4: 384x640 1 new_academic_block, 10.8ms\n",
            "video 1/1 (frame 221/856) /content/WhatsApp Video 2025-08-10 at 12.34.42 PM.mp4: 384x640 1 new_academic_block, 10.7ms\n",
            "video 1/1 (frame 222/856) /content/WhatsApp Video 2025-08-10 at 12.34.42 PM.mp4: 384x640 1 new_academic_block, 10.8ms\n",
            "video 1/1 (frame 223/856) /content/WhatsApp Video 2025-08-10 at 12.34.42 PM.mp4: 384x640 1 new_academic_block, 10.7ms\n",
            "video 1/1 (frame 224/856) /content/WhatsApp Video 2025-08-10 at 12.34.42 PM.mp4: 384x640 1 new_academic_block, 11.0ms\n",
            "video 1/1 (frame 225/856) /content/WhatsApp Video 2025-08-10 at 12.34.42 PM.mp4: 384x640 1 new_academic_block, 10.8ms\n",
            "video 1/1 (frame 226/856) /content/WhatsApp Video 2025-08-10 at 12.34.42 PM.mp4: 384x640 1 new_academic_block, 10.8ms\n",
            "video 1/1 (frame 227/856) /content/WhatsApp Video 2025-08-10 at 12.34.42 PM.mp4: 384x640 1 new_academic_block, 10.7ms\n",
            "video 1/1 (frame 228/856) /content/WhatsApp Video 2025-08-10 at 12.34.42 PM.mp4: 384x640 1 new_academic_block, 10.8ms\n",
            "video 1/1 (frame 229/856) /content/WhatsApp Video 2025-08-10 at 12.34.42 PM.mp4: 384x640 1 new_academic_block, 10.7ms\n",
            "video 1/1 (frame 230/856) /content/WhatsApp Video 2025-08-10 at 12.34.42 PM.mp4: 384x640 1 new_academic_block, 10.7ms\n",
            "video 1/1 (frame 231/856) /content/WhatsApp Video 2025-08-10 at 12.34.42 PM.mp4: 384x640 1 new_academic_block, 10.7ms\n",
            "video 1/1 (frame 232/856) /content/WhatsApp Video 2025-08-10 at 12.34.42 PM.mp4: 384x640 1 new_academic_block, 11.0ms\n",
            "video 1/1 (frame 233/856) /content/WhatsApp Video 2025-08-10 at 12.34.42 PM.mp4: 384x640 1 new_academic_block, 11.0ms\n",
            "video 1/1 (frame 234/856) /content/WhatsApp Video 2025-08-10 at 12.34.42 PM.mp4: 384x640 1 new_academic_block, 10.7ms\n",
            "video 1/1 (frame 235/856) /content/WhatsApp Video 2025-08-10 at 12.34.42 PM.mp4: 384x640 1 new_academic_block, 10.7ms\n",
            "video 1/1 (frame 236/856) /content/WhatsApp Video 2025-08-10 at 12.34.42 PM.mp4: 384x640 1 new_academic_block, 10.7ms\n",
            "video 1/1 (frame 237/856) /content/WhatsApp Video 2025-08-10 at 12.34.42 PM.mp4: 384x640 1 hostel_11, 10.7ms\n",
            "video 1/1 (frame 238/856) /content/WhatsApp Video 2025-08-10 at 12.34.42 PM.mp4: 384x640 1 hostel_11, 10.7ms\n",
            "video 1/1 (frame 239/856) /content/WhatsApp Video 2025-08-10 at 12.34.42 PM.mp4: 384x640 1 hostel_11, 10.7ms\n",
            "video 1/1 (frame 240/856) /content/WhatsApp Video 2025-08-10 at 12.34.42 PM.mp4: 384x640 1 hostel_11, 10.8ms\n",
            "video 1/1 (frame 241/856) /content/WhatsApp Video 2025-08-10 at 12.34.42 PM.mp4: 384x640 1 hostel_11, 10.7ms\n",
            "video 1/1 (frame 242/856) /content/WhatsApp Video 2025-08-10 at 12.34.42 PM.mp4: 384x640 1 hostel_11, 10.7ms\n",
            "video 1/1 (frame 243/856) /content/WhatsApp Video 2025-08-10 at 12.34.42 PM.mp4: 384x640 1 hostel_11, 10.7ms\n",
            "video 1/1 (frame 244/856) /content/WhatsApp Video 2025-08-10 at 12.34.42 PM.mp4: 384x640 1 hostel_11, 10.8ms\n",
            "video 1/1 (frame 245/856) /content/WhatsApp Video 2025-08-10 at 12.34.42 PM.mp4: 384x640 1 hostel_11, 10.8ms\n",
            "video 1/1 (frame 246/856) /content/WhatsApp Video 2025-08-10 at 12.34.42 PM.mp4: 384x640 1 hostel_11, 10.7ms\n",
            "video 1/1 (frame 247/856) /content/WhatsApp Video 2025-08-10 at 12.34.42 PM.mp4: 384x640 1 hostel_11, 10.8ms\n",
            "video 1/1 (frame 248/856) /content/WhatsApp Video 2025-08-10 at 12.34.42 PM.mp4: 384x640 1 hostel_11, 13.4ms\n",
            "video 1/1 (frame 249/856) /content/WhatsApp Video 2025-08-10 at 12.34.42 PM.mp4: 384x640 1 hostel_11, 10.8ms\n",
            "video 1/1 (frame 250/856) /content/WhatsApp Video 2025-08-10 at 12.34.42 PM.mp4: 384x640 1 hostel_11, 10.7ms\n",
            "video 1/1 (frame 251/856) /content/WhatsApp Video 2025-08-10 at 12.34.42 PM.mp4: 384x640 1 hostel_11, 10.7ms\n",
            "video 1/1 (frame 252/856) /content/WhatsApp Video 2025-08-10 at 12.34.42 PM.mp4: 384x640 1 hostel_11, 10.8ms\n",
            "video 1/1 (frame 253/856) /content/WhatsApp Video 2025-08-10 at 12.34.42 PM.mp4: 384x640 1 hostel_11, 10.7ms\n",
            "video 1/1 (frame 254/856) /content/WhatsApp Video 2025-08-10 at 12.34.42 PM.mp4: 384x640 1 hostel_11, 10.7ms\n",
            "video 1/1 (frame 255/856) /content/WhatsApp Video 2025-08-10 at 12.34.42 PM.mp4: 384x640 1 hostel_11, 11.6ms\n",
            "video 1/1 (frame 256/856) /content/WhatsApp Video 2025-08-10 at 12.34.42 PM.mp4: 384x640 1 hostel_11, 10.8ms\n",
            "video 1/1 (frame 257/856) /content/WhatsApp Video 2025-08-10 at 12.34.42 PM.mp4: 384x640 1 hostel_11, 10.8ms\n",
            "video 1/1 (frame 258/856) /content/WhatsApp Video 2025-08-10 at 12.34.42 PM.mp4: 384x640 1 hostel_11, 10.7ms\n",
            "video 1/1 (frame 259/856) /content/WhatsApp Video 2025-08-10 at 12.34.42 PM.mp4: 384x640 1 hostel_11, 10.7ms\n",
            "video 1/1 (frame 260/856) /content/WhatsApp Video 2025-08-10 at 12.34.42 PM.mp4: 384x640 1 hostel_11, 10.7ms\n",
            "video 1/1 (frame 261/856) /content/WhatsApp Video 2025-08-10 at 12.34.42 PM.mp4: 384x640 1 hostel_11, 10.7ms\n",
            "video 1/1 (frame 262/856) /content/WhatsApp Video 2025-08-10 at 12.34.42 PM.mp4: 384x640 1 hostel_11, 10.7ms\n",
            "video 1/1 (frame 263/856) /content/WhatsApp Video 2025-08-10 at 12.34.42 PM.mp4: 384x640 1 hostel_11, 10.7ms\n",
            "video 1/1 (frame 264/856) /content/WhatsApp Video 2025-08-10 at 12.34.42 PM.mp4: 384x640 1 hostel_11, 10.8ms\n",
            "video 1/1 (frame 265/856) /content/WhatsApp Video 2025-08-10 at 12.34.42 PM.mp4: 384x640 1 hostel_11, 10.7ms\n",
            "video 1/1 (frame 266/856) /content/WhatsApp Video 2025-08-10 at 12.34.42 PM.mp4: 384x640 1 hostel_11, 10.7ms\n",
            "video 1/1 (frame 267/856) /content/WhatsApp Video 2025-08-10 at 12.34.42 PM.mp4: 384x640 1 hostel_11, 10.7ms\n",
            "video 1/1 (frame 268/856) /content/WhatsApp Video 2025-08-10 at 12.34.42 PM.mp4: 384x640 1 hostel_11, 10.7ms\n",
            "video 1/1 (frame 269/856) /content/WhatsApp Video 2025-08-10 at 12.34.42 PM.mp4: 384x640 1 hostel_11, 10.7ms\n",
            "video 1/1 (frame 270/856) /content/WhatsApp Video 2025-08-10 at 12.34.42 PM.mp4: 384x640 1 hostel_11, 10.7ms\n",
            "video 1/1 (frame 271/856) /content/WhatsApp Video 2025-08-10 at 12.34.42 PM.mp4: 384x640 1 hostel_11, 10.7ms\n",
            "video 1/1 (frame 272/856) /content/WhatsApp Video 2025-08-10 at 12.34.42 PM.mp4: 384x640 1 hostel_11, 10.8ms\n",
            "video 1/1 (frame 273/856) /content/WhatsApp Video 2025-08-10 at 12.34.42 PM.mp4: 384x640 1 hostel_11, 10.7ms\n",
            "video 1/1 (frame 274/856) /content/WhatsApp Video 2025-08-10 at 12.34.42 PM.mp4: 384x640 1 hostel_11, 10.7ms\n",
            "video 1/1 (frame 275/856) /content/WhatsApp Video 2025-08-10 at 12.34.42 PM.mp4: 384x640 1 hostel_11, 10.7ms\n",
            "video 1/1 (frame 276/856) /content/WhatsApp Video 2025-08-10 at 12.34.42 PM.mp4: 384x640 1 hostel_11, 10.7ms\n",
            "video 1/1 (frame 277/856) /content/WhatsApp Video 2025-08-10 at 12.34.42 PM.mp4: 384x640 1 hostel_11, 10.8ms\n",
            "video 1/1 (frame 278/856) /content/WhatsApp Video 2025-08-10 at 12.34.42 PM.mp4: 384x640 1 hostel_11, 10.8ms\n",
            "video 1/1 (frame 279/856) /content/WhatsApp Video 2025-08-10 at 12.34.42 PM.mp4: 384x640 1 hostel_11, 11.9ms\n",
            "video 1/1 (frame 280/856) /content/WhatsApp Video 2025-08-10 at 12.34.42 PM.mp4: 384x640 1 hostel_11, 11.0ms\n",
            "video 1/1 (frame 281/856) /content/WhatsApp Video 2025-08-10 at 12.34.42 PM.mp4: 384x640 1 hostel_11, 10.7ms\n",
            "video 1/1 (frame 282/856) /content/WhatsApp Video 2025-08-10 at 12.34.42 PM.mp4: 384x640 1 hostel_11, 11.1ms\n",
            "video 1/1 (frame 283/856) /content/WhatsApp Video 2025-08-10 at 12.34.42 PM.mp4: 384x640 1 hostel_11, 10.8ms\n",
            "video 1/1 (frame 284/856) /content/WhatsApp Video 2025-08-10 at 12.34.42 PM.mp4: 384x640 1 hostel_11, 10.7ms\n",
            "video 1/1 (frame 285/856) /content/WhatsApp Video 2025-08-10 at 12.34.42 PM.mp4: 384x640 1 hostel_11, 10.7ms\n",
            "video 1/1 (frame 286/856) /content/WhatsApp Video 2025-08-10 at 12.34.42 PM.mp4: 384x640 1 hostel_11, 10.8ms\n",
            "video 1/1 (frame 287/856) /content/WhatsApp Video 2025-08-10 at 12.34.42 PM.mp4: 384x640 1 hostel_11, 10.9ms\n",
            "video 1/1 (frame 288/856) /content/WhatsApp Video 2025-08-10 at 12.34.42 PM.mp4: 384x640 1 hostel_11, 10.7ms\n",
            "video 1/1 (frame 289/856) /content/WhatsApp Video 2025-08-10 at 12.34.42 PM.mp4: 384x640 1 hostel_11, 10.8ms\n",
            "video 1/1 (frame 290/856) /content/WhatsApp Video 2025-08-10 at 12.34.42 PM.mp4: 384x640 1 hostel_11, 10.8ms\n",
            "video 1/1 (frame 291/856) /content/WhatsApp Video 2025-08-10 at 12.34.42 PM.mp4: 384x640 1 hostel_11, 10.8ms\n",
            "video 1/1 (frame 292/856) /content/WhatsApp Video 2025-08-10 at 12.34.42 PM.mp4: 384x640 1 hostel_11, 10.7ms\n",
            "video 1/1 (frame 293/856) /content/WhatsApp Video 2025-08-10 at 12.34.42 PM.mp4: 384x640 1 hostel_11, 10.8ms\n",
            "video 1/1 (frame 294/856) /content/WhatsApp Video 2025-08-10 at 12.34.42 PM.mp4: 384x640 1 hostel_11, 10.7ms\n",
            "video 1/1 (frame 295/856) /content/WhatsApp Video 2025-08-10 at 12.34.42 PM.mp4: 384x640 1 hostel_11, 10.7ms\n",
            "video 1/1 (frame 296/856) /content/WhatsApp Video 2025-08-10 at 12.34.42 PM.mp4: 384x640 1 hostel_11, 10.7ms\n",
            "video 1/1 (frame 297/856) /content/WhatsApp Video 2025-08-10 at 12.34.42 PM.mp4: 384x640 1 hostel_11, 10.7ms\n",
            "video 1/1 (frame 298/856) /content/WhatsApp Video 2025-08-10 at 12.34.42 PM.mp4: 384x640 1 hostel_11, 10.7ms\n",
            "video 1/1 (frame 299/856) /content/WhatsApp Video 2025-08-10 at 12.34.42 PM.mp4: 384x640 1 hostel_11, 10.7ms\n",
            "video 1/1 (frame 300/856) /content/WhatsApp Video 2025-08-10 at 12.34.42 PM.mp4: 384x640 1 hostel_11, 10.7ms\n",
            "video 1/1 (frame 301/856) /content/WhatsApp Video 2025-08-10 at 12.34.42 PM.mp4: 384x640 1 hostel_11, 10.7ms\n",
            "video 1/1 (frame 302/856) /content/WhatsApp Video 2025-08-10 at 12.34.42 PM.mp4: 384x640 2 hostel_11s, 10.7ms\n",
            "video 1/1 (frame 303/856) /content/WhatsApp Video 2025-08-10 at 12.34.42 PM.mp4: 384x640 1 hostel_11, 10.7ms\n",
            "video 1/1 (frame 304/856) /content/WhatsApp Video 2025-08-10 at 12.34.42 PM.mp4: 384x640 1 hostel_11, 10.7ms\n",
            "video 1/1 (frame 305/856) /content/WhatsApp Video 2025-08-10 at 12.34.42 PM.mp4: 384x640 1 hostel_11, 10.8ms\n",
            "video 1/1 (frame 306/856) /content/WhatsApp Video 2025-08-10 at 12.34.42 PM.mp4: 384x640 1 hostel_11, 10.7ms\n",
            "video 1/1 (frame 307/856) /content/WhatsApp Video 2025-08-10 at 12.34.42 PM.mp4: 384x640 1 hostel_11, 10.7ms\n",
            "video 1/1 (frame 308/856) /content/WhatsApp Video 2025-08-10 at 12.34.42 PM.mp4: 384x640 1 hostel_11, 10.7ms\n",
            "video 1/1 (frame 309/856) /content/WhatsApp Video 2025-08-10 at 12.34.42 PM.mp4: 384x640 1 hostel_11, 10.7ms\n",
            "video 1/1 (frame 310/856) /content/WhatsApp Video 2025-08-10 at 12.34.42 PM.mp4: 384x640 1 hostel_11, 10.7ms\n",
            "video 1/1 (frame 311/856) /content/WhatsApp Video 2025-08-10 at 12.34.42 PM.mp4: 384x640 1 hostel_11, 10.8ms\n",
            "video 1/1 (frame 312/856) /content/WhatsApp Video 2025-08-10 at 12.34.42 PM.mp4: 384x640 1 hostel_11, 10.7ms\n",
            "video 1/1 (frame 313/856) /content/WhatsApp Video 2025-08-10 at 12.34.42 PM.mp4: 384x640 1 hostel_11, 10.7ms\n",
            "video 1/1 (frame 314/856) /content/WhatsApp Video 2025-08-10 at 12.34.42 PM.mp4: 384x640 1 hostel_11, 10.7ms\n",
            "video 1/1 (frame 315/856) /content/WhatsApp Video 2025-08-10 at 12.34.42 PM.mp4: 384x640 1 hostel_11, 10.7ms\n",
            "video 1/1 (frame 316/856) /content/WhatsApp Video 2025-08-10 at 12.34.42 PM.mp4: 384x640 1 hostel_11, 10.7ms\n",
            "video 1/1 (frame 317/856) /content/WhatsApp Video 2025-08-10 at 12.34.42 PM.mp4: 384x640 1 hostel_11, 10.7ms\n",
            "video 1/1 (frame 318/856) /content/WhatsApp Video 2025-08-10 at 12.34.42 PM.mp4: 384x640 1 hostel_11, 10.7ms\n",
            "video 1/1 (frame 319/856) /content/WhatsApp Video 2025-08-10 at 12.34.42 PM.mp4: 384x640 1 hostel_11, 10.7ms\n",
            "video 1/1 (frame 320/856) /content/WhatsApp Video 2025-08-10 at 12.34.42 PM.mp4: 384x640 1 hostel_11, 10.7ms\n",
            "video 1/1 (frame 321/856) /content/WhatsApp Video 2025-08-10 at 12.34.42 PM.mp4: 384x640 1 hostel_11, 10.7ms\n",
            "video 1/1 (frame 322/856) /content/WhatsApp Video 2025-08-10 at 12.34.42 PM.mp4: 384x640 1 hostel_11, 10.7ms\n",
            "video 1/1 (frame 323/856) /content/WhatsApp Video 2025-08-10 at 12.34.42 PM.mp4: 384x640 2 hostel_11s, 10.7ms\n",
            "video 1/1 (frame 324/856) /content/WhatsApp Video 2025-08-10 at 12.34.42 PM.mp4: 384x640 2 hostel_11s, 10.8ms\n",
            "video 1/1 (frame 325/856) /content/WhatsApp Video 2025-08-10 at 12.34.42 PM.mp4: 384x640 2 hostel_11s, 10.7ms\n",
            "video 1/1 (frame 326/856) /content/WhatsApp Video 2025-08-10 at 12.34.42 PM.mp4: 384x640 1 hostel_11, 10.7ms\n",
            "video 1/1 (frame 327/856) /content/WhatsApp Video 2025-08-10 at 12.34.42 PM.mp4: 384x640 1 hostel_11, 10.7ms\n",
            "video 1/1 (frame 328/856) /content/WhatsApp Video 2025-08-10 at 12.34.42 PM.mp4: 384x640 1 hostel_11, 10.7ms\n",
            "video 1/1 (frame 329/856) /content/WhatsApp Video 2025-08-10 at 12.34.42 PM.mp4: 384x640 1 hostel_11, 10.7ms\n",
            "video 1/1 (frame 330/856) /content/WhatsApp Video 2025-08-10 at 12.34.42 PM.mp4: 384x640 1 hostel_11, 10.7ms\n",
            "video 1/1 (frame 331/856) /content/WhatsApp Video 2025-08-10 at 12.34.42 PM.mp4: 384x640 1 hostel_11, 10.7ms\n",
            "video 1/1 (frame 332/856) /content/WhatsApp Video 2025-08-10 at 12.34.42 PM.mp4: 384x640 1 hostel_11, 10.7ms\n",
            "video 1/1 (frame 333/856) /content/WhatsApp Video 2025-08-10 at 12.34.42 PM.mp4: 384x640 1 hostel_11, 10.7ms\n",
            "video 1/1 (frame 334/856) /content/WhatsApp Video 2025-08-10 at 12.34.42 PM.mp4: 384x640 1 hostel_11, 10.7ms\n",
            "video 1/1 (frame 335/856) /content/WhatsApp Video 2025-08-10 at 12.34.42 PM.mp4: 384x640 1 hostel_11, 10.8ms\n",
            "video 1/1 (frame 336/856) /content/WhatsApp Video 2025-08-10 at 12.34.42 PM.mp4: 384x640 1 hostel_11, 10.7ms\n",
            "video 1/1 (frame 337/856) /content/WhatsApp Video 2025-08-10 at 12.34.42 PM.mp4: 384x640 1 hostel_11, 10.7ms\n",
            "video 1/1 (frame 338/856) /content/WhatsApp Video 2025-08-10 at 12.34.42 PM.mp4: 384x640 1 hostel_11, 11.0ms\n",
            "video 1/1 (frame 339/856) /content/WhatsApp Video 2025-08-10 at 12.34.42 PM.mp4: 384x640 1 hostel_11, 10.7ms\n",
            "video 1/1 (frame 340/856) /content/WhatsApp Video 2025-08-10 at 12.34.42 PM.mp4: 384x640 1 hostel_11, 10.7ms\n",
            "video 1/1 (frame 341/856) /content/WhatsApp Video 2025-08-10 at 12.34.42 PM.mp4: 384x640 1 hostel_11, 11.0ms\n",
            "video 1/1 (frame 342/856) /content/WhatsApp Video 2025-08-10 at 12.34.42 PM.mp4: 384x640 1 hostel_11, 10.7ms\n",
            "video 1/1 (frame 343/856) /content/WhatsApp Video 2025-08-10 at 12.34.42 PM.mp4: 384x640 1 hostel_11, 10.8ms\n",
            "video 1/1 (frame 344/856) /content/WhatsApp Video 2025-08-10 at 12.34.42 PM.mp4: 384x640 1 hostel_11, 10.7ms\n",
            "video 1/1 (frame 345/856) /content/WhatsApp Video 2025-08-10 at 12.34.42 PM.mp4: 384x640 1 hostel_11, 10.7ms\n",
            "video 1/1 (frame 346/856) /content/WhatsApp Video 2025-08-10 at 12.34.42 PM.mp4: 384x640 1 hostel_11, 10.7ms\n",
            "video 1/1 (frame 347/856) /content/WhatsApp Video 2025-08-10 at 12.34.42 PM.mp4: 384x640 1 hostel_11, 10.7ms\n",
            "video 1/1 (frame 348/856) /content/WhatsApp Video 2025-08-10 at 12.34.42 PM.mp4: 384x640 1 hostel_11, 10.7ms\n",
            "video 1/1 (frame 349/856) /content/WhatsApp Video 2025-08-10 at 12.34.42 PM.mp4: 384x640 1 hostel_11, 10.7ms\n",
            "video 1/1 (frame 350/856) /content/WhatsApp Video 2025-08-10 at 12.34.42 PM.mp4: 384x640 1 hostel_11, 10.7ms\n",
            "video 1/1 (frame 351/856) /content/WhatsApp Video 2025-08-10 at 12.34.42 PM.mp4: 384x640 1 hostel_11, 12.2ms\n",
            "video 1/1 (frame 352/856) /content/WhatsApp Video 2025-08-10 at 12.34.42 PM.mp4: 384x640 1 hostel_11, 10.7ms\n",
            "video 1/1 (frame 353/856) /content/WhatsApp Video 2025-08-10 at 12.34.42 PM.mp4: 384x640 1 hostel_11, 10.7ms\n",
            "video 1/1 (frame 354/856) /content/WhatsApp Video 2025-08-10 at 12.34.42 PM.mp4: 384x640 1 hostel_11, 10.7ms\n",
            "video 1/1 (frame 355/856) /content/WhatsApp Video 2025-08-10 at 12.34.42 PM.mp4: 384x640 1 hostel_11, 10.7ms\n",
            "video 1/1 (frame 356/856) /content/WhatsApp Video 2025-08-10 at 12.34.42 PM.mp4: 384x640 1 hostel_11, 10.7ms\n",
            "video 1/1 (frame 357/856) /content/WhatsApp Video 2025-08-10 at 12.34.42 PM.mp4: 384x640 1 hostel_11, 10.7ms\n",
            "video 1/1 (frame 358/856) /content/WhatsApp Video 2025-08-10 at 12.34.42 PM.mp4: 384x640 1 hostel_11, 10.7ms\n",
            "video 1/1 (frame 359/856) /content/WhatsApp Video 2025-08-10 at 12.34.42 PM.mp4: 384x640 1 hostel_11, 10.7ms\n",
            "video 1/1 (frame 360/856) /content/WhatsApp Video 2025-08-10 at 12.34.42 PM.mp4: 384x640 1 hostel_11, 10.8ms\n",
            "video 1/1 (frame 361/856) /content/WhatsApp Video 2025-08-10 at 12.34.42 PM.mp4: 384x640 1 hostel_11, 10.7ms\n",
            "video 1/1 (frame 362/856) /content/WhatsApp Video 2025-08-10 at 12.34.42 PM.mp4: 384x640 1 hostel_11, 11.0ms\n",
            "video 1/1 (frame 363/856) /content/WhatsApp Video 2025-08-10 at 12.34.42 PM.mp4: 384x640 1 hostel_11, 10.7ms\n",
            "video 1/1 (frame 364/856) /content/WhatsApp Video 2025-08-10 at 12.34.42 PM.mp4: 384x640 1 hostel_11, 10.8ms\n",
            "video 1/1 (frame 365/856) /content/WhatsApp Video 2025-08-10 at 12.34.42 PM.mp4: 384x640 1 hostel_11, 10.8ms\n",
            "video 1/1 (frame 366/856) /content/WhatsApp Video 2025-08-10 at 12.34.42 PM.mp4: 384x640 1 hostel_11, 10.7ms\n",
            "video 1/1 (frame 367/856) /content/WhatsApp Video 2025-08-10 at 12.34.42 PM.mp4: 384x640 1 hostel_11, 10.8ms\n",
            "video 1/1 (frame 368/856) /content/WhatsApp Video 2025-08-10 at 12.34.42 PM.mp4: 384x640 1 hostel_11, 10.8ms\n",
            "video 1/1 (frame 369/856) /content/WhatsApp Video 2025-08-10 at 12.34.42 PM.mp4: 384x640 1 hostel_11, 10.8ms\n",
            "video 1/1 (frame 370/856) /content/WhatsApp Video 2025-08-10 at 12.34.42 PM.mp4: 384x640 1 hostel_11, 10.8ms\n",
            "video 1/1 (frame 371/856) /content/WhatsApp Video 2025-08-10 at 12.34.42 PM.mp4: 384x640 1 hostel_11, 15.7ms\n",
            "video 1/1 (frame 372/856) /content/WhatsApp Video 2025-08-10 at 12.34.42 PM.mp4: 384x640 1 hostel_11, 13.0ms\n",
            "video 1/1 (frame 373/856) /content/WhatsApp Video 2025-08-10 at 12.34.42 PM.mp4: 384x640 1 hostel_11, 12.2ms\n",
            "video 1/1 (frame 374/856) /content/WhatsApp Video 2025-08-10 at 12.34.42 PM.mp4: 384x640 1 hostel_11, 12.4ms\n",
            "video 1/1 (frame 375/856) /content/WhatsApp Video 2025-08-10 at 12.34.42 PM.mp4: 384x640 2 hostel_11s, 13.3ms\n",
            "video 1/1 (frame 376/856) /content/WhatsApp Video 2025-08-10 at 12.34.42 PM.mp4: 384x640 1 hostel_11, 10.8ms\n",
            "video 1/1 (frame 377/856) /content/WhatsApp Video 2025-08-10 at 12.34.42 PM.mp4: 384x640 1 hostel_11, 11.3ms\n",
            "video 1/1 (frame 378/856) /content/WhatsApp Video 2025-08-10 at 12.34.42 PM.mp4: 384x640 1 hostel_11, 10.8ms\n",
            "video 1/1 (frame 379/856) /content/WhatsApp Video 2025-08-10 at 12.34.42 PM.mp4: 384x640 1 hostel_11, 11.2ms\n",
            "video 1/1 (frame 380/856) /content/WhatsApp Video 2025-08-10 at 12.34.42 PM.mp4: 384x640 1 hostel_11, 10.8ms\n",
            "video 1/1 (frame 381/856) /content/WhatsApp Video 2025-08-10 at 12.34.42 PM.mp4: 384x640 1 hostel_11, 12.4ms\n",
            "video 1/1 (frame 382/856) /content/WhatsApp Video 2025-08-10 at 12.34.42 PM.mp4: 384x640 2 hostel_11s, 12.2ms\n",
            "video 1/1 (frame 383/856) /content/WhatsApp Video 2025-08-10 at 12.34.42 PM.mp4: 384x640 2 hostel_11s, 10.7ms\n",
            "video 1/1 (frame 384/856) /content/WhatsApp Video 2025-08-10 at 12.34.42 PM.mp4: 384x640 2 hostel_11s, 10.7ms\n",
            "video 1/1 (frame 385/856) /content/WhatsApp Video 2025-08-10 at 12.34.42 PM.mp4: 384x640 2 hostel_11s, 11.9ms\n",
            "video 1/1 (frame 386/856) /content/WhatsApp Video 2025-08-10 at 12.34.42 PM.mp4: 384x640 2 hostel_11s, 12.0ms\n",
            "video 1/1 (frame 387/856) /content/WhatsApp Video 2025-08-10 at 12.34.42 PM.mp4: 384x640 2 hostel_11s, 10.8ms\n",
            "video 1/1 (frame 388/856) /content/WhatsApp Video 2025-08-10 at 12.34.42 PM.mp4: 384x640 2 hostel_11s, 11.2ms\n",
            "video 1/1 (frame 389/856) /content/WhatsApp Video 2025-08-10 at 12.34.42 PM.mp4: 384x640 2 hostel_11s, 10.8ms\n",
            "video 1/1 (frame 390/856) /content/WhatsApp Video 2025-08-10 at 12.34.42 PM.mp4: 384x640 2 hostel_11s, 10.8ms\n",
            "video 1/1 (frame 391/856) /content/WhatsApp Video 2025-08-10 at 12.34.42 PM.mp4: 384x640 2 hostel_11s, 10.7ms\n",
            "video 1/1 (frame 392/856) /content/WhatsApp Video 2025-08-10 at 12.34.42 PM.mp4: 384x640 2 hostel_11s, 11.0ms\n",
            "video 1/1 (frame 393/856) /content/WhatsApp Video 2025-08-10 at 12.34.42 PM.mp4: 384x640 2 hostel_11s, 10.8ms\n",
            "video 1/1 (frame 394/856) /content/WhatsApp Video 2025-08-10 at 12.34.42 PM.mp4: 384x640 2 hostel_11s, 12.0ms\n",
            "video 1/1 (frame 395/856) /content/WhatsApp Video 2025-08-10 at 12.34.42 PM.mp4: 384x640 2 hostel_11s, 10.8ms\n",
            "video 1/1 (frame 396/856) /content/WhatsApp Video 2025-08-10 at 12.34.42 PM.mp4: 384x640 2 hostel_11s, 12.1ms\n",
            "video 1/1 (frame 397/856) /content/WhatsApp Video 2025-08-10 at 12.34.42 PM.mp4: 384x640 2 hostel_11s, 11.0ms\n",
            "video 1/1 (frame 398/856) /content/WhatsApp Video 2025-08-10 at 12.34.42 PM.mp4: 384x640 2 hostel_11s, 11.1ms\n",
            "video 1/1 (frame 399/856) /content/WhatsApp Video 2025-08-10 at 12.34.42 PM.mp4: 384x640 2 hostel_11s, 10.8ms\n",
            "video 1/1 (frame 400/856) /content/WhatsApp Video 2025-08-10 at 12.34.42 PM.mp4: 384x640 2 hostel_11s, 11.0ms\n",
            "video 1/1 (frame 401/856) /content/WhatsApp Video 2025-08-10 at 12.34.42 PM.mp4: 384x640 2 hostel_11s, 10.9ms\n",
            "video 1/1 (frame 402/856) /content/WhatsApp Video 2025-08-10 at 12.34.42 PM.mp4: 384x640 2 hostel_11s, 46.5ms\n",
            "video 1/1 (frame 403/856) /content/WhatsApp Video 2025-08-10 at 12.34.42 PM.mp4: 384x640 2 hostel_11s, 52.8ms\n",
            "video 1/1 (frame 404/856) /content/WhatsApp Video 2025-08-10 at 12.34.42 PM.mp4: 384x640 2 hostel_11s, 46.0ms\n",
            "video 1/1 (frame 405/856) /content/WhatsApp Video 2025-08-10 at 12.34.42 PM.mp4: 384x640 1 hostel_11, 10.8ms\n",
            "video 1/1 (frame 406/856) /content/WhatsApp Video 2025-08-10 at 12.34.42 PM.mp4: 384x640 1 hostel_11, 10.8ms\n",
            "video 1/1 (frame 407/856) /content/WhatsApp Video 2025-08-10 at 12.34.42 PM.mp4: 384x640 2 hostel_11s, 12.1ms\n",
            "video 1/1 (frame 408/856) /content/WhatsApp Video 2025-08-10 at 12.34.42 PM.mp4: 384x640 2 hostel_11s, 13.3ms\n",
            "video 1/1 (frame 409/856) /content/WhatsApp Video 2025-08-10 at 12.34.42 PM.mp4: 384x640 2 hostel_11s, 11.7ms\n",
            "video 1/1 (frame 410/856) /content/WhatsApp Video 2025-08-10 at 12.34.42 PM.mp4: 384x640 2 hostel_11s, 13.3ms\n",
            "video 1/1 (frame 411/856) /content/WhatsApp Video 2025-08-10 at 12.34.42 PM.mp4: 384x640 2 hostel_11s, 11.4ms\n",
            "video 1/1 (frame 412/856) /content/WhatsApp Video 2025-08-10 at 12.34.42 PM.mp4: 384x640 2 hostel_11s, 11.1ms\n",
            "video 1/1 (frame 413/856) /content/WhatsApp Video 2025-08-10 at 12.34.42 PM.mp4: 384x640 2 hostel_11s, 12.6ms\n",
            "video 1/1 (frame 414/856) /content/WhatsApp Video 2025-08-10 at 12.34.42 PM.mp4: 384x640 2 hostel_11s, 12.0ms\n",
            "video 1/1 (frame 415/856) /content/WhatsApp Video 2025-08-10 at 12.34.42 PM.mp4: 384x640 2 hostel_11s, 25.3ms\n",
            "video 1/1 (frame 416/856) /content/WhatsApp Video 2025-08-10 at 12.34.42 PM.mp4: 384x640 2 hostel_11s, 17.5ms\n",
            "video 1/1 (frame 417/856) /content/WhatsApp Video 2025-08-10 at 12.34.42 PM.mp4: 384x640 2 hostel_11s, 27.1ms\n",
            "video 1/1 (frame 418/856) /content/WhatsApp Video 2025-08-10 at 12.34.42 PM.mp4: 384x640 2 hostel_11s, 24.1ms\n",
            "video 1/1 (frame 419/856) /content/WhatsApp Video 2025-08-10 at 12.34.42 PM.mp4: 384x640 2 hostel_11s, 17.8ms\n",
            "video 1/1 (frame 420/856) /content/WhatsApp Video 2025-08-10 at 12.34.42 PM.mp4: 384x640 2 hostel_11s, 10.8ms\n",
            "video 1/1 (frame 421/856) /content/WhatsApp Video 2025-08-10 at 12.34.42 PM.mp4: 384x640 2 hostel_11s, 10.7ms\n",
            "video 1/1 (frame 422/856) /content/WhatsApp Video 2025-08-10 at 12.34.42 PM.mp4: 384x640 2 hostel_11s, 10.7ms\n",
            "video 1/1 (frame 423/856) /content/WhatsApp Video 2025-08-10 at 12.34.42 PM.mp4: 384x640 2 hostel_11s, 10.8ms\n",
            "video 1/1 (frame 424/856) /content/WhatsApp Video 2025-08-10 at 12.34.42 PM.mp4: 384x640 2 hostel_11s, 10.7ms\n",
            "video 1/1 (frame 425/856) /content/WhatsApp Video 2025-08-10 at 12.34.42 PM.mp4: 384x640 2 hostel_11s, 10.8ms\n",
            "video 1/1 (frame 426/856) /content/WhatsApp Video 2025-08-10 at 12.34.42 PM.mp4: 384x640 1 hostel_11, 10.7ms\n",
            "video 1/1 (frame 427/856) /content/WhatsApp Video 2025-08-10 at 12.34.42 PM.mp4: 384x640 2 hostel_11s, 10.7ms\n",
            "video 1/1 (frame 428/856) /content/WhatsApp Video 2025-08-10 at 12.34.42 PM.mp4: 384x640 2 hostel_11s, 10.7ms\n",
            "video 1/1 (frame 429/856) /content/WhatsApp Video 2025-08-10 at 12.34.42 PM.mp4: 384x640 1 hostel_11, 10.8ms\n",
            "video 1/1 (frame 430/856) /content/WhatsApp Video 2025-08-10 at 12.34.42 PM.mp4: 384x640 2 hostel_11s, 10.7ms\n",
            "video 1/1 (frame 431/856) /content/WhatsApp Video 2025-08-10 at 12.34.42 PM.mp4: 384x640 1 hostel_11, 11.0ms\n",
            "video 1/1 (frame 432/856) /content/WhatsApp Video 2025-08-10 at 12.34.42 PM.mp4: 384x640 1 hostel_11, 12.9ms\n",
            "video 1/1 (frame 433/856) /content/WhatsApp Video 2025-08-10 at 12.34.42 PM.mp4: 384x640 1 hostel_11, 10.8ms\n",
            "video 1/1 (frame 434/856) /content/WhatsApp Video 2025-08-10 at 12.34.42 PM.mp4: 384x640 1 hostel_11, 10.7ms\n",
            "video 1/1 (frame 435/856) /content/WhatsApp Video 2025-08-10 at 12.34.42 PM.mp4: 384x640 1 hostel_11, 10.7ms\n",
            "video 1/1 (frame 436/856) /content/WhatsApp Video 2025-08-10 at 12.34.42 PM.mp4: 384x640 1 hostel_11, 10.8ms\n",
            "video 1/1 (frame 437/856) /content/WhatsApp Video 2025-08-10 at 12.34.42 PM.mp4: 384x640 1 hostel_11, 10.8ms\n",
            "video 1/1 (frame 438/856) /content/WhatsApp Video 2025-08-10 at 12.34.42 PM.mp4: 384x640 1 hostel_11, 10.7ms\n",
            "video 1/1 (frame 439/856) /content/WhatsApp Video 2025-08-10 at 12.34.42 PM.mp4: 384x640 1 hostel_11, 10.7ms\n",
            "video 1/1 (frame 440/856) /content/WhatsApp Video 2025-08-10 at 12.34.42 PM.mp4: 384x640 1 hostel_11, 10.7ms\n",
            "video 1/1 (frame 441/856) /content/WhatsApp Video 2025-08-10 at 12.34.42 PM.mp4: 384x640 1 hostel_11, 10.7ms\n",
            "video 1/1 (frame 442/856) /content/WhatsApp Video 2025-08-10 at 12.34.42 PM.mp4: 384x640 1 hostel_11, 10.8ms\n",
            "video 1/1 (frame 443/856) /content/WhatsApp Video 2025-08-10 at 12.34.42 PM.mp4: 384x640 1 hostel_11, 10.8ms\n",
            "video 1/1 (frame 444/856) /content/WhatsApp Video 2025-08-10 at 12.34.42 PM.mp4: 384x640 1 hostel_11, 10.7ms\n",
            "video 1/1 (frame 445/856) /content/WhatsApp Video 2025-08-10 at 12.34.42 PM.mp4: 384x640 1 hostel_11, 10.8ms\n",
            "video 1/1 (frame 446/856) /content/WhatsApp Video 2025-08-10 at 12.34.42 PM.mp4: 384x640 1 hostel_11, 10.7ms\n",
            "video 1/1 (frame 447/856) /content/WhatsApp Video 2025-08-10 at 12.34.42 PM.mp4: 384x640 1 hostel_11, 10.8ms\n",
            "video 1/1 (frame 448/856) /content/WhatsApp Video 2025-08-10 at 12.34.42 PM.mp4: 384x640 1 hostel_11, 10.8ms\n",
            "video 1/1 (frame 449/856) /content/WhatsApp Video 2025-08-10 at 12.34.42 PM.mp4: 384x640 1 hostel_11, 10.8ms\n",
            "video 1/1 (frame 450/856) /content/WhatsApp Video 2025-08-10 at 12.34.42 PM.mp4: 384x640 1 hostel_11, 10.7ms\n",
            "video 1/1 (frame 451/856) /content/WhatsApp Video 2025-08-10 at 12.34.42 PM.mp4: 384x640 1 hostel_11, 10.7ms\n",
            "video 1/1 (frame 452/856) /content/WhatsApp Video 2025-08-10 at 12.34.42 PM.mp4: 384x640 1 hostel_11, 10.8ms\n",
            "video 1/1 (frame 453/856) /content/WhatsApp Video 2025-08-10 at 12.34.42 PM.mp4: 384x640 1 hostel_11, 10.7ms\n",
            "video 1/1 (frame 454/856) /content/WhatsApp Video 2025-08-10 at 12.34.42 PM.mp4: 384x640 1 hostel_11, 10.9ms\n",
            "video 1/1 (frame 455/856) /content/WhatsApp Video 2025-08-10 at 12.34.42 PM.mp4: 384x640 1 hostel_11, 10.8ms\n",
            "video 1/1 (frame 456/856) /content/WhatsApp Video 2025-08-10 at 12.34.42 PM.mp4: 384x640 1 hostel_11, 10.8ms\n",
            "video 1/1 (frame 457/856) /content/WhatsApp Video 2025-08-10 at 12.34.42 PM.mp4: 384x640 1 hostel_11, 10.7ms\n",
            "video 1/1 (frame 458/856) /content/WhatsApp Video 2025-08-10 at 12.34.42 PM.mp4: 384x640 1 hostel_11, 10.7ms\n",
            "video 1/1 (frame 459/856) /content/WhatsApp Video 2025-08-10 at 12.34.42 PM.mp4: 384x640 1 hostel_11, 10.7ms\n",
            "video 1/1 (frame 460/856) /content/WhatsApp Video 2025-08-10 at 12.34.42 PM.mp4: 384x640 1 hostel_11, 10.8ms\n",
            "video 1/1 (frame 461/856) /content/WhatsApp Video 2025-08-10 at 12.34.42 PM.mp4: 384x640 1 hostel_11, 10.7ms\n",
            "video 1/1 (frame 462/856) /content/WhatsApp Video 2025-08-10 at 12.34.42 PM.mp4: 384x640 1 hostel_11, 10.8ms\n",
            "video 1/1 (frame 463/856) /content/WhatsApp Video 2025-08-10 at 12.34.42 PM.mp4: 384x640 1 hostel_11, 14.0ms\n",
            "video 1/1 (frame 464/856) /content/WhatsApp Video 2025-08-10 at 12.34.42 PM.mp4: 384x640 1 hostel_11, 14.8ms\n",
            "video 1/1 (frame 465/856) /content/WhatsApp Video 2025-08-10 at 12.34.42 PM.mp4: 384x640 1 hostel_11, 10.8ms\n",
            "video 1/1 (frame 466/856) /content/WhatsApp Video 2025-08-10 at 12.34.42 PM.mp4: 384x640 1 hostel_11, 11.8ms\n",
            "video 1/1 (frame 467/856) /content/WhatsApp Video 2025-08-10 at 12.34.42 PM.mp4: 384x640 1 hostel_11, 10.7ms\n",
            "video 1/1 (frame 468/856) /content/WhatsApp Video 2025-08-10 at 12.34.42 PM.mp4: 384x640 1 hostel_11, 10.9ms\n",
            "video 1/1 (frame 469/856) /content/WhatsApp Video 2025-08-10 at 12.34.42 PM.mp4: 384x640 1 hostel_11, 10.7ms\n",
            "video 1/1 (frame 470/856) /content/WhatsApp Video 2025-08-10 at 12.34.42 PM.mp4: 384x640 1 hostel_11, 10.7ms\n",
            "video 1/1 (frame 471/856) /content/WhatsApp Video 2025-08-10 at 12.34.42 PM.mp4: 384x640 1 hostel_11, 10.7ms\n",
            "video 1/1 (frame 472/856) /content/WhatsApp Video 2025-08-10 at 12.34.42 PM.mp4: 384x640 1 hostel_11, 10.7ms\n",
            "video 1/1 (frame 473/856) /content/WhatsApp Video 2025-08-10 at 12.34.42 PM.mp4: 384x640 1 hostel_11, 10.7ms\n",
            "video 1/1 (frame 474/856) /content/WhatsApp Video 2025-08-10 at 12.34.42 PM.mp4: 384x640 1 hostel_11, 10.7ms\n",
            "video 1/1 (frame 475/856) /content/WhatsApp Video 2025-08-10 at 12.34.42 PM.mp4: 384x640 1 hostel_11, 10.7ms\n",
            "video 1/1 (frame 476/856) /content/WhatsApp Video 2025-08-10 at 12.34.42 PM.mp4: 384x640 1 hostel_11, 10.7ms\n",
            "video 1/1 (frame 477/856) /content/WhatsApp Video 2025-08-10 at 12.34.42 PM.mp4: 384x640 1 hostel_11, 10.7ms\n",
            "video 1/1 (frame 478/856) /content/WhatsApp Video 2025-08-10 at 12.34.42 PM.mp4: 384x640 1 hostel_11, 10.8ms\n",
            "video 1/1 (frame 479/856) /content/WhatsApp Video 2025-08-10 at 12.34.42 PM.mp4: 384x640 1 hostel_11, 10.7ms\n",
            "video 1/1 (frame 480/856) /content/WhatsApp Video 2025-08-10 at 12.34.42 PM.mp4: 384x640 1 hostel_11, 10.7ms\n",
            "video 1/1 (frame 481/856) /content/WhatsApp Video 2025-08-10 at 12.34.42 PM.mp4: 384x640 1 hostel_11, 10.7ms\n",
            "video 1/1 (frame 482/856) /content/WhatsApp Video 2025-08-10 at 12.34.42 PM.mp4: 384x640 1 hostel_11, 10.7ms\n",
            "video 1/1 (frame 483/856) /content/WhatsApp Video 2025-08-10 at 12.34.42 PM.mp4: 384x640 1 hostel_11, 10.8ms\n",
            "video 1/1 (frame 484/856) /content/WhatsApp Video 2025-08-10 at 12.34.42 PM.mp4: 384x640 1 hostel_11, 10.7ms\n",
            "video 1/1 (frame 485/856) /content/WhatsApp Video 2025-08-10 at 12.34.42 PM.mp4: 384x640 1 hostel_11, 10.7ms\n",
            "video 1/1 (frame 486/856) /content/WhatsApp Video 2025-08-10 at 12.34.42 PM.mp4: 384x640 1 hostel_11, 10.8ms\n",
            "video 1/1 (frame 487/856) /content/WhatsApp Video 2025-08-10 at 12.34.42 PM.mp4: 384x640 1 hostel_11, 10.7ms\n",
            "video 1/1 (frame 488/856) /content/WhatsApp Video 2025-08-10 at 12.34.42 PM.mp4: 384x640 1 hostel_11, 10.8ms\n",
            "video 1/1 (frame 489/856) /content/WhatsApp Video 2025-08-10 at 12.34.42 PM.mp4: 384x640 1 hostel_11, 10.7ms\n",
            "video 1/1 (frame 490/856) /content/WhatsApp Video 2025-08-10 at 12.34.42 PM.mp4: 384x640 1 hostel_11, 10.8ms\n",
            "video 1/1 (frame 491/856) /content/WhatsApp Video 2025-08-10 at 12.34.42 PM.mp4: 384x640 1 hostel_11, 10.8ms\n",
            "video 1/1 (frame 492/856) /content/WhatsApp Video 2025-08-10 at 12.34.42 PM.mp4: 384x640 1 hostel_11, 10.7ms\n",
            "video 1/1 (frame 493/856) /content/WhatsApp Video 2025-08-10 at 12.34.42 PM.mp4: 384x640 1 hostel_11, 10.8ms\n",
            "video 1/1 (frame 494/856) /content/WhatsApp Video 2025-08-10 at 12.34.42 PM.mp4: 384x640 1 hostel_11, 13.5ms\n",
            "video 1/1 (frame 495/856) /content/WhatsApp Video 2025-08-10 at 12.34.42 PM.mp4: 384x640 1 hostel_11, 10.7ms\n",
            "video 1/1 (frame 496/856) /content/WhatsApp Video 2025-08-10 at 12.34.42 PM.mp4: 384x640 1 hostel_11, 10.7ms\n",
            "video 1/1 (frame 497/856) /content/WhatsApp Video 2025-08-10 at 12.34.42 PM.mp4: 384x640 1 hostel_11, 10.7ms\n",
            "video 1/1 (frame 498/856) /content/WhatsApp Video 2025-08-10 at 12.34.42 PM.mp4: 384x640 1 hostel_11, 10.7ms\n",
            "video 1/1 (frame 499/856) /content/WhatsApp Video 2025-08-10 at 12.34.42 PM.mp4: 384x640 1 hostel_11, 10.7ms\n",
            "video 1/1 (frame 500/856) /content/WhatsApp Video 2025-08-10 at 12.34.42 PM.mp4: 384x640 1 hostel_11, 10.8ms\n",
            "video 1/1 (frame 501/856) /content/WhatsApp Video 2025-08-10 at 12.34.42 PM.mp4: 384x640 1 hostel_11, 10.8ms\n",
            "video 1/1 (frame 502/856) /content/WhatsApp Video 2025-08-10 at 12.34.42 PM.mp4: 384x640 1 hostel_11, 10.7ms\n",
            "video 1/1 (frame 503/856) /content/WhatsApp Video 2025-08-10 at 12.34.42 PM.mp4: 384x640 1 hostel_11, 10.7ms\n",
            "video 1/1 (frame 504/856) /content/WhatsApp Video 2025-08-10 at 12.34.42 PM.mp4: 384x640 1 hostel_11, 10.7ms\n",
            "video 1/1 (frame 505/856) /content/WhatsApp Video 2025-08-10 at 12.34.42 PM.mp4: 384x640 2 hostel_11s, 10.7ms\n",
            "video 1/1 (frame 506/856) /content/WhatsApp Video 2025-08-10 at 12.34.42 PM.mp4: 384x640 1 hostel_11, 10.7ms\n",
            "video 1/1 (frame 507/856) /content/WhatsApp Video 2025-08-10 at 12.34.42 PM.mp4: 384x640 2 hostel_11s, 10.7ms\n",
            "video 1/1 (frame 508/856) /content/WhatsApp Video 2025-08-10 at 12.34.42 PM.mp4: 384x640 1 hostel_11, 10.7ms\n",
            "video 1/1 (frame 509/856) /content/WhatsApp Video 2025-08-10 at 12.34.42 PM.mp4: 384x640 1 hostel_11, 14.2ms\n",
            "video 1/1 (frame 510/856) /content/WhatsApp Video 2025-08-10 at 12.34.42 PM.mp4: 384x640 2 hostel_11s, 10.7ms\n",
            "video 1/1 (frame 511/856) /content/WhatsApp Video 2025-08-10 at 12.34.42 PM.mp4: 384x640 2 hostel_11s, 10.7ms\n",
            "video 1/1 (frame 512/856) /content/WhatsApp Video 2025-08-10 at 12.34.42 PM.mp4: 384x640 2 hostel_11s, 10.7ms\n",
            "video 1/1 (frame 513/856) /content/WhatsApp Video 2025-08-10 at 12.34.42 PM.mp4: 384x640 2 hostel_11s, 10.7ms\n",
            "video 1/1 (frame 514/856) /content/WhatsApp Video 2025-08-10 at 12.34.42 PM.mp4: 384x640 1 hostel_11, 10.8ms\n",
            "video 1/1 (frame 515/856) /content/WhatsApp Video 2025-08-10 at 12.34.42 PM.mp4: 384x640 1 hostel_11, 10.7ms\n",
            "video 1/1 (frame 516/856) /content/WhatsApp Video 2025-08-10 at 12.34.42 PM.mp4: 384x640 2 hostel_11s, 10.7ms\n",
            "video 1/1 (frame 517/856) /content/WhatsApp Video 2025-08-10 at 12.34.42 PM.mp4: 384x640 2 hostel_11s, 11.5ms\n",
            "video 1/1 (frame 518/856) /content/WhatsApp Video 2025-08-10 at 12.34.42 PM.mp4: 384x640 2 hostel_11s, 10.9ms\n",
            "video 1/1 (frame 519/856) /content/WhatsApp Video 2025-08-10 at 12.34.42 PM.mp4: 384x640 2 hostel_11s, 10.8ms\n",
            "video 1/1 (frame 520/856) /content/WhatsApp Video 2025-08-10 at 12.34.42 PM.mp4: 384x640 2 hostel_11s, 10.7ms\n",
            "video 1/1 (frame 521/856) /content/WhatsApp Video 2025-08-10 at 12.34.42 PM.mp4: 384x640 2 hostel_11s, 10.7ms\n",
            "video 1/1 (frame 522/856) /content/WhatsApp Video 2025-08-10 at 12.34.42 PM.mp4: 384x640 2 hostel_11s, 10.7ms\n",
            "video 1/1 (frame 523/856) /content/WhatsApp Video 2025-08-10 at 12.34.42 PM.mp4: 384x640 2 hostel_11s, 10.8ms\n",
            "video 1/1 (frame 524/856) /content/WhatsApp Video 2025-08-10 at 12.34.42 PM.mp4: 384x640 2 hostel_11s, 14.2ms\n",
            "video 1/1 (frame 525/856) /content/WhatsApp Video 2025-08-10 at 12.34.42 PM.mp4: 384x640 2 hostel_11s, 10.8ms\n",
            "video 1/1 (frame 526/856) /content/WhatsApp Video 2025-08-10 at 12.34.42 PM.mp4: 384x640 1 hostel_12, 10.7ms\n",
            "video 1/1 (frame 527/856) /content/WhatsApp Video 2025-08-10 at 12.34.42 PM.mp4: 384x640 1 hostel_12, 10.7ms\n",
            "video 1/1 (frame 528/856) /content/WhatsApp Video 2025-08-10 at 12.34.42 PM.mp4: 384x640 1 hostel_12, 10.7ms\n",
            "video 1/1 (frame 529/856) /content/WhatsApp Video 2025-08-10 at 12.34.42 PM.mp4: 384x640 1 hostel_12, 10.7ms\n",
            "video 1/1 (frame 530/856) /content/WhatsApp Video 2025-08-10 at 12.34.42 PM.mp4: 384x640 1 hostel_12, 10.7ms\n",
            "video 1/1 (frame 531/856) /content/WhatsApp Video 2025-08-10 at 12.34.42 PM.mp4: 384x640 1 hostel_12, 10.8ms\n",
            "video 1/1 (frame 532/856) /content/WhatsApp Video 2025-08-10 at 12.34.42 PM.mp4: 384x640 1 hostel_12, 10.8ms\n",
            "video 1/1 (frame 533/856) /content/WhatsApp Video 2025-08-10 at 12.34.42 PM.mp4: 384x640 1 hostel_12, 10.8ms\n",
            "video 1/1 (frame 534/856) /content/WhatsApp Video 2025-08-10 at 12.34.42 PM.mp4: 384x640 1 hostel_12, 10.7ms\n",
            "video 1/1 (frame 535/856) /content/WhatsApp Video 2025-08-10 at 12.34.42 PM.mp4: 384x640 1 hostel_12, 10.7ms\n",
            "video 1/1 (frame 536/856) /content/WhatsApp Video 2025-08-10 at 12.34.42 PM.mp4: 384x640 1 hostel_12, 10.7ms\n",
            "video 1/1 (frame 537/856) /content/WhatsApp Video 2025-08-10 at 12.34.42 PM.mp4: 384x640 1 hostel_12, 10.7ms\n",
            "video 1/1 (frame 538/856) /content/WhatsApp Video 2025-08-10 at 12.34.42 PM.mp4: 384x640 1 hostel_12, 12.2ms\n",
            "video 1/1 (frame 539/856) /content/WhatsApp Video 2025-08-10 at 12.34.42 PM.mp4: 384x640 1 hostel_12, 10.7ms\n",
            "video 1/1 (frame 540/856) /content/WhatsApp Video 2025-08-10 at 12.34.42 PM.mp4: 384x640 1 hostel_12, 10.7ms\n",
            "video 1/1 (frame 541/856) /content/WhatsApp Video 2025-08-10 at 12.34.42 PM.mp4: 384x640 1 hostel_12, 10.8ms\n",
            "video 1/1 (frame 542/856) /content/WhatsApp Video 2025-08-10 at 12.34.42 PM.mp4: 384x640 1 hostel_12, 10.7ms\n",
            "video 1/1 (frame 543/856) /content/WhatsApp Video 2025-08-10 at 12.34.42 PM.mp4: 384x640 1 hostel_12, 10.8ms\n",
            "video 1/1 (frame 544/856) /content/WhatsApp Video 2025-08-10 at 12.34.42 PM.mp4: 384x640 1 hostel_12, 10.7ms\n",
            "video 1/1 (frame 545/856) /content/WhatsApp Video 2025-08-10 at 12.34.42 PM.mp4: 384x640 1 hostel_12, 10.8ms\n",
            "video 1/1 (frame 546/856) /content/WhatsApp Video 2025-08-10 at 12.34.42 PM.mp4: 384x640 1 hostel_12, 10.7ms\n",
            "video 1/1 (frame 547/856) /content/WhatsApp Video 2025-08-10 at 12.34.42 PM.mp4: 384x640 1 hostel_12, 10.7ms\n",
            "video 1/1 (frame 548/856) /content/WhatsApp Video 2025-08-10 at 12.34.42 PM.mp4: 384x640 1 hostel_12, 10.7ms\n",
            "video 1/1 (frame 549/856) /content/WhatsApp Video 2025-08-10 at 12.34.42 PM.mp4: 384x640 1 hostel_12, 10.8ms\n",
            "video 1/1 (frame 550/856) /content/WhatsApp Video 2025-08-10 at 12.34.42 PM.mp4: 384x640 1 hostel_12, 10.7ms\n",
            "video 1/1 (frame 551/856) /content/WhatsApp Video 2025-08-10 at 12.34.42 PM.mp4: 384x640 1 hostel_12, 10.7ms\n",
            "video 1/1 (frame 552/856) /content/WhatsApp Video 2025-08-10 at 12.34.42 PM.mp4: 384x640 1 hostel_12, 10.7ms\n",
            "video 1/1 (frame 553/856) /content/WhatsApp Video 2025-08-10 at 12.34.42 PM.mp4: 384x640 1 hostel_12, 10.7ms\n",
            "video 1/1 (frame 554/856) /content/WhatsApp Video 2025-08-10 at 12.34.42 PM.mp4: 384x640 1 hostel_12, 10.7ms\n",
            "video 1/1 (frame 555/856) /content/WhatsApp Video 2025-08-10 at 12.34.42 PM.mp4: 384x640 1 hostel_12, 13.4ms\n",
            "video 1/1 (frame 556/856) /content/WhatsApp Video 2025-08-10 at 12.34.42 PM.mp4: 384x640 1 hostel_12, 10.8ms\n",
            "video 1/1 (frame 557/856) /content/WhatsApp Video 2025-08-10 at 12.34.42 PM.mp4: 384x640 1 hostel_12, 10.7ms\n",
            "video 1/1 (frame 558/856) /content/WhatsApp Video 2025-08-10 at 12.34.42 PM.mp4: 384x640 1 hostel_12, 10.7ms\n",
            "video 1/1 (frame 559/856) /content/WhatsApp Video 2025-08-10 at 12.34.42 PM.mp4: 384x640 1 hostel_12, 10.7ms\n",
            "video 1/1 (frame 560/856) /content/WhatsApp Video 2025-08-10 at 12.34.42 PM.mp4: 384x640 1 hostel_12, 10.7ms\n",
            "video 1/1 (frame 561/856) /content/WhatsApp Video 2025-08-10 at 12.34.42 PM.mp4: 384x640 1 hostel_12, 10.8ms\n",
            "video 1/1 (frame 562/856) /content/WhatsApp Video 2025-08-10 at 12.34.42 PM.mp4: 384x640 1 hostel_12, 10.7ms\n",
            "video 1/1 (frame 563/856) /content/WhatsApp Video 2025-08-10 at 12.34.42 PM.mp4: 384x640 1 hostel_12, 10.7ms\n",
            "video 1/1 (frame 564/856) /content/WhatsApp Video 2025-08-10 at 12.34.42 PM.mp4: 384x640 1 hostel_12, 10.7ms\n",
            "video 1/1 (frame 565/856) /content/WhatsApp Video 2025-08-10 at 12.34.42 PM.mp4: 384x640 1 hostel_12, 10.7ms\n",
            "video 1/1 (frame 566/856) /content/WhatsApp Video 2025-08-10 at 12.34.42 PM.mp4: 384x640 1 hostel_12, 10.8ms\n",
            "video 1/1 (frame 567/856) /content/WhatsApp Video 2025-08-10 at 12.34.42 PM.mp4: 384x640 1 hostel_12, 10.8ms\n",
            "video 1/1 (frame 568/856) /content/WhatsApp Video 2025-08-10 at 12.34.42 PM.mp4: 384x640 1 hostel_12, 10.7ms\n",
            "video 1/1 (frame 569/856) /content/WhatsApp Video 2025-08-10 at 12.34.42 PM.mp4: 384x640 1 hostel_12, 10.7ms\n",
            "video 1/1 (frame 570/856) /content/WhatsApp Video 2025-08-10 at 12.34.42 PM.mp4: 384x640 1 hostel_12, 10.7ms\n",
            "video 1/1 (frame 571/856) /content/WhatsApp Video 2025-08-10 at 12.34.42 PM.mp4: 384x640 1 hostel_12, 10.8ms\n",
            "video 1/1 (frame 572/856) /content/WhatsApp Video 2025-08-10 at 12.34.42 PM.mp4: 384x640 1 hostel_12, 10.7ms\n",
            "video 1/1 (frame 573/856) /content/WhatsApp Video 2025-08-10 at 12.34.42 PM.mp4: 384x640 1 hostel_12, 10.8ms\n",
            "video 1/1 (frame 574/856) /content/WhatsApp Video 2025-08-10 at 12.34.42 PM.mp4: 384x640 1 hostel_12, 10.7ms\n",
            "video 1/1 (frame 575/856) /content/WhatsApp Video 2025-08-10 at 12.34.42 PM.mp4: 384x640 1 hostel_12, 10.8ms\n",
            "video 1/1 (frame 576/856) /content/WhatsApp Video 2025-08-10 at 12.34.42 PM.mp4: 384x640 1 hostel_12, 10.8ms\n",
            "video 1/1 (frame 577/856) /content/WhatsApp Video 2025-08-10 at 12.34.42 PM.mp4: 384x640 1 hostel_12, 10.9ms\n",
            "video 1/1 (frame 578/856) /content/WhatsApp Video 2025-08-10 at 12.34.42 PM.mp4: 384x640 1 hostel_12, 10.9ms\n",
            "video 1/1 (frame 579/856) /content/WhatsApp Video 2025-08-10 at 12.34.42 PM.mp4: 384x640 1 hostel_12, 10.8ms\n",
            "video 1/1 (frame 580/856) /content/WhatsApp Video 2025-08-10 at 12.34.42 PM.mp4: 384x640 1 hostel_12, 10.8ms\n",
            "video 1/1 (frame 581/856) /content/WhatsApp Video 2025-08-10 at 12.34.42 PM.mp4: 384x640 1 hostel_12, 10.7ms\n",
            "video 1/1 (frame 582/856) /content/WhatsApp Video 2025-08-10 at 12.34.42 PM.mp4: 384x640 1 hostel_12, 10.7ms\n",
            "video 1/1 (frame 583/856) /content/WhatsApp Video 2025-08-10 at 12.34.42 PM.mp4: 384x640 1 hostel_12, 10.7ms\n",
            "video 1/1 (frame 584/856) /content/WhatsApp Video 2025-08-10 at 12.34.42 PM.mp4: 384x640 1 hostel_12, 10.7ms\n",
            "video 1/1 (frame 585/856) /content/WhatsApp Video 2025-08-10 at 12.34.42 PM.mp4: 384x640 1 hostel_12, 10.8ms\n",
            "video 1/1 (frame 586/856) /content/WhatsApp Video 2025-08-10 at 12.34.42 PM.mp4: 384x640 1 hostel_12, 11.7ms\n",
            "video 1/1 (frame 587/856) /content/WhatsApp Video 2025-08-10 at 12.34.42 PM.mp4: 384x640 1 hostel_12, 10.8ms\n",
            "video 1/1 (frame 588/856) /content/WhatsApp Video 2025-08-10 at 12.34.42 PM.mp4: 384x640 1 hostel_12, 10.8ms\n",
            "video 1/1 (frame 589/856) /content/WhatsApp Video 2025-08-10 at 12.34.42 PM.mp4: 384x640 1 hostel_12, 10.8ms\n",
            "video 1/1 (frame 590/856) /content/WhatsApp Video 2025-08-10 at 12.34.42 PM.mp4: 384x640 1 hostel_12, 10.7ms\n",
            "video 1/1 (frame 591/856) /content/WhatsApp Video 2025-08-10 at 12.34.42 PM.mp4: 384x640 1 hostel_12, 10.7ms\n",
            "video 1/1 (frame 592/856) /content/WhatsApp Video 2025-08-10 at 12.34.42 PM.mp4: 384x640 1 hostel_12, 10.7ms\n",
            "video 1/1 (frame 593/856) /content/WhatsApp Video 2025-08-10 at 12.34.42 PM.mp4: 384x640 1 hostel_12, 10.8ms\n",
            "video 1/1 (frame 594/856) /content/WhatsApp Video 2025-08-10 at 12.34.42 PM.mp4: 384x640 1 hostel_12, 10.8ms\n",
            "video 1/1 (frame 595/856) /content/WhatsApp Video 2025-08-10 at 12.34.42 PM.mp4: 384x640 1 hostel_12, 11.1ms\n",
            "video 1/1 (frame 596/856) /content/WhatsApp Video 2025-08-10 at 12.34.42 PM.mp4: 384x640 1 hostel_12, 10.7ms\n",
            "video 1/1 (frame 597/856) /content/WhatsApp Video 2025-08-10 at 12.34.42 PM.mp4: 384x640 1 hostel_12, 10.8ms\n",
            "video 1/1 (frame 598/856) /content/WhatsApp Video 2025-08-10 at 12.34.42 PM.mp4: 384x640 1 hostel_12, 10.8ms\n",
            "video 1/1 (frame 599/856) /content/WhatsApp Video 2025-08-10 at 12.34.42 PM.mp4: 384x640 1 hostel_12, 10.7ms\n",
            "video 1/1 (frame 600/856) /content/WhatsApp Video 2025-08-10 at 12.34.42 PM.mp4: 384x640 1 hostel_12, 11.0ms\n",
            "video 1/1 (frame 601/856) /content/WhatsApp Video 2025-08-10 at 12.34.42 PM.mp4: 384x640 1 hostel_12, 10.7ms\n",
            "video 1/1 (frame 602/856) /content/WhatsApp Video 2025-08-10 at 12.34.42 PM.mp4: 384x640 1 hostel_12, 10.8ms\n",
            "video 1/1 (frame 603/856) /content/WhatsApp Video 2025-08-10 at 12.34.42 PM.mp4: 384x640 1 hostel_12, 10.7ms\n",
            "video 1/1 (frame 604/856) /content/WhatsApp Video 2025-08-10 at 12.34.42 PM.mp4: 384x640 1 hostel_12, 10.8ms\n",
            "video 1/1 (frame 605/856) /content/WhatsApp Video 2025-08-10 at 12.34.42 PM.mp4: 384x640 1 hostel_12, 10.8ms\n",
            "video 1/1 (frame 606/856) /content/WhatsApp Video 2025-08-10 at 12.34.42 PM.mp4: 384x640 1 hostel_12, 10.8ms\n",
            "video 1/1 (frame 607/856) /content/WhatsApp Video 2025-08-10 at 12.34.42 PM.mp4: 384x640 1 hostel_12, 10.7ms\n",
            "video 1/1 (frame 608/856) /content/WhatsApp Video 2025-08-10 at 12.34.42 PM.mp4: 384x640 1 hostel_12, 11.4ms\n",
            "video 1/1 (frame 609/856) /content/WhatsApp Video 2025-08-10 at 12.34.42 PM.mp4: 384x640 1 hostel_12, 12.4ms\n",
            "video 1/1 (frame 610/856) /content/WhatsApp Video 2025-08-10 at 12.34.42 PM.mp4: 384x640 1 hostel_12, 11.5ms\n",
            "video 1/1 (frame 611/856) /content/WhatsApp Video 2025-08-10 at 12.34.42 PM.mp4: 384x640 1 hostel_12, 14.2ms\n",
            "video 1/1 (frame 612/856) /content/WhatsApp Video 2025-08-10 at 12.34.42 PM.mp4: 384x640 1 hostel_12, 11.6ms\n",
            "video 1/1 (frame 613/856) /content/WhatsApp Video 2025-08-10 at 12.34.42 PM.mp4: 384x640 1 hostel_12, 12.4ms\n",
            "video 1/1 (frame 614/856) /content/WhatsApp Video 2025-08-10 at 12.34.42 PM.mp4: 384x640 1 hostel_12, 10.8ms\n",
            "video 1/1 (frame 615/856) /content/WhatsApp Video 2025-08-10 at 12.34.42 PM.mp4: 384x640 1 hostel_12, 11.0ms\n",
            "video 1/1 (frame 616/856) /content/WhatsApp Video 2025-08-10 at 12.34.42 PM.mp4: 384x640 1 hostel_12, 12.5ms\n",
            "video 1/1 (frame 617/856) /content/WhatsApp Video 2025-08-10 at 12.34.42 PM.mp4: 384x640 1 hostel_12, 10.7ms\n",
            "video 1/1 (frame 618/856) /content/WhatsApp Video 2025-08-10 at 12.34.42 PM.mp4: 384x640 1 hostel_12, 10.8ms\n",
            "video 1/1 (frame 619/856) /content/WhatsApp Video 2025-08-10 at 12.34.42 PM.mp4: 384x640 1 hostel_12, 11.8ms\n",
            "video 1/1 (frame 620/856) /content/WhatsApp Video 2025-08-10 at 12.34.42 PM.mp4: 384x640 1 hostel_12, 12.9ms\n",
            "video 1/1 (frame 621/856) /content/WhatsApp Video 2025-08-10 at 12.34.42 PM.mp4: 384x640 1 hostel_12, 10.7ms\n",
            "video 1/1 (frame 622/856) /content/WhatsApp Video 2025-08-10 at 12.34.42 PM.mp4: 384x640 1 hostel_12, 11.1ms\n",
            "video 1/1 (frame 623/856) /content/WhatsApp Video 2025-08-10 at 12.34.42 PM.mp4: 384x640 1 hostel_12, 10.7ms\n",
            "video 1/1 (frame 624/856) /content/WhatsApp Video 2025-08-10 at 12.34.42 PM.mp4: 384x640 1 hostel_12, 10.8ms\n",
            "video 1/1 (frame 625/856) /content/WhatsApp Video 2025-08-10 at 12.34.42 PM.mp4: 384x640 1 hostel_12, 10.8ms\n",
            "video 1/1 (frame 626/856) /content/WhatsApp Video 2025-08-10 at 12.34.42 PM.mp4: 384x640 1 hostel_12, 10.7ms\n",
            "video 1/1 (frame 627/856) /content/WhatsApp Video 2025-08-10 at 12.34.42 PM.mp4: 384x640 1 hostel_12, 10.7ms\n",
            "video 1/1 (frame 628/856) /content/WhatsApp Video 2025-08-10 at 12.34.42 PM.mp4: 384x640 1 hostel_12, 10.8ms\n",
            "video 1/1 (frame 629/856) /content/WhatsApp Video 2025-08-10 at 12.34.42 PM.mp4: 384x640 1 hostel_12, 10.8ms\n",
            "video 1/1 (frame 630/856) /content/WhatsApp Video 2025-08-10 at 12.34.42 PM.mp4: 384x640 1 hostel_12, 10.7ms\n",
            "video 1/1 (frame 631/856) /content/WhatsApp Video 2025-08-10 at 12.34.42 PM.mp4: 384x640 1 hostel_12, 10.7ms\n",
            "video 1/1 (frame 632/856) /content/WhatsApp Video 2025-08-10 at 12.34.42 PM.mp4: 384x640 1 hostel_12, 10.7ms\n",
            "video 1/1 (frame 633/856) /content/WhatsApp Video 2025-08-10 at 12.34.42 PM.mp4: 384x640 1 hostel_12, 10.7ms\n",
            "video 1/1 (frame 634/856) /content/WhatsApp Video 2025-08-10 at 12.34.42 PM.mp4: 384x640 1 hostel_12, 10.7ms\n",
            "video 1/1 (frame 635/856) /content/WhatsApp Video 2025-08-10 at 12.34.42 PM.mp4: 384x640 1 hostel_12, 12.7ms\n",
            "video 1/1 (frame 636/856) /content/WhatsApp Video 2025-08-10 at 12.34.42 PM.mp4: 384x640 1 hostel_12, 10.7ms\n",
            "video 1/1 (frame 637/856) /content/WhatsApp Video 2025-08-10 at 12.34.42 PM.mp4: 384x640 1 hostel_12, 10.8ms\n",
            "video 1/1 (frame 638/856) /content/WhatsApp Video 2025-08-10 at 12.34.42 PM.mp4: 384x640 1 hostel_12, 10.8ms\n",
            "video 1/1 (frame 639/856) /content/WhatsApp Video 2025-08-10 at 12.34.42 PM.mp4: 384x640 1 hostel_12, 12.2ms\n",
            "video 1/1 (frame 640/856) /content/WhatsApp Video 2025-08-10 at 12.34.42 PM.mp4: 384x640 1 hostel_12, 10.8ms\n",
            "video 1/1 (frame 641/856) /content/WhatsApp Video 2025-08-10 at 12.34.42 PM.mp4: 384x640 1 hostel_12, 10.7ms\n",
            "video 1/1 (frame 642/856) /content/WhatsApp Video 2025-08-10 at 12.34.42 PM.mp4: 384x640 1 hostel_12, 10.7ms\n",
            "video 1/1 (frame 643/856) /content/WhatsApp Video 2025-08-10 at 12.34.42 PM.mp4: 384x640 1 hostel_12, 10.8ms\n",
            "video 1/1 (frame 644/856) /content/WhatsApp Video 2025-08-10 at 12.34.42 PM.mp4: 384x640 1 hostel_12, 10.8ms\n",
            "video 1/1 (frame 645/856) /content/WhatsApp Video 2025-08-10 at 12.34.42 PM.mp4: 384x640 1 hostel_12, 10.7ms\n",
            "video 1/1 (frame 646/856) /content/WhatsApp Video 2025-08-10 at 12.34.42 PM.mp4: 384x640 1 hostel_12, 10.8ms\n",
            "video 1/1 (frame 647/856) /content/WhatsApp Video 2025-08-10 at 12.34.42 PM.mp4: 384x640 1 hostel_12, 11.8ms\n",
            "video 1/1 (frame 648/856) /content/WhatsApp Video 2025-08-10 at 12.34.42 PM.mp4: 384x640 1 hostel_12, 10.7ms\n",
            "video 1/1 (frame 649/856) /content/WhatsApp Video 2025-08-10 at 12.34.42 PM.mp4: 384x640 1 hostel_12, 10.8ms\n",
            "video 1/1 (frame 650/856) /content/WhatsApp Video 2025-08-10 at 12.34.42 PM.mp4: 384x640 1 hostel_12, 10.7ms\n",
            "video 1/1 (frame 651/856) /content/WhatsApp Video 2025-08-10 at 12.34.42 PM.mp4: 384x640 1 hostel_12, 10.8ms\n",
            "video 1/1 (frame 652/856) /content/WhatsApp Video 2025-08-10 at 12.34.42 PM.mp4: 384x640 1 hostel_12, 10.7ms\n",
            "video 1/1 (frame 653/856) /content/WhatsApp Video 2025-08-10 at 12.34.42 PM.mp4: 384x640 1 hostel_12, 10.7ms\n",
            "video 1/1 (frame 654/856) /content/WhatsApp Video 2025-08-10 at 12.34.42 PM.mp4: 384x640 1 hostel_12, 10.7ms\n",
            "video 1/1 (frame 655/856) /content/WhatsApp Video 2025-08-10 at 12.34.42 PM.mp4: 384x640 1 hostel_12, 10.7ms\n",
            "video 1/1 (frame 656/856) /content/WhatsApp Video 2025-08-10 at 12.34.42 PM.mp4: 384x640 1 hostel_12, 10.7ms\n",
            "video 1/1 (frame 657/856) /content/WhatsApp Video 2025-08-10 at 12.34.42 PM.mp4: 384x640 1 hostel_12, 10.7ms\n",
            "video 1/1 (frame 658/856) /content/WhatsApp Video 2025-08-10 at 12.34.42 PM.mp4: 384x640 1 hostel_12, 10.7ms\n",
            "video 1/1 (frame 659/856) /content/WhatsApp Video 2025-08-10 at 12.34.42 PM.mp4: 384x640 1 hostel_12, 10.7ms\n",
            "video 1/1 (frame 660/856) /content/WhatsApp Video 2025-08-10 at 12.34.42 PM.mp4: 384x640 1 hostel_12, 10.7ms\n",
            "video 1/1 (frame 661/856) /content/WhatsApp Video 2025-08-10 at 12.34.42 PM.mp4: 384x640 1 hostel_12, 10.7ms\n",
            "video 1/1 (frame 662/856) /content/WhatsApp Video 2025-08-10 at 12.34.42 PM.mp4: 384x640 1 hostel_12, 10.8ms\n",
            "video 1/1 (frame 663/856) /content/WhatsApp Video 2025-08-10 at 12.34.42 PM.mp4: 384x640 1 hostel_12, 10.7ms\n",
            "video 1/1 (frame 664/856) /content/WhatsApp Video 2025-08-10 at 12.34.42 PM.mp4: 384x640 1 hostel_12, 10.8ms\n",
            "video 1/1 (frame 665/856) /content/WhatsApp Video 2025-08-10 at 12.34.42 PM.mp4: 384x640 1 hostel_12, 10.7ms\n",
            "video 1/1 (frame 666/856) /content/WhatsApp Video 2025-08-10 at 12.34.42 PM.mp4: 384x640 1 hostel_12, 10.7ms\n",
            "video 1/1 (frame 667/856) /content/WhatsApp Video 2025-08-10 at 12.34.42 PM.mp4: 384x640 1 hostel_12, 10.8ms\n",
            "video 1/1 (frame 668/856) /content/WhatsApp Video 2025-08-10 at 12.34.42 PM.mp4: 384x640 1 hostel_12, 10.7ms\n",
            "video 1/1 (frame 669/856) /content/WhatsApp Video 2025-08-10 at 12.34.42 PM.mp4: 384x640 1 hostel_12, 10.7ms\n",
            "video 1/1 (frame 670/856) /content/WhatsApp Video 2025-08-10 at 12.34.42 PM.mp4: 384x640 1 hostel_12, 10.7ms\n",
            "video 1/1 (frame 671/856) /content/WhatsApp Video 2025-08-10 at 12.34.42 PM.mp4: 384x640 1 hostel_12, 10.8ms\n",
            "video 1/1 (frame 672/856) /content/WhatsApp Video 2025-08-10 at 12.34.42 PM.mp4: 384x640 1 hostel_12, 10.7ms\n",
            "video 1/1 (frame 673/856) /content/WhatsApp Video 2025-08-10 at 12.34.42 PM.mp4: 384x640 1 hostel_12, 10.7ms\n",
            "video 1/1 (frame 674/856) /content/WhatsApp Video 2025-08-10 at 12.34.42 PM.mp4: 384x640 1 hostel_12, 10.7ms\n",
            "video 1/1 (frame 675/856) /content/WhatsApp Video 2025-08-10 at 12.34.42 PM.mp4: 384x640 1 hostel_12, 10.8ms\n",
            "video 1/1 (frame 676/856) /content/WhatsApp Video 2025-08-10 at 12.34.42 PM.mp4: 384x640 1 hostel_12, 10.7ms\n",
            "video 1/1 (frame 677/856) /content/WhatsApp Video 2025-08-10 at 12.34.42 PM.mp4: 384x640 1 hostel_12, 14.2ms\n",
            "video 1/1 (frame 678/856) /content/WhatsApp Video 2025-08-10 at 12.34.42 PM.mp4: 384x640 1 hostel_12, 10.7ms\n",
            "video 1/1 (frame 679/856) /content/WhatsApp Video 2025-08-10 at 12.34.42 PM.mp4: 384x640 1 hostel_12, 10.7ms\n",
            "video 1/1 (frame 680/856) /content/WhatsApp Video 2025-08-10 at 12.34.42 PM.mp4: 384x640 1 hostel_12, 10.7ms\n",
            "video 1/1 (frame 681/856) /content/WhatsApp Video 2025-08-10 at 12.34.42 PM.mp4: 384x640 1 hostel_12, 10.8ms\n",
            "video 1/1 (frame 682/856) /content/WhatsApp Video 2025-08-10 at 12.34.42 PM.mp4: 384x640 1 hostel_12, 10.7ms\n",
            "video 1/1 (frame 683/856) /content/WhatsApp Video 2025-08-10 at 12.34.42 PM.mp4: 384x640 1 hostel_12, 10.8ms\n",
            "video 1/1 (frame 684/856) /content/WhatsApp Video 2025-08-10 at 12.34.42 PM.mp4: 384x640 1 hostel_12, 10.8ms\n",
            "video 1/1 (frame 685/856) /content/WhatsApp Video 2025-08-10 at 12.34.42 PM.mp4: 384x640 1 hostel_12, 10.8ms\n",
            "video 1/1 (frame 686/856) /content/WhatsApp Video 2025-08-10 at 12.34.42 PM.mp4: 384x640 1 hostel_12, 10.7ms\n",
            "video 1/1 (frame 687/856) /content/WhatsApp Video 2025-08-10 at 12.34.42 PM.mp4: 384x640 1 hostel_12, 10.7ms\n",
            "video 1/1 (frame 688/856) /content/WhatsApp Video 2025-08-10 at 12.34.42 PM.mp4: 384x640 1 hostel_12, 10.8ms\n",
            "video 1/1 (frame 689/856) /content/WhatsApp Video 2025-08-10 at 12.34.42 PM.mp4: 384x640 1 hostel_12, 10.8ms\n",
            "video 1/1 (frame 690/856) /content/WhatsApp Video 2025-08-10 at 12.34.42 PM.mp4: 384x640 1 hostel_12, 10.7ms\n",
            "video 1/1 (frame 691/856) /content/WhatsApp Video 2025-08-10 at 12.34.42 PM.mp4: 384x640 1 hostel_12, 10.7ms\n",
            "video 1/1 (frame 692/856) /content/WhatsApp Video 2025-08-10 at 12.34.42 PM.mp4: 384x640 1 hostel_12, 10.7ms\n",
            "video 1/1 (frame 693/856) /content/WhatsApp Video 2025-08-10 at 12.34.42 PM.mp4: 384x640 1 hostel_12, 10.7ms\n",
            "video 1/1 (frame 694/856) /content/WhatsApp Video 2025-08-10 at 12.34.42 PM.mp4: 384x640 1 hostel_12, 10.7ms\n",
            "video 1/1 (frame 695/856) /content/WhatsApp Video 2025-08-10 at 12.34.42 PM.mp4: 384x640 1 hostel_12, 10.7ms\n",
            "video 1/1 (frame 696/856) /content/WhatsApp Video 2025-08-10 at 12.34.42 PM.mp4: 384x640 1 hostel_12, 10.7ms\n",
            "video 1/1 (frame 697/856) /content/WhatsApp Video 2025-08-10 at 12.34.42 PM.mp4: 384x640 1 hostel_12, 10.7ms\n",
            "video 1/1 (frame 698/856) /content/WhatsApp Video 2025-08-10 at 12.34.42 PM.mp4: 384x640 1 hostel_12, 10.7ms\n",
            "video 1/1 (frame 699/856) /content/WhatsApp Video 2025-08-10 at 12.34.42 PM.mp4: 384x640 1 hostel_12, 10.7ms\n",
            "video 1/1 (frame 700/856) /content/WhatsApp Video 2025-08-10 at 12.34.42 PM.mp4: 384x640 1 hostel_12, 10.7ms\n",
            "video 1/1 (frame 701/856) /content/WhatsApp Video 2025-08-10 at 12.34.42 PM.mp4: 384x640 1 hostel_12, 10.7ms\n",
            "video 1/1 (frame 702/856) /content/WhatsApp Video 2025-08-10 at 12.34.42 PM.mp4: 384x640 1 hostel_12, 10.7ms\n",
            "video 1/1 (frame 703/856) /content/WhatsApp Video 2025-08-10 at 12.34.42 PM.mp4: 384x640 1 hostel_12, 10.8ms\n",
            "video 1/1 (frame 704/856) /content/WhatsApp Video 2025-08-10 at 12.34.42 PM.mp4: 384x640 1 hostel_12, 10.8ms\n",
            "video 1/1 (frame 705/856) /content/WhatsApp Video 2025-08-10 at 12.34.42 PM.mp4: 384x640 1 hostel_12, 11.5ms\n",
            "video 1/1 (frame 706/856) /content/WhatsApp Video 2025-08-10 at 12.34.42 PM.mp4: 384x640 1 hostel_12, 11.2ms\n",
            "video 1/1 (frame 707/856) /content/WhatsApp Video 2025-08-10 at 12.34.42 PM.mp4: 384x640 1 hostel_12, 14.2ms\n",
            "video 1/1 (frame 708/856) /content/WhatsApp Video 2025-08-10 at 12.34.42 PM.mp4: 384x640 1 hostel_12, 12.2ms\n",
            "video 1/1 (frame 709/856) /content/WhatsApp Video 2025-08-10 at 12.34.42 PM.mp4: 384x640 1 hostel_12, 11.5ms\n",
            "video 1/1 (frame 710/856) /content/WhatsApp Video 2025-08-10 at 12.34.42 PM.mp4: 384x640 1 hostel_12, 13.6ms\n",
            "video 1/1 (frame 711/856) /content/WhatsApp Video 2025-08-10 at 12.34.42 PM.mp4: 384x640 1 hostel_12, 10.8ms\n",
            "video 1/1 (frame 712/856) /content/WhatsApp Video 2025-08-10 at 12.34.42 PM.mp4: 384x640 1 hostel_12, 12.1ms\n",
            "video 1/1 (frame 713/856) /content/WhatsApp Video 2025-08-10 at 12.34.42 PM.mp4: 384x640 1 hostel_12, 10.8ms\n",
            "video 1/1 (frame 714/856) /content/WhatsApp Video 2025-08-10 at 12.34.42 PM.mp4: 384x640 1 hostel_12, 11.2ms\n",
            "video 1/1 (frame 715/856) /content/WhatsApp Video 2025-08-10 at 12.34.42 PM.mp4: 384x640 1 hostel_12, 10.8ms\n",
            "video 1/1 (frame 716/856) /content/WhatsApp Video 2025-08-10 at 12.34.42 PM.mp4: 384x640 1 hostel_12, 11.1ms\n",
            "video 1/1 (frame 717/856) /content/WhatsApp Video 2025-08-10 at 12.34.42 PM.mp4: 384x640 1 hostel_12, 10.8ms\n",
            "video 1/1 (frame 718/856) /content/WhatsApp Video 2025-08-10 at 12.34.42 PM.mp4: 384x640 1 hostel_12, 11.5ms\n",
            "video 1/1 (frame 719/856) /content/WhatsApp Video 2025-08-10 at 12.34.42 PM.mp4: 384x640 1 hostel_12, 10.8ms\n",
            "video 1/1 (frame 720/856) /content/WhatsApp Video 2025-08-10 at 12.34.42 PM.mp4: 384x640 1 hostel_12, 11.3ms\n",
            "video 1/1 (frame 721/856) /content/WhatsApp Video 2025-08-10 at 12.34.42 PM.mp4: 384x640 1 hostel_12, 10.8ms\n",
            "video 1/1 (frame 722/856) /content/WhatsApp Video 2025-08-10 at 12.34.42 PM.mp4: 384x640 1 hostel_12, 11.2ms\n",
            "video 1/1 (frame 723/856) /content/WhatsApp Video 2025-08-10 at 12.34.42 PM.mp4: 384x640 1 hostel_12, 10.8ms\n",
            "video 1/1 (frame 724/856) /content/WhatsApp Video 2025-08-10 at 12.34.42 PM.mp4: 384x640 1 hostel_12, 11.5ms\n",
            "video 1/1 (frame 725/856) /content/WhatsApp Video 2025-08-10 at 12.34.42 PM.mp4: 384x640 1 hostel_12, 10.8ms\n",
            "video 1/1 (frame 726/856) /content/WhatsApp Video 2025-08-10 at 12.34.42 PM.mp4: 384x640 1 hostel_12, 12.3ms\n",
            "video 1/1 (frame 727/856) /content/WhatsApp Video 2025-08-10 at 12.34.42 PM.mp4: 384x640 1 hostel_12, 10.8ms\n",
            "video 1/1 (frame 728/856) /content/WhatsApp Video 2025-08-10 at 12.34.42 PM.mp4: 384x640 1 hostel_12, 10.8ms\n",
            "video 1/1 (frame 729/856) /content/WhatsApp Video 2025-08-10 at 12.34.42 PM.mp4: 384x640 1 hostel_12, 10.7ms\n",
            "video 1/1 (frame 730/856) /content/WhatsApp Video 2025-08-10 at 12.34.42 PM.mp4: 384x640 1 hostel_12, 10.7ms\n",
            "video 1/1 (frame 731/856) /content/WhatsApp Video 2025-08-10 at 12.34.42 PM.mp4: 384x640 1 hostel_12, 10.8ms\n",
            "video 1/1 (frame 732/856) /content/WhatsApp Video 2025-08-10 at 12.34.42 PM.mp4: 384x640 1 hostel_12, 11.2ms\n",
            "video 1/1 (frame 733/856) /content/WhatsApp Video 2025-08-10 at 12.34.42 PM.mp4: 384x640 1 hostel_12, 14.3ms\n",
            "video 1/1 (frame 734/856) /content/WhatsApp Video 2025-08-10 at 12.34.42 PM.mp4: 384x640 1 hostel_12, 11.5ms\n",
            "video 1/1 (frame 735/856) /content/WhatsApp Video 2025-08-10 at 12.34.42 PM.mp4: 384x640 1 hostel_12, 10.8ms\n",
            "video 1/1 (frame 736/856) /content/WhatsApp Video 2025-08-10 at 12.34.42 PM.mp4: 384x640 1 hostel_12, 10.8ms\n",
            "video 1/1 (frame 737/856) /content/WhatsApp Video 2025-08-10 at 12.34.42 PM.mp4: 384x640 1 hostel_12, 10.7ms\n",
            "video 1/1 (frame 738/856) /content/WhatsApp Video 2025-08-10 at 12.34.42 PM.mp4: 384x640 1 hostel_12, 10.7ms\n",
            "video 1/1 (frame 739/856) /content/WhatsApp Video 2025-08-10 at 12.34.42 PM.mp4: 384x640 1 hostel_12, 10.8ms\n",
            "video 1/1 (frame 740/856) /content/WhatsApp Video 2025-08-10 at 12.34.42 PM.mp4: 384x640 1 hostel_12, 11.8ms\n",
            "video 1/1 (frame 741/856) /content/WhatsApp Video 2025-08-10 at 12.34.42 PM.mp4: 384x640 1 hostel_12, 10.7ms\n",
            "video 1/1 (frame 742/856) /content/WhatsApp Video 2025-08-10 at 12.34.42 PM.mp4: 384x640 1 hostel_12, 10.8ms\n",
            "video 1/1 (frame 743/856) /content/WhatsApp Video 2025-08-10 at 12.34.42 PM.mp4: 384x640 1 hostel_12, 10.7ms\n",
            "video 1/1 (frame 744/856) /content/WhatsApp Video 2025-08-10 at 12.34.42 PM.mp4: 384x640 1 hostel_12, 11.7ms\n",
            "video 1/1 (frame 745/856) /content/WhatsApp Video 2025-08-10 at 12.34.42 PM.mp4: 384x640 1 hostel_12, 14.6ms\n",
            "video 1/1 (frame 746/856) /content/WhatsApp Video 2025-08-10 at 12.34.42 PM.mp4: 384x640 1 hostel_12, 10.8ms\n",
            "video 1/1 (frame 747/856) /content/WhatsApp Video 2025-08-10 at 12.34.42 PM.mp4: 384x640 1 hostel_12, 13.7ms\n",
            "video 1/1 (frame 748/856) /content/WhatsApp Video 2025-08-10 at 12.34.42 PM.mp4: 384x640 1 hostel_12, 10.8ms\n",
            "video 1/1 (frame 749/856) /content/WhatsApp Video 2025-08-10 at 12.34.42 PM.mp4: 384x640 1 hostel_12, 12.1ms\n",
            "video 1/1 (frame 750/856) /content/WhatsApp Video 2025-08-10 at 12.34.42 PM.mp4: 384x640 1 hostel_12, 10.8ms\n",
            "video 1/1 (frame 751/856) /content/WhatsApp Video 2025-08-10 at 12.34.42 PM.mp4: 384x640 1 hostel_12, 12.0ms\n",
            "video 1/1 (frame 752/856) /content/WhatsApp Video 2025-08-10 at 12.34.42 PM.mp4: 384x640 1 hostel_12, 11.9ms\n",
            "video 1/1 (frame 753/856) /content/WhatsApp Video 2025-08-10 at 12.34.42 PM.mp4: 384x640 1 hostel_12, 10.8ms\n",
            "video 1/1 (frame 754/856) /content/WhatsApp Video 2025-08-10 at 12.34.42 PM.mp4: 384x640 1 hostel_12, 10.8ms\n",
            "video 1/1 (frame 755/856) /content/WhatsApp Video 2025-08-10 at 12.34.42 PM.mp4: 384x640 1 hostel_12, 16.0ms\n",
            "video 1/1 (frame 756/856) /content/WhatsApp Video 2025-08-10 at 12.34.42 PM.mp4: 384x640 1 hostel_12, 13.8ms\n",
            "video 1/1 (frame 757/856) /content/WhatsApp Video 2025-08-10 at 12.34.42 PM.mp4: 384x640 1 hostel_12, 10.9ms\n",
            "video 1/1 (frame 758/856) /content/WhatsApp Video 2025-08-10 at 12.34.42 PM.mp4: 384x640 1 hostel_12, 16.7ms\n",
            "video 1/1 (frame 759/856) /content/WhatsApp Video 2025-08-10 at 12.34.42 PM.mp4: 384x640 1 hostel_12, 15.4ms\n",
            "video 1/1 (frame 760/856) /content/WhatsApp Video 2025-08-10 at 12.34.42 PM.mp4: 384x640 1 hostel_12, 11.6ms\n",
            "video 1/1 (frame 761/856) /content/WhatsApp Video 2025-08-10 at 12.34.42 PM.mp4: 384x640 1 hostel_12, 12.4ms\n",
            "video 1/1 (frame 762/856) /content/WhatsApp Video 2025-08-10 at 12.34.42 PM.mp4: 384x640 1 hostel_12, 11.3ms\n",
            "video 1/1 (frame 763/856) /content/WhatsApp Video 2025-08-10 at 12.34.42 PM.mp4: 384x640 1 hostel_12, 12.4ms\n",
            "video 1/1 (frame 764/856) /content/WhatsApp Video 2025-08-10 at 12.34.42 PM.mp4: 384x640 1 hostel_12, 14.0ms\n",
            "video 1/1 (frame 765/856) /content/WhatsApp Video 2025-08-10 at 12.34.42 PM.mp4: 384x640 1 hostel_12, 10.8ms\n",
            "video 1/1 (frame 766/856) /content/WhatsApp Video 2025-08-10 at 12.34.42 PM.mp4: 384x640 1 hostel_12, 10.7ms\n",
            "video 1/1 (frame 767/856) /content/WhatsApp Video 2025-08-10 at 12.34.42 PM.mp4: 384x640 1 hostel_12, 10.8ms\n",
            "video 1/1 (frame 768/856) /content/WhatsApp Video 2025-08-10 at 12.34.42 PM.mp4: 384x640 1 hostel_12, 10.7ms\n",
            "video 1/1 (frame 769/856) /content/WhatsApp Video 2025-08-10 at 12.34.42 PM.mp4: 384x640 1 hostel_12, 10.8ms\n",
            "video 1/1 (frame 770/856) /content/WhatsApp Video 2025-08-10 at 12.34.42 PM.mp4: 384x640 1 hostel_12, 10.7ms\n",
            "video 1/1 (frame 771/856) /content/WhatsApp Video 2025-08-10 at 12.34.42 PM.mp4: 384x640 1 hostel_12, 10.7ms\n",
            "video 1/1 (frame 772/856) /content/WhatsApp Video 2025-08-10 at 12.34.42 PM.mp4: 384x640 1 hostel_12, 10.7ms\n",
            "video 1/1 (frame 773/856) /content/WhatsApp Video 2025-08-10 at 12.34.42 PM.mp4: 384x640 1 hostel_12, 10.7ms\n",
            "video 1/1 (frame 774/856) /content/WhatsApp Video 2025-08-10 at 12.34.42 PM.mp4: 384x640 1 hostel_12, 10.7ms\n",
            "video 1/1 (frame 775/856) /content/WhatsApp Video 2025-08-10 at 12.34.42 PM.mp4: 384x640 1 hostel_12, 10.7ms\n",
            "video 1/1 (frame 776/856) /content/WhatsApp Video 2025-08-10 at 12.34.42 PM.mp4: 384x640 1 hostel_12, 10.8ms\n",
            "video 1/1 (frame 777/856) /content/WhatsApp Video 2025-08-10 at 12.34.42 PM.mp4: 384x640 1 hostel_12, 11.1ms\n",
            "video 1/1 (frame 778/856) /content/WhatsApp Video 2025-08-10 at 12.34.42 PM.mp4: 384x640 1 hostel_12, 10.7ms\n",
            "video 1/1 (frame 779/856) /content/WhatsApp Video 2025-08-10 at 12.34.42 PM.mp4: 384x640 1 hostel_12, 10.7ms\n",
            "video 1/1 (frame 780/856) /content/WhatsApp Video 2025-08-10 at 12.34.42 PM.mp4: 384x640 1 hostel_12, 10.8ms\n",
            "video 1/1 (frame 781/856) /content/WhatsApp Video 2025-08-10 at 12.34.42 PM.mp4: 384x640 1 hostel_12, 10.8ms\n",
            "video 1/1 (frame 782/856) /content/WhatsApp Video 2025-08-10 at 12.34.42 PM.mp4: 384x640 1 hostel_12, 10.7ms\n",
            "video 1/1 (frame 783/856) /content/WhatsApp Video 2025-08-10 at 12.34.42 PM.mp4: 384x640 1 hostel_12, 10.7ms\n",
            "video 1/1 (frame 784/856) /content/WhatsApp Video 2025-08-10 at 12.34.42 PM.mp4: 384x640 1 hostel_12, 10.7ms\n",
            "video 1/1 (frame 785/856) /content/WhatsApp Video 2025-08-10 at 12.34.42 PM.mp4: 384x640 1 hostel_12, 10.7ms\n",
            "video 1/1 (frame 786/856) /content/WhatsApp Video 2025-08-10 at 12.34.42 PM.mp4: 384x640 1 hostel_12, 10.7ms\n",
            "video 1/1 (frame 787/856) /content/WhatsApp Video 2025-08-10 at 12.34.42 PM.mp4: 384x640 1 hostel_12, 10.8ms\n",
            "video 1/1 (frame 788/856) /content/WhatsApp Video 2025-08-10 at 12.34.42 PM.mp4: 384x640 1 hostel_12, 11.2ms\n",
            "video 1/1 (frame 789/856) /content/WhatsApp Video 2025-08-10 at 12.34.42 PM.mp4: 384x640 1 hostel_12, 10.8ms\n",
            "video 1/1 (frame 790/856) /content/WhatsApp Video 2025-08-10 at 12.34.42 PM.mp4: 384x640 1 hostel_12, 10.7ms\n",
            "video 1/1 (frame 791/856) /content/WhatsApp Video 2025-08-10 at 12.34.42 PM.mp4: 384x640 1 hostel_12, 10.7ms\n",
            "video 1/1 (frame 792/856) /content/WhatsApp Video 2025-08-10 at 12.34.42 PM.mp4: 384x640 1 hostel_12, 11.2ms\n",
            "video 1/1 (frame 793/856) /content/WhatsApp Video 2025-08-10 at 12.34.42 PM.mp4: 384x640 1 hostel_12, 10.8ms\n",
            "video 1/1 (frame 794/856) /content/WhatsApp Video 2025-08-10 at 12.34.42 PM.mp4: 384x640 1 hostel_12, 10.7ms\n",
            "video 1/1 (frame 795/856) /content/WhatsApp Video 2025-08-10 at 12.34.42 PM.mp4: 384x640 1 hostel_12, 10.7ms\n",
            "video 1/1 (frame 796/856) /content/WhatsApp Video 2025-08-10 at 12.34.42 PM.mp4: 384x640 1 hostel_12, 10.7ms\n",
            "video 1/1 (frame 797/856) /content/WhatsApp Video 2025-08-10 at 12.34.42 PM.mp4: 384x640 1 hostel_12, 11.6ms\n",
            "video 1/1 (frame 798/856) /content/WhatsApp Video 2025-08-10 at 12.34.42 PM.mp4: 384x640 1 hostel_12, 10.7ms\n",
            "video 1/1 (frame 799/856) /content/WhatsApp Video 2025-08-10 at 12.34.42 PM.mp4: 384x640 1 hostel_12, 10.8ms\n",
            "video 1/1 (frame 800/856) /content/WhatsApp Video 2025-08-10 at 12.34.42 PM.mp4: 384x640 1 hostel_12, 10.7ms\n",
            "video 1/1 (frame 801/856) /content/WhatsApp Video 2025-08-10 at 12.34.42 PM.mp4: 384x640 1 hostel_12, 10.9ms\n",
            "video 1/1 (frame 802/856) /content/WhatsApp Video 2025-08-10 at 12.34.42 PM.mp4: 384x640 1 hostel_12, 10.8ms\n",
            "video 1/1 (frame 803/856) /content/WhatsApp Video 2025-08-10 at 12.34.42 PM.mp4: 384x640 1 hostel_12, 10.7ms\n",
            "video 1/1 (frame 804/856) /content/WhatsApp Video 2025-08-10 at 12.34.42 PM.mp4: 384x640 1 hostel_12, 10.9ms\n",
            "video 1/1 (frame 805/856) /content/WhatsApp Video 2025-08-10 at 12.34.42 PM.mp4: 384x640 1 hostel_12, 10.8ms\n",
            "video 1/1 (frame 806/856) /content/WhatsApp Video 2025-08-10 at 12.34.42 PM.mp4: 384x640 1 hostel_12, 10.8ms\n",
            "video 1/1 (frame 807/856) /content/WhatsApp Video 2025-08-10 at 12.34.42 PM.mp4: 384x640 (no detections), 10.8ms\n",
            "video 1/1 (frame 808/856) /content/WhatsApp Video 2025-08-10 at 12.34.42 PM.mp4: 384x640 (no detections), 10.9ms\n",
            "video 1/1 (frame 809/856) /content/WhatsApp Video 2025-08-10 at 12.34.42 PM.mp4: 384x640 1 hostel_12, 10.8ms\n",
            "video 1/1 (frame 810/856) /content/WhatsApp Video 2025-08-10 at 12.34.42 PM.mp4: 384x640 (no detections), 11.1ms\n",
            "video 1/1 (frame 811/856) /content/WhatsApp Video 2025-08-10 at 12.34.42 PM.mp4: 384x640 (no detections), 10.8ms\n",
            "video 1/1 (frame 812/856) /content/WhatsApp Video 2025-08-10 at 12.34.42 PM.mp4: 384x640 (no detections), 10.9ms\n",
            "video 1/1 (frame 813/856) /content/WhatsApp Video 2025-08-10 at 12.34.42 PM.mp4: 384x640 (no detections), 12.5ms\n",
            "video 1/1 (frame 814/856) /content/WhatsApp Video 2025-08-10 at 12.34.42 PM.mp4: 384x640 (no detections), 10.8ms\n",
            "video 1/1 (frame 815/856) /content/WhatsApp Video 2025-08-10 at 12.34.42 PM.mp4: 384x640 (no detections), 10.7ms\n",
            "video 1/1 (frame 816/856) /content/WhatsApp Video 2025-08-10 at 12.34.42 PM.mp4: 384x640 (no detections), 10.8ms\n",
            "video 1/1 (frame 817/856) /content/WhatsApp Video 2025-08-10 at 12.34.42 PM.mp4: 384x640 (no detections), 10.7ms\n",
            "video 1/1 (frame 818/856) /content/WhatsApp Video 2025-08-10 at 12.34.42 PM.mp4: 384x640 (no detections), 10.8ms\n",
            "video 1/1 (frame 819/856) /content/WhatsApp Video 2025-08-10 at 12.34.42 PM.mp4: 384x640 (no detections), 10.7ms\n",
            "video 1/1 (frame 820/856) /content/WhatsApp Video 2025-08-10 at 12.34.42 PM.mp4: 384x640 (no detections), 11.8ms\n",
            "video 1/1 (frame 821/856) /content/WhatsApp Video 2025-08-10 at 12.34.42 PM.mp4: 384x640 (no detections), 11.3ms\n",
            "video 1/1 (frame 822/856) /content/WhatsApp Video 2025-08-10 at 12.34.42 PM.mp4: 384x640 1 hostel_11, 10.8ms\n",
            "video 1/1 (frame 823/856) /content/WhatsApp Video 2025-08-10 at 12.34.42 PM.mp4: 384x640 1 hostel_11, 10.7ms\n",
            "video 1/1 (frame 824/856) /content/WhatsApp Video 2025-08-10 at 12.34.42 PM.mp4: 384x640 (no detections), 10.8ms\n",
            "video 1/1 (frame 825/856) /content/WhatsApp Video 2025-08-10 at 12.34.42 PM.mp4: 384x640 1 hostel_11, 16.2ms\n",
            "video 1/1 (frame 826/856) /content/WhatsApp Video 2025-08-10 at 12.34.42 PM.mp4: 384x640 1 hostel_11, 10.7ms\n",
            "video 1/1 (frame 827/856) /content/WhatsApp Video 2025-08-10 at 12.34.42 PM.mp4: 384x640 1 hostel_11, 11.0ms\n",
            "video 1/1 (frame 828/856) /content/WhatsApp Video 2025-08-10 at 12.34.42 PM.mp4: 384x640 1 hostel_11, 10.7ms\n",
            "video 1/1 (frame 829/856) /content/WhatsApp Video 2025-08-10 at 12.34.42 PM.mp4: 384x640 1 hostel_11, 10.7ms\n",
            "video 1/1 (frame 830/856) /content/WhatsApp Video 2025-08-10 at 12.34.42 PM.mp4: 384x640 (no detections), 10.9ms\n",
            "video 1/1 (frame 831/856) /content/WhatsApp Video 2025-08-10 at 12.34.42 PM.mp4: 384x640 (no detections), 10.8ms\n",
            "video 1/1 (frame 832/856) /content/WhatsApp Video 2025-08-10 at 12.34.42 PM.mp4: 384x640 (no detections), 10.8ms\n",
            "video 1/1 (frame 833/856) /content/WhatsApp Video 2025-08-10 at 12.34.42 PM.mp4: 384x640 (no detections), 11.5ms\n",
            "video 1/1 (frame 834/856) /content/WhatsApp Video 2025-08-10 at 12.34.42 PM.mp4: 384x640 (no detections), 10.8ms\n",
            "video 1/1 (frame 835/856) /content/WhatsApp Video 2025-08-10 at 12.34.42 PM.mp4: 384x640 (no detections), 10.8ms\n",
            "video 1/1 (frame 836/856) /content/WhatsApp Video 2025-08-10 at 12.34.42 PM.mp4: 384x640 (no detections), 29.2ms\n",
            "video 1/1 (frame 837/856) /content/WhatsApp Video 2025-08-10 at 12.34.42 PM.mp4: 384x640 (no detections), 11.1ms\n",
            "video 1/1 (frame 838/856) /content/WhatsApp Video 2025-08-10 at 12.34.42 PM.mp4: 384x640 (no detections), 12.8ms\n",
            "video 1/1 (frame 839/856) /content/WhatsApp Video 2025-08-10 at 12.34.42 PM.mp4: 384x640 (no detections), 11.4ms\n",
            "video 1/1 (frame 840/856) /content/WhatsApp Video 2025-08-10 at 12.34.42 PM.mp4: 384x640 (no detections), 12.4ms\n",
            "video 1/1 (frame 841/856) /content/WhatsApp Video 2025-08-10 at 12.34.42 PM.mp4: 384x640 (no detections), 13.3ms\n",
            "video 1/1 (frame 842/856) /content/WhatsApp Video 2025-08-10 at 12.34.42 PM.mp4: 384x640 (no detections), 16.5ms\n",
            "video 1/1 (frame 843/856) /content/WhatsApp Video 2025-08-10 at 12.34.42 PM.mp4: 384x640 (no detections), 11.0ms\n",
            "video 1/1 (frame 844/856) /content/WhatsApp Video 2025-08-10 at 12.34.42 PM.mp4: 384x640 (no detections), 11.6ms\n",
            "video 1/1 (frame 845/856) /content/WhatsApp Video 2025-08-10 at 12.34.42 PM.mp4: 384x640 (no detections), 12.2ms\n",
            "video 1/1 (frame 846/856) /content/WhatsApp Video 2025-08-10 at 12.34.42 PM.mp4: 384x640 (no detections), 12.8ms\n",
            "video 1/1 (frame 847/856) /content/WhatsApp Video 2025-08-10 at 12.34.42 PM.mp4: 384x640 (no detections), 12.7ms\n",
            "video 1/1 (frame 848/856) /content/WhatsApp Video 2025-08-10 at 12.34.42 PM.mp4: 384x640 (no detections), 10.8ms\n",
            "video 1/1 (frame 849/856) /content/WhatsApp Video 2025-08-10 at 12.34.42 PM.mp4: 384x640 (no detections), 10.7ms\n",
            "video 1/1 (frame 850/856) /content/WhatsApp Video 2025-08-10 at 12.34.42 PM.mp4: 384x640 (no detections), 10.7ms\n",
            "video 1/1 (frame 851/856) /content/WhatsApp Video 2025-08-10 at 12.34.42 PM.mp4: 384x640 (no detections), 10.7ms\n",
            "video 1/1 (frame 852/856) /content/WhatsApp Video 2025-08-10 at 12.34.42 PM.mp4: 384x640 (no detections), 10.7ms\n",
            "video 1/1 (frame 853/856) /content/WhatsApp Video 2025-08-10 at 12.34.42 PM.mp4: 384x640 (no detections), 10.7ms\n",
            "video 1/1 (frame 854/856) /content/WhatsApp Video 2025-08-10 at 12.34.42 PM.mp4: 384x640 (no detections), 10.7ms\n",
            "video 1/1 (frame 855/856) /content/WhatsApp Video 2025-08-10 at 12.34.42 PM.mp4: 384x640 (no detections), 10.7ms\n",
            "video 1/1 (frame 856/856) /content/WhatsApp Video 2025-08-10 at 12.34.42 PM.mp4: 384x640 (no detections), 10.7ms\n",
            "Speed: 2.2ms preprocess, 11.3ms inference, 1.5ms postprocess per image at shape (1, 3, 384, 640)\n",
            "Results saved to \u001b[1mruns/detect/train4\u001b[0m\n",
            "✅ Video saved in: runs/detect/train4\n"
          ]
        }
      ]
    },
    {
      "cell_type": "code",
      "source": [
        "import os\n",
        "print(os.listdir(results[0].save_dir))\n"
      ],
      "metadata": {
        "colab": {
          "base_uri": "https://localhost:8080/"
        },
        "id": "KPCS2IEtHsei",
        "outputId": "d2fdacbe-40c3-493c-d50d-d2ea7718259f"
      },
      "execution_count": 15,
      "outputs": [
        {
          "output_type": "stream",
          "name": "stdout",
          "text": [
            "['WhatsApp Video 2025-08-10 at 12.34.42 PM.avi']\n"
          ]
        }
      ]
    },
    {
      "cell_type": "code",
      "source": [
        "from google.colab import files\n",
        "files.download('runs/detect/train4/WhatsApp Video 2025-08-10 at 12.34.42 PM.avi')  # Replace with exact filename from Cell 11\n"
      ],
      "metadata": {
        "colab": {
          "base_uri": "https://localhost:8080/",
          "height": 17
        },
        "id": "nHy1omUtH4eY",
        "outputId": "be59c4ab-736e-489d-a265-045afa99157c"
      },
      "execution_count": 16,
      "outputs": [
        {
          "output_type": "display_data",
          "data": {
            "text/plain": [
              "<IPython.core.display.Javascript object>"
            ],
            "application/javascript": [
              "\n",
              "    async function download(id, filename, size) {\n",
              "      if (!google.colab.kernel.accessAllowed) {\n",
              "        return;\n",
              "      }\n",
              "      const div = document.createElement('div');\n",
              "      const label = document.createElement('label');\n",
              "      label.textContent = `Downloading \"${filename}\": `;\n",
              "      div.appendChild(label);\n",
              "      const progress = document.createElement('progress');\n",
              "      progress.max = size;\n",
              "      div.appendChild(progress);\n",
              "      document.body.appendChild(div);\n",
              "\n",
              "      const buffers = [];\n",
              "      let downloaded = 0;\n",
              "\n",
              "      const channel = await google.colab.kernel.comms.open(id);\n",
              "      // Send a message to notify the kernel that we're ready.\n",
              "      channel.send({})\n",
              "\n",
              "      for await (const message of channel.messages) {\n",
              "        // Send a message to notify the kernel that we're ready.\n",
              "        channel.send({})\n",
              "        if (message.buffers) {\n",
              "          for (const buffer of message.buffers) {\n",
              "            buffers.push(buffer);\n",
              "            downloaded += buffer.byteLength;\n",
              "            progress.value = downloaded;\n",
              "          }\n",
              "        }\n",
              "      }\n",
              "      const blob = new Blob(buffers, {type: 'application/binary'});\n",
              "      const a = document.createElement('a');\n",
              "      a.href = window.URL.createObjectURL(blob);\n",
              "      a.download = filename;\n",
              "      div.appendChild(a);\n",
              "      a.click();\n",
              "      div.remove();\n",
              "    }\n",
              "  "
            ]
          },
          "metadata": {}
        },
        {
          "output_type": "display_data",
          "data": {
            "text/plain": [
              "<IPython.core.display.Javascript object>"
            ],
            "application/javascript": [
              "download(\"download_e328a29f-13f6-4a35-a1ce-6b3a608d236a\", \"WhatsApp Video 2025-08-10 at 12.34.42 PM.avi\", 113116088)"
            ]
          },
          "metadata": {}
        }
      ]
    },
    {
      "cell_type": "code",
      "source": [
        "import os\n",
        "\n",
        "# Check some label files\n",
        "label_files = os.listdir('/content/dataset/train/labels')[:5]\n",
        "print(\"Example label files:\", label_files)\n",
        "\n",
        "# Show first file content\n",
        "if label_files:\n",
        "    with open(f\"/content/dataset/train/labels/{label_files[0]}\", \"r\") as f:\n",
        "        print(f.read())\n"
      ],
      "metadata": {
        "colab": {
          "base_uri": "https://localhost:8080/"
        },
        "id": "FE5dCElGH96L",
        "outputId": "08cd90e6-de8d-4b18-fa0e-c949a3d55195"
      },
      "execution_count": 17,
      "outputs": [
        {
          "output_type": "stream",
          "name": "stdout",
          "text": [
            "Example label files: ['WhatsApp-Video-2025-08-10-at-11_21_09-AM_mp4-0096_jpg.rf.83dcaf139bfd4b4c90663aa97ef6a86b.txt', 'WhatsApp-Video-2025-08-10-at-11_21_09-AM_mp4-0053_jpg.rf.8fafe98d1fb6e5c7eb0c80b2020e279b.txt', 'WhatsApp-Video-2025-08-10-at-11_21_09-AM_mp4-0016_jpg.rf.efcc3172b3def2325ff03e139b9e1e92.txt', 'WhatsApp-Video-2025-08-10-at-11_21_09-AM_mp4-0064_jpg.rf.68ddccf1c225e2acbd16eac8295e14c7.txt', 'WhatsApp-Video-2025-08-10-at-11_21_09-AM_mp4-0029_jpg.rf.329537a45d6dcc418353dd6be2fb7988.txt']\n",
            "2 0.5110703125 0.379625 0.39974218750000007 0.3379583333333334\n"
          ]
        }
      ]
    },
    {
      "cell_type": "code",
      "source": [
        "import os\n",
        "\n",
        "labels_dir = \"/content/dataset/train/labels\"\n",
        "out_dir = labels_dir  # overwrite in place\n",
        "\n",
        "def bbox_to_polygon(line):\n",
        "    parts = line.strip().split()\n",
        "    cls = parts[0]\n",
        "    x_center, y_center, w, h = map(float, parts[1:5])\n",
        "\n",
        "    # Convert YOLO format center coords to polygon corners\n",
        "    x_min = x_center - w / 2\n",
        "    y_min = y_center - h / 2\n",
        "    x_max = x_center + w / 2\n",
        "    y_max = y_center + h / 2\n",
        "\n",
        "    # Rectangle polygon points in YOLO format\n",
        "    poly_points = [\n",
        "        x_min, y_min,\n",
        "        x_max, y_min,\n",
        "        x_max, y_max,\n",
        "        x_min, y_max\n",
        "    ]\n",
        "    poly_points = [str(p) for p in poly_points]\n",
        "    return \" \".join([cls] + poly_points)\n",
        "\n",
        "# Process train/valid/test\n",
        "for split in [\"train\", \"valid\", \"test\"]:\n",
        "    lbl_dir = f\"/content/dataset/{split}/labels\"\n",
        "    for fname in os.listdir(lbl_dir):\n",
        "        path = os.path.join(lbl_dir, fname)\n",
        "        with open(path, \"r\") as f:\n",
        "            lines = f.readlines()\n",
        "        new_lines = [bbox_to_polygon(l) for l in lines]\n",
        "        with open(path, \"w\") as f:\n",
        "            f.write(\"\\n\".join(new_lines))\n",
        "    print(f\"✅ Converted labels in {split} to polygon masks\")\n"
      ],
      "metadata": {
        "colab": {
          "base_uri": "https://localhost:8080/"
        },
        "id": "9duzAkD7IZqx",
        "outputId": "7dfb4d16-8aec-47a9-d51e-f489915e9095"
      },
      "execution_count": 18,
      "outputs": [
        {
          "output_type": "stream",
          "name": "stdout",
          "text": [
            "✅ Converted labels in train to polygon masks\n",
            "✅ Converted labels in valid to polygon masks\n",
            "✅ Converted labels in test to polygon masks\n"
          ]
        }
      ]
    },
    {
      "cell_type": "code",
      "source": [
        "from ultralytics import YOLO\n",
        "\n",
        "# Load YOLOv8 small segmentation model\n",
        "model_seg = YOLO(\"yolov8s-seg.pt\")\n",
        "\n",
        "# Train segmentation model\n",
        "model_seg.train(\n",
        "    data=\"/content/dataset/data.yaml\",\n",
        "    epochs=50,\n",
        "    imgsz=640,\n",
        "    batch=8\n",
        ")\n"
      ],
      "metadata": {
        "colab": {
          "base_uri": "https://localhost:8080/"
        },
        "collapsed": true,
        "id": "-0uy_nbDJkVt",
        "outputId": "889c9246-613b-45bd-8c0a-2b3ddfa68d8e"
      },
      "execution_count": 19,
      "outputs": [
        {
          "output_type": "stream",
          "name": "stderr",
          "text": [
            "Downloading https://github.com/ultralytics/assets/releases/download/v8.3.0/yolov8s-seg.pt to 'yolov8s-seg.pt': 100%|██████████| 22.8M/22.8M [00:00<00:00, 116MB/s] \n"
          ]
        },
        {
          "output_type": "stream",
          "name": "stdout",
          "text": [
            "Ultralytics 8.3.176 🚀 Python-3.11.13 torch-2.6.0+cu124 CUDA:0 (Tesla T4, 15095MiB)\n",
            "\u001b[34m\u001b[1mengine/trainer: \u001b[0magnostic_nms=False, amp=True, augment=False, auto_augment=randaugment, batch=8, bgr=0.0, box=7.5, cache=False, cfg=None, classes=None, close_mosaic=10, cls=0.5, conf=None, copy_paste=0.0, copy_paste_mode=flip, cos_lr=False, cutmix=0.0, data=/content/dataset/data.yaml, degrees=0.0, deterministic=True, device=None, dfl=1.5, dnn=False, dropout=0.0, dynamic=False, embed=None, epochs=50, erasing=0.4, exist_ok=False, fliplr=0.5, flipud=0.0, format=torchscript, fraction=1.0, freeze=None, half=False, hsv_h=0.015, hsv_s=0.7, hsv_v=0.4, imgsz=640, int8=False, iou=0.7, keras=False, kobj=1.0, line_width=None, lr0=0.01, lrf=0.01, mask_ratio=4, max_det=300, mixup=0.0, mode=train, model=yolov8s-seg.pt, momentum=0.937, mosaic=1.0, multi_scale=False, name=train, nbs=64, nms=False, opset=None, optimize=False, optimizer=auto, overlap_mask=True, patience=100, perspective=0.0, plots=True, pose=12.0, pretrained=True, profile=False, project=None, rect=False, resume=False, retina_masks=False, save=True, save_conf=False, save_crop=False, save_dir=runs/segment/train, save_frames=False, save_json=False, save_period=-1, save_txt=False, scale=0.5, seed=0, shear=0.0, show=False, show_boxes=True, show_conf=True, show_labels=True, simplify=True, single_cls=False, source=None, split=val, stream_buffer=False, task=segment, time=None, tracker=botsort.yaml, translate=0.1, val=True, verbose=True, vid_stride=1, visualize=False, warmup_bias_lr=0.1, warmup_epochs=3.0, warmup_momentum=0.8, weight_decay=0.0005, workers=8, workspace=None\n",
            "Overriding model.yaml nc=80 with nc=14\n",
            "\n",
            "                   from  n    params  module                                       arguments                     \n",
            "  0                  -1  1       928  ultralytics.nn.modules.conv.Conv             [3, 32, 3, 2]                 \n",
            "  1                  -1  1     18560  ultralytics.nn.modules.conv.Conv             [32, 64, 3, 2]                \n",
            "  2                  -1  1     29056  ultralytics.nn.modules.block.C2f             [64, 64, 1, True]             \n",
            "  3                  -1  1     73984  ultralytics.nn.modules.conv.Conv             [64, 128, 3, 2]               \n",
            "  4                  -1  2    197632  ultralytics.nn.modules.block.C2f             [128, 128, 2, True]           \n",
            "  5                  -1  1    295424  ultralytics.nn.modules.conv.Conv             [128, 256, 3, 2]              \n",
            "  6                  -1  2    788480  ultralytics.nn.modules.block.C2f             [256, 256, 2, True]           \n",
            "  7                  -1  1   1180672  ultralytics.nn.modules.conv.Conv             [256, 512, 3, 2]              \n",
            "  8                  -1  1   1838080  ultralytics.nn.modules.block.C2f             [512, 512, 1, True]           \n",
            "  9                  -1  1    656896  ultralytics.nn.modules.block.SPPF            [512, 512, 5]                 \n",
            " 10                  -1  1         0  torch.nn.modules.upsampling.Upsample         [None, 2, 'nearest']          \n",
            " 11             [-1, 6]  1         0  ultralytics.nn.modules.conv.Concat           [1]                           \n",
            " 12                  -1  1    591360  ultralytics.nn.modules.block.C2f             [768, 256, 1]                 \n",
            " 13                  -1  1         0  torch.nn.modules.upsampling.Upsample         [None, 2, 'nearest']          \n",
            " 14             [-1, 4]  1         0  ultralytics.nn.modules.conv.Concat           [1]                           \n",
            " 15                  -1  1    148224  ultralytics.nn.modules.block.C2f             [384, 128, 1]                 \n",
            " 16                  -1  1    147712  ultralytics.nn.modules.conv.Conv             [128, 128, 3, 2]              \n",
            " 17            [-1, 12]  1         0  ultralytics.nn.modules.conv.Concat           [1]                           \n",
            " 18                  -1  1    493056  ultralytics.nn.modules.block.C2f             [384, 256, 1]                 \n",
            " 19                  -1  1    590336  ultralytics.nn.modules.conv.Conv             [256, 256, 3, 2]              \n",
            " 20             [-1, 9]  1         0  ultralytics.nn.modules.conv.Concat           [1]                           \n",
            " 21                  -1  1   1969152  ultralytics.nn.modules.block.C2f             [768, 512, 1]                 \n",
            " 22        [15, 18, 21]  1   2775962  ultralytics.nn.modules.head.Segment          [14, 32, 128, [128, 256, 512]]\n",
            "YOLOv8s-seg summary: 151 layers, 11,795,514 parameters, 11,795,498 gradients, 42.7 GFLOPs\n",
            "\n",
            "Transferred 411/417 items from pretrained weights\n",
            "Freezing layer 'model.22.dfl.conv.weight'\n",
            "\u001b[34m\u001b[1mAMP: \u001b[0mrunning Automatic Mixed Precision (AMP) checks...\n",
            "\u001b[34m\u001b[1mAMP: \u001b[0mchecks passed ✅\n",
            "\u001b[34m\u001b[1mtrain: \u001b[0mFast image access ✅ (ping: 0.0±0.0 ms, read: 1503.5±661.4 MB/s, size: 112.7 KB)\n"
          ]
        },
        {
          "output_type": "stream",
          "name": "stderr",
          "text": [
            "\u001b[34m\u001b[1mtrain: \u001b[0mScanning /content/dataset/train/labels... 81 images, 5 backgrounds, 0 corrupt: 100%|██████████| 81/81 [00:00<00:00, 1714.53it/s]"
          ]
        },
        {
          "output_type": "stream",
          "name": "stdout",
          "text": [
            "\u001b[34m\u001b[1mtrain: \u001b[0mNew cache created: /content/dataset/train/labels.cache\n",
            "\u001b[34m\u001b[1malbumentations: \u001b[0mBlur(p=0.01, blur_limit=(3, 7)), MedianBlur(p=0.01, blur_limit=(3, 7)), ToGray(p=0.01, method='weighted_average', num_output_channels=3), CLAHE(p=0.01, clip_limit=(1.0, 4.0), tile_grid_size=(8, 8))\n"
          ]
        },
        {
          "output_type": "stream",
          "name": "stderr",
          "text": [
            "\n"
          ]
        },
        {
          "output_type": "stream",
          "name": "stdout",
          "text": [
            "\u001b[34m\u001b[1mval: \u001b[0mFast image access ✅ (ping: 0.0±0.0 ms, read: 964.8±607.3 MB/s, size: 162.4 KB)\n"
          ]
        },
        {
          "output_type": "stream",
          "name": "stderr",
          "text": [
            "\u001b[34m\u001b[1mval: \u001b[0mScanning /content/dataset/valid/labels... 23 images, 2 backgrounds, 0 corrupt: 100%|██████████| 23/23 [00:00<00:00, 841.43it/s]"
          ]
        },
        {
          "output_type": "stream",
          "name": "stdout",
          "text": [
            "\u001b[34m\u001b[1mval: \u001b[0mNew cache created: /content/dataset/valid/labels.cache\n"
          ]
        },
        {
          "output_type": "stream",
          "name": "stderr",
          "text": [
            "\n"
          ]
        },
        {
          "output_type": "stream",
          "name": "stdout",
          "text": [
            "Plotting labels to runs/segment/train/labels.jpg... \n",
            "\u001b[34m\u001b[1moptimizer:\u001b[0m 'optimizer=auto' found, ignoring 'lr0=0.01' and 'momentum=0.937' and determining best 'optimizer', 'lr0' and 'momentum' automatically... \n",
            "\u001b[34m\u001b[1moptimizer:\u001b[0m AdamW(lr=0.000556, momentum=0.9) with parameter groups 66 weight(decay=0.0), 77 weight(decay=0.0005), 76 bias(decay=0.0)\n",
            "Image sizes 640 train, 640 val\n",
            "Using 2 dataloader workers\n",
            "Logging results to \u001b[1mruns/segment/train\u001b[0m\n",
            "Starting training for 50 epochs...\n",
            "\n",
            "      Epoch    GPU_mem   box_loss   seg_loss   cls_loss   dfl_loss  Instances       Size\n"
          ]
        },
        {
          "output_type": "stream",
          "name": "stderr",
          "text": [
            "       1/50      2.71G      2.367      11.57      18.09      2.412          3        640: 100%|██████████| 11/11 [00:03<00:00,  3.13it/s]\n",
            "                 Class     Images  Instances      Box(P          R      mAP50  mAP50-95)     Mask(P          R      mAP50  mAP50-95): 100%|██████████| 2/2 [00:00<00:00,  5.33it/s]"
          ]
        },
        {
          "output_type": "stream",
          "name": "stdout",
          "text": [
            "                   all         23         21    0.00191     0.0606    0.00334   0.000783          0          0          0          0\n"
          ]
        },
        {
          "output_type": "stream",
          "name": "stderr",
          "text": [
            "\n"
          ]
        },
        {
          "output_type": "stream",
          "name": "stdout",
          "text": [
            "\n",
            "      Epoch    GPU_mem   box_loss   seg_loss   cls_loss   dfl_loss  Instances       Size\n"
          ]
        },
        {
          "output_type": "stream",
          "name": "stderr",
          "text": [
            "       2/50      2.84G      2.085      5.847      6.357      2.194          4        640: 100%|██████████| 11/11 [00:02<00:00,  4.81it/s]\n",
            "                 Class     Images  Instances      Box(P          R      mAP50  mAP50-95)     Mask(P          R      mAP50  mAP50-95): 100%|██████████| 2/2 [00:00<00:00,  4.47it/s]"
          ]
        },
        {
          "output_type": "stream",
          "name": "stdout",
          "text": [
            "                   all         23         21      0.275      0.136      0.174     0.0801      0.275      0.136      0.174      0.079\n"
          ]
        },
        {
          "output_type": "stream",
          "name": "stderr",
          "text": [
            "\n"
          ]
        },
        {
          "output_type": "stream",
          "name": "stdout",
          "text": [
            "\n",
            "      Epoch    GPU_mem   box_loss   seg_loss   cls_loss   dfl_loss  Instances       Size\n"
          ]
        },
        {
          "output_type": "stream",
          "name": "stderr",
          "text": [
            "       3/50      2.84G      1.733      1.571      4.179      1.934          2        640: 100%|██████████| 11/11 [00:02<00:00,  3.86it/s]\n",
            "                 Class     Images  Instances      Box(P          R      mAP50  mAP50-95)     Mask(P          R      mAP50  mAP50-95): 100%|██████████| 2/2 [00:00<00:00,  4.93it/s]"
          ]
        },
        {
          "output_type": "stream",
          "name": "stdout",
          "text": [
            "                   all         23         21      0.585      0.364      0.372      0.151      0.585      0.364      0.372      0.151\n"
          ]
        },
        {
          "output_type": "stream",
          "name": "stderr",
          "text": [
            "\n"
          ]
        },
        {
          "output_type": "stream",
          "name": "stdout",
          "text": [
            "\n",
            "      Epoch    GPU_mem   box_loss   seg_loss   cls_loss   dfl_loss  Instances       Size\n"
          ]
        },
        {
          "output_type": "stream",
          "name": "stderr",
          "text": [
            "       4/50      2.84G       1.72     0.8088      3.386      1.803          4        640: 100%|██████████| 11/11 [00:02<00:00,  4.52it/s]\n",
            "                 Class     Images  Instances      Box(P          R      mAP50  mAP50-95)     Mask(P          R      mAP50  mAP50-95): 100%|██████████| 2/2 [00:00<00:00,  5.46it/s]"
          ]
        },
        {
          "output_type": "stream",
          "name": "stdout",
          "text": [
            "                   all         23         21      0.698      0.607      0.676      0.302      0.698      0.607      0.679      0.304\n"
          ]
        },
        {
          "output_type": "stream",
          "name": "stderr",
          "text": [
            "\n"
          ]
        },
        {
          "output_type": "stream",
          "name": "stdout",
          "text": [
            "\n",
            "      Epoch    GPU_mem   box_loss   seg_loss   cls_loss   dfl_loss  Instances       Size\n"
          ]
        },
        {
          "output_type": "stream",
          "name": "stderr",
          "text": [
            "       5/50      2.84G      1.712     0.5406      2.832      1.816          2        640: 100%|██████████| 11/11 [00:02<00:00,  4.32it/s]\n",
            "                 Class     Images  Instances      Box(P          R      mAP50  mAP50-95)     Mask(P          R      mAP50  mAP50-95): 100%|██████████| 2/2 [00:00<00:00,  3.77it/s]\n"
          ]
        },
        {
          "output_type": "stream",
          "name": "stdout",
          "text": [
            "                   all         23         21        0.7       0.62      0.613      0.246        0.7       0.62      0.613      0.244\n",
            "\n",
            "      Epoch    GPU_mem   box_loss   seg_loss   cls_loss   dfl_loss  Instances       Size\n"
          ]
        },
        {
          "output_type": "stream",
          "name": "stderr",
          "text": [
            "       6/50      2.84G      1.519     0.6236      2.591      1.663          4        640: 100%|██████████| 11/11 [00:02<00:00,  4.37it/s]\n",
            "                 Class     Images  Instances      Box(P          R      mAP50  mAP50-95)     Mask(P          R      mAP50  mAP50-95): 100%|██████████| 2/2 [00:00<00:00,  5.93it/s]"
          ]
        },
        {
          "output_type": "stream",
          "name": "stdout",
          "text": [
            "                   all         23         21      0.654      0.644      0.659      0.305      0.654      0.644      0.659      0.306\n"
          ]
        },
        {
          "output_type": "stream",
          "name": "stderr",
          "text": [
            "\n"
          ]
        },
        {
          "output_type": "stream",
          "name": "stdout",
          "text": [
            "\n",
            "      Epoch    GPU_mem   box_loss   seg_loss   cls_loss   dfl_loss  Instances       Size\n"
          ]
        },
        {
          "output_type": "stream",
          "name": "stderr",
          "text": [
            "       7/50      2.84G      1.349     0.4546      2.991      1.453          0        640: 100%|██████████| 11/11 [00:02<00:00,  4.87it/s]\n",
            "                 Class     Images  Instances      Box(P          R      mAP50  mAP50-95)     Mask(P          R      mAP50  mAP50-95): 100%|██████████| 2/2 [00:00<00:00,  6.23it/s]"
          ]
        },
        {
          "output_type": "stream",
          "name": "stdout",
          "text": [
            "                   all         23         21      0.537       0.69      0.739      0.345      0.537       0.69      0.751      0.333\n"
          ]
        },
        {
          "output_type": "stream",
          "name": "stderr",
          "text": [
            "\n"
          ]
        },
        {
          "output_type": "stream",
          "name": "stdout",
          "text": [
            "\n",
            "      Epoch    GPU_mem   box_loss   seg_loss   cls_loss   dfl_loss  Instances       Size\n"
          ]
        },
        {
          "output_type": "stream",
          "name": "stderr",
          "text": [
            "       8/50      2.84G      1.356     0.3205      2.255      1.533          1        640: 100%|██████████| 11/11 [00:02<00:00,  5.12it/s]\n",
            "                 Class     Images  Instances      Box(P          R      mAP50  mAP50-95)     Mask(P          R      mAP50  mAP50-95): 100%|██████████| 2/2 [00:00<00:00,  6.09it/s]"
          ]
        },
        {
          "output_type": "stream",
          "name": "stdout",
          "text": [
            "                   all         23         21      0.659      0.641      0.709      0.329      0.685      0.672       0.73      0.326\n"
          ]
        },
        {
          "output_type": "stream",
          "name": "stderr",
          "text": [
            "\n"
          ]
        },
        {
          "output_type": "stream",
          "name": "stdout",
          "text": [
            "\n",
            "      Epoch    GPU_mem   box_loss   seg_loss   cls_loss   dfl_loss  Instances       Size\n"
          ]
        },
        {
          "output_type": "stream",
          "name": "stderr",
          "text": [
            "       9/50      2.84G      1.452     0.4266      2.318      1.595          1        640: 100%|██████████| 11/11 [00:02<00:00,  3.89it/s]\n",
            "                 Class     Images  Instances      Box(P          R      mAP50  mAP50-95)     Mask(P          R      mAP50  mAP50-95): 100%|██████████| 2/2 [00:00<00:00,  6.18it/s]"
          ]
        },
        {
          "output_type": "stream",
          "name": "stdout",
          "text": [
            "                   all         23         21      0.696      0.666      0.623      0.323      0.696      0.666      0.622      0.329\n"
          ]
        },
        {
          "output_type": "stream",
          "name": "stderr",
          "text": [
            "\n"
          ]
        },
        {
          "output_type": "stream",
          "name": "stdout",
          "text": [
            "\n",
            "      Epoch    GPU_mem   box_loss   seg_loss   cls_loss   dfl_loss  Instances       Size\n"
          ]
        },
        {
          "output_type": "stream",
          "name": "stderr",
          "text": [
            "      10/50      2.84G      1.423     0.4062      1.996      1.653          1        640: 100%|██████████| 11/11 [00:02<00:00,  5.20it/s]\n",
            "                 Class     Images  Instances      Box(P          R      mAP50  mAP50-95)     Mask(P          R      mAP50  mAP50-95): 100%|██████████| 2/2 [00:00<00:00,  6.72it/s]"
          ]
        },
        {
          "output_type": "stream",
          "name": "stdout",
          "text": [
            "                   all         23         21      0.855      0.611      0.681      0.339      0.855      0.611      0.681      0.343\n"
          ]
        },
        {
          "output_type": "stream",
          "name": "stderr",
          "text": [
            "\n"
          ]
        },
        {
          "output_type": "stream",
          "name": "stdout",
          "text": [
            "\n",
            "      Epoch    GPU_mem   box_loss   seg_loss   cls_loss   dfl_loss  Instances       Size\n"
          ]
        },
        {
          "output_type": "stream",
          "name": "stderr",
          "text": [
            "      11/50      2.84G      1.451     0.4754      2.271      1.656          1        640: 100%|██████████| 11/11 [00:02<00:00,  5.14it/s]\n",
            "                 Class     Images  Instances      Box(P          R      mAP50  mAP50-95)     Mask(P          R      mAP50  mAP50-95): 100%|██████████| 2/2 [00:00<00:00,  6.99it/s]"
          ]
        },
        {
          "output_type": "stream",
          "name": "stdout",
          "text": [
            "                   all         23         21      0.782      0.545      0.863      0.361      0.782      0.545      0.818      0.362\n"
          ]
        },
        {
          "output_type": "stream",
          "name": "stderr",
          "text": [
            "\n"
          ]
        },
        {
          "output_type": "stream",
          "name": "stdout",
          "text": [
            "\n",
            "      Epoch    GPU_mem   box_loss   seg_loss   cls_loss   dfl_loss  Instances       Size\n"
          ]
        },
        {
          "output_type": "stream",
          "name": "stderr",
          "text": [
            "      12/50      2.84G      1.478      2.244       2.13      1.624          4        640: 100%|██████████| 11/11 [00:02<00:00,  5.03it/s]\n",
            "                 Class     Images  Instances      Box(P          R      mAP50  mAP50-95)     Mask(P          R      mAP50  mAP50-95): 100%|██████████| 2/2 [00:00<00:00,  6.50it/s]"
          ]
        },
        {
          "output_type": "stream",
          "name": "stdout",
          "text": [
            "                   all         23         21      0.572      0.848      0.875      0.372      0.572      0.848      0.875      0.364\n"
          ]
        },
        {
          "output_type": "stream",
          "name": "stderr",
          "text": [
            "\n"
          ]
        },
        {
          "output_type": "stream",
          "name": "stdout",
          "text": [
            "\n",
            "      Epoch    GPU_mem   box_loss   seg_loss   cls_loss   dfl_loss  Instances       Size\n"
          ]
        },
        {
          "output_type": "stream",
          "name": "stderr",
          "text": [
            "      13/50      2.85G      1.427       0.37      2.105      1.642          2        640: 100%|██████████| 11/11 [00:02<00:00,  3.73it/s]\n",
            "                 Class     Images  Instances      Box(P          R      mAP50  mAP50-95)     Mask(P          R      mAP50  mAP50-95): 100%|██████████| 2/2 [00:00<00:00,  6.51it/s]"
          ]
        },
        {
          "output_type": "stream",
          "name": "stdout",
          "text": [
            "                   all         23         21      0.489       0.81      0.732      0.367      0.486      0.784      0.728      0.383\n"
          ]
        },
        {
          "output_type": "stream",
          "name": "stderr",
          "text": [
            "\n"
          ]
        },
        {
          "output_type": "stream",
          "name": "stdout",
          "text": [
            "\n",
            "      Epoch    GPU_mem   box_loss   seg_loss   cls_loss   dfl_loss  Instances       Size\n"
          ]
        },
        {
          "output_type": "stream",
          "name": "stderr",
          "text": [
            "      14/50      2.85G      1.415     0.3661      1.827       1.52          4        640: 100%|██████████| 11/11 [00:02<00:00,  5.00it/s]\n",
            "                 Class     Images  Instances      Box(P          R      mAP50  mAP50-95)     Mask(P          R      mAP50  mAP50-95): 100%|██████████| 2/2 [00:00<00:00,  6.43it/s]"
          ]
        },
        {
          "output_type": "stream",
          "name": "stdout",
          "text": [
            "                   all         23         21      0.659      0.758      0.818       0.39      0.659      0.758      0.818      0.402\n"
          ]
        },
        {
          "output_type": "stream",
          "name": "stderr",
          "text": [
            "\n"
          ]
        },
        {
          "output_type": "stream",
          "name": "stdout",
          "text": [
            "\n",
            "      Epoch    GPU_mem   box_loss   seg_loss   cls_loss   dfl_loss  Instances       Size\n"
          ]
        },
        {
          "output_type": "stream",
          "name": "stderr",
          "text": [
            "      15/50      2.89G      1.345     0.2437      1.645      1.512          2        640: 100%|██████████| 11/11 [00:02<00:00,  5.08it/s]\n",
            "                 Class     Images  Instances      Box(P          R      mAP50  mAP50-95)     Mask(P          R      mAP50  mAP50-95): 100%|██████████| 2/2 [00:00<00:00,  6.80it/s]"
          ]
        },
        {
          "output_type": "stream",
          "name": "stdout",
          "text": [
            "                   all         23         21       0.73      0.751      0.777      0.376       0.73      0.751      0.781      0.363\n"
          ]
        },
        {
          "output_type": "stream",
          "name": "stderr",
          "text": [
            "\n"
          ]
        },
        {
          "output_type": "stream",
          "name": "stdout",
          "text": [
            "\n",
            "      Epoch    GPU_mem   box_loss   seg_loss   cls_loss   dfl_loss  Instances       Size\n"
          ]
        },
        {
          "output_type": "stream",
          "name": "stderr",
          "text": [
            "      16/50      2.89G      1.348     0.3012      1.649      1.526          2        640: 100%|██████████| 11/11 [00:02<00:00,  5.06it/s]\n",
            "                 Class     Images  Instances      Box(P          R      mAP50  mAP50-95)     Mask(P          R      mAP50  mAP50-95): 100%|██████████| 2/2 [00:00<00:00,  7.12it/s]"
          ]
        },
        {
          "output_type": "stream",
          "name": "stdout",
          "text": [
            "                   all         23         21      0.697      0.694      0.774      0.409      0.697      0.694      0.774      0.421\n"
          ]
        },
        {
          "output_type": "stream",
          "name": "stderr",
          "text": [
            "\n"
          ]
        },
        {
          "output_type": "stream",
          "name": "stdout",
          "text": [
            "\n",
            "      Epoch    GPU_mem   box_loss   seg_loss   cls_loss   dfl_loss  Instances       Size\n"
          ]
        },
        {
          "output_type": "stream",
          "name": "stderr",
          "text": [
            "      17/50      2.93G      1.433     0.3594      1.764      1.584          4        640: 100%|██████████| 11/11 [00:02<00:00,  3.96it/s]\n",
            "                 Class     Images  Instances      Box(P          R      mAP50  mAP50-95)     Mask(P          R      mAP50  mAP50-95): 100%|██████████| 2/2 [00:00<00:00,  7.30it/s]"
          ]
        },
        {
          "output_type": "stream",
          "name": "stdout",
          "text": [
            "                   all         23         21       0.68      0.718      0.713      0.401      0.652      0.838      0.774       0.41\n"
          ]
        },
        {
          "output_type": "stream",
          "name": "stderr",
          "text": [
            "\n"
          ]
        },
        {
          "output_type": "stream",
          "name": "stdout",
          "text": [
            "\n",
            "      Epoch    GPU_mem   box_loss   seg_loss   cls_loss   dfl_loss  Instances       Size\n"
          ]
        },
        {
          "output_type": "stream",
          "name": "stderr",
          "text": [
            "      18/50      2.93G      1.428     0.5474      1.717      1.611          4        640: 100%|██████████| 11/11 [00:02<00:00,  5.00it/s]\n",
            "                 Class     Images  Instances      Box(P          R      mAP50  mAP50-95)     Mask(P          R      mAP50  mAP50-95): 100%|██████████| 2/2 [00:00<00:00,  7.33it/s]"
          ]
        },
        {
          "output_type": "stream",
          "name": "stdout",
          "text": [
            "                   all         23         21      0.752      0.758      0.795      0.388      0.761      0.788      0.802        0.4\n"
          ]
        },
        {
          "output_type": "stream",
          "name": "stderr",
          "text": [
            "\n"
          ]
        },
        {
          "output_type": "stream",
          "name": "stdout",
          "text": [
            "\n",
            "      Epoch    GPU_mem   box_loss   seg_loss   cls_loss   dfl_loss  Instances       Size\n"
          ]
        },
        {
          "output_type": "stream",
          "name": "stderr",
          "text": [
            "      19/50      2.93G      1.401     0.3021      1.769      1.574          3        640: 100%|██████████| 11/11 [00:02<00:00,  5.14it/s]\n",
            "                 Class     Images  Instances      Box(P          R      mAP50  mAP50-95)     Mask(P          R      mAP50  mAP50-95): 100%|██████████| 2/2 [00:00<00:00,  6.86it/s]"
          ]
        },
        {
          "output_type": "stream",
          "name": "stdout",
          "text": [
            "                   all         23         21       0.84      0.763       0.84      0.383       0.84      0.763       0.84      0.396\n"
          ]
        },
        {
          "output_type": "stream",
          "name": "stderr",
          "text": [
            "\n"
          ]
        },
        {
          "output_type": "stream",
          "name": "stdout",
          "text": [
            "\n",
            "      Epoch    GPU_mem   box_loss   seg_loss   cls_loss   dfl_loss  Instances       Size\n"
          ]
        },
        {
          "output_type": "stream",
          "name": "stderr",
          "text": [
            "      20/50      2.93G      1.243      0.319      1.475      1.443          1        640: 100%|██████████| 11/11 [00:02<00:00,  4.60it/s]\n",
            "                 Class     Images  Instances      Box(P          R      mAP50  mAP50-95)     Mask(P          R      mAP50  mAP50-95): 100%|██████████| 2/2 [00:00<00:00,  4.08it/s]"
          ]
        },
        {
          "output_type": "stream",
          "name": "stdout",
          "text": [
            "                   all         23         21      0.844      0.762      0.858      0.404      0.844      0.762      0.902      0.428\n"
          ]
        },
        {
          "output_type": "stream",
          "name": "stderr",
          "text": [
            "\n"
          ]
        },
        {
          "output_type": "stream",
          "name": "stdout",
          "text": [
            "\n",
            "      Epoch    GPU_mem   box_loss   seg_loss   cls_loss   dfl_loss  Instances       Size\n"
          ]
        },
        {
          "output_type": "stream",
          "name": "stderr",
          "text": [
            "      21/50      2.93G      1.257     0.5716      1.437      1.421          4        640: 100%|██████████| 11/11 [00:02<00:00,  4.51it/s]\n",
            "                 Class     Images  Instances      Box(P          R      mAP50  mAP50-95)     Mask(P          R      mAP50  mAP50-95): 100%|██████████| 2/2 [00:00<00:00,  6.21it/s]"
          ]
        },
        {
          "output_type": "stream",
          "name": "stdout",
          "text": [
            "                   all         23         21      0.874      0.795      0.858      0.463      0.874      0.795      0.858      0.453\n"
          ]
        },
        {
          "output_type": "stream",
          "name": "stderr",
          "text": [
            "\n"
          ]
        },
        {
          "output_type": "stream",
          "name": "stdout",
          "text": [
            "\n",
            "      Epoch    GPU_mem   box_loss   seg_loss   cls_loss   dfl_loss  Instances       Size\n"
          ]
        },
        {
          "output_type": "stream",
          "name": "stderr",
          "text": [
            "      22/50      2.93G      1.226     0.2965      1.534      1.409          2        640: 100%|██████████| 11/11 [00:02<00:00,  5.05it/s]\n",
            "                 Class     Images  Instances      Box(P          R      mAP50  mAP50-95)     Mask(P          R      mAP50  mAP50-95): 100%|██████████| 2/2 [00:00<00:00,  6.54it/s]"
          ]
        },
        {
          "output_type": "stream",
          "name": "stdout",
          "text": [
            "                   all         23         21       0.79      0.817       0.87      0.478       0.79      0.817       0.87      0.483\n"
          ]
        },
        {
          "output_type": "stream",
          "name": "stderr",
          "text": [
            "\n"
          ]
        },
        {
          "output_type": "stream",
          "name": "stdout",
          "text": [
            "\n",
            "      Epoch    GPU_mem   box_loss   seg_loss   cls_loss   dfl_loss  Instances       Size\n"
          ]
        },
        {
          "output_type": "stream",
          "name": "stderr",
          "text": [
            "      23/50      2.93G       1.22     0.3504      1.452      1.395          2        640: 100%|██████████| 11/11 [00:02<00:00,  5.03it/s]\n",
            "                 Class     Images  Instances      Box(P          R      mAP50  mAP50-95)     Mask(P          R      mAP50  mAP50-95): 100%|██████████| 2/2 [00:00<00:00,  6.16it/s]"
          ]
        },
        {
          "output_type": "stream",
          "name": "stdout",
          "text": [
            "                   all         23         21      0.655      0.848      0.862      0.506      0.655      0.848      0.862      0.516\n"
          ]
        },
        {
          "output_type": "stream",
          "name": "stderr",
          "text": [
            "\n"
          ]
        },
        {
          "output_type": "stream",
          "name": "stdout",
          "text": [
            "\n",
            "      Epoch    GPU_mem   box_loss   seg_loss   cls_loss   dfl_loss  Instances       Size\n"
          ]
        },
        {
          "output_type": "stream",
          "name": "stderr",
          "text": [
            "      24/50      2.93G      1.252     0.7595      1.482      1.418          2        640: 100%|██████████| 11/11 [00:02<00:00,  3.92it/s]\n",
            "                 Class     Images  Instances      Box(P          R      mAP50  mAP50-95)     Mask(P          R      mAP50  mAP50-95): 100%|██████████| 2/2 [00:00<00:00,  6.37it/s]"
          ]
        },
        {
          "output_type": "stream",
          "name": "stdout",
          "text": [
            "                   all         23         21      0.647      0.848      0.806      0.433      0.647      0.848      0.806      0.431\n"
          ]
        },
        {
          "output_type": "stream",
          "name": "stderr",
          "text": [
            "\n"
          ]
        },
        {
          "output_type": "stream",
          "name": "stdout",
          "text": [
            "\n",
            "      Epoch    GPU_mem   box_loss   seg_loss   cls_loss   dfl_loss  Instances       Size\n"
          ]
        },
        {
          "output_type": "stream",
          "name": "stderr",
          "text": [
            "      25/50      2.93G      1.195     0.3857      1.376      1.366          4        640: 100%|██████████| 11/11 [00:02<00:00,  4.86it/s]\n",
            "                 Class     Images  Instances      Box(P          R      mAP50  mAP50-95)     Mask(P          R      mAP50  mAP50-95): 100%|██████████| 2/2 [00:00<00:00,  7.34it/s]"
          ]
        },
        {
          "output_type": "stream",
          "name": "stdout",
          "text": [
            "                   all         23         21      0.791      0.826      0.812      0.456      0.791      0.826      0.812      0.441\n"
          ]
        },
        {
          "output_type": "stream",
          "name": "stderr",
          "text": [
            "\n"
          ]
        },
        {
          "output_type": "stream",
          "name": "stdout",
          "text": [
            "\n",
            "      Epoch    GPU_mem   box_loss   seg_loss   cls_loss   dfl_loss  Instances       Size\n"
          ]
        },
        {
          "output_type": "stream",
          "name": "stderr",
          "text": [
            "      26/50      2.93G      1.195     0.3491      1.322      1.421          4        640: 100%|██████████| 11/11 [00:02<00:00,  5.07it/s]\n",
            "                 Class     Images  Instances      Box(P          R      mAP50  mAP50-95)     Mask(P          R      mAP50  mAP50-95): 100%|██████████| 2/2 [00:00<00:00,  6.49it/s]"
          ]
        },
        {
          "output_type": "stream",
          "name": "stdout",
          "text": [
            "                   all         23         21      0.723       0.82      0.802      0.444       0.74      0.838      0.818      0.457\n"
          ]
        },
        {
          "output_type": "stream",
          "name": "stderr",
          "text": [
            "\n"
          ]
        },
        {
          "output_type": "stream",
          "name": "stdout",
          "text": [
            "\n",
            "      Epoch    GPU_mem   box_loss   seg_loss   cls_loss   dfl_loss  Instances       Size\n"
          ]
        },
        {
          "output_type": "stream",
          "name": "stderr",
          "text": [
            "      27/50      2.93G      1.117     0.2764      1.321      1.379          1        640: 100%|██████████| 11/11 [00:02<00:00,  5.17it/s]\n",
            "                 Class     Images  Instances      Box(P          R      mAP50  mAP50-95)     Mask(P          R      mAP50  mAP50-95): 100%|██████████| 2/2 [00:00<00:00,  7.18it/s]"
          ]
        },
        {
          "output_type": "stream",
          "name": "stdout",
          "text": [
            "                   all         23         21      0.703      0.841      0.884       0.47      0.703      0.841      0.884      0.461\n"
          ]
        },
        {
          "output_type": "stream",
          "name": "stderr",
          "text": [
            "\n"
          ]
        },
        {
          "output_type": "stream",
          "name": "stdout",
          "text": [
            "\n",
            "      Epoch    GPU_mem   box_loss   seg_loss   cls_loss   dfl_loss  Instances       Size\n"
          ]
        },
        {
          "output_type": "stream",
          "name": "stderr",
          "text": [
            "      28/50      2.93G      1.163     0.3623      1.218      1.377          4        640: 100%|██████████| 11/11 [00:03<00:00,  3.37it/s]\n",
            "                 Class     Images  Instances      Box(P          R      mAP50  mAP50-95)     Mask(P          R      mAP50  mAP50-95): 100%|██████████| 2/2 [00:00<00:00,  4.17it/s]"
          ]
        },
        {
          "output_type": "stream",
          "name": "stdout",
          "text": [
            "                   all         23         21      0.831      0.818      0.892      0.493      0.831      0.818      0.892      0.482\n"
          ]
        },
        {
          "output_type": "stream",
          "name": "stderr",
          "text": [
            "\n"
          ]
        },
        {
          "output_type": "stream",
          "name": "stdout",
          "text": [
            "\n",
            "      Epoch    GPU_mem   box_loss   seg_loss   cls_loss   dfl_loss  Instances       Size\n"
          ]
        },
        {
          "output_type": "stream",
          "name": "stderr",
          "text": [
            "      29/50      2.93G      1.355     0.3734      1.412      1.467          4        640: 100%|██████████| 11/11 [00:02<00:00,  4.26it/s]\n",
            "                 Class     Images  Instances      Box(P          R      mAP50  mAP50-95)     Mask(P          R      mAP50  mAP50-95): 100%|██████████| 2/2 [00:00<00:00,  6.83it/s]"
          ]
        },
        {
          "output_type": "stream",
          "name": "stdout",
          "text": [
            "                   all         23         21      0.805        0.8      0.867       0.46      0.805        0.8      0.867       0.45\n"
          ]
        },
        {
          "output_type": "stream",
          "name": "stderr",
          "text": [
            "\n"
          ]
        },
        {
          "output_type": "stream",
          "name": "stdout",
          "text": [
            "\n",
            "      Epoch    GPU_mem   box_loss   seg_loss   cls_loss   dfl_loss  Instances       Size\n"
          ]
        },
        {
          "output_type": "stream",
          "name": "stderr",
          "text": [
            "      30/50      3.08G      1.281     0.3181       1.32      1.435          2        640: 100%|██████████| 11/11 [00:02<00:00,  5.15it/s]\n",
            "                 Class     Images  Instances      Box(P          R      mAP50  mAP50-95)     Mask(P          R      mAP50  mAP50-95): 100%|██████████| 2/2 [00:00<00:00,  7.15it/s]"
          ]
        },
        {
          "output_type": "stream",
          "name": "stdout",
          "text": [
            "                   all         23         21      0.748      0.848      0.908      0.417      0.748      0.848      0.891      0.415\n"
          ]
        },
        {
          "output_type": "stream",
          "name": "stderr",
          "text": [
            "\n"
          ]
        },
        {
          "output_type": "stream",
          "name": "stdout",
          "text": [
            "\n",
            "      Epoch    GPU_mem   box_loss   seg_loss   cls_loss   dfl_loss  Instances       Size\n"
          ]
        },
        {
          "output_type": "stream",
          "name": "stderr",
          "text": [
            "      31/50      3.08G       1.14     0.2813      1.168      1.325          4        640: 100%|██████████| 11/11 [00:02<00:00,  5.01it/s]\n",
            "                 Class     Images  Instances      Box(P          R      mAP50  mAP50-95)     Mask(P          R      mAP50  mAP50-95): 100%|██████████| 2/2 [00:00<00:00,  7.10it/s]"
          ]
        },
        {
          "output_type": "stream",
          "name": "stdout",
          "text": [
            "                   all         23         21       0.59      0.937      0.865       0.46      0.756      0.808      0.868      0.446\n"
          ]
        },
        {
          "output_type": "stream",
          "name": "stderr",
          "text": [
            "\n"
          ]
        },
        {
          "output_type": "stream",
          "name": "stdout",
          "text": [
            "\n",
            "      Epoch    GPU_mem   box_loss   seg_loss   cls_loss   dfl_loss  Instances       Size\n"
          ]
        },
        {
          "output_type": "stream",
          "name": "stderr",
          "text": [
            "      32/50      3.08G      1.223     0.3391      1.216       1.42          2        640: 100%|██████████| 11/11 [00:02<00:00,  3.95it/s]\n",
            "                 Class     Images  Instances      Box(P          R      mAP50  mAP50-95)     Mask(P          R      mAP50  mAP50-95): 100%|██████████| 2/2 [00:00<00:00,  6.85it/s]"
          ]
        },
        {
          "output_type": "stream",
          "name": "stdout",
          "text": [
            "                   all         23         21        0.6      0.921       0.85      0.472      0.616      0.939      0.868      0.463\n"
          ]
        },
        {
          "output_type": "stream",
          "name": "stderr",
          "text": [
            "\n"
          ]
        },
        {
          "output_type": "stream",
          "name": "stdout",
          "text": [
            "\n",
            "      Epoch    GPU_mem   box_loss   seg_loss   cls_loss   dfl_loss  Instances       Size\n"
          ]
        },
        {
          "output_type": "stream",
          "name": "stderr",
          "text": [
            "      33/50      3.12G      1.133     0.2725      1.104      1.377          2        640: 100%|██████████| 11/11 [00:02<00:00,  5.03it/s]\n",
            "                 Class     Images  Instances      Box(P          R      mAP50  mAP50-95)     Mask(P          R      mAP50  mAP50-95): 100%|██████████| 2/2 [00:00<00:00,  7.46it/s]"
          ]
        },
        {
          "output_type": "stream",
          "name": "stdout",
          "text": [
            "                   all         23         21      0.712      0.901      0.851       0.47      0.729       0.92      0.867       0.48\n"
          ]
        },
        {
          "output_type": "stream",
          "name": "stderr",
          "text": [
            "\n"
          ]
        },
        {
          "output_type": "stream",
          "name": "stdout",
          "text": [
            "\n",
            "      Epoch    GPU_mem   box_loss   seg_loss   cls_loss   dfl_loss  Instances       Size\n"
          ]
        },
        {
          "output_type": "stream",
          "name": "stderr",
          "text": [
            "      34/50      3.12G       1.19     0.2703      1.257      1.392          2        640: 100%|██████████| 11/11 [00:02<00:00,  5.00it/s]\n",
            "                 Class     Images  Instances      Box(P          R      mAP50  mAP50-95)     Mask(P          R      mAP50  mAP50-95): 100%|██████████| 2/2 [00:00<00:00,  6.57it/s]"
          ]
        },
        {
          "output_type": "stream",
          "name": "stdout",
          "text": [
            "                   all         23         21      0.709      0.939       0.87      0.479      0.709      0.939       0.87       0.49\n"
          ]
        },
        {
          "output_type": "stream",
          "name": "stderr",
          "text": [
            "\n"
          ]
        },
        {
          "output_type": "stream",
          "name": "stdout",
          "text": [
            "\n",
            "      Epoch    GPU_mem   box_loss   seg_loss   cls_loss   dfl_loss  Instances       Size\n"
          ]
        },
        {
          "output_type": "stream",
          "name": "stderr",
          "text": [
            "      35/50      3.16G      1.207     0.4498      1.304      1.387          2        640: 100%|██████████| 11/11 [00:02<00:00,  5.10it/s]\n",
            "                 Class     Images  Instances      Box(P          R      mAP50  mAP50-95)     Mask(P          R      mAP50  mAP50-95): 100%|██████████| 2/2 [00:00<00:00,  7.11it/s]"
          ]
        },
        {
          "output_type": "stream",
          "name": "stdout",
          "text": [
            "                   all         23         21      0.732      0.939       0.87      0.475      0.732      0.939       0.87      0.472\n"
          ]
        },
        {
          "output_type": "stream",
          "name": "stderr",
          "text": [
            "\n"
          ]
        },
        {
          "output_type": "stream",
          "name": "stdout",
          "text": [
            "\n",
            "      Epoch    GPU_mem   box_loss   seg_loss   cls_loss   dfl_loss  Instances       Size\n"
          ]
        },
        {
          "output_type": "stream",
          "name": "stderr",
          "text": [
            "      36/50      3.16G       1.03     0.2857      1.126      1.284          2        640: 100%|██████████| 11/11 [00:02<00:00,  4.96it/s]\n",
            "                 Class     Images  Instances      Box(P          R      mAP50  mAP50-95)     Mask(P          R      mAP50  mAP50-95): 100%|██████████| 2/2 [00:00<00:00,  6.72it/s]"
          ]
        },
        {
          "output_type": "stream",
          "name": "stdout",
          "text": [
            "                   all         23         21      0.797      0.932       0.87       0.47      0.797      0.932       0.87      0.471\n"
          ]
        },
        {
          "output_type": "stream",
          "name": "stderr",
          "text": [
            "\n"
          ]
        },
        {
          "output_type": "stream",
          "name": "stdout",
          "text": [
            "\n",
            "      Epoch    GPU_mem   box_loss   seg_loss   cls_loss   dfl_loss  Instances       Size\n"
          ]
        },
        {
          "output_type": "stream",
          "name": "stderr",
          "text": [
            "      37/50      3.16G      1.043     0.3846      1.257      1.318          1        640: 100%|██████████| 11/11 [00:02<00:00,  5.16it/s]\n",
            "                 Class     Images  Instances      Box(P          R      mAP50  mAP50-95)     Mask(P          R      mAP50  mAP50-95): 100%|██████████| 2/2 [00:00<00:00,  7.15it/s]"
          ]
        },
        {
          "output_type": "stream",
          "name": "stdout",
          "text": [
            "                   all         23         21      0.815      0.939       0.87      0.477      0.793      0.916      0.862      0.474\n"
          ]
        },
        {
          "output_type": "stream",
          "name": "stderr",
          "text": [
            "\n"
          ]
        },
        {
          "output_type": "stream",
          "name": "stdout",
          "text": [
            "\n",
            "      Epoch    GPU_mem   box_loss   seg_loss   cls_loss   dfl_loss  Instances       Size\n"
          ]
        },
        {
          "output_type": "stream",
          "name": "stderr",
          "text": [
            "      38/50      3.16G      1.044     0.3941      1.059      1.307          4        640: 100%|██████████| 11/11 [00:02<00:00,  5.05it/s]\n",
            "                 Class     Images  Instances      Box(P          R      mAP50  mAP50-95)     Mask(P          R      mAP50  mAP50-95): 100%|██████████| 2/2 [00:00<00:00,  5.65it/s]"
          ]
        },
        {
          "output_type": "stream",
          "name": "stdout",
          "text": [
            "                   all         23         21      0.805      0.934       0.87      0.479      0.805      0.934       0.87      0.472\n"
          ]
        },
        {
          "output_type": "stream",
          "name": "stderr",
          "text": [
            "\n"
          ]
        },
        {
          "output_type": "stream",
          "name": "stdout",
          "text": [
            "\n",
            "      Epoch    GPU_mem   box_loss   seg_loss   cls_loss   dfl_loss  Instances       Size\n"
          ]
        },
        {
          "output_type": "stream",
          "name": "stderr",
          "text": [
            "      39/50      3.16G      1.076     0.3051      1.098      1.302          4        640: 100%|██████████| 11/11 [00:02<00:00,  3.95it/s]\n",
            "                 Class     Images  Instances      Box(P          R      mAP50  mAP50-95)     Mask(P          R      mAP50  mAP50-95): 100%|██████████| 2/2 [00:00<00:00,  4.26it/s]"
          ]
        },
        {
          "output_type": "stream",
          "name": "stdout",
          "text": [
            "                   all         23         21      0.769      0.911       0.87      0.483      0.769      0.911       0.87      0.476\n"
          ]
        },
        {
          "output_type": "stream",
          "name": "stderr",
          "text": [
            "\n"
          ]
        },
        {
          "output_type": "stream",
          "name": "stdout",
          "text": [
            "\n",
            "      Epoch    GPU_mem   box_loss   seg_loss   cls_loss   dfl_loss  Instances       Size\n"
          ]
        },
        {
          "output_type": "stream",
          "name": "stderr",
          "text": [
            "      40/50      3.16G      1.055     0.3064      1.053      1.274          3        640: 100%|██████████| 11/11 [00:02<00:00,  5.18it/s]\n",
            "                 Class     Images  Instances      Box(P          R      mAP50  mAP50-95)     Mask(P          R      mAP50  mAP50-95): 100%|██████████| 2/2 [00:00<00:00,  7.25it/s]"
          ]
        },
        {
          "output_type": "stream",
          "name": "stdout",
          "text": [
            "                   all         23         21      0.778      0.887       0.87      0.492      0.778      0.887      0.873      0.506\n"
          ]
        },
        {
          "output_type": "stream",
          "name": "stderr",
          "text": [
            "\n"
          ]
        },
        {
          "output_type": "stream",
          "name": "stdout",
          "text": [
            "Closing dataloader mosaic\n",
            "\u001b[34m\u001b[1malbumentations: \u001b[0mBlur(p=0.01, blur_limit=(3, 7)), MedianBlur(p=0.01, blur_limit=(3, 7)), ToGray(p=0.01, method='weighted_average', num_output_channels=3), CLAHE(p=0.01, clip_limit=(1.0, 4.0), tile_grid_size=(8, 8))\n",
            "\n",
            "      Epoch    GPU_mem   box_loss   seg_loss   cls_loss   dfl_loss  Instances       Size\n"
          ]
        },
        {
          "output_type": "stream",
          "name": "stderr",
          "text": [
            "      41/50      3.16G      1.334     0.3359      1.792      1.655          1        640: 100%|██████████| 11/11 [00:03<00:00,  3.31it/s]\n",
            "                 Class     Images  Instances      Box(P          R      mAP50  mAP50-95)     Mask(P          R      mAP50  mAP50-95): 100%|██████████| 2/2 [00:00<00:00,  6.76it/s]"
          ]
        },
        {
          "output_type": "stream",
          "name": "stdout",
          "text": [
            "                   all         23         21      0.767      0.869      0.873      0.502      0.767      0.869      0.873      0.499\n"
          ]
        },
        {
          "output_type": "stream",
          "name": "stderr",
          "text": [
            "\n"
          ]
        },
        {
          "output_type": "stream",
          "name": "stdout",
          "text": [
            "\n",
            "      Epoch    GPU_mem   box_loss   seg_loss   cls_loss   dfl_loss  Instances       Size\n"
          ]
        },
        {
          "output_type": "stream",
          "name": "stderr",
          "text": [
            "      42/50      3.16G      1.095     0.2774      1.274       1.53          1        640: 100%|██████████| 11/11 [00:02<00:00,  5.21it/s]\n",
            "                 Class     Images  Instances      Box(P          R      mAP50  mAP50-95)     Mask(P          R      mAP50  mAP50-95): 100%|██████████| 2/2 [00:00<00:00,  5.81it/s]"
          ]
        },
        {
          "output_type": "stream",
          "name": "stdout",
          "text": [
            "                   all         23         21      0.764      0.869      0.873      0.495      0.764      0.869      0.873      0.507\n"
          ]
        },
        {
          "output_type": "stream",
          "name": "stderr",
          "text": [
            "\n"
          ]
        },
        {
          "output_type": "stream",
          "name": "stdout",
          "text": [
            "\n",
            "      Epoch    GPU_mem   box_loss   seg_loss   cls_loss   dfl_loss  Instances       Size\n"
          ]
        },
        {
          "output_type": "stream",
          "name": "stderr",
          "text": [
            "      43/50      3.16G      1.071     0.2109      1.091      1.521          1        640: 100%|██████████| 11/11 [00:02<00:00,  4.17it/s]\n",
            "                 Class     Images  Instances      Box(P          R      mAP50  mAP50-95)     Mask(P          R      mAP50  mAP50-95): 100%|██████████| 2/2 [00:00<00:00,  6.63it/s]"
          ]
        },
        {
          "output_type": "stream",
          "name": "stdout",
          "text": [
            "                   all         23         21      0.762      0.877       0.87      0.497      0.762      0.877       0.87      0.487\n"
          ]
        },
        {
          "output_type": "stream",
          "name": "stderr",
          "text": [
            "\n"
          ]
        },
        {
          "output_type": "stream",
          "name": "stdout",
          "text": [
            "\n",
            "      Epoch    GPU_mem   box_loss   seg_loss   cls_loss   dfl_loss  Instances       Size\n"
          ]
        },
        {
          "output_type": "stream",
          "name": "stderr",
          "text": [
            "      44/50      3.16G     0.9378     0.2147      1.004      1.378          1        640: 100%|██████████| 11/11 [00:02<00:00,  5.08it/s]\n",
            "                 Class     Images  Instances      Box(P          R      mAP50  mAP50-95)     Mask(P          R      mAP50  mAP50-95): 100%|██████████| 2/2 [00:00<00:00,  6.94it/s]"
          ]
        },
        {
          "output_type": "stream",
          "name": "stdout",
          "text": [
            "                   all         23         21      0.773      0.934      0.871       0.49      0.773      0.934       0.87      0.495\n"
          ]
        },
        {
          "output_type": "stream",
          "name": "stderr",
          "text": [
            "\n"
          ]
        },
        {
          "output_type": "stream",
          "name": "stdout",
          "text": [
            "\n",
            "      Epoch    GPU_mem   box_loss   seg_loss   cls_loss   dfl_loss  Instances       Size\n"
          ]
        },
        {
          "output_type": "stream",
          "name": "stderr",
          "text": [
            "      45/50      3.16G      1.025     0.2556      1.133      1.444          1        640: 100%|██████████| 11/11 [00:02<00:00,  5.28it/s]\n",
            "                 Class     Images  Instances      Box(P          R      mAP50  mAP50-95)     Mask(P          R      mAP50  mAP50-95): 100%|██████████| 2/2 [00:00<00:00,  7.00it/s]"
          ]
        },
        {
          "output_type": "stream",
          "name": "stdout",
          "text": [
            "                   all         23         21      0.779      0.939       0.87      0.485      0.779      0.939       0.87      0.482\n"
          ]
        },
        {
          "output_type": "stream",
          "name": "stderr",
          "text": [
            "\n"
          ]
        },
        {
          "output_type": "stream",
          "name": "stdout",
          "text": [
            "\n",
            "      Epoch    GPU_mem   box_loss   seg_loss   cls_loss   dfl_loss  Instances       Size\n"
          ]
        },
        {
          "output_type": "stream",
          "name": "stderr",
          "text": [
            "      46/50      3.16G     0.9387     0.2251      1.067       1.34          1        640: 100%|██████████| 11/11 [00:02<00:00,  5.10it/s]\n",
            "                 Class     Images  Instances      Box(P          R      mAP50  mAP50-95)     Mask(P          R      mAP50  mAP50-95): 100%|██████████| 2/2 [00:00<00:00,  7.48it/s]"
          ]
        },
        {
          "output_type": "stream",
          "name": "stdout",
          "text": [
            "                   all         23         21      0.791      0.939       0.87      0.483      0.791      0.939      0.871      0.487\n"
          ]
        },
        {
          "output_type": "stream",
          "name": "stderr",
          "text": [
            "\n"
          ]
        },
        {
          "output_type": "stream",
          "name": "stdout",
          "text": [
            "\n",
            "      Epoch    GPU_mem   box_loss   seg_loss   cls_loss   dfl_loss  Instances       Size\n"
          ]
        },
        {
          "output_type": "stream",
          "name": "stderr",
          "text": [
            "      47/50      3.16G     0.8973     0.2863     0.9519       1.31          1        640: 100%|██████████| 11/11 [00:02<00:00,  3.93it/s]\n",
            "                 Class     Images  Instances      Box(P          R      mAP50  mAP50-95)     Mask(P          R      mAP50  mAP50-95): 100%|██████████| 2/2 [00:00<00:00,  6.79it/s]"
          ]
        },
        {
          "output_type": "stream",
          "name": "stdout",
          "text": [
            "                   all         23         21      0.813      0.937       0.87      0.486      0.813      0.937       0.87      0.474\n"
          ]
        },
        {
          "output_type": "stream",
          "name": "stderr",
          "text": [
            "\n"
          ]
        },
        {
          "output_type": "stream",
          "name": "stdout",
          "text": [
            "\n",
            "      Epoch    GPU_mem   box_loss   seg_loss   cls_loss   dfl_loss  Instances       Size\n"
          ]
        },
        {
          "output_type": "stream",
          "name": "stderr",
          "text": [
            "      48/50      3.16G     0.7819      0.238      1.102      1.223          0        640: 100%|██████████| 11/11 [00:02<00:00,  5.10it/s]\n",
            "                 Class     Images  Instances      Box(P          R      mAP50  mAP50-95)     Mask(P          R      mAP50  mAP50-95): 100%|██████████| 2/2 [00:00<00:00,  7.06it/s]"
          ]
        },
        {
          "output_type": "stream",
          "name": "stdout",
          "text": [
            "                   all         23         21      0.817      0.936       0.87      0.485      0.817      0.936       0.87      0.481\n"
          ]
        },
        {
          "output_type": "stream",
          "name": "stderr",
          "text": [
            "\n"
          ]
        },
        {
          "output_type": "stream",
          "name": "stdout",
          "text": [
            "\n",
            "      Epoch    GPU_mem   box_loss   seg_loss   cls_loss   dfl_loss  Instances       Size\n"
          ]
        },
        {
          "output_type": "stream",
          "name": "stderr",
          "text": [
            "      49/50      3.16G     0.7837     0.2361      1.129      1.209          0        640: 100%|██████████| 11/11 [00:02<00:00,  5.14it/s]\n",
            "                 Class     Images  Instances      Box(P          R      mAP50  mAP50-95)     Mask(P          R      mAP50  mAP50-95): 100%|██████████| 2/2 [00:00<00:00,  6.79it/s]"
          ]
        },
        {
          "output_type": "stream",
          "name": "stdout",
          "text": [
            "                   all         23         21      0.814      0.935       0.87      0.485      0.814      0.935       0.87      0.488\n"
          ]
        },
        {
          "output_type": "stream",
          "name": "stderr",
          "text": [
            "\n"
          ]
        },
        {
          "output_type": "stream",
          "name": "stdout",
          "text": [
            "\n",
            "      Epoch    GPU_mem   box_loss   seg_loss   cls_loss   dfl_loss  Instances       Size\n"
          ]
        },
        {
          "output_type": "stream",
          "name": "stderr",
          "text": [
            "      50/50      3.16G      0.863     0.2158     0.9457       1.34          1        640: 100%|██████████| 11/11 [00:02<00:00,  5.18it/s]\n",
            "                 Class     Images  Instances      Box(P          R      mAP50  mAP50-95)     Mask(P          R      mAP50  mAP50-95): 100%|██████████| 2/2 [00:00<00:00,  4.75it/s]\n"
          ]
        },
        {
          "output_type": "stream",
          "name": "stdout",
          "text": [
            "                   all         23         21      0.813      0.936       0.87      0.485      0.813      0.936       0.87      0.486\n",
            "\n",
            "50 epochs completed in 0.049 hours.\n",
            "Optimizer stripped from runs/segment/train/weights/last.pt, 23.8MB\n",
            "Optimizer stripped from runs/segment/train/weights/best.pt, 23.8MB\n",
            "\n",
            "Validating runs/segment/train/weights/best.pt...\n",
            "Ultralytics 8.3.176 🚀 Python-3.11.13 torch-2.6.0+cu124 CUDA:0 (Tesla T4, 15095MiB)\n",
            "YOLOv8s-seg summary (fused): 85 layers, 11,785,018 parameters, 0 gradients, 42.5 GFLOPs\n"
          ]
        },
        {
          "output_type": "stream",
          "name": "stderr",
          "text": [
            "\r                 Class     Images  Instances      Box(P          R      mAP50  mAP50-95)     Mask(P          R      mAP50  mAP50-95):   0%|          | 0/2 [00:00<?, ?it/s]"
          ]
        },
        {
          "output_type": "stream",
          "name": "stdout",
          "text": [
            "WARNING ⚠️ Limiting validation plots to first 50 items per image for speed...\n",
            "WARNING ⚠️ Limiting validation plots to first 50 items per image for speed...\n",
            "WARNING ⚠️ Limiting validation plots to first 50 items per image for speed...\n"
          ]
        },
        {
          "output_type": "stream",
          "name": "stderr",
          "text": [
            "\r                 Class     Images  Instances      Box(P          R      mAP50  mAP50-95)     Mask(P          R      mAP50  mAP50-95):  50%|█████     | 1/2 [00:00<00:00,  4.94it/s]"
          ]
        },
        {
          "output_type": "stream",
          "name": "stdout",
          "text": [
            "WARNING ⚠️ Limiting validation plots to first 50 items per image for speed...\n",
            "WARNING ⚠️ Limiting validation plots to first 50 items per image for speed...\n"
          ]
        },
        {
          "output_type": "stream",
          "name": "stderr",
          "text": [
            "                 Class     Images  Instances      Box(P          R      mAP50  mAP50-95)     Mask(P          R      mAP50  mAP50-95): 100%|██████████| 2/2 [00:00<00:00,  4.26it/s]\n"
          ]
        },
        {
          "output_type": "stream",
          "name": "stdout",
          "text": [
            "                   all         23         21      0.656      0.848      0.862      0.514      0.656      0.848      0.862      0.516\n",
            "            auditorium          1          1       0.64          1      0.995      0.316       0.64          1      0.995      0.312\n",
            "       central_library          2          2       0.77          1      0.995      0.797       0.77          1      0.995      0.797\n",
            "           clock_tower          1          1      0.781          1      0.995      0.455      0.781          1      0.995      0.468\n",
            "faculty_of_Basics_Science          1          1          1          0      0.497      0.199          1          0      0.497      0.199\n",
            "faculty_of_material_and_chemical_eng          1          1      0.292          1      0.995      0.697      0.292          1      0.995      0.597\n",
            "faculty_of_mechanical_eng          3          3      0.254      0.333      0.117     0.0555      0.254      0.333      0.117     0.0525\n",
            "             hostel_11          1          1      0.641          1      0.995      0.597      0.641          1      0.995      0.597\n",
            "             hostel_12          1          1       0.64          1      0.995      0.697       0.64          1      0.995      0.697\n",
            "          laundry_shop          1          1       0.92          1      0.995      0.895       0.92          1      0.995      0.995\n",
            "    new_academic_block          5          5      0.777          1      0.995      0.544      0.777          1      0.995      0.544\n",
            "                  tuck          4          4      0.496          1      0.912      0.404      0.496          1      0.912       0.42\n",
            "Speed: 0.2ms preprocess, 5.9ms inference, 0.0ms loss, 4.1ms postprocess per image\n",
            "Results saved to \u001b[1mruns/segment/train\u001b[0m\n"
          ]
        },
        {
          "output_type": "execute_result",
          "data": {
            "text/plain": [
              "ultralytics.utils.metrics.SegmentMetrics object with attributes:\n",
              "\n",
              "ap_class_index: array([ 2,  3,  4,  5,  7,  8,  9, 10, 11, 12, 13])\n",
              "box: ultralytics.utils.metrics.Metric object\n",
              "confusion_matrix: <ultralytics.utils.metrics.ConfusionMatrix object at 0x7bd78ce32d10>\n",
              "curves: ['Precision-Recall(B)', 'F1-Confidence(B)', 'Precision-Confidence(B)', 'Recall-Confidence(B)', 'Precision-Recall(M)', 'F1-Confidence(M)', 'Precision-Confidence(M)', 'Recall-Confidence(M)']\n",
              "curves_results: [[array([          0,    0.001001,    0.002002,    0.003003,    0.004004,    0.005005,    0.006006,    0.007007,    0.008008,    0.009009,     0.01001,    0.011011,    0.012012,    0.013013,    0.014014,    0.015015,    0.016016,    0.017017,    0.018018,    0.019019,     0.02002,    0.021021,    0.022022,    0.023023,\n",
              "          0.024024,    0.025025,    0.026026,    0.027027,    0.028028,    0.029029,     0.03003,    0.031031,    0.032032,    0.033033,    0.034034,    0.035035,    0.036036,    0.037037,    0.038038,    0.039039,     0.04004,    0.041041,    0.042042,    0.043043,    0.044044,    0.045045,    0.046046,    0.047047,\n",
              "          0.048048,    0.049049,     0.05005,    0.051051,    0.052052,    0.053053,    0.054054,    0.055055,    0.056056,    0.057057,    0.058058,    0.059059,     0.06006,    0.061061,    0.062062,    0.063063,    0.064064,    0.065065,    0.066066,    0.067067,    0.068068,    0.069069,     0.07007,    0.071071,\n",
              "          0.072072,    0.073073,    0.074074,    0.075075,    0.076076,    0.077077,    0.078078,    0.079079,     0.08008,    0.081081,    0.082082,    0.083083,    0.084084,    0.085085,    0.086086,    0.087087,    0.088088,    0.089089,     0.09009,    0.091091,    0.092092,    0.093093,    0.094094,    0.095095,\n",
              "          0.096096,    0.097097,    0.098098,    0.099099,      0.1001,      0.1011,      0.1021,      0.1031,      0.1041,     0.10511,     0.10611,     0.10711,     0.10811,     0.10911,     0.11011,     0.11111,     0.11211,     0.11311,     0.11411,     0.11512,     0.11612,     0.11712,     0.11812,     0.11912,\n",
              "           0.12012,     0.12112,     0.12212,     0.12312,     0.12412,     0.12513,     0.12613,     0.12713,     0.12813,     0.12913,     0.13013,     0.13113,     0.13213,     0.13313,     0.13413,     0.13514,     0.13614,     0.13714,     0.13814,     0.13914,     0.14014,     0.14114,     0.14214,     0.14314,\n",
              "           0.14414,     0.14515,     0.14615,     0.14715,     0.14815,     0.14915,     0.15015,     0.15115,     0.15215,     0.15315,     0.15415,     0.15516,     0.15616,     0.15716,     0.15816,     0.15916,     0.16016,     0.16116,     0.16216,     0.16316,     0.16416,     0.16517,     0.16617,     0.16717,\n",
              "           0.16817,     0.16917,     0.17017,     0.17117,     0.17217,     0.17317,     0.17417,     0.17518,     0.17618,     0.17718,     0.17818,     0.17918,     0.18018,     0.18118,     0.18218,     0.18318,     0.18418,     0.18519,     0.18619,     0.18719,     0.18819,     0.18919,     0.19019,     0.19119,\n",
              "           0.19219,     0.19319,     0.19419,      0.1952,      0.1962,      0.1972,      0.1982,      0.1992,      0.2002,      0.2012,      0.2022,      0.2032,      0.2042,     0.20521,     0.20621,     0.20721,     0.20821,     0.20921,     0.21021,     0.21121,     0.21221,     0.21321,     0.21421,     0.21522,\n",
              "           0.21622,     0.21722,     0.21822,     0.21922,     0.22022,     0.22122,     0.22222,     0.22322,     0.22422,     0.22523,     0.22623,     0.22723,     0.22823,     0.22923,     0.23023,     0.23123,     0.23223,     0.23323,     0.23423,     0.23524,     0.23624,     0.23724,     0.23824,     0.23924,\n",
              "           0.24024,     0.24124,     0.24224,     0.24324,     0.24424,     0.24525,     0.24625,     0.24725,     0.24825,     0.24925,     0.25025,     0.25125,     0.25225,     0.25325,     0.25425,     0.25526,     0.25626,     0.25726,     0.25826,     0.25926,     0.26026,     0.26126,     0.26226,     0.26326,\n",
              "           0.26426,     0.26527,     0.26627,     0.26727,     0.26827,     0.26927,     0.27027,     0.27127,     0.27227,     0.27327,     0.27427,     0.27528,     0.27628,     0.27728,     0.27828,     0.27928,     0.28028,     0.28128,     0.28228,     0.28328,     0.28428,     0.28529,     0.28629,     0.28729,\n",
              "           0.28829,     0.28929,     0.29029,     0.29129,     0.29229,     0.29329,     0.29429,      0.2953,      0.2963,      0.2973,      0.2983,      0.2993,      0.3003,      0.3013,      0.3023,      0.3033,      0.3043,     0.30531,     0.30631,     0.30731,     0.30831,     0.30931,     0.31031,     0.31131,\n",
              "           0.31231,     0.31331,     0.31431,     0.31532,     0.31632,     0.31732,     0.31832,     0.31932,     0.32032,     0.32132,     0.32232,     0.32332,     0.32432,     0.32533,     0.32633,     0.32733,     0.32833,     0.32933,     0.33033,     0.33133,     0.33233,     0.33333,     0.33433,     0.33534,\n",
              "           0.33634,     0.33734,     0.33834,     0.33934,     0.34034,     0.34134,     0.34234,     0.34334,     0.34434,     0.34535,     0.34635,     0.34735,     0.34835,     0.34935,     0.35035,     0.35135,     0.35235,     0.35335,     0.35435,     0.35536,     0.35636,     0.35736,     0.35836,     0.35936,\n",
              "           0.36036,     0.36136,     0.36236,     0.36336,     0.36436,     0.36537,     0.36637,     0.36737,     0.36837,     0.36937,     0.37037,     0.37137,     0.37237,     0.37337,     0.37437,     0.37538,     0.37638,     0.37738,     0.37838,     0.37938,     0.38038,     0.38138,     0.38238,     0.38338,\n",
              "           0.38438,     0.38539,     0.38639,     0.38739,     0.38839,     0.38939,     0.39039,     0.39139,     0.39239,     0.39339,     0.39439,      0.3954,      0.3964,      0.3974,      0.3984,      0.3994,      0.4004,      0.4014,      0.4024,      0.4034,      0.4044,     0.40541,     0.40641,     0.40741,\n",
              "           0.40841,     0.40941,     0.41041,     0.41141,     0.41241,     0.41341,     0.41441,     0.41542,     0.41642,     0.41742,     0.41842,     0.41942,     0.42042,     0.42142,     0.42242,     0.42342,     0.42442,     0.42543,     0.42643,     0.42743,     0.42843,     0.42943,     0.43043,     0.43143,\n",
              "           0.43243,     0.43343,     0.43443,     0.43544,     0.43644,     0.43744,     0.43844,     0.43944,     0.44044,     0.44144,     0.44244,     0.44344,     0.44444,     0.44545,     0.44645,     0.44745,     0.44845,     0.44945,     0.45045,     0.45145,     0.45245,     0.45345,     0.45445,     0.45546,\n",
              "           0.45646,     0.45746,     0.45846,     0.45946,     0.46046,     0.46146,     0.46246,     0.46346,     0.46446,     0.46547,     0.46647,     0.46747,     0.46847,     0.46947,     0.47047,     0.47147,     0.47247,     0.47347,     0.47447,     0.47548,     0.47648,     0.47748,     0.47848,     0.47948,\n",
              "           0.48048,     0.48148,     0.48248,     0.48348,     0.48448,     0.48549,     0.48649,     0.48749,     0.48849,     0.48949,     0.49049,     0.49149,     0.49249,     0.49349,     0.49449,      0.4955,      0.4965,      0.4975,      0.4985,      0.4995,      0.5005,      0.5015,      0.5025,      0.5035,\n",
              "            0.5045,     0.50551,     0.50651,     0.50751,     0.50851,     0.50951,     0.51051,     0.51151,     0.51251,     0.51351,     0.51451,     0.51552,     0.51652,     0.51752,     0.51852,     0.51952,     0.52052,     0.52152,     0.52252,     0.52352,     0.52452,     0.52553,     0.52653,     0.52753,\n",
              "           0.52853,     0.52953,     0.53053,     0.53153,     0.53253,     0.53353,     0.53453,     0.53554,     0.53654,     0.53754,     0.53854,     0.53954,     0.54054,     0.54154,     0.54254,     0.54354,     0.54454,     0.54555,     0.54655,     0.54755,     0.54855,     0.54955,     0.55055,     0.55155,\n",
              "           0.55255,     0.55355,     0.55455,     0.55556,     0.55656,     0.55756,     0.55856,     0.55956,     0.56056,     0.56156,     0.56256,     0.56356,     0.56456,     0.56557,     0.56657,     0.56757,     0.56857,     0.56957,     0.57057,     0.57157,     0.57257,     0.57357,     0.57457,     0.57558,\n",
              "           0.57658,     0.57758,     0.57858,     0.57958,     0.58058,     0.58158,     0.58258,     0.58358,     0.58458,     0.58559,     0.58659,     0.58759,     0.58859,     0.58959,     0.59059,     0.59159,     0.59259,     0.59359,     0.59459,      0.5956,      0.5966,      0.5976,      0.5986,      0.5996,\n",
              "            0.6006,      0.6016,      0.6026,      0.6036,      0.6046,     0.60561,     0.60661,     0.60761,     0.60861,     0.60961,     0.61061,     0.61161,     0.61261,     0.61361,     0.61461,     0.61562,     0.61662,     0.61762,     0.61862,     0.61962,     0.62062,     0.62162,     0.62262,     0.62362,\n",
              "           0.62462,     0.62563,     0.62663,     0.62763,     0.62863,     0.62963,     0.63063,     0.63163,     0.63263,     0.63363,     0.63463,     0.63564,     0.63664,     0.63764,     0.63864,     0.63964,     0.64064,     0.64164,     0.64264,     0.64364,     0.64464,     0.64565,     0.64665,     0.64765,\n",
              "           0.64865,     0.64965,     0.65065,     0.65165,     0.65265,     0.65365,     0.65465,     0.65566,     0.65666,     0.65766,     0.65866,     0.65966,     0.66066,     0.66166,     0.66266,     0.66366,     0.66466,     0.66567,     0.66667,     0.66767,     0.66867,     0.66967,     0.67067,     0.67167,\n",
              "           0.67267,     0.67367,     0.67467,     0.67568,     0.67668,     0.67768,     0.67868,     0.67968,     0.68068,     0.68168,     0.68268,     0.68368,     0.68468,     0.68569,     0.68669,     0.68769,     0.68869,     0.68969,     0.69069,     0.69169,     0.69269,     0.69369,     0.69469,      0.6957,\n",
              "            0.6967,      0.6977,      0.6987,      0.6997,      0.7007,      0.7017,      0.7027,      0.7037,      0.7047,     0.70571,     0.70671,     0.70771,     0.70871,     0.70971,     0.71071,     0.71171,     0.71271,     0.71371,     0.71471,     0.71572,     0.71672,     0.71772,     0.71872,     0.71972,\n",
              "           0.72072,     0.72172,     0.72272,     0.72372,     0.72472,     0.72573,     0.72673,     0.72773,     0.72873,     0.72973,     0.73073,     0.73173,     0.73273,     0.73373,     0.73473,     0.73574,     0.73674,     0.73774,     0.73874,     0.73974,     0.74074,     0.74174,     0.74274,     0.74374,\n",
              "           0.74474,     0.74575,     0.74675,     0.74775,     0.74875,     0.74975,     0.75075,     0.75175,     0.75275,     0.75375,     0.75475,     0.75576,     0.75676,     0.75776,     0.75876,     0.75976,     0.76076,     0.76176,     0.76276,     0.76376,     0.76476,     0.76577,     0.76677,     0.76777,\n",
              "           0.76877,     0.76977,     0.77077,     0.77177,     0.77277,     0.77377,     0.77477,     0.77578,     0.77678,     0.77778,     0.77878,     0.77978,     0.78078,     0.78178,     0.78278,     0.78378,     0.78478,     0.78579,     0.78679,     0.78779,     0.78879,     0.78979,     0.79079,     0.79179,\n",
              "           0.79279,     0.79379,     0.79479,      0.7958,      0.7968,      0.7978,      0.7988,      0.7998,      0.8008,      0.8018,      0.8028,      0.8038,      0.8048,     0.80581,     0.80681,     0.80781,     0.80881,     0.80981,     0.81081,     0.81181,     0.81281,     0.81381,     0.81481,     0.81582,\n",
              "           0.81682,     0.81782,     0.81882,     0.81982,     0.82082,     0.82182,     0.82282,     0.82382,     0.82482,     0.82583,     0.82683,     0.82783,     0.82883,     0.82983,     0.83083,     0.83183,     0.83283,     0.83383,     0.83483,     0.83584,     0.83684,     0.83784,     0.83884,     0.83984,\n",
              "           0.84084,     0.84184,     0.84284,     0.84384,     0.84484,     0.84585,     0.84685,     0.84785,     0.84885,     0.84985,     0.85085,     0.85185,     0.85285,     0.85385,     0.85485,     0.85586,     0.85686,     0.85786,     0.85886,     0.85986,     0.86086,     0.86186,     0.86286,     0.86386,\n",
              "           0.86486,     0.86587,     0.86687,     0.86787,     0.86887,     0.86987,     0.87087,     0.87187,     0.87287,     0.87387,     0.87487,     0.87588,     0.87688,     0.87788,     0.87888,     0.87988,     0.88088,     0.88188,     0.88288,     0.88388,     0.88488,     0.88589,     0.88689,     0.88789,\n",
              "           0.88889,     0.88989,     0.89089,     0.89189,     0.89289,     0.89389,     0.89489,      0.8959,      0.8969,      0.8979,      0.8989,      0.8999,      0.9009,      0.9019,      0.9029,      0.9039,      0.9049,     0.90591,     0.90691,     0.90791,     0.90891,     0.90991,     0.91091,     0.91191,\n",
              "           0.91291,     0.91391,     0.91491,     0.91592,     0.91692,     0.91792,     0.91892,     0.91992,     0.92092,     0.92192,     0.92292,     0.92392,     0.92492,     0.92593,     0.92693,     0.92793,     0.92893,     0.92993,     0.93093,     0.93193,     0.93293,     0.93393,     0.93493,     0.93594,\n",
              "           0.93694,     0.93794,     0.93894,     0.93994,     0.94094,     0.94194,     0.94294,     0.94394,     0.94494,     0.94595,     0.94695,     0.94795,     0.94895,     0.94995,     0.95095,     0.95195,     0.95295,     0.95395,     0.95495,     0.95596,     0.95696,     0.95796,     0.95896,     0.95996,\n",
              "           0.96096,     0.96196,     0.96296,     0.96396,     0.96496,     0.96597,     0.96697,     0.96797,     0.96897,     0.96997,     0.97097,     0.97197,     0.97297,     0.97397,     0.97497,     0.97598,     0.97698,     0.97798,     0.97898,     0.97998,     0.98098,     0.98198,     0.98298,     0.98398,\n",
              "           0.98498,     0.98599,     0.98699,     0.98799,     0.98899,     0.98999,     0.99099,     0.99199,     0.99299,     0.99399,     0.99499,       0.996,       0.997,       0.998,       0.999,           1]), array([[          1,           1,           1, ...,           1,           1,           0],\n",
              "       [          1,           1,           1, ...,           1,           1,           0],\n",
              "       [          1,           1,           1, ...,           1,           1,           0],\n",
              "       ...,\n",
              "       [          1,           1,           1, ...,           1,           1,           0],\n",
              "       [          1,           1,           1, ...,           1,           1,           0],\n",
              "       [          1,           1,           1, ...,     0.66667,     0.66667,           0]]), 'Recall', 'Precision'], [array([          0,    0.001001,    0.002002,    0.003003,    0.004004,    0.005005,    0.006006,    0.007007,    0.008008,    0.009009,     0.01001,    0.011011,    0.012012,    0.013013,    0.014014,    0.015015,    0.016016,    0.017017,    0.018018,    0.019019,     0.02002,    0.021021,    0.022022,    0.023023,\n",
              "          0.024024,    0.025025,    0.026026,    0.027027,    0.028028,    0.029029,     0.03003,    0.031031,    0.032032,    0.033033,    0.034034,    0.035035,    0.036036,    0.037037,    0.038038,    0.039039,     0.04004,    0.041041,    0.042042,    0.043043,    0.044044,    0.045045,    0.046046,    0.047047,\n",
              "          0.048048,    0.049049,     0.05005,    0.051051,    0.052052,    0.053053,    0.054054,    0.055055,    0.056056,    0.057057,    0.058058,    0.059059,     0.06006,    0.061061,    0.062062,    0.063063,    0.064064,    0.065065,    0.066066,    0.067067,    0.068068,    0.069069,     0.07007,    0.071071,\n",
              "          0.072072,    0.073073,    0.074074,    0.075075,    0.076076,    0.077077,    0.078078,    0.079079,     0.08008,    0.081081,    0.082082,    0.083083,    0.084084,    0.085085,    0.086086,    0.087087,    0.088088,    0.089089,     0.09009,    0.091091,    0.092092,    0.093093,    0.094094,    0.095095,\n",
              "          0.096096,    0.097097,    0.098098,    0.099099,      0.1001,      0.1011,      0.1021,      0.1031,      0.1041,     0.10511,     0.10611,     0.10711,     0.10811,     0.10911,     0.11011,     0.11111,     0.11211,     0.11311,     0.11411,     0.11512,     0.11612,     0.11712,     0.11812,     0.11912,\n",
              "           0.12012,     0.12112,     0.12212,     0.12312,     0.12412,     0.12513,     0.12613,     0.12713,     0.12813,     0.12913,     0.13013,     0.13113,     0.13213,     0.13313,     0.13413,     0.13514,     0.13614,     0.13714,     0.13814,     0.13914,     0.14014,     0.14114,     0.14214,     0.14314,\n",
              "           0.14414,     0.14515,     0.14615,     0.14715,     0.14815,     0.14915,     0.15015,     0.15115,     0.15215,     0.15315,     0.15415,     0.15516,     0.15616,     0.15716,     0.15816,     0.15916,     0.16016,     0.16116,     0.16216,     0.16316,     0.16416,     0.16517,     0.16617,     0.16717,\n",
              "           0.16817,     0.16917,     0.17017,     0.17117,     0.17217,     0.17317,     0.17417,     0.17518,     0.17618,     0.17718,     0.17818,     0.17918,     0.18018,     0.18118,     0.18218,     0.18318,     0.18418,     0.18519,     0.18619,     0.18719,     0.18819,     0.18919,     0.19019,     0.19119,\n",
              "           0.19219,     0.19319,     0.19419,      0.1952,      0.1962,      0.1972,      0.1982,      0.1992,      0.2002,      0.2012,      0.2022,      0.2032,      0.2042,     0.20521,     0.20621,     0.20721,     0.20821,     0.20921,     0.21021,     0.21121,     0.21221,     0.21321,     0.21421,     0.21522,\n",
              "           0.21622,     0.21722,     0.21822,     0.21922,     0.22022,     0.22122,     0.22222,     0.22322,     0.22422,     0.22523,     0.22623,     0.22723,     0.22823,     0.22923,     0.23023,     0.23123,     0.23223,     0.23323,     0.23423,     0.23524,     0.23624,     0.23724,     0.23824,     0.23924,\n",
              "           0.24024,     0.24124,     0.24224,     0.24324,     0.24424,     0.24525,     0.24625,     0.24725,     0.24825,     0.24925,     0.25025,     0.25125,     0.25225,     0.25325,     0.25425,     0.25526,     0.25626,     0.25726,     0.25826,     0.25926,     0.26026,     0.26126,     0.26226,     0.26326,\n",
              "           0.26426,     0.26527,     0.26627,     0.26727,     0.26827,     0.26927,     0.27027,     0.27127,     0.27227,     0.27327,     0.27427,     0.27528,     0.27628,     0.27728,     0.27828,     0.27928,     0.28028,     0.28128,     0.28228,     0.28328,     0.28428,     0.28529,     0.28629,     0.28729,\n",
              "           0.28829,     0.28929,     0.29029,     0.29129,     0.29229,     0.29329,     0.29429,      0.2953,      0.2963,      0.2973,      0.2983,      0.2993,      0.3003,      0.3013,      0.3023,      0.3033,      0.3043,     0.30531,     0.30631,     0.30731,     0.30831,     0.30931,     0.31031,     0.31131,\n",
              "           0.31231,     0.31331,     0.31431,     0.31532,     0.31632,     0.31732,     0.31832,     0.31932,     0.32032,     0.32132,     0.32232,     0.32332,     0.32432,     0.32533,     0.32633,     0.32733,     0.32833,     0.32933,     0.33033,     0.33133,     0.33233,     0.33333,     0.33433,     0.33534,\n",
              "           0.33634,     0.33734,     0.33834,     0.33934,     0.34034,     0.34134,     0.34234,     0.34334,     0.34434,     0.34535,     0.34635,     0.34735,     0.34835,     0.34935,     0.35035,     0.35135,     0.35235,     0.35335,     0.35435,     0.35536,     0.35636,     0.35736,     0.35836,     0.35936,\n",
              "           0.36036,     0.36136,     0.36236,     0.36336,     0.36436,     0.36537,     0.36637,     0.36737,     0.36837,     0.36937,     0.37037,     0.37137,     0.37237,     0.37337,     0.37437,     0.37538,     0.37638,     0.37738,     0.37838,     0.37938,     0.38038,     0.38138,     0.38238,     0.38338,\n",
              "           0.38438,     0.38539,     0.38639,     0.38739,     0.38839,     0.38939,     0.39039,     0.39139,     0.39239,     0.39339,     0.39439,      0.3954,      0.3964,      0.3974,      0.3984,      0.3994,      0.4004,      0.4014,      0.4024,      0.4034,      0.4044,     0.40541,     0.40641,     0.40741,\n",
              "           0.40841,     0.40941,     0.41041,     0.41141,     0.41241,     0.41341,     0.41441,     0.41542,     0.41642,     0.41742,     0.41842,     0.41942,     0.42042,     0.42142,     0.42242,     0.42342,     0.42442,     0.42543,     0.42643,     0.42743,     0.42843,     0.42943,     0.43043,     0.43143,\n",
              "           0.43243,     0.43343,     0.43443,     0.43544,     0.43644,     0.43744,     0.43844,     0.43944,     0.44044,     0.44144,     0.44244,     0.44344,     0.44444,     0.44545,     0.44645,     0.44745,     0.44845,     0.44945,     0.45045,     0.45145,     0.45245,     0.45345,     0.45445,     0.45546,\n",
              "           0.45646,     0.45746,     0.45846,     0.45946,     0.46046,     0.46146,     0.46246,     0.46346,     0.46446,     0.46547,     0.46647,     0.46747,     0.46847,     0.46947,     0.47047,     0.47147,     0.47247,     0.47347,     0.47447,     0.47548,     0.47648,     0.47748,     0.47848,     0.47948,\n",
              "           0.48048,     0.48148,     0.48248,     0.48348,     0.48448,     0.48549,     0.48649,     0.48749,     0.48849,     0.48949,     0.49049,     0.49149,     0.49249,     0.49349,     0.49449,      0.4955,      0.4965,      0.4975,      0.4985,      0.4995,      0.5005,      0.5015,      0.5025,      0.5035,\n",
              "            0.5045,     0.50551,     0.50651,     0.50751,     0.50851,     0.50951,     0.51051,     0.51151,     0.51251,     0.51351,     0.51451,     0.51552,     0.51652,     0.51752,     0.51852,     0.51952,     0.52052,     0.52152,     0.52252,     0.52352,     0.52452,     0.52553,     0.52653,     0.52753,\n",
              "           0.52853,     0.52953,     0.53053,     0.53153,     0.53253,     0.53353,     0.53453,     0.53554,     0.53654,     0.53754,     0.53854,     0.53954,     0.54054,     0.54154,     0.54254,     0.54354,     0.54454,     0.54555,     0.54655,     0.54755,     0.54855,     0.54955,     0.55055,     0.55155,\n",
              "           0.55255,     0.55355,     0.55455,     0.55556,     0.55656,     0.55756,     0.55856,     0.55956,     0.56056,     0.56156,     0.56256,     0.56356,     0.56456,     0.56557,     0.56657,     0.56757,     0.56857,     0.56957,     0.57057,     0.57157,     0.57257,     0.57357,     0.57457,     0.57558,\n",
              "           0.57658,     0.57758,     0.57858,     0.57958,     0.58058,     0.58158,     0.58258,     0.58358,     0.58458,     0.58559,     0.58659,     0.58759,     0.58859,     0.58959,     0.59059,     0.59159,     0.59259,     0.59359,     0.59459,      0.5956,      0.5966,      0.5976,      0.5986,      0.5996,\n",
              "            0.6006,      0.6016,      0.6026,      0.6036,      0.6046,     0.60561,     0.60661,     0.60761,     0.60861,     0.60961,     0.61061,     0.61161,     0.61261,     0.61361,     0.61461,     0.61562,     0.61662,     0.61762,     0.61862,     0.61962,     0.62062,     0.62162,     0.62262,     0.62362,\n",
              "           0.62462,     0.62563,     0.62663,     0.62763,     0.62863,     0.62963,     0.63063,     0.63163,     0.63263,     0.63363,     0.63463,     0.63564,     0.63664,     0.63764,     0.63864,     0.63964,     0.64064,     0.64164,     0.64264,     0.64364,     0.64464,     0.64565,     0.64665,     0.64765,\n",
              "           0.64865,     0.64965,     0.65065,     0.65165,     0.65265,     0.65365,     0.65465,     0.65566,     0.65666,     0.65766,     0.65866,     0.65966,     0.66066,     0.66166,     0.66266,     0.66366,     0.66466,     0.66567,     0.66667,     0.66767,     0.66867,     0.66967,     0.67067,     0.67167,\n",
              "           0.67267,     0.67367,     0.67467,     0.67568,     0.67668,     0.67768,     0.67868,     0.67968,     0.68068,     0.68168,     0.68268,     0.68368,     0.68468,     0.68569,     0.68669,     0.68769,     0.68869,     0.68969,     0.69069,     0.69169,     0.69269,     0.69369,     0.69469,      0.6957,\n",
              "            0.6967,      0.6977,      0.6987,      0.6997,      0.7007,      0.7017,      0.7027,      0.7037,      0.7047,     0.70571,     0.70671,     0.70771,     0.70871,     0.70971,     0.71071,     0.71171,     0.71271,     0.71371,     0.71471,     0.71572,     0.71672,     0.71772,     0.71872,     0.71972,\n",
              "           0.72072,     0.72172,     0.72272,     0.72372,     0.72472,     0.72573,     0.72673,     0.72773,     0.72873,     0.72973,     0.73073,     0.73173,     0.73273,     0.73373,     0.73473,     0.73574,     0.73674,     0.73774,     0.73874,     0.73974,     0.74074,     0.74174,     0.74274,     0.74374,\n",
              "           0.74474,     0.74575,     0.74675,     0.74775,     0.74875,     0.74975,     0.75075,     0.75175,     0.75275,     0.75375,     0.75475,     0.75576,     0.75676,     0.75776,     0.75876,     0.75976,     0.76076,     0.76176,     0.76276,     0.76376,     0.76476,     0.76577,     0.76677,     0.76777,\n",
              "           0.76877,     0.76977,     0.77077,     0.77177,     0.77277,     0.77377,     0.77477,     0.77578,     0.77678,     0.77778,     0.77878,     0.77978,     0.78078,     0.78178,     0.78278,     0.78378,     0.78478,     0.78579,     0.78679,     0.78779,     0.78879,     0.78979,     0.79079,     0.79179,\n",
              "           0.79279,     0.79379,     0.79479,      0.7958,      0.7968,      0.7978,      0.7988,      0.7998,      0.8008,      0.8018,      0.8028,      0.8038,      0.8048,     0.80581,     0.80681,     0.80781,     0.80881,     0.80981,     0.81081,     0.81181,     0.81281,     0.81381,     0.81481,     0.81582,\n",
              "           0.81682,     0.81782,     0.81882,     0.81982,     0.82082,     0.82182,     0.82282,     0.82382,     0.82482,     0.82583,     0.82683,     0.82783,     0.82883,     0.82983,     0.83083,     0.83183,     0.83283,     0.83383,     0.83483,     0.83584,     0.83684,     0.83784,     0.83884,     0.83984,\n",
              "           0.84084,     0.84184,     0.84284,     0.84384,     0.84484,     0.84585,     0.84685,     0.84785,     0.84885,     0.84985,     0.85085,     0.85185,     0.85285,     0.85385,     0.85485,     0.85586,     0.85686,     0.85786,     0.85886,     0.85986,     0.86086,     0.86186,     0.86286,     0.86386,\n",
              "           0.86486,     0.86587,     0.86687,     0.86787,     0.86887,     0.86987,     0.87087,     0.87187,     0.87287,     0.87387,     0.87487,     0.87588,     0.87688,     0.87788,     0.87888,     0.87988,     0.88088,     0.88188,     0.88288,     0.88388,     0.88488,     0.88589,     0.88689,     0.88789,\n",
              "           0.88889,     0.88989,     0.89089,     0.89189,     0.89289,     0.89389,     0.89489,      0.8959,      0.8969,      0.8979,      0.8989,      0.8999,      0.9009,      0.9019,      0.9029,      0.9039,      0.9049,     0.90591,     0.90691,     0.90791,     0.90891,     0.90991,     0.91091,     0.91191,\n",
              "           0.91291,     0.91391,     0.91491,     0.91592,     0.91692,     0.91792,     0.91892,     0.91992,     0.92092,     0.92192,     0.92292,     0.92392,     0.92492,     0.92593,     0.92693,     0.92793,     0.92893,     0.92993,     0.93093,     0.93193,     0.93293,     0.93393,     0.93493,     0.93594,\n",
              "           0.93694,     0.93794,     0.93894,     0.93994,     0.94094,     0.94194,     0.94294,     0.94394,     0.94494,     0.94595,     0.94695,     0.94795,     0.94895,     0.94995,     0.95095,     0.95195,     0.95295,     0.95395,     0.95495,     0.95596,     0.95696,     0.95796,     0.95896,     0.95996,\n",
              "           0.96096,     0.96196,     0.96296,     0.96396,     0.96496,     0.96597,     0.96697,     0.96797,     0.96897,     0.96997,     0.97097,     0.97197,     0.97297,     0.97397,     0.97497,     0.97598,     0.97698,     0.97798,     0.97898,     0.97998,     0.98098,     0.98198,     0.98298,     0.98398,\n",
              "           0.98498,     0.98599,     0.98699,     0.98799,     0.98899,     0.98999,     0.99099,     0.99199,     0.99299,     0.99399,     0.99499,       0.996,       0.997,       0.998,       0.999,           1]), array([[    0.04878,     0.04878,    0.081929, ...,           0,           0,           0],\n",
              "       [    0.11111,     0.11111,     0.19678, ...,           0,           0,           0],\n",
              "       [   0.060606,    0.060606,     0.15092, ...,           0,           0,           0],\n",
              "       ...,\n",
              "       [   0.076923,    0.076923,     0.16574, ...,           0,           0,           0],\n",
              "       [    0.10753,     0.10753,     0.25558, ...,           0,           0,           0],\n",
              "       [   0.033613,    0.033613,    0.083461, ...,           0,           0,           0]]), 'Confidence', 'F1'], [array([          0,    0.001001,    0.002002,    0.003003,    0.004004,    0.005005,    0.006006,    0.007007,    0.008008,    0.009009,     0.01001,    0.011011,    0.012012,    0.013013,    0.014014,    0.015015,    0.016016,    0.017017,    0.018018,    0.019019,     0.02002,    0.021021,    0.022022,    0.023023,\n",
              "          0.024024,    0.025025,    0.026026,    0.027027,    0.028028,    0.029029,     0.03003,    0.031031,    0.032032,    0.033033,    0.034034,    0.035035,    0.036036,    0.037037,    0.038038,    0.039039,     0.04004,    0.041041,    0.042042,    0.043043,    0.044044,    0.045045,    0.046046,    0.047047,\n",
              "          0.048048,    0.049049,     0.05005,    0.051051,    0.052052,    0.053053,    0.054054,    0.055055,    0.056056,    0.057057,    0.058058,    0.059059,     0.06006,    0.061061,    0.062062,    0.063063,    0.064064,    0.065065,    0.066066,    0.067067,    0.068068,    0.069069,     0.07007,    0.071071,\n",
              "          0.072072,    0.073073,    0.074074,    0.075075,    0.076076,    0.077077,    0.078078,    0.079079,     0.08008,    0.081081,    0.082082,    0.083083,    0.084084,    0.085085,    0.086086,    0.087087,    0.088088,    0.089089,     0.09009,    0.091091,    0.092092,    0.093093,    0.094094,    0.095095,\n",
              "          0.096096,    0.097097,    0.098098,    0.099099,      0.1001,      0.1011,      0.1021,      0.1031,      0.1041,     0.10511,     0.10611,     0.10711,     0.10811,     0.10911,     0.11011,     0.11111,     0.11211,     0.11311,     0.11411,     0.11512,     0.11612,     0.11712,     0.11812,     0.11912,\n",
              "           0.12012,     0.12112,     0.12212,     0.12312,     0.12412,     0.12513,     0.12613,     0.12713,     0.12813,     0.12913,     0.13013,     0.13113,     0.13213,     0.13313,     0.13413,     0.13514,     0.13614,     0.13714,     0.13814,     0.13914,     0.14014,     0.14114,     0.14214,     0.14314,\n",
              "           0.14414,     0.14515,     0.14615,     0.14715,     0.14815,     0.14915,     0.15015,     0.15115,     0.15215,     0.15315,     0.15415,     0.15516,     0.15616,     0.15716,     0.15816,     0.15916,     0.16016,     0.16116,     0.16216,     0.16316,     0.16416,     0.16517,     0.16617,     0.16717,\n",
              "           0.16817,     0.16917,     0.17017,     0.17117,     0.17217,     0.17317,     0.17417,     0.17518,     0.17618,     0.17718,     0.17818,     0.17918,     0.18018,     0.18118,     0.18218,     0.18318,     0.18418,     0.18519,     0.18619,     0.18719,     0.18819,     0.18919,     0.19019,     0.19119,\n",
              "           0.19219,     0.19319,     0.19419,      0.1952,      0.1962,      0.1972,      0.1982,      0.1992,      0.2002,      0.2012,      0.2022,      0.2032,      0.2042,     0.20521,     0.20621,     0.20721,     0.20821,     0.20921,     0.21021,     0.21121,     0.21221,     0.21321,     0.21421,     0.21522,\n",
              "           0.21622,     0.21722,     0.21822,     0.21922,     0.22022,     0.22122,     0.22222,     0.22322,     0.22422,     0.22523,     0.22623,     0.22723,     0.22823,     0.22923,     0.23023,     0.23123,     0.23223,     0.23323,     0.23423,     0.23524,     0.23624,     0.23724,     0.23824,     0.23924,\n",
              "           0.24024,     0.24124,     0.24224,     0.24324,     0.24424,     0.24525,     0.24625,     0.24725,     0.24825,     0.24925,     0.25025,     0.25125,     0.25225,     0.25325,     0.25425,     0.25526,     0.25626,     0.25726,     0.25826,     0.25926,     0.26026,     0.26126,     0.26226,     0.26326,\n",
              "           0.26426,     0.26527,     0.26627,     0.26727,     0.26827,     0.26927,     0.27027,     0.27127,     0.27227,     0.27327,     0.27427,     0.27528,     0.27628,     0.27728,     0.27828,     0.27928,     0.28028,     0.28128,     0.28228,     0.28328,     0.28428,     0.28529,     0.28629,     0.28729,\n",
              "           0.28829,     0.28929,     0.29029,     0.29129,     0.29229,     0.29329,     0.29429,      0.2953,      0.2963,      0.2973,      0.2983,      0.2993,      0.3003,      0.3013,      0.3023,      0.3033,      0.3043,     0.30531,     0.30631,     0.30731,     0.30831,     0.30931,     0.31031,     0.31131,\n",
              "           0.31231,     0.31331,     0.31431,     0.31532,     0.31632,     0.31732,     0.31832,     0.31932,     0.32032,     0.32132,     0.32232,     0.32332,     0.32432,     0.32533,     0.32633,     0.32733,     0.32833,     0.32933,     0.33033,     0.33133,     0.33233,     0.33333,     0.33433,     0.33534,\n",
              "           0.33634,     0.33734,     0.33834,     0.33934,     0.34034,     0.34134,     0.34234,     0.34334,     0.34434,     0.34535,     0.34635,     0.34735,     0.34835,     0.34935,     0.35035,     0.35135,     0.35235,     0.35335,     0.35435,     0.35536,     0.35636,     0.35736,     0.35836,     0.35936,\n",
              "           0.36036,     0.36136,     0.36236,     0.36336,     0.36436,     0.36537,     0.36637,     0.36737,     0.36837,     0.36937,     0.37037,     0.37137,     0.37237,     0.37337,     0.37437,     0.37538,     0.37638,     0.37738,     0.37838,     0.37938,     0.38038,     0.38138,     0.38238,     0.38338,\n",
              "           0.38438,     0.38539,     0.38639,     0.38739,     0.38839,     0.38939,     0.39039,     0.39139,     0.39239,     0.39339,     0.39439,      0.3954,      0.3964,      0.3974,      0.3984,      0.3994,      0.4004,      0.4014,      0.4024,      0.4034,      0.4044,     0.40541,     0.40641,     0.40741,\n",
              "           0.40841,     0.40941,     0.41041,     0.41141,     0.41241,     0.41341,     0.41441,     0.41542,     0.41642,     0.41742,     0.41842,     0.41942,     0.42042,     0.42142,     0.42242,     0.42342,     0.42442,     0.42543,     0.42643,     0.42743,     0.42843,     0.42943,     0.43043,     0.43143,\n",
              "           0.43243,     0.43343,     0.43443,     0.43544,     0.43644,     0.43744,     0.43844,     0.43944,     0.44044,     0.44144,     0.44244,     0.44344,     0.44444,     0.44545,     0.44645,     0.44745,     0.44845,     0.44945,     0.45045,     0.45145,     0.45245,     0.45345,     0.45445,     0.45546,\n",
              "           0.45646,     0.45746,     0.45846,     0.45946,     0.46046,     0.46146,     0.46246,     0.46346,     0.46446,     0.46547,     0.46647,     0.46747,     0.46847,     0.46947,     0.47047,     0.47147,     0.47247,     0.47347,     0.47447,     0.47548,     0.47648,     0.47748,     0.47848,     0.47948,\n",
              "           0.48048,     0.48148,     0.48248,     0.48348,     0.48448,     0.48549,     0.48649,     0.48749,     0.48849,     0.48949,     0.49049,     0.49149,     0.49249,     0.49349,     0.49449,      0.4955,      0.4965,      0.4975,      0.4985,      0.4995,      0.5005,      0.5015,      0.5025,      0.5035,\n",
              "            0.5045,     0.50551,     0.50651,     0.50751,     0.50851,     0.50951,     0.51051,     0.51151,     0.51251,     0.51351,     0.51451,     0.51552,     0.51652,     0.51752,     0.51852,     0.51952,     0.52052,     0.52152,     0.52252,     0.52352,     0.52452,     0.52553,     0.52653,     0.52753,\n",
              "           0.52853,     0.52953,     0.53053,     0.53153,     0.53253,     0.53353,     0.53453,     0.53554,     0.53654,     0.53754,     0.53854,     0.53954,     0.54054,     0.54154,     0.54254,     0.54354,     0.54454,     0.54555,     0.54655,     0.54755,     0.54855,     0.54955,     0.55055,     0.55155,\n",
              "           0.55255,     0.55355,     0.55455,     0.55556,     0.55656,     0.55756,     0.55856,     0.55956,     0.56056,     0.56156,     0.56256,     0.56356,     0.56456,     0.56557,     0.56657,     0.56757,     0.56857,     0.56957,     0.57057,     0.57157,     0.57257,     0.57357,     0.57457,     0.57558,\n",
              "           0.57658,     0.57758,     0.57858,     0.57958,     0.58058,     0.58158,     0.58258,     0.58358,     0.58458,     0.58559,     0.58659,     0.58759,     0.58859,     0.58959,     0.59059,     0.59159,     0.59259,     0.59359,     0.59459,      0.5956,      0.5966,      0.5976,      0.5986,      0.5996,\n",
              "            0.6006,      0.6016,      0.6026,      0.6036,      0.6046,     0.60561,     0.60661,     0.60761,     0.60861,     0.60961,     0.61061,     0.61161,     0.61261,     0.61361,     0.61461,     0.61562,     0.61662,     0.61762,     0.61862,     0.61962,     0.62062,     0.62162,     0.62262,     0.62362,\n",
              "           0.62462,     0.62563,     0.62663,     0.62763,     0.62863,     0.62963,     0.63063,     0.63163,     0.63263,     0.63363,     0.63463,     0.63564,     0.63664,     0.63764,     0.63864,     0.63964,     0.64064,     0.64164,     0.64264,     0.64364,     0.64464,     0.64565,     0.64665,     0.64765,\n",
              "           0.64865,     0.64965,     0.65065,     0.65165,     0.65265,     0.65365,     0.65465,     0.65566,     0.65666,     0.65766,     0.65866,     0.65966,     0.66066,     0.66166,     0.66266,     0.66366,     0.66466,     0.66567,     0.66667,     0.66767,     0.66867,     0.66967,     0.67067,     0.67167,\n",
              "           0.67267,     0.67367,     0.67467,     0.67568,     0.67668,     0.67768,     0.67868,     0.67968,     0.68068,     0.68168,     0.68268,     0.68368,     0.68468,     0.68569,     0.68669,     0.68769,     0.68869,     0.68969,     0.69069,     0.69169,     0.69269,     0.69369,     0.69469,      0.6957,\n",
              "            0.6967,      0.6977,      0.6987,      0.6997,      0.7007,      0.7017,      0.7027,      0.7037,      0.7047,     0.70571,     0.70671,     0.70771,     0.70871,     0.70971,     0.71071,     0.71171,     0.71271,     0.71371,     0.71471,     0.71572,     0.71672,     0.71772,     0.71872,     0.71972,\n",
              "           0.72072,     0.72172,     0.72272,     0.72372,     0.72472,     0.72573,     0.72673,     0.72773,     0.72873,     0.72973,     0.73073,     0.73173,     0.73273,     0.73373,     0.73473,     0.73574,     0.73674,     0.73774,     0.73874,     0.73974,     0.74074,     0.74174,     0.74274,     0.74374,\n",
              "           0.74474,     0.74575,     0.74675,     0.74775,     0.74875,     0.74975,     0.75075,     0.75175,     0.75275,     0.75375,     0.75475,     0.75576,     0.75676,     0.75776,     0.75876,     0.75976,     0.76076,     0.76176,     0.76276,     0.76376,     0.76476,     0.76577,     0.76677,     0.76777,\n",
              "           0.76877,     0.76977,     0.77077,     0.77177,     0.77277,     0.77377,     0.77477,     0.77578,     0.77678,     0.77778,     0.77878,     0.77978,     0.78078,     0.78178,     0.78278,     0.78378,     0.78478,     0.78579,     0.78679,     0.78779,     0.78879,     0.78979,     0.79079,     0.79179,\n",
              "           0.79279,     0.79379,     0.79479,      0.7958,      0.7968,      0.7978,      0.7988,      0.7998,      0.8008,      0.8018,      0.8028,      0.8038,      0.8048,     0.80581,     0.80681,     0.80781,     0.80881,     0.80981,     0.81081,     0.81181,     0.81281,     0.81381,     0.81481,     0.81582,\n",
              "           0.81682,     0.81782,     0.81882,     0.81982,     0.82082,     0.82182,     0.82282,     0.82382,     0.82482,     0.82583,     0.82683,     0.82783,     0.82883,     0.82983,     0.83083,     0.83183,     0.83283,     0.83383,     0.83483,     0.83584,     0.83684,     0.83784,     0.83884,     0.83984,\n",
              "           0.84084,     0.84184,     0.84284,     0.84384,     0.84484,     0.84585,     0.84685,     0.84785,     0.84885,     0.84985,     0.85085,     0.85185,     0.85285,     0.85385,     0.85485,     0.85586,     0.85686,     0.85786,     0.85886,     0.85986,     0.86086,     0.86186,     0.86286,     0.86386,\n",
              "           0.86486,     0.86587,     0.86687,     0.86787,     0.86887,     0.86987,     0.87087,     0.87187,     0.87287,     0.87387,     0.87487,     0.87588,     0.87688,     0.87788,     0.87888,     0.87988,     0.88088,     0.88188,     0.88288,     0.88388,     0.88488,     0.88589,     0.88689,     0.88789,\n",
              "           0.88889,     0.88989,     0.89089,     0.89189,     0.89289,     0.89389,     0.89489,      0.8959,      0.8969,      0.8979,      0.8989,      0.8999,      0.9009,      0.9019,      0.9029,      0.9039,      0.9049,     0.90591,     0.90691,     0.90791,     0.90891,     0.90991,     0.91091,     0.91191,\n",
              "           0.91291,     0.91391,     0.91491,     0.91592,     0.91692,     0.91792,     0.91892,     0.91992,     0.92092,     0.92192,     0.92292,     0.92392,     0.92492,     0.92593,     0.92693,     0.92793,     0.92893,     0.92993,     0.93093,     0.93193,     0.93293,     0.93393,     0.93493,     0.93594,\n",
              "           0.93694,     0.93794,     0.93894,     0.93994,     0.94094,     0.94194,     0.94294,     0.94394,     0.94494,     0.94595,     0.94695,     0.94795,     0.94895,     0.94995,     0.95095,     0.95195,     0.95295,     0.95395,     0.95495,     0.95596,     0.95696,     0.95796,     0.95896,     0.95996,\n",
              "           0.96096,     0.96196,     0.96296,     0.96396,     0.96496,     0.96597,     0.96697,     0.96797,     0.96897,     0.96997,     0.97097,     0.97197,     0.97297,     0.97397,     0.97497,     0.97598,     0.97698,     0.97798,     0.97898,     0.97998,     0.98098,     0.98198,     0.98298,     0.98398,\n",
              "           0.98498,     0.98599,     0.98699,     0.98799,     0.98899,     0.98999,     0.99099,     0.99199,     0.99299,     0.99399,     0.99499,       0.996,       0.997,       0.998,       0.999,           1]), array([[      0.025,       0.025,    0.042714, ...,           1,           1,           1],\n",
              "       [   0.058824,    0.058824,     0.10913, ...,           1,           1,           1],\n",
              "       [    0.03125,     0.03125,    0.081618, ...,           1,           1,           1],\n",
              "       ...,\n",
              "       [       0.04,        0.04,    0.090356, ...,           1,           1,           1],\n",
              "       [   0.056818,    0.056818,     0.14651, ...,           1,           1,           1],\n",
              "       [   0.017094,    0.017094,    0.043548, ...,           1,           1,           1]]), 'Confidence', 'Precision'], [array([          0,    0.001001,    0.002002,    0.003003,    0.004004,    0.005005,    0.006006,    0.007007,    0.008008,    0.009009,     0.01001,    0.011011,    0.012012,    0.013013,    0.014014,    0.015015,    0.016016,    0.017017,    0.018018,    0.019019,     0.02002,    0.021021,    0.022022,    0.023023,\n",
              "          0.024024,    0.025025,    0.026026,    0.027027,    0.028028,    0.029029,     0.03003,    0.031031,    0.032032,    0.033033,    0.034034,    0.035035,    0.036036,    0.037037,    0.038038,    0.039039,     0.04004,    0.041041,    0.042042,    0.043043,    0.044044,    0.045045,    0.046046,    0.047047,\n",
              "          0.048048,    0.049049,     0.05005,    0.051051,    0.052052,    0.053053,    0.054054,    0.055055,    0.056056,    0.057057,    0.058058,    0.059059,     0.06006,    0.061061,    0.062062,    0.063063,    0.064064,    0.065065,    0.066066,    0.067067,    0.068068,    0.069069,     0.07007,    0.071071,\n",
              "          0.072072,    0.073073,    0.074074,    0.075075,    0.076076,    0.077077,    0.078078,    0.079079,     0.08008,    0.081081,    0.082082,    0.083083,    0.084084,    0.085085,    0.086086,    0.087087,    0.088088,    0.089089,     0.09009,    0.091091,    0.092092,    0.093093,    0.094094,    0.095095,\n",
              "          0.096096,    0.097097,    0.098098,    0.099099,      0.1001,      0.1011,      0.1021,      0.1031,      0.1041,     0.10511,     0.10611,     0.10711,     0.10811,     0.10911,     0.11011,     0.11111,     0.11211,     0.11311,     0.11411,     0.11512,     0.11612,     0.11712,     0.11812,     0.11912,\n",
              "           0.12012,     0.12112,     0.12212,     0.12312,     0.12412,     0.12513,     0.12613,     0.12713,     0.12813,     0.12913,     0.13013,     0.13113,     0.13213,     0.13313,     0.13413,     0.13514,     0.13614,     0.13714,     0.13814,     0.13914,     0.14014,     0.14114,     0.14214,     0.14314,\n",
              "           0.14414,     0.14515,     0.14615,     0.14715,     0.14815,     0.14915,     0.15015,     0.15115,     0.15215,     0.15315,     0.15415,     0.15516,     0.15616,     0.15716,     0.15816,     0.15916,     0.16016,     0.16116,     0.16216,     0.16316,     0.16416,     0.16517,     0.16617,     0.16717,\n",
              "           0.16817,     0.16917,     0.17017,     0.17117,     0.17217,     0.17317,     0.17417,     0.17518,     0.17618,     0.17718,     0.17818,     0.17918,     0.18018,     0.18118,     0.18218,     0.18318,     0.18418,     0.18519,     0.18619,     0.18719,     0.18819,     0.18919,     0.19019,     0.19119,\n",
              "           0.19219,     0.19319,     0.19419,      0.1952,      0.1962,      0.1972,      0.1982,      0.1992,      0.2002,      0.2012,      0.2022,      0.2032,      0.2042,     0.20521,     0.20621,     0.20721,     0.20821,     0.20921,     0.21021,     0.21121,     0.21221,     0.21321,     0.21421,     0.21522,\n",
              "           0.21622,     0.21722,     0.21822,     0.21922,     0.22022,     0.22122,     0.22222,     0.22322,     0.22422,     0.22523,     0.22623,     0.22723,     0.22823,     0.22923,     0.23023,     0.23123,     0.23223,     0.23323,     0.23423,     0.23524,     0.23624,     0.23724,     0.23824,     0.23924,\n",
              "           0.24024,     0.24124,     0.24224,     0.24324,     0.24424,     0.24525,     0.24625,     0.24725,     0.24825,     0.24925,     0.25025,     0.25125,     0.25225,     0.25325,     0.25425,     0.25526,     0.25626,     0.25726,     0.25826,     0.25926,     0.26026,     0.26126,     0.26226,     0.26326,\n",
              "           0.26426,     0.26527,     0.26627,     0.26727,     0.26827,     0.26927,     0.27027,     0.27127,     0.27227,     0.27327,     0.27427,     0.27528,     0.27628,     0.27728,     0.27828,     0.27928,     0.28028,     0.28128,     0.28228,     0.28328,     0.28428,     0.28529,     0.28629,     0.28729,\n",
              "           0.28829,     0.28929,     0.29029,     0.29129,     0.29229,     0.29329,     0.29429,      0.2953,      0.2963,      0.2973,      0.2983,      0.2993,      0.3003,      0.3013,      0.3023,      0.3033,      0.3043,     0.30531,     0.30631,     0.30731,     0.30831,     0.30931,     0.31031,     0.31131,\n",
              "           0.31231,     0.31331,     0.31431,     0.31532,     0.31632,     0.31732,     0.31832,     0.31932,     0.32032,     0.32132,     0.32232,     0.32332,     0.32432,     0.32533,     0.32633,     0.32733,     0.32833,     0.32933,     0.33033,     0.33133,     0.33233,     0.33333,     0.33433,     0.33534,\n",
              "           0.33634,     0.33734,     0.33834,     0.33934,     0.34034,     0.34134,     0.34234,     0.34334,     0.34434,     0.34535,     0.34635,     0.34735,     0.34835,     0.34935,     0.35035,     0.35135,     0.35235,     0.35335,     0.35435,     0.35536,     0.35636,     0.35736,     0.35836,     0.35936,\n",
              "           0.36036,     0.36136,     0.36236,     0.36336,     0.36436,     0.36537,     0.36637,     0.36737,     0.36837,     0.36937,     0.37037,     0.37137,     0.37237,     0.37337,     0.37437,     0.37538,     0.37638,     0.37738,     0.37838,     0.37938,     0.38038,     0.38138,     0.38238,     0.38338,\n",
              "           0.38438,     0.38539,     0.38639,     0.38739,     0.38839,     0.38939,     0.39039,     0.39139,     0.39239,     0.39339,     0.39439,      0.3954,      0.3964,      0.3974,      0.3984,      0.3994,      0.4004,      0.4014,      0.4024,      0.4034,      0.4044,     0.40541,     0.40641,     0.40741,\n",
              "           0.40841,     0.40941,     0.41041,     0.41141,     0.41241,     0.41341,     0.41441,     0.41542,     0.41642,     0.41742,     0.41842,     0.41942,     0.42042,     0.42142,     0.42242,     0.42342,     0.42442,     0.42543,     0.42643,     0.42743,     0.42843,     0.42943,     0.43043,     0.43143,\n",
              "           0.43243,     0.43343,     0.43443,     0.43544,     0.43644,     0.43744,     0.43844,     0.43944,     0.44044,     0.44144,     0.44244,     0.44344,     0.44444,     0.44545,     0.44645,     0.44745,     0.44845,     0.44945,     0.45045,     0.45145,     0.45245,     0.45345,     0.45445,     0.45546,\n",
              "           0.45646,     0.45746,     0.45846,     0.45946,     0.46046,     0.46146,     0.46246,     0.46346,     0.46446,     0.46547,     0.46647,     0.46747,     0.46847,     0.46947,     0.47047,     0.47147,     0.47247,     0.47347,     0.47447,     0.47548,     0.47648,     0.47748,     0.47848,     0.47948,\n",
              "           0.48048,     0.48148,     0.48248,     0.48348,     0.48448,     0.48549,     0.48649,     0.48749,     0.48849,     0.48949,     0.49049,     0.49149,     0.49249,     0.49349,     0.49449,      0.4955,      0.4965,      0.4975,      0.4985,      0.4995,      0.5005,      0.5015,      0.5025,      0.5035,\n",
              "            0.5045,     0.50551,     0.50651,     0.50751,     0.50851,     0.50951,     0.51051,     0.51151,     0.51251,     0.51351,     0.51451,     0.51552,     0.51652,     0.51752,     0.51852,     0.51952,     0.52052,     0.52152,     0.52252,     0.52352,     0.52452,     0.52553,     0.52653,     0.52753,\n",
              "           0.52853,     0.52953,     0.53053,     0.53153,     0.53253,     0.53353,     0.53453,     0.53554,     0.53654,     0.53754,     0.53854,     0.53954,     0.54054,     0.54154,     0.54254,     0.54354,     0.54454,     0.54555,     0.54655,     0.54755,     0.54855,     0.54955,     0.55055,     0.55155,\n",
              "           0.55255,     0.55355,     0.55455,     0.55556,     0.55656,     0.55756,     0.55856,     0.55956,     0.56056,     0.56156,     0.56256,     0.56356,     0.56456,     0.56557,     0.56657,     0.56757,     0.56857,     0.56957,     0.57057,     0.57157,     0.57257,     0.57357,     0.57457,     0.57558,\n",
              "           0.57658,     0.57758,     0.57858,     0.57958,     0.58058,     0.58158,     0.58258,     0.58358,     0.58458,     0.58559,     0.58659,     0.58759,     0.58859,     0.58959,     0.59059,     0.59159,     0.59259,     0.59359,     0.59459,      0.5956,      0.5966,      0.5976,      0.5986,      0.5996,\n",
              "            0.6006,      0.6016,      0.6026,      0.6036,      0.6046,     0.60561,     0.60661,     0.60761,     0.60861,     0.60961,     0.61061,     0.61161,     0.61261,     0.61361,     0.61461,     0.61562,     0.61662,     0.61762,     0.61862,     0.61962,     0.62062,     0.62162,     0.62262,     0.62362,\n",
              "           0.62462,     0.62563,     0.62663,     0.62763,     0.62863,     0.62963,     0.63063,     0.63163,     0.63263,     0.63363,     0.63463,     0.63564,     0.63664,     0.63764,     0.63864,     0.63964,     0.64064,     0.64164,     0.64264,     0.64364,     0.64464,     0.64565,     0.64665,     0.64765,\n",
              "           0.64865,     0.64965,     0.65065,     0.65165,     0.65265,     0.65365,     0.65465,     0.65566,     0.65666,     0.65766,     0.65866,     0.65966,     0.66066,     0.66166,     0.66266,     0.66366,     0.66466,     0.66567,     0.66667,     0.66767,     0.66867,     0.66967,     0.67067,     0.67167,\n",
              "           0.67267,     0.67367,     0.67467,     0.67568,     0.67668,     0.67768,     0.67868,     0.67968,     0.68068,     0.68168,     0.68268,     0.68368,     0.68468,     0.68569,     0.68669,     0.68769,     0.68869,     0.68969,     0.69069,     0.69169,     0.69269,     0.69369,     0.69469,      0.6957,\n",
              "            0.6967,      0.6977,      0.6987,      0.6997,      0.7007,      0.7017,      0.7027,      0.7037,      0.7047,     0.70571,     0.70671,     0.70771,     0.70871,     0.70971,     0.71071,     0.71171,     0.71271,     0.71371,     0.71471,     0.71572,     0.71672,     0.71772,     0.71872,     0.71972,\n",
              "           0.72072,     0.72172,     0.72272,     0.72372,     0.72472,     0.72573,     0.72673,     0.72773,     0.72873,     0.72973,     0.73073,     0.73173,     0.73273,     0.73373,     0.73473,     0.73574,     0.73674,     0.73774,     0.73874,     0.73974,     0.74074,     0.74174,     0.74274,     0.74374,\n",
              "           0.74474,     0.74575,     0.74675,     0.74775,     0.74875,     0.74975,     0.75075,     0.75175,     0.75275,     0.75375,     0.75475,     0.75576,     0.75676,     0.75776,     0.75876,     0.75976,     0.76076,     0.76176,     0.76276,     0.76376,     0.76476,     0.76577,     0.76677,     0.76777,\n",
              "           0.76877,     0.76977,     0.77077,     0.77177,     0.77277,     0.77377,     0.77477,     0.77578,     0.77678,     0.77778,     0.77878,     0.77978,     0.78078,     0.78178,     0.78278,     0.78378,     0.78478,     0.78579,     0.78679,     0.78779,     0.78879,     0.78979,     0.79079,     0.79179,\n",
              "           0.79279,     0.79379,     0.79479,      0.7958,      0.7968,      0.7978,      0.7988,      0.7998,      0.8008,      0.8018,      0.8028,      0.8038,      0.8048,     0.80581,     0.80681,     0.80781,     0.80881,     0.80981,     0.81081,     0.81181,     0.81281,     0.81381,     0.81481,     0.81582,\n",
              "           0.81682,     0.81782,     0.81882,     0.81982,     0.82082,     0.82182,     0.82282,     0.82382,     0.82482,     0.82583,     0.82683,     0.82783,     0.82883,     0.82983,     0.83083,     0.83183,     0.83283,     0.83383,     0.83483,     0.83584,     0.83684,     0.83784,     0.83884,     0.83984,\n",
              "           0.84084,     0.84184,     0.84284,     0.84384,     0.84484,     0.84585,     0.84685,     0.84785,     0.84885,     0.84985,     0.85085,     0.85185,     0.85285,     0.85385,     0.85485,     0.85586,     0.85686,     0.85786,     0.85886,     0.85986,     0.86086,     0.86186,     0.86286,     0.86386,\n",
              "           0.86486,     0.86587,     0.86687,     0.86787,     0.86887,     0.86987,     0.87087,     0.87187,     0.87287,     0.87387,     0.87487,     0.87588,     0.87688,     0.87788,     0.87888,     0.87988,     0.88088,     0.88188,     0.88288,     0.88388,     0.88488,     0.88589,     0.88689,     0.88789,\n",
              "           0.88889,     0.88989,     0.89089,     0.89189,     0.89289,     0.89389,     0.89489,      0.8959,      0.8969,      0.8979,      0.8989,      0.8999,      0.9009,      0.9019,      0.9029,      0.9039,      0.9049,     0.90591,     0.90691,     0.90791,     0.90891,     0.90991,     0.91091,     0.91191,\n",
              "           0.91291,     0.91391,     0.91491,     0.91592,     0.91692,     0.91792,     0.91892,     0.91992,     0.92092,     0.92192,     0.92292,     0.92392,     0.92492,     0.92593,     0.92693,     0.92793,     0.92893,     0.92993,     0.93093,     0.93193,     0.93293,     0.93393,     0.93493,     0.93594,\n",
              "           0.93694,     0.93794,     0.93894,     0.93994,     0.94094,     0.94194,     0.94294,     0.94394,     0.94494,     0.94595,     0.94695,     0.94795,     0.94895,     0.94995,     0.95095,     0.95195,     0.95295,     0.95395,     0.95495,     0.95596,     0.95696,     0.95796,     0.95896,     0.95996,\n",
              "           0.96096,     0.96196,     0.96296,     0.96396,     0.96496,     0.96597,     0.96697,     0.96797,     0.96897,     0.96997,     0.97097,     0.97197,     0.97297,     0.97397,     0.97497,     0.97598,     0.97698,     0.97798,     0.97898,     0.97998,     0.98098,     0.98198,     0.98298,     0.98398,\n",
              "           0.98498,     0.98599,     0.98699,     0.98799,     0.98899,     0.98999,     0.99099,     0.99199,     0.99299,     0.99399,     0.99499,       0.996,       0.997,       0.998,       0.999,           1]), array([[          1,           1,           1, ...,           0,           0,           0],\n",
              "       [          1,           1,           1, ...,           0,           0,           0],\n",
              "       [          1,           1,           1, ...,           0,           0,           0],\n",
              "       ...,\n",
              "       [          1,           1,           1, ...,           0,           0,           0],\n",
              "       [          1,           1,           1, ...,           0,           0,           0],\n",
              "       [          1,           1,           1, ...,           0,           0,           0]]), 'Confidence', 'Recall'], [array([          0,    0.001001,    0.002002,    0.003003,    0.004004,    0.005005,    0.006006,    0.007007,    0.008008,    0.009009,     0.01001,    0.011011,    0.012012,    0.013013,    0.014014,    0.015015,    0.016016,    0.017017,    0.018018,    0.019019,     0.02002,    0.021021,    0.022022,    0.023023,\n",
              "          0.024024,    0.025025,    0.026026,    0.027027,    0.028028,    0.029029,     0.03003,    0.031031,    0.032032,    0.033033,    0.034034,    0.035035,    0.036036,    0.037037,    0.038038,    0.039039,     0.04004,    0.041041,    0.042042,    0.043043,    0.044044,    0.045045,    0.046046,    0.047047,\n",
              "          0.048048,    0.049049,     0.05005,    0.051051,    0.052052,    0.053053,    0.054054,    0.055055,    0.056056,    0.057057,    0.058058,    0.059059,     0.06006,    0.061061,    0.062062,    0.063063,    0.064064,    0.065065,    0.066066,    0.067067,    0.068068,    0.069069,     0.07007,    0.071071,\n",
              "          0.072072,    0.073073,    0.074074,    0.075075,    0.076076,    0.077077,    0.078078,    0.079079,     0.08008,    0.081081,    0.082082,    0.083083,    0.084084,    0.085085,    0.086086,    0.087087,    0.088088,    0.089089,     0.09009,    0.091091,    0.092092,    0.093093,    0.094094,    0.095095,\n",
              "          0.096096,    0.097097,    0.098098,    0.099099,      0.1001,      0.1011,      0.1021,      0.1031,      0.1041,     0.10511,     0.10611,     0.10711,     0.10811,     0.10911,     0.11011,     0.11111,     0.11211,     0.11311,     0.11411,     0.11512,     0.11612,     0.11712,     0.11812,     0.11912,\n",
              "           0.12012,     0.12112,     0.12212,     0.12312,     0.12412,     0.12513,     0.12613,     0.12713,     0.12813,     0.12913,     0.13013,     0.13113,     0.13213,     0.13313,     0.13413,     0.13514,     0.13614,     0.13714,     0.13814,     0.13914,     0.14014,     0.14114,     0.14214,     0.14314,\n",
              "           0.14414,     0.14515,     0.14615,     0.14715,     0.14815,     0.14915,     0.15015,     0.15115,     0.15215,     0.15315,     0.15415,     0.15516,     0.15616,     0.15716,     0.15816,     0.15916,     0.16016,     0.16116,     0.16216,     0.16316,     0.16416,     0.16517,     0.16617,     0.16717,\n",
              "           0.16817,     0.16917,     0.17017,     0.17117,     0.17217,     0.17317,     0.17417,     0.17518,     0.17618,     0.17718,     0.17818,     0.17918,     0.18018,     0.18118,     0.18218,     0.18318,     0.18418,     0.18519,     0.18619,     0.18719,     0.18819,     0.18919,     0.19019,     0.19119,\n",
              "           0.19219,     0.19319,     0.19419,      0.1952,      0.1962,      0.1972,      0.1982,      0.1992,      0.2002,      0.2012,      0.2022,      0.2032,      0.2042,     0.20521,     0.20621,     0.20721,     0.20821,     0.20921,     0.21021,     0.21121,     0.21221,     0.21321,     0.21421,     0.21522,\n",
              "           0.21622,     0.21722,     0.21822,     0.21922,     0.22022,     0.22122,     0.22222,     0.22322,     0.22422,     0.22523,     0.22623,     0.22723,     0.22823,     0.22923,     0.23023,     0.23123,     0.23223,     0.23323,     0.23423,     0.23524,     0.23624,     0.23724,     0.23824,     0.23924,\n",
              "           0.24024,     0.24124,     0.24224,     0.24324,     0.24424,     0.24525,     0.24625,     0.24725,     0.24825,     0.24925,     0.25025,     0.25125,     0.25225,     0.25325,     0.25425,     0.25526,     0.25626,     0.25726,     0.25826,     0.25926,     0.26026,     0.26126,     0.26226,     0.26326,\n",
              "           0.26426,     0.26527,     0.26627,     0.26727,     0.26827,     0.26927,     0.27027,     0.27127,     0.27227,     0.27327,     0.27427,     0.27528,     0.27628,     0.27728,     0.27828,     0.27928,     0.28028,     0.28128,     0.28228,     0.28328,     0.28428,     0.28529,     0.28629,     0.28729,\n",
              "           0.28829,     0.28929,     0.29029,     0.29129,     0.29229,     0.29329,     0.29429,      0.2953,      0.2963,      0.2973,      0.2983,      0.2993,      0.3003,      0.3013,      0.3023,      0.3033,      0.3043,     0.30531,     0.30631,     0.30731,     0.30831,     0.30931,     0.31031,     0.31131,\n",
              "           0.31231,     0.31331,     0.31431,     0.31532,     0.31632,     0.31732,     0.31832,     0.31932,     0.32032,     0.32132,     0.32232,     0.32332,     0.32432,     0.32533,     0.32633,     0.32733,     0.32833,     0.32933,     0.33033,     0.33133,     0.33233,     0.33333,     0.33433,     0.33534,\n",
              "           0.33634,     0.33734,     0.33834,     0.33934,     0.34034,     0.34134,     0.34234,     0.34334,     0.34434,     0.34535,     0.34635,     0.34735,     0.34835,     0.34935,     0.35035,     0.35135,     0.35235,     0.35335,     0.35435,     0.35536,     0.35636,     0.35736,     0.35836,     0.35936,\n",
              "           0.36036,     0.36136,     0.36236,     0.36336,     0.36436,     0.36537,     0.36637,     0.36737,     0.36837,     0.36937,     0.37037,     0.37137,     0.37237,     0.37337,     0.37437,     0.37538,     0.37638,     0.37738,     0.37838,     0.37938,     0.38038,     0.38138,     0.38238,     0.38338,\n",
              "           0.38438,     0.38539,     0.38639,     0.38739,     0.38839,     0.38939,     0.39039,     0.39139,     0.39239,     0.39339,     0.39439,      0.3954,      0.3964,      0.3974,      0.3984,      0.3994,      0.4004,      0.4014,      0.4024,      0.4034,      0.4044,     0.40541,     0.40641,     0.40741,\n",
              "           0.40841,     0.40941,     0.41041,     0.41141,     0.41241,     0.41341,     0.41441,     0.41542,     0.41642,     0.41742,     0.41842,     0.41942,     0.42042,     0.42142,     0.42242,     0.42342,     0.42442,     0.42543,     0.42643,     0.42743,     0.42843,     0.42943,     0.43043,     0.43143,\n",
              "           0.43243,     0.43343,     0.43443,     0.43544,     0.43644,     0.43744,     0.43844,     0.43944,     0.44044,     0.44144,     0.44244,     0.44344,     0.44444,     0.44545,     0.44645,     0.44745,     0.44845,     0.44945,     0.45045,     0.45145,     0.45245,     0.45345,     0.45445,     0.45546,\n",
              "           0.45646,     0.45746,     0.45846,     0.45946,     0.46046,     0.46146,     0.46246,     0.46346,     0.46446,     0.46547,     0.46647,     0.46747,     0.46847,     0.46947,     0.47047,     0.47147,     0.47247,     0.47347,     0.47447,     0.47548,     0.47648,     0.47748,     0.47848,     0.47948,\n",
              "           0.48048,     0.48148,     0.48248,     0.48348,     0.48448,     0.48549,     0.48649,     0.48749,     0.48849,     0.48949,     0.49049,     0.49149,     0.49249,     0.49349,     0.49449,      0.4955,      0.4965,      0.4975,      0.4985,      0.4995,      0.5005,      0.5015,      0.5025,      0.5035,\n",
              "            0.5045,     0.50551,     0.50651,     0.50751,     0.50851,     0.50951,     0.51051,     0.51151,     0.51251,     0.51351,     0.51451,     0.51552,     0.51652,     0.51752,     0.51852,     0.51952,     0.52052,     0.52152,     0.52252,     0.52352,     0.52452,     0.52553,     0.52653,     0.52753,\n",
              "           0.52853,     0.52953,     0.53053,     0.53153,     0.53253,     0.53353,     0.53453,     0.53554,     0.53654,     0.53754,     0.53854,     0.53954,     0.54054,     0.54154,     0.54254,     0.54354,     0.54454,     0.54555,     0.54655,     0.54755,     0.54855,     0.54955,     0.55055,     0.55155,\n",
              "           0.55255,     0.55355,     0.55455,     0.55556,     0.55656,     0.55756,     0.55856,     0.55956,     0.56056,     0.56156,     0.56256,     0.56356,     0.56456,     0.56557,     0.56657,     0.56757,     0.56857,     0.56957,     0.57057,     0.57157,     0.57257,     0.57357,     0.57457,     0.57558,\n",
              "           0.57658,     0.57758,     0.57858,     0.57958,     0.58058,     0.58158,     0.58258,     0.58358,     0.58458,     0.58559,     0.58659,     0.58759,     0.58859,     0.58959,     0.59059,     0.59159,     0.59259,     0.59359,     0.59459,      0.5956,      0.5966,      0.5976,      0.5986,      0.5996,\n",
              "            0.6006,      0.6016,      0.6026,      0.6036,      0.6046,     0.60561,     0.60661,     0.60761,     0.60861,     0.60961,     0.61061,     0.61161,     0.61261,     0.61361,     0.61461,     0.61562,     0.61662,     0.61762,     0.61862,     0.61962,     0.62062,     0.62162,     0.62262,     0.62362,\n",
              "           0.62462,     0.62563,     0.62663,     0.62763,     0.62863,     0.62963,     0.63063,     0.63163,     0.63263,     0.63363,     0.63463,     0.63564,     0.63664,     0.63764,     0.63864,     0.63964,     0.64064,     0.64164,     0.64264,     0.64364,     0.64464,     0.64565,     0.64665,     0.64765,\n",
              "           0.64865,     0.64965,     0.65065,     0.65165,     0.65265,     0.65365,     0.65465,     0.65566,     0.65666,     0.65766,     0.65866,     0.65966,     0.66066,     0.66166,     0.66266,     0.66366,     0.66466,     0.66567,     0.66667,     0.66767,     0.66867,     0.66967,     0.67067,     0.67167,\n",
              "           0.67267,     0.67367,     0.67467,     0.67568,     0.67668,     0.67768,     0.67868,     0.67968,     0.68068,     0.68168,     0.68268,     0.68368,     0.68468,     0.68569,     0.68669,     0.68769,     0.68869,     0.68969,     0.69069,     0.69169,     0.69269,     0.69369,     0.69469,      0.6957,\n",
              "            0.6967,      0.6977,      0.6987,      0.6997,      0.7007,      0.7017,      0.7027,      0.7037,      0.7047,     0.70571,     0.70671,     0.70771,     0.70871,     0.70971,     0.71071,     0.71171,     0.71271,     0.71371,     0.71471,     0.71572,     0.71672,     0.71772,     0.71872,     0.71972,\n",
              "           0.72072,     0.72172,     0.72272,     0.72372,     0.72472,     0.72573,     0.72673,     0.72773,     0.72873,     0.72973,     0.73073,     0.73173,     0.73273,     0.73373,     0.73473,     0.73574,     0.73674,     0.73774,     0.73874,     0.73974,     0.74074,     0.74174,     0.74274,     0.74374,\n",
              "           0.74474,     0.74575,     0.74675,     0.74775,     0.74875,     0.74975,     0.75075,     0.75175,     0.75275,     0.75375,     0.75475,     0.75576,     0.75676,     0.75776,     0.75876,     0.75976,     0.76076,     0.76176,     0.76276,     0.76376,     0.76476,     0.76577,     0.76677,     0.76777,\n",
              "           0.76877,     0.76977,     0.77077,     0.77177,     0.77277,     0.77377,     0.77477,     0.77578,     0.77678,     0.77778,     0.77878,     0.77978,     0.78078,     0.78178,     0.78278,     0.78378,     0.78478,     0.78579,     0.78679,     0.78779,     0.78879,     0.78979,     0.79079,     0.79179,\n",
              "           0.79279,     0.79379,     0.79479,      0.7958,      0.7968,      0.7978,      0.7988,      0.7998,      0.8008,      0.8018,      0.8028,      0.8038,      0.8048,     0.80581,     0.80681,     0.80781,     0.80881,     0.80981,     0.81081,     0.81181,     0.81281,     0.81381,     0.81481,     0.81582,\n",
              "           0.81682,     0.81782,     0.81882,     0.81982,     0.82082,     0.82182,     0.82282,     0.82382,     0.82482,     0.82583,     0.82683,     0.82783,     0.82883,     0.82983,     0.83083,     0.83183,     0.83283,     0.83383,     0.83483,     0.83584,     0.83684,     0.83784,     0.83884,     0.83984,\n",
              "           0.84084,     0.84184,     0.84284,     0.84384,     0.84484,     0.84585,     0.84685,     0.84785,     0.84885,     0.84985,     0.85085,     0.85185,     0.85285,     0.85385,     0.85485,     0.85586,     0.85686,     0.85786,     0.85886,     0.85986,     0.86086,     0.86186,     0.86286,     0.86386,\n",
              "           0.86486,     0.86587,     0.86687,     0.86787,     0.86887,     0.86987,     0.87087,     0.87187,     0.87287,     0.87387,     0.87487,     0.87588,     0.87688,     0.87788,     0.87888,     0.87988,     0.88088,     0.88188,     0.88288,     0.88388,     0.88488,     0.88589,     0.88689,     0.88789,\n",
              "           0.88889,     0.88989,     0.89089,     0.89189,     0.89289,     0.89389,     0.89489,      0.8959,      0.8969,      0.8979,      0.8989,      0.8999,      0.9009,      0.9019,      0.9029,      0.9039,      0.9049,     0.90591,     0.90691,     0.90791,     0.90891,     0.90991,     0.91091,     0.91191,\n",
              "           0.91291,     0.91391,     0.91491,     0.91592,     0.91692,     0.91792,     0.91892,     0.91992,     0.92092,     0.92192,     0.92292,     0.92392,     0.92492,     0.92593,     0.92693,     0.92793,     0.92893,     0.92993,     0.93093,     0.93193,     0.93293,     0.93393,     0.93493,     0.93594,\n",
              "           0.93694,     0.93794,     0.93894,     0.93994,     0.94094,     0.94194,     0.94294,     0.94394,     0.94494,     0.94595,     0.94695,     0.94795,     0.94895,     0.94995,     0.95095,     0.95195,     0.95295,     0.95395,     0.95495,     0.95596,     0.95696,     0.95796,     0.95896,     0.95996,\n",
              "           0.96096,     0.96196,     0.96296,     0.96396,     0.96496,     0.96597,     0.96697,     0.96797,     0.96897,     0.96997,     0.97097,     0.97197,     0.97297,     0.97397,     0.97497,     0.97598,     0.97698,     0.97798,     0.97898,     0.97998,     0.98098,     0.98198,     0.98298,     0.98398,\n",
              "           0.98498,     0.98599,     0.98699,     0.98799,     0.98899,     0.98999,     0.99099,     0.99199,     0.99299,     0.99399,     0.99499,       0.996,       0.997,       0.998,       0.999,           1]), array([[          1,           1,           1, ...,           1,           1,           0],\n",
              "       [          1,           1,           1, ...,           1,           1,           0],\n",
              "       [          1,           1,           1, ...,           1,           1,           0],\n",
              "       ...,\n",
              "       [          1,           1,           1, ...,           1,           1,           0],\n",
              "       [          1,           1,           1, ...,           1,           1,           0],\n",
              "       [          1,           1,           1, ...,     0.66667,     0.66667,           0]]), 'Recall', 'Precision'], [array([          0,    0.001001,    0.002002,    0.003003,    0.004004,    0.005005,    0.006006,    0.007007,    0.008008,    0.009009,     0.01001,    0.011011,    0.012012,    0.013013,    0.014014,    0.015015,    0.016016,    0.017017,    0.018018,    0.019019,     0.02002,    0.021021,    0.022022,    0.023023,\n",
              "          0.024024,    0.025025,    0.026026,    0.027027,    0.028028,    0.029029,     0.03003,    0.031031,    0.032032,    0.033033,    0.034034,    0.035035,    0.036036,    0.037037,    0.038038,    0.039039,     0.04004,    0.041041,    0.042042,    0.043043,    0.044044,    0.045045,    0.046046,    0.047047,\n",
              "          0.048048,    0.049049,     0.05005,    0.051051,    0.052052,    0.053053,    0.054054,    0.055055,    0.056056,    0.057057,    0.058058,    0.059059,     0.06006,    0.061061,    0.062062,    0.063063,    0.064064,    0.065065,    0.066066,    0.067067,    0.068068,    0.069069,     0.07007,    0.071071,\n",
              "          0.072072,    0.073073,    0.074074,    0.075075,    0.076076,    0.077077,    0.078078,    0.079079,     0.08008,    0.081081,    0.082082,    0.083083,    0.084084,    0.085085,    0.086086,    0.087087,    0.088088,    0.089089,     0.09009,    0.091091,    0.092092,    0.093093,    0.094094,    0.095095,\n",
              "          0.096096,    0.097097,    0.098098,    0.099099,      0.1001,      0.1011,      0.1021,      0.1031,      0.1041,     0.10511,     0.10611,     0.10711,     0.10811,     0.10911,     0.11011,     0.11111,     0.11211,     0.11311,     0.11411,     0.11512,     0.11612,     0.11712,     0.11812,     0.11912,\n",
              "           0.12012,     0.12112,     0.12212,     0.12312,     0.12412,     0.12513,     0.12613,     0.12713,     0.12813,     0.12913,     0.13013,     0.13113,     0.13213,     0.13313,     0.13413,     0.13514,     0.13614,     0.13714,     0.13814,     0.13914,     0.14014,     0.14114,     0.14214,     0.14314,\n",
              "           0.14414,     0.14515,     0.14615,     0.14715,     0.14815,     0.14915,     0.15015,     0.15115,     0.15215,     0.15315,     0.15415,     0.15516,     0.15616,     0.15716,     0.15816,     0.15916,     0.16016,     0.16116,     0.16216,     0.16316,     0.16416,     0.16517,     0.16617,     0.16717,\n",
              "           0.16817,     0.16917,     0.17017,     0.17117,     0.17217,     0.17317,     0.17417,     0.17518,     0.17618,     0.17718,     0.17818,     0.17918,     0.18018,     0.18118,     0.18218,     0.18318,     0.18418,     0.18519,     0.18619,     0.18719,     0.18819,     0.18919,     0.19019,     0.19119,\n",
              "           0.19219,     0.19319,     0.19419,      0.1952,      0.1962,      0.1972,      0.1982,      0.1992,      0.2002,      0.2012,      0.2022,      0.2032,      0.2042,     0.20521,     0.20621,     0.20721,     0.20821,     0.20921,     0.21021,     0.21121,     0.21221,     0.21321,     0.21421,     0.21522,\n",
              "           0.21622,     0.21722,     0.21822,     0.21922,     0.22022,     0.22122,     0.22222,     0.22322,     0.22422,     0.22523,     0.22623,     0.22723,     0.22823,     0.22923,     0.23023,     0.23123,     0.23223,     0.23323,     0.23423,     0.23524,     0.23624,     0.23724,     0.23824,     0.23924,\n",
              "           0.24024,     0.24124,     0.24224,     0.24324,     0.24424,     0.24525,     0.24625,     0.24725,     0.24825,     0.24925,     0.25025,     0.25125,     0.25225,     0.25325,     0.25425,     0.25526,     0.25626,     0.25726,     0.25826,     0.25926,     0.26026,     0.26126,     0.26226,     0.26326,\n",
              "           0.26426,     0.26527,     0.26627,     0.26727,     0.26827,     0.26927,     0.27027,     0.27127,     0.27227,     0.27327,     0.27427,     0.27528,     0.27628,     0.27728,     0.27828,     0.27928,     0.28028,     0.28128,     0.28228,     0.28328,     0.28428,     0.28529,     0.28629,     0.28729,\n",
              "           0.28829,     0.28929,     0.29029,     0.29129,     0.29229,     0.29329,     0.29429,      0.2953,      0.2963,      0.2973,      0.2983,      0.2993,      0.3003,      0.3013,      0.3023,      0.3033,      0.3043,     0.30531,     0.30631,     0.30731,     0.30831,     0.30931,     0.31031,     0.31131,\n",
              "           0.31231,     0.31331,     0.31431,     0.31532,     0.31632,     0.31732,     0.31832,     0.31932,     0.32032,     0.32132,     0.32232,     0.32332,     0.32432,     0.32533,     0.32633,     0.32733,     0.32833,     0.32933,     0.33033,     0.33133,     0.33233,     0.33333,     0.33433,     0.33534,\n",
              "           0.33634,     0.33734,     0.33834,     0.33934,     0.34034,     0.34134,     0.34234,     0.34334,     0.34434,     0.34535,     0.34635,     0.34735,     0.34835,     0.34935,     0.35035,     0.35135,     0.35235,     0.35335,     0.35435,     0.35536,     0.35636,     0.35736,     0.35836,     0.35936,\n",
              "           0.36036,     0.36136,     0.36236,     0.36336,     0.36436,     0.36537,     0.36637,     0.36737,     0.36837,     0.36937,     0.37037,     0.37137,     0.37237,     0.37337,     0.37437,     0.37538,     0.37638,     0.37738,     0.37838,     0.37938,     0.38038,     0.38138,     0.38238,     0.38338,\n",
              "           0.38438,     0.38539,     0.38639,     0.38739,     0.38839,     0.38939,     0.39039,     0.39139,     0.39239,     0.39339,     0.39439,      0.3954,      0.3964,      0.3974,      0.3984,      0.3994,      0.4004,      0.4014,      0.4024,      0.4034,      0.4044,     0.40541,     0.40641,     0.40741,\n",
              "           0.40841,     0.40941,     0.41041,     0.41141,     0.41241,     0.41341,     0.41441,     0.41542,     0.41642,     0.41742,     0.41842,     0.41942,     0.42042,     0.42142,     0.42242,     0.42342,     0.42442,     0.42543,     0.42643,     0.42743,     0.42843,     0.42943,     0.43043,     0.43143,\n",
              "           0.43243,     0.43343,     0.43443,     0.43544,     0.43644,     0.43744,     0.43844,     0.43944,     0.44044,     0.44144,     0.44244,     0.44344,     0.44444,     0.44545,     0.44645,     0.44745,     0.44845,     0.44945,     0.45045,     0.45145,     0.45245,     0.45345,     0.45445,     0.45546,\n",
              "           0.45646,     0.45746,     0.45846,     0.45946,     0.46046,     0.46146,     0.46246,     0.46346,     0.46446,     0.46547,     0.46647,     0.46747,     0.46847,     0.46947,     0.47047,     0.47147,     0.47247,     0.47347,     0.47447,     0.47548,     0.47648,     0.47748,     0.47848,     0.47948,\n",
              "           0.48048,     0.48148,     0.48248,     0.48348,     0.48448,     0.48549,     0.48649,     0.48749,     0.48849,     0.48949,     0.49049,     0.49149,     0.49249,     0.49349,     0.49449,      0.4955,      0.4965,      0.4975,      0.4985,      0.4995,      0.5005,      0.5015,      0.5025,      0.5035,\n",
              "            0.5045,     0.50551,     0.50651,     0.50751,     0.50851,     0.50951,     0.51051,     0.51151,     0.51251,     0.51351,     0.51451,     0.51552,     0.51652,     0.51752,     0.51852,     0.51952,     0.52052,     0.52152,     0.52252,     0.52352,     0.52452,     0.52553,     0.52653,     0.52753,\n",
              "           0.52853,     0.52953,     0.53053,     0.53153,     0.53253,     0.53353,     0.53453,     0.53554,     0.53654,     0.53754,     0.53854,     0.53954,     0.54054,     0.54154,     0.54254,     0.54354,     0.54454,     0.54555,     0.54655,     0.54755,     0.54855,     0.54955,     0.55055,     0.55155,\n",
              "           0.55255,     0.55355,     0.55455,     0.55556,     0.55656,     0.55756,     0.55856,     0.55956,     0.56056,     0.56156,     0.56256,     0.56356,     0.56456,     0.56557,     0.56657,     0.56757,     0.56857,     0.56957,     0.57057,     0.57157,     0.57257,     0.57357,     0.57457,     0.57558,\n",
              "           0.57658,     0.57758,     0.57858,     0.57958,     0.58058,     0.58158,     0.58258,     0.58358,     0.58458,     0.58559,     0.58659,     0.58759,     0.58859,     0.58959,     0.59059,     0.59159,     0.59259,     0.59359,     0.59459,      0.5956,      0.5966,      0.5976,      0.5986,      0.5996,\n",
              "            0.6006,      0.6016,      0.6026,      0.6036,      0.6046,     0.60561,     0.60661,     0.60761,     0.60861,     0.60961,     0.61061,     0.61161,     0.61261,     0.61361,     0.61461,     0.61562,     0.61662,     0.61762,     0.61862,     0.61962,     0.62062,     0.62162,     0.62262,     0.62362,\n",
              "           0.62462,     0.62563,     0.62663,     0.62763,     0.62863,     0.62963,     0.63063,     0.63163,     0.63263,     0.63363,     0.63463,     0.63564,     0.63664,     0.63764,     0.63864,     0.63964,     0.64064,     0.64164,     0.64264,     0.64364,     0.64464,     0.64565,     0.64665,     0.64765,\n",
              "           0.64865,     0.64965,     0.65065,     0.65165,     0.65265,     0.65365,     0.65465,     0.65566,     0.65666,     0.65766,     0.65866,     0.65966,     0.66066,     0.66166,     0.66266,     0.66366,     0.66466,     0.66567,     0.66667,     0.66767,     0.66867,     0.66967,     0.67067,     0.67167,\n",
              "           0.67267,     0.67367,     0.67467,     0.67568,     0.67668,     0.67768,     0.67868,     0.67968,     0.68068,     0.68168,     0.68268,     0.68368,     0.68468,     0.68569,     0.68669,     0.68769,     0.68869,     0.68969,     0.69069,     0.69169,     0.69269,     0.69369,     0.69469,      0.6957,\n",
              "            0.6967,      0.6977,      0.6987,      0.6997,      0.7007,      0.7017,      0.7027,      0.7037,      0.7047,     0.70571,     0.70671,     0.70771,     0.70871,     0.70971,     0.71071,     0.71171,     0.71271,     0.71371,     0.71471,     0.71572,     0.71672,     0.71772,     0.71872,     0.71972,\n",
              "           0.72072,     0.72172,     0.72272,     0.72372,     0.72472,     0.72573,     0.72673,     0.72773,     0.72873,     0.72973,     0.73073,     0.73173,     0.73273,     0.73373,     0.73473,     0.73574,     0.73674,     0.73774,     0.73874,     0.73974,     0.74074,     0.74174,     0.74274,     0.74374,\n",
              "           0.74474,     0.74575,     0.74675,     0.74775,     0.74875,     0.74975,     0.75075,     0.75175,     0.75275,     0.75375,     0.75475,     0.75576,     0.75676,     0.75776,     0.75876,     0.75976,     0.76076,     0.76176,     0.76276,     0.76376,     0.76476,     0.76577,     0.76677,     0.76777,\n",
              "           0.76877,     0.76977,     0.77077,     0.77177,     0.77277,     0.77377,     0.77477,     0.77578,     0.77678,     0.77778,     0.77878,     0.77978,     0.78078,     0.78178,     0.78278,     0.78378,     0.78478,     0.78579,     0.78679,     0.78779,     0.78879,     0.78979,     0.79079,     0.79179,\n",
              "           0.79279,     0.79379,     0.79479,      0.7958,      0.7968,      0.7978,      0.7988,      0.7998,      0.8008,      0.8018,      0.8028,      0.8038,      0.8048,     0.80581,     0.80681,     0.80781,     0.80881,     0.80981,     0.81081,     0.81181,     0.81281,     0.81381,     0.81481,     0.81582,\n",
              "           0.81682,     0.81782,     0.81882,     0.81982,     0.82082,     0.82182,     0.82282,     0.82382,     0.82482,     0.82583,     0.82683,     0.82783,     0.82883,     0.82983,     0.83083,     0.83183,     0.83283,     0.83383,     0.83483,     0.83584,     0.83684,     0.83784,     0.83884,     0.83984,\n",
              "           0.84084,     0.84184,     0.84284,     0.84384,     0.84484,     0.84585,     0.84685,     0.84785,     0.84885,     0.84985,     0.85085,     0.85185,     0.85285,     0.85385,     0.85485,     0.85586,     0.85686,     0.85786,     0.85886,     0.85986,     0.86086,     0.86186,     0.86286,     0.86386,\n",
              "           0.86486,     0.86587,     0.86687,     0.86787,     0.86887,     0.86987,     0.87087,     0.87187,     0.87287,     0.87387,     0.87487,     0.87588,     0.87688,     0.87788,     0.87888,     0.87988,     0.88088,     0.88188,     0.88288,     0.88388,     0.88488,     0.88589,     0.88689,     0.88789,\n",
              "           0.88889,     0.88989,     0.89089,     0.89189,     0.89289,     0.89389,     0.89489,      0.8959,      0.8969,      0.8979,      0.8989,      0.8999,      0.9009,      0.9019,      0.9029,      0.9039,      0.9049,     0.90591,     0.90691,     0.90791,     0.90891,     0.90991,     0.91091,     0.91191,\n",
              "           0.91291,     0.91391,     0.91491,     0.91592,     0.91692,     0.91792,     0.91892,     0.91992,     0.92092,     0.92192,     0.92292,     0.92392,     0.92492,     0.92593,     0.92693,     0.92793,     0.92893,     0.92993,     0.93093,     0.93193,     0.93293,     0.93393,     0.93493,     0.93594,\n",
              "           0.93694,     0.93794,     0.93894,     0.93994,     0.94094,     0.94194,     0.94294,     0.94394,     0.94494,     0.94595,     0.94695,     0.94795,     0.94895,     0.94995,     0.95095,     0.95195,     0.95295,     0.95395,     0.95495,     0.95596,     0.95696,     0.95796,     0.95896,     0.95996,\n",
              "           0.96096,     0.96196,     0.96296,     0.96396,     0.96496,     0.96597,     0.96697,     0.96797,     0.96897,     0.96997,     0.97097,     0.97197,     0.97297,     0.97397,     0.97497,     0.97598,     0.97698,     0.97798,     0.97898,     0.97998,     0.98098,     0.98198,     0.98298,     0.98398,\n",
              "           0.98498,     0.98599,     0.98699,     0.98799,     0.98899,     0.98999,     0.99099,     0.99199,     0.99299,     0.99399,     0.99499,       0.996,       0.997,       0.998,       0.999,           1]), array([[    0.04878,     0.04878,    0.081929, ...,           0,           0,           0],\n",
              "       [    0.11111,     0.11111,     0.19678, ...,           0,           0,           0],\n",
              "       [   0.060606,    0.060606,     0.15092, ...,           0,           0,           0],\n",
              "       ...,\n",
              "       [   0.076923,    0.076923,     0.16574, ...,           0,           0,           0],\n",
              "       [    0.10753,     0.10753,     0.25558, ...,           0,           0,           0],\n",
              "       [   0.033613,    0.033613,    0.083461, ...,           0,           0,           0]]), 'Confidence', 'F1'], [array([          0,    0.001001,    0.002002,    0.003003,    0.004004,    0.005005,    0.006006,    0.007007,    0.008008,    0.009009,     0.01001,    0.011011,    0.012012,    0.013013,    0.014014,    0.015015,    0.016016,    0.017017,    0.018018,    0.019019,     0.02002,    0.021021,    0.022022,    0.023023,\n",
              "          0.024024,    0.025025,    0.026026,    0.027027,    0.028028,    0.029029,     0.03003,    0.031031,    0.032032,    0.033033,    0.034034,    0.035035,    0.036036,    0.037037,    0.038038,    0.039039,     0.04004,    0.041041,    0.042042,    0.043043,    0.044044,    0.045045,    0.046046,    0.047047,\n",
              "          0.048048,    0.049049,     0.05005,    0.051051,    0.052052,    0.053053,    0.054054,    0.055055,    0.056056,    0.057057,    0.058058,    0.059059,     0.06006,    0.061061,    0.062062,    0.063063,    0.064064,    0.065065,    0.066066,    0.067067,    0.068068,    0.069069,     0.07007,    0.071071,\n",
              "          0.072072,    0.073073,    0.074074,    0.075075,    0.076076,    0.077077,    0.078078,    0.079079,     0.08008,    0.081081,    0.082082,    0.083083,    0.084084,    0.085085,    0.086086,    0.087087,    0.088088,    0.089089,     0.09009,    0.091091,    0.092092,    0.093093,    0.094094,    0.095095,\n",
              "          0.096096,    0.097097,    0.098098,    0.099099,      0.1001,      0.1011,      0.1021,      0.1031,      0.1041,     0.10511,     0.10611,     0.10711,     0.10811,     0.10911,     0.11011,     0.11111,     0.11211,     0.11311,     0.11411,     0.11512,     0.11612,     0.11712,     0.11812,     0.11912,\n",
              "           0.12012,     0.12112,     0.12212,     0.12312,     0.12412,     0.12513,     0.12613,     0.12713,     0.12813,     0.12913,     0.13013,     0.13113,     0.13213,     0.13313,     0.13413,     0.13514,     0.13614,     0.13714,     0.13814,     0.13914,     0.14014,     0.14114,     0.14214,     0.14314,\n",
              "           0.14414,     0.14515,     0.14615,     0.14715,     0.14815,     0.14915,     0.15015,     0.15115,     0.15215,     0.15315,     0.15415,     0.15516,     0.15616,     0.15716,     0.15816,     0.15916,     0.16016,     0.16116,     0.16216,     0.16316,     0.16416,     0.16517,     0.16617,     0.16717,\n",
              "           0.16817,     0.16917,     0.17017,     0.17117,     0.17217,     0.17317,     0.17417,     0.17518,     0.17618,     0.17718,     0.17818,     0.17918,     0.18018,     0.18118,     0.18218,     0.18318,     0.18418,     0.18519,     0.18619,     0.18719,     0.18819,     0.18919,     0.19019,     0.19119,\n",
              "           0.19219,     0.19319,     0.19419,      0.1952,      0.1962,      0.1972,      0.1982,      0.1992,      0.2002,      0.2012,      0.2022,      0.2032,      0.2042,     0.20521,     0.20621,     0.20721,     0.20821,     0.20921,     0.21021,     0.21121,     0.21221,     0.21321,     0.21421,     0.21522,\n",
              "           0.21622,     0.21722,     0.21822,     0.21922,     0.22022,     0.22122,     0.22222,     0.22322,     0.22422,     0.22523,     0.22623,     0.22723,     0.22823,     0.22923,     0.23023,     0.23123,     0.23223,     0.23323,     0.23423,     0.23524,     0.23624,     0.23724,     0.23824,     0.23924,\n",
              "           0.24024,     0.24124,     0.24224,     0.24324,     0.24424,     0.24525,     0.24625,     0.24725,     0.24825,     0.24925,     0.25025,     0.25125,     0.25225,     0.25325,     0.25425,     0.25526,     0.25626,     0.25726,     0.25826,     0.25926,     0.26026,     0.26126,     0.26226,     0.26326,\n",
              "           0.26426,     0.26527,     0.26627,     0.26727,     0.26827,     0.26927,     0.27027,     0.27127,     0.27227,     0.27327,     0.27427,     0.27528,     0.27628,     0.27728,     0.27828,     0.27928,     0.28028,     0.28128,     0.28228,     0.28328,     0.28428,     0.28529,     0.28629,     0.28729,\n",
              "           0.28829,     0.28929,     0.29029,     0.29129,     0.29229,     0.29329,     0.29429,      0.2953,      0.2963,      0.2973,      0.2983,      0.2993,      0.3003,      0.3013,      0.3023,      0.3033,      0.3043,     0.30531,     0.30631,     0.30731,     0.30831,     0.30931,     0.31031,     0.31131,\n",
              "           0.31231,     0.31331,     0.31431,     0.31532,     0.31632,     0.31732,     0.31832,     0.31932,     0.32032,     0.32132,     0.32232,     0.32332,     0.32432,     0.32533,     0.32633,     0.32733,     0.32833,     0.32933,     0.33033,     0.33133,     0.33233,     0.33333,     0.33433,     0.33534,\n",
              "           0.33634,     0.33734,     0.33834,     0.33934,     0.34034,     0.34134,     0.34234,     0.34334,     0.34434,     0.34535,     0.34635,     0.34735,     0.34835,     0.34935,     0.35035,     0.35135,     0.35235,     0.35335,     0.35435,     0.35536,     0.35636,     0.35736,     0.35836,     0.35936,\n",
              "           0.36036,     0.36136,     0.36236,     0.36336,     0.36436,     0.36537,     0.36637,     0.36737,     0.36837,     0.36937,     0.37037,     0.37137,     0.37237,     0.37337,     0.37437,     0.37538,     0.37638,     0.37738,     0.37838,     0.37938,     0.38038,     0.38138,     0.38238,     0.38338,\n",
              "           0.38438,     0.38539,     0.38639,     0.38739,     0.38839,     0.38939,     0.39039,     0.39139,     0.39239,     0.39339,     0.39439,      0.3954,      0.3964,      0.3974,      0.3984,      0.3994,      0.4004,      0.4014,      0.4024,      0.4034,      0.4044,     0.40541,     0.40641,     0.40741,\n",
              "           0.40841,     0.40941,     0.41041,     0.41141,     0.41241,     0.41341,     0.41441,     0.41542,     0.41642,     0.41742,     0.41842,     0.41942,     0.42042,     0.42142,     0.42242,     0.42342,     0.42442,     0.42543,     0.42643,     0.42743,     0.42843,     0.42943,     0.43043,     0.43143,\n",
              "           0.43243,     0.43343,     0.43443,     0.43544,     0.43644,     0.43744,     0.43844,     0.43944,     0.44044,     0.44144,     0.44244,     0.44344,     0.44444,     0.44545,     0.44645,     0.44745,     0.44845,     0.44945,     0.45045,     0.45145,     0.45245,     0.45345,     0.45445,     0.45546,\n",
              "           0.45646,     0.45746,     0.45846,     0.45946,     0.46046,     0.46146,     0.46246,     0.46346,     0.46446,     0.46547,     0.46647,     0.46747,     0.46847,     0.46947,     0.47047,     0.47147,     0.47247,     0.47347,     0.47447,     0.47548,     0.47648,     0.47748,     0.47848,     0.47948,\n",
              "           0.48048,     0.48148,     0.48248,     0.48348,     0.48448,     0.48549,     0.48649,     0.48749,     0.48849,     0.48949,     0.49049,     0.49149,     0.49249,     0.49349,     0.49449,      0.4955,      0.4965,      0.4975,      0.4985,      0.4995,      0.5005,      0.5015,      0.5025,      0.5035,\n",
              "            0.5045,     0.50551,     0.50651,     0.50751,     0.50851,     0.50951,     0.51051,     0.51151,     0.51251,     0.51351,     0.51451,     0.51552,     0.51652,     0.51752,     0.51852,     0.51952,     0.52052,     0.52152,     0.52252,     0.52352,     0.52452,     0.52553,     0.52653,     0.52753,\n",
              "           0.52853,     0.52953,     0.53053,     0.53153,     0.53253,     0.53353,     0.53453,     0.53554,     0.53654,     0.53754,     0.53854,     0.53954,     0.54054,     0.54154,     0.54254,     0.54354,     0.54454,     0.54555,     0.54655,     0.54755,     0.54855,     0.54955,     0.55055,     0.55155,\n",
              "           0.55255,     0.55355,     0.55455,     0.55556,     0.55656,     0.55756,     0.55856,     0.55956,     0.56056,     0.56156,     0.56256,     0.56356,     0.56456,     0.56557,     0.56657,     0.56757,     0.56857,     0.56957,     0.57057,     0.57157,     0.57257,     0.57357,     0.57457,     0.57558,\n",
              "           0.57658,     0.57758,     0.57858,     0.57958,     0.58058,     0.58158,     0.58258,     0.58358,     0.58458,     0.58559,     0.58659,     0.58759,     0.58859,     0.58959,     0.59059,     0.59159,     0.59259,     0.59359,     0.59459,      0.5956,      0.5966,      0.5976,      0.5986,      0.5996,\n",
              "            0.6006,      0.6016,      0.6026,      0.6036,      0.6046,     0.60561,     0.60661,     0.60761,     0.60861,     0.60961,     0.61061,     0.61161,     0.61261,     0.61361,     0.61461,     0.61562,     0.61662,     0.61762,     0.61862,     0.61962,     0.62062,     0.62162,     0.62262,     0.62362,\n",
              "           0.62462,     0.62563,     0.62663,     0.62763,     0.62863,     0.62963,     0.63063,     0.63163,     0.63263,     0.63363,     0.63463,     0.63564,     0.63664,     0.63764,     0.63864,     0.63964,     0.64064,     0.64164,     0.64264,     0.64364,     0.64464,     0.64565,     0.64665,     0.64765,\n",
              "           0.64865,     0.64965,     0.65065,     0.65165,     0.65265,     0.65365,     0.65465,     0.65566,     0.65666,     0.65766,     0.65866,     0.65966,     0.66066,     0.66166,     0.66266,     0.66366,     0.66466,     0.66567,     0.66667,     0.66767,     0.66867,     0.66967,     0.67067,     0.67167,\n",
              "           0.67267,     0.67367,     0.67467,     0.67568,     0.67668,     0.67768,     0.67868,     0.67968,     0.68068,     0.68168,     0.68268,     0.68368,     0.68468,     0.68569,     0.68669,     0.68769,     0.68869,     0.68969,     0.69069,     0.69169,     0.69269,     0.69369,     0.69469,      0.6957,\n",
              "            0.6967,      0.6977,      0.6987,      0.6997,      0.7007,      0.7017,      0.7027,      0.7037,      0.7047,     0.70571,     0.70671,     0.70771,     0.70871,     0.70971,     0.71071,     0.71171,     0.71271,     0.71371,     0.71471,     0.71572,     0.71672,     0.71772,     0.71872,     0.71972,\n",
              "           0.72072,     0.72172,     0.72272,     0.72372,     0.72472,     0.72573,     0.72673,     0.72773,     0.72873,     0.72973,     0.73073,     0.73173,     0.73273,     0.73373,     0.73473,     0.73574,     0.73674,     0.73774,     0.73874,     0.73974,     0.74074,     0.74174,     0.74274,     0.74374,\n",
              "           0.74474,     0.74575,     0.74675,     0.74775,     0.74875,     0.74975,     0.75075,     0.75175,     0.75275,     0.75375,     0.75475,     0.75576,     0.75676,     0.75776,     0.75876,     0.75976,     0.76076,     0.76176,     0.76276,     0.76376,     0.76476,     0.76577,     0.76677,     0.76777,\n",
              "           0.76877,     0.76977,     0.77077,     0.77177,     0.77277,     0.77377,     0.77477,     0.77578,     0.77678,     0.77778,     0.77878,     0.77978,     0.78078,     0.78178,     0.78278,     0.78378,     0.78478,     0.78579,     0.78679,     0.78779,     0.78879,     0.78979,     0.79079,     0.79179,\n",
              "           0.79279,     0.79379,     0.79479,      0.7958,      0.7968,      0.7978,      0.7988,      0.7998,      0.8008,      0.8018,      0.8028,      0.8038,      0.8048,     0.80581,     0.80681,     0.80781,     0.80881,     0.80981,     0.81081,     0.81181,     0.81281,     0.81381,     0.81481,     0.81582,\n",
              "           0.81682,     0.81782,     0.81882,     0.81982,     0.82082,     0.82182,     0.82282,     0.82382,     0.82482,     0.82583,     0.82683,     0.82783,     0.82883,     0.82983,     0.83083,     0.83183,     0.83283,     0.83383,     0.83483,     0.83584,     0.83684,     0.83784,     0.83884,     0.83984,\n",
              "           0.84084,     0.84184,     0.84284,     0.84384,     0.84484,     0.84585,     0.84685,     0.84785,     0.84885,     0.84985,     0.85085,     0.85185,     0.85285,     0.85385,     0.85485,     0.85586,     0.85686,     0.85786,     0.85886,     0.85986,     0.86086,     0.86186,     0.86286,     0.86386,\n",
              "           0.86486,     0.86587,     0.86687,     0.86787,     0.86887,     0.86987,     0.87087,     0.87187,     0.87287,     0.87387,     0.87487,     0.87588,     0.87688,     0.87788,     0.87888,     0.87988,     0.88088,     0.88188,     0.88288,     0.88388,     0.88488,     0.88589,     0.88689,     0.88789,\n",
              "           0.88889,     0.88989,     0.89089,     0.89189,     0.89289,     0.89389,     0.89489,      0.8959,      0.8969,      0.8979,      0.8989,      0.8999,      0.9009,      0.9019,      0.9029,      0.9039,      0.9049,     0.90591,     0.90691,     0.90791,     0.90891,     0.90991,     0.91091,     0.91191,\n",
              "           0.91291,     0.91391,     0.91491,     0.91592,     0.91692,     0.91792,     0.91892,     0.91992,     0.92092,     0.92192,     0.92292,     0.92392,     0.92492,     0.92593,     0.92693,     0.92793,     0.92893,     0.92993,     0.93093,     0.93193,     0.93293,     0.93393,     0.93493,     0.93594,\n",
              "           0.93694,     0.93794,     0.93894,     0.93994,     0.94094,     0.94194,     0.94294,     0.94394,     0.94494,     0.94595,     0.94695,     0.94795,     0.94895,     0.94995,     0.95095,     0.95195,     0.95295,     0.95395,     0.95495,     0.95596,     0.95696,     0.95796,     0.95896,     0.95996,\n",
              "           0.96096,     0.96196,     0.96296,     0.96396,     0.96496,     0.96597,     0.96697,     0.96797,     0.96897,     0.96997,     0.97097,     0.97197,     0.97297,     0.97397,     0.97497,     0.97598,     0.97698,     0.97798,     0.97898,     0.97998,     0.98098,     0.98198,     0.98298,     0.98398,\n",
              "           0.98498,     0.98599,     0.98699,     0.98799,     0.98899,     0.98999,     0.99099,     0.99199,     0.99299,     0.99399,     0.99499,       0.996,       0.997,       0.998,       0.999,           1]), array([[      0.025,       0.025,    0.042714, ...,           1,           1,           1],\n",
              "       [   0.058824,    0.058824,     0.10913, ...,           1,           1,           1],\n",
              "       [    0.03125,     0.03125,    0.081618, ...,           1,           1,           1],\n",
              "       ...,\n",
              "       [       0.04,        0.04,    0.090356, ...,           1,           1,           1],\n",
              "       [   0.056818,    0.056818,     0.14651, ...,           1,           1,           1],\n",
              "       [   0.017094,    0.017094,    0.043548, ...,           1,           1,           1]]), 'Confidence', 'Precision'], [array([          0,    0.001001,    0.002002,    0.003003,    0.004004,    0.005005,    0.006006,    0.007007,    0.008008,    0.009009,     0.01001,    0.011011,    0.012012,    0.013013,    0.014014,    0.015015,    0.016016,    0.017017,    0.018018,    0.019019,     0.02002,    0.021021,    0.022022,    0.023023,\n",
              "          0.024024,    0.025025,    0.026026,    0.027027,    0.028028,    0.029029,     0.03003,    0.031031,    0.032032,    0.033033,    0.034034,    0.035035,    0.036036,    0.037037,    0.038038,    0.039039,     0.04004,    0.041041,    0.042042,    0.043043,    0.044044,    0.045045,    0.046046,    0.047047,\n",
              "          0.048048,    0.049049,     0.05005,    0.051051,    0.052052,    0.053053,    0.054054,    0.055055,    0.056056,    0.057057,    0.058058,    0.059059,     0.06006,    0.061061,    0.062062,    0.063063,    0.064064,    0.065065,    0.066066,    0.067067,    0.068068,    0.069069,     0.07007,    0.071071,\n",
              "          0.072072,    0.073073,    0.074074,    0.075075,    0.076076,    0.077077,    0.078078,    0.079079,     0.08008,    0.081081,    0.082082,    0.083083,    0.084084,    0.085085,    0.086086,    0.087087,    0.088088,    0.089089,     0.09009,    0.091091,    0.092092,    0.093093,    0.094094,    0.095095,\n",
              "          0.096096,    0.097097,    0.098098,    0.099099,      0.1001,      0.1011,      0.1021,      0.1031,      0.1041,     0.10511,     0.10611,     0.10711,     0.10811,     0.10911,     0.11011,     0.11111,     0.11211,     0.11311,     0.11411,     0.11512,     0.11612,     0.11712,     0.11812,     0.11912,\n",
              "           0.12012,     0.12112,     0.12212,     0.12312,     0.12412,     0.12513,     0.12613,     0.12713,     0.12813,     0.12913,     0.13013,     0.13113,     0.13213,     0.13313,     0.13413,     0.13514,     0.13614,     0.13714,     0.13814,     0.13914,     0.14014,     0.14114,     0.14214,     0.14314,\n",
              "           0.14414,     0.14515,     0.14615,     0.14715,     0.14815,     0.14915,     0.15015,     0.15115,     0.15215,     0.15315,     0.15415,     0.15516,     0.15616,     0.15716,     0.15816,     0.15916,     0.16016,     0.16116,     0.16216,     0.16316,     0.16416,     0.16517,     0.16617,     0.16717,\n",
              "           0.16817,     0.16917,     0.17017,     0.17117,     0.17217,     0.17317,     0.17417,     0.17518,     0.17618,     0.17718,     0.17818,     0.17918,     0.18018,     0.18118,     0.18218,     0.18318,     0.18418,     0.18519,     0.18619,     0.18719,     0.18819,     0.18919,     0.19019,     0.19119,\n",
              "           0.19219,     0.19319,     0.19419,      0.1952,      0.1962,      0.1972,      0.1982,      0.1992,      0.2002,      0.2012,      0.2022,      0.2032,      0.2042,     0.20521,     0.20621,     0.20721,     0.20821,     0.20921,     0.21021,     0.21121,     0.21221,     0.21321,     0.21421,     0.21522,\n",
              "           0.21622,     0.21722,     0.21822,     0.21922,     0.22022,     0.22122,     0.22222,     0.22322,     0.22422,     0.22523,     0.22623,     0.22723,     0.22823,     0.22923,     0.23023,     0.23123,     0.23223,     0.23323,     0.23423,     0.23524,     0.23624,     0.23724,     0.23824,     0.23924,\n",
              "           0.24024,     0.24124,     0.24224,     0.24324,     0.24424,     0.24525,     0.24625,     0.24725,     0.24825,     0.24925,     0.25025,     0.25125,     0.25225,     0.25325,     0.25425,     0.25526,     0.25626,     0.25726,     0.25826,     0.25926,     0.26026,     0.26126,     0.26226,     0.26326,\n",
              "           0.26426,     0.26527,     0.26627,     0.26727,     0.26827,     0.26927,     0.27027,     0.27127,     0.27227,     0.27327,     0.27427,     0.27528,     0.27628,     0.27728,     0.27828,     0.27928,     0.28028,     0.28128,     0.28228,     0.28328,     0.28428,     0.28529,     0.28629,     0.28729,\n",
              "           0.28829,     0.28929,     0.29029,     0.29129,     0.29229,     0.29329,     0.29429,      0.2953,      0.2963,      0.2973,      0.2983,      0.2993,      0.3003,      0.3013,      0.3023,      0.3033,      0.3043,     0.30531,     0.30631,     0.30731,     0.30831,     0.30931,     0.31031,     0.31131,\n",
              "           0.31231,     0.31331,     0.31431,     0.31532,     0.31632,     0.31732,     0.31832,     0.31932,     0.32032,     0.32132,     0.32232,     0.32332,     0.32432,     0.32533,     0.32633,     0.32733,     0.32833,     0.32933,     0.33033,     0.33133,     0.33233,     0.33333,     0.33433,     0.33534,\n",
              "           0.33634,     0.33734,     0.33834,     0.33934,     0.34034,     0.34134,     0.34234,     0.34334,     0.34434,     0.34535,     0.34635,     0.34735,     0.34835,     0.34935,     0.35035,     0.35135,     0.35235,     0.35335,     0.35435,     0.35536,     0.35636,     0.35736,     0.35836,     0.35936,\n",
              "           0.36036,     0.36136,     0.36236,     0.36336,     0.36436,     0.36537,     0.36637,     0.36737,     0.36837,     0.36937,     0.37037,     0.37137,     0.37237,     0.37337,     0.37437,     0.37538,     0.37638,     0.37738,     0.37838,     0.37938,     0.38038,     0.38138,     0.38238,     0.38338,\n",
              "           0.38438,     0.38539,     0.38639,     0.38739,     0.38839,     0.38939,     0.39039,     0.39139,     0.39239,     0.39339,     0.39439,      0.3954,      0.3964,      0.3974,      0.3984,      0.3994,      0.4004,      0.4014,      0.4024,      0.4034,      0.4044,     0.40541,     0.40641,     0.40741,\n",
              "           0.40841,     0.40941,     0.41041,     0.41141,     0.41241,     0.41341,     0.41441,     0.41542,     0.41642,     0.41742,     0.41842,     0.41942,     0.42042,     0.42142,     0.42242,     0.42342,     0.42442,     0.42543,     0.42643,     0.42743,     0.42843,     0.42943,     0.43043,     0.43143,\n",
              "           0.43243,     0.43343,     0.43443,     0.43544,     0.43644,     0.43744,     0.43844,     0.43944,     0.44044,     0.44144,     0.44244,     0.44344,     0.44444,     0.44545,     0.44645,     0.44745,     0.44845,     0.44945,     0.45045,     0.45145,     0.45245,     0.45345,     0.45445,     0.45546,\n",
              "           0.45646,     0.45746,     0.45846,     0.45946,     0.46046,     0.46146,     0.46246,     0.46346,     0.46446,     0.46547,     0.46647,     0.46747,     0.46847,     0.46947,     0.47047,     0.47147,     0.47247,     0.47347,     0.47447,     0.47548,     0.47648,     0.47748,     0.47848,     0.47948,\n",
              "           0.48048,     0.48148,     0.48248,     0.48348,     0.48448,     0.48549,     0.48649,     0.48749,     0.48849,     0.48949,     0.49049,     0.49149,     0.49249,     0.49349,     0.49449,      0.4955,      0.4965,      0.4975,      0.4985,      0.4995,      0.5005,      0.5015,      0.5025,      0.5035,\n",
              "            0.5045,     0.50551,     0.50651,     0.50751,     0.50851,     0.50951,     0.51051,     0.51151,     0.51251,     0.51351,     0.51451,     0.51552,     0.51652,     0.51752,     0.51852,     0.51952,     0.52052,     0.52152,     0.52252,     0.52352,     0.52452,     0.52553,     0.52653,     0.52753,\n",
              "           0.52853,     0.52953,     0.53053,     0.53153,     0.53253,     0.53353,     0.53453,     0.53554,     0.53654,     0.53754,     0.53854,     0.53954,     0.54054,     0.54154,     0.54254,     0.54354,     0.54454,     0.54555,     0.54655,     0.54755,     0.54855,     0.54955,     0.55055,     0.55155,\n",
              "           0.55255,     0.55355,     0.55455,     0.55556,     0.55656,     0.55756,     0.55856,     0.55956,     0.56056,     0.56156,     0.56256,     0.56356,     0.56456,     0.56557,     0.56657,     0.56757,     0.56857,     0.56957,     0.57057,     0.57157,     0.57257,     0.57357,     0.57457,     0.57558,\n",
              "           0.57658,     0.57758,     0.57858,     0.57958,     0.58058,     0.58158,     0.58258,     0.58358,     0.58458,     0.58559,     0.58659,     0.58759,     0.58859,     0.58959,     0.59059,     0.59159,     0.59259,     0.59359,     0.59459,      0.5956,      0.5966,      0.5976,      0.5986,      0.5996,\n",
              "            0.6006,      0.6016,      0.6026,      0.6036,      0.6046,     0.60561,     0.60661,     0.60761,     0.60861,     0.60961,     0.61061,     0.61161,     0.61261,     0.61361,     0.61461,     0.61562,     0.61662,     0.61762,     0.61862,     0.61962,     0.62062,     0.62162,     0.62262,     0.62362,\n",
              "           0.62462,     0.62563,     0.62663,     0.62763,     0.62863,     0.62963,     0.63063,     0.63163,     0.63263,     0.63363,     0.63463,     0.63564,     0.63664,     0.63764,     0.63864,     0.63964,     0.64064,     0.64164,     0.64264,     0.64364,     0.64464,     0.64565,     0.64665,     0.64765,\n",
              "           0.64865,     0.64965,     0.65065,     0.65165,     0.65265,     0.65365,     0.65465,     0.65566,     0.65666,     0.65766,     0.65866,     0.65966,     0.66066,     0.66166,     0.66266,     0.66366,     0.66466,     0.66567,     0.66667,     0.66767,     0.66867,     0.66967,     0.67067,     0.67167,\n",
              "           0.67267,     0.67367,     0.67467,     0.67568,     0.67668,     0.67768,     0.67868,     0.67968,     0.68068,     0.68168,     0.68268,     0.68368,     0.68468,     0.68569,     0.68669,     0.68769,     0.68869,     0.68969,     0.69069,     0.69169,     0.69269,     0.69369,     0.69469,      0.6957,\n",
              "            0.6967,      0.6977,      0.6987,      0.6997,      0.7007,      0.7017,      0.7027,      0.7037,      0.7047,     0.70571,     0.70671,     0.70771,     0.70871,     0.70971,     0.71071,     0.71171,     0.71271,     0.71371,     0.71471,     0.71572,     0.71672,     0.71772,     0.71872,     0.71972,\n",
              "           0.72072,     0.72172,     0.72272,     0.72372,     0.72472,     0.72573,     0.72673,     0.72773,     0.72873,     0.72973,     0.73073,     0.73173,     0.73273,     0.73373,     0.73473,     0.73574,     0.73674,     0.73774,     0.73874,     0.73974,     0.74074,     0.74174,     0.74274,     0.74374,\n",
              "           0.74474,     0.74575,     0.74675,     0.74775,     0.74875,     0.74975,     0.75075,     0.75175,     0.75275,     0.75375,     0.75475,     0.75576,     0.75676,     0.75776,     0.75876,     0.75976,     0.76076,     0.76176,     0.76276,     0.76376,     0.76476,     0.76577,     0.76677,     0.76777,\n",
              "           0.76877,     0.76977,     0.77077,     0.77177,     0.77277,     0.77377,     0.77477,     0.77578,     0.77678,     0.77778,     0.77878,     0.77978,     0.78078,     0.78178,     0.78278,     0.78378,     0.78478,     0.78579,     0.78679,     0.78779,     0.78879,     0.78979,     0.79079,     0.79179,\n",
              "           0.79279,     0.79379,     0.79479,      0.7958,      0.7968,      0.7978,      0.7988,      0.7998,      0.8008,      0.8018,      0.8028,      0.8038,      0.8048,     0.80581,     0.80681,     0.80781,     0.80881,     0.80981,     0.81081,     0.81181,     0.81281,     0.81381,     0.81481,     0.81582,\n",
              "           0.81682,     0.81782,     0.81882,     0.81982,     0.82082,     0.82182,     0.82282,     0.82382,     0.82482,     0.82583,     0.82683,     0.82783,     0.82883,     0.82983,     0.83083,     0.83183,     0.83283,     0.83383,     0.83483,     0.83584,     0.83684,     0.83784,     0.83884,     0.83984,\n",
              "           0.84084,     0.84184,     0.84284,     0.84384,     0.84484,     0.84585,     0.84685,     0.84785,     0.84885,     0.84985,     0.85085,     0.85185,     0.85285,     0.85385,     0.85485,     0.85586,     0.85686,     0.85786,     0.85886,     0.85986,     0.86086,     0.86186,     0.86286,     0.86386,\n",
              "           0.86486,     0.86587,     0.86687,     0.86787,     0.86887,     0.86987,     0.87087,     0.87187,     0.87287,     0.87387,     0.87487,     0.87588,     0.87688,     0.87788,     0.87888,     0.87988,     0.88088,     0.88188,     0.88288,     0.88388,     0.88488,     0.88589,     0.88689,     0.88789,\n",
              "           0.88889,     0.88989,     0.89089,     0.89189,     0.89289,     0.89389,     0.89489,      0.8959,      0.8969,      0.8979,      0.8989,      0.8999,      0.9009,      0.9019,      0.9029,      0.9039,      0.9049,     0.90591,     0.90691,     0.90791,     0.90891,     0.90991,     0.91091,     0.91191,\n",
              "           0.91291,     0.91391,     0.91491,     0.91592,     0.91692,     0.91792,     0.91892,     0.91992,     0.92092,     0.92192,     0.92292,     0.92392,     0.92492,     0.92593,     0.92693,     0.92793,     0.92893,     0.92993,     0.93093,     0.93193,     0.93293,     0.93393,     0.93493,     0.93594,\n",
              "           0.93694,     0.93794,     0.93894,     0.93994,     0.94094,     0.94194,     0.94294,     0.94394,     0.94494,     0.94595,     0.94695,     0.94795,     0.94895,     0.94995,     0.95095,     0.95195,     0.95295,     0.95395,     0.95495,     0.95596,     0.95696,     0.95796,     0.95896,     0.95996,\n",
              "           0.96096,     0.96196,     0.96296,     0.96396,     0.96496,     0.96597,     0.96697,     0.96797,     0.96897,     0.96997,     0.97097,     0.97197,     0.97297,     0.97397,     0.97497,     0.97598,     0.97698,     0.97798,     0.97898,     0.97998,     0.98098,     0.98198,     0.98298,     0.98398,\n",
              "           0.98498,     0.98599,     0.98699,     0.98799,     0.98899,     0.98999,     0.99099,     0.99199,     0.99299,     0.99399,     0.99499,       0.996,       0.997,       0.998,       0.999,           1]), array([[          1,           1,           1, ...,           0,           0,           0],\n",
              "       [          1,           1,           1, ...,           0,           0,           0],\n",
              "       [          1,           1,           1, ...,           0,           0,           0],\n",
              "       ...,\n",
              "       [          1,           1,           1, ...,           0,           0,           0],\n",
              "       [          1,           1,           1, ...,           0,           0,           0],\n",
              "       [          1,           1,           1, ...,           0,           0,           0]]), 'Confidence', 'Recall']]\n",
              "fitness: np.float64(1.09986337469158)\n",
              "keys: ['metrics/precision(B)', 'metrics/recall(B)', 'metrics/mAP50(B)', 'metrics/mAP50-95(B)', 'metrics/precision(M)', 'metrics/recall(M)', 'metrics/mAP50(M)', 'metrics/mAP50-95(M)']\n",
              "maps: array([     1.0304,      1.0304,     0.62831,       1.594,     0.92369,       0.398,      1.0304,      1.2935,     0.10801,       1.194,       1.393,      1.8905,      1.0875,     0.82414])\n",
              "names: {0: 'HBL_bank', 1: 'Main_gate', 2: 'auditorium', 3: 'central_library', 4: 'clock_tower', 5: 'faculty_of_Basics_Science', 6: 'faculty_of_electrical_and_computer_science', 7: 'faculty_of_material_and_chemical_eng', 8: 'faculty_of_mechanical_eng', 9: 'hostel_11', 10: 'hostel_12', 11: 'laundry_shop', 12: 'new_academic_block', 13: 'tuck'}\n",
              "nt_per_class: array([0, 0, 1, 2, 1, 1, 0, 1, 3, 1, 1, 1, 5, 4])\n",
              "nt_per_image: array([0, 0, 1, 2, 1, 1, 0, 1, 3, 1, 1, 1, 5, 4])\n",
              "results_dict: {'metrics/precision(B)': np.float64(0.655557208520899), 'metrics/recall(B)': np.float64(0.8484848484848484), 'metrics/mAP50(B)': np.float64(0.8623964393939395), 'metrics/mAP50-95(B)': np.float64(0.5142002580217224), 'metrics/precision(M)': np.float64(0.655557208520899), 'metrics/recall(M)': np.float64(0.8484848484848484), 'metrics/mAP50(M)': np.float64(0.8623964393939395), 'metrics/mAP50-95(M)': np.float64(0.516226505103602), 'fitness': np.float64(1.09986337469158)}\n",
              "save_dir: PosixPath('runs/segment/train')\n",
              "seg: ultralytics.utils.metrics.Metric object\n",
              "speed: {'preprocess': 0.16022156521854491, 'inference': 5.870737695649159, 'loss': 0.002317086949440873, 'postprocess': 4.065972173906551}\n",
              "stats: {'tp': [], 'conf': [], 'pred_cls': [], 'target_cls': [], 'target_img': [], 'tp_m': []}\n",
              "task: 'segment'"
            ]
          },
          "metadata": {},
          "execution_count": 19
        }
      ]
    },
    {
      "cell_type": "code",
      "source": [
        "results = model_seg.predict(\n",
        "    source=\"/content/dataset/test/images\",\n",
        "    conf=0.5,\n",
        "    save=True\n",
        ")\n",
        "print(\"Segmentation results saved in:\", results[0].save_dir)\n"
      ],
      "metadata": {
        "colab": {
          "base_uri": "https://localhost:8080/"
        },
        "id": "KM-T_27LJnZP",
        "outputId": "17b1f28d-ddf9-4243-e761-71a3faedc79c"
      },
      "execution_count": 20,
      "outputs": [
        {
          "output_type": "stream",
          "name": "stdout",
          "text": [
            "\n",
            "image 1/12 /content/dataset/test/images/WhatsApp-Video-2025-08-10-at-11_21_09-AM_mp4-0009_jpg.rf.5efbb3049389028949d530b890821f55.jpg: 384x640 1 new_academic_block, 37.1ms\n",
            "image 2/12 /content/dataset/test/images/WhatsApp-Video-2025-08-10-at-11_21_09-AM_mp4-0050_jpg.rf.a7ae006722ec3e82ee89fcdcad67eed9.jpg: 384x640 1 tuck, 16.2ms\n",
            "image 3/12 /content/dataset/test/images/WhatsApp-Video-2025-08-10-at-11_21_09-AM_mp4-0060_jpg.rf.a97265383005fd6acd5b960dc022ea92.jpg: 384x640 1 tuck, 15.7ms\n",
            "image 4/12 /content/dataset/test/images/WhatsApp-Video-2025-08-10-at-11_21_09-AM_mp4-0068_jpg.rf.7c895574a19203373a20e36da8355ab0.jpg: 384x640 1 HBL_bank, 41.8ms\n",
            "image 5/12 /content/dataset/test/images/WhatsApp-Video-2025-08-10-at-11_21_09-AM_mp4-0072_jpg.rf.29598ea8e06c4717aee1fa88bf3e336c.jpg: 384x640 2 faculty_of_mechanical_engs, 48.7ms\n",
            "image 6/12 /content/dataset/test/images/WhatsApp-Video-2025-08-10-at-11_21_09-AM_mp4-0074_jpg.rf.02a804953bdc66afb528222718984982.jpg: 384x640 2 faculty_of_mechanical_engs, 64.9ms\n",
            "image 7/12 /content/dataset/test/images/WhatsApp-Video-2025-08-10-at-11_21_09-AM_mp4-0080_jpg.rf.6f2c1c8983c75daa4a7bd8badb322842.jpg: 384x640 (no detections), 13.8ms\n",
            "image 8/12 /content/dataset/test/images/WhatsApp-Video-2025-08-10-at-11_21_09-AM_mp4-0088_jpg.rf.e6d6b88cda4b29296ed1c8090a54988c.jpg: 384x640 (no detections), 13.8ms\n",
            "image 9/12 /content/dataset/test/images/WhatsApp-Video-2025-08-10-at-11_21_09-AM_mp4-0097_jpg.rf.03afd488e10cabb96e9bdaa49314d514.jpg: 384x640 (no detections), 13.8ms\n",
            "image 10/12 /content/dataset/test/images/WhatsApp-Video-2025-08-10-at-11_21_09-AM_mp4-0098_jpg.rf.cf27e4ff1b1854b2a9432e5ab4879d83.jpg: 384x640 (no detections), 13.8ms\n",
            "image 11/12 /content/dataset/test/images/WhatsApp-Video-2025-08-10-at-11_21_09-AM_mp4-0102_jpg.rf.4043d0f487dc9eb794bd7abcbf3c371c.jpg: 384x640 (no detections), 13.8ms\n",
            "image 12/12 /content/dataset/test/images/WhatsApp-Video-2025-08-10-at-11_21_09-AM_mp4-0108_jpg.rf.0889a13eac8520c5319632cab690376d.jpg: 384x640 1 hostel_11, 13.6ms\n",
            "Speed: 2.8ms preprocess, 25.6ms inference, 4.0ms postprocess per image at shape (1, 3, 384, 640)\n",
            "Results saved to \u001b[1mruns/segment/train2\u001b[0m\n",
            "Segmentation results saved in: runs/segment/train2\n"
          ]
        }
      ]
    },
    {
      "cell_type": "code",
      "source": [
        "from google.colab import files\n",
        "\n",
        "uploaded_video = files.upload()\n",
        "video_path = list(uploaded_video.keys())[0]\n"
      ],
      "metadata": {
        "colab": {
          "base_uri": "https://localhost:8080/",
          "height": 73
        },
        "id": "Ba0b_M-0LfXI",
        "outputId": "dc9fb7c5-940f-496a-f25a-bbef21fd36a8"
      },
      "execution_count": 22,
      "outputs": [
        {
          "output_type": "display_data",
          "data": {
            "text/plain": [
              "<IPython.core.display.HTML object>"
            ],
            "text/html": [
              "\n",
              "     <input type=\"file\" id=\"files-fe630bf0-7a14-40f6-a180-781389fee526\" name=\"files[]\" multiple disabled\n",
              "        style=\"border:none\" />\n",
              "     <output id=\"result-fe630bf0-7a14-40f6-a180-781389fee526\">\n",
              "      Upload widget is only available when the cell has been executed in the\n",
              "      current browser session. Please rerun this cell to enable.\n",
              "      </output>\n",
              "      <script>// Copyright 2017 Google LLC\n",
              "//\n",
              "// Licensed under the Apache License, Version 2.0 (the \"License\");\n",
              "// you may not use this file except in compliance with the License.\n",
              "// You may obtain a copy of the License at\n",
              "//\n",
              "//      http://www.apache.org/licenses/LICENSE-2.0\n",
              "//\n",
              "// Unless required by applicable law or agreed to in writing, software\n",
              "// distributed under the License is distributed on an \"AS IS\" BASIS,\n",
              "// WITHOUT WARRANTIES OR CONDITIONS OF ANY KIND, either express or implied.\n",
              "// See the License for the specific language governing permissions and\n",
              "// limitations under the License.\n",
              "\n",
              "/**\n",
              " * @fileoverview Helpers for google.colab Python module.\n",
              " */\n",
              "(function(scope) {\n",
              "function span(text, styleAttributes = {}) {\n",
              "  const element = document.createElement('span');\n",
              "  element.textContent = text;\n",
              "  for (const key of Object.keys(styleAttributes)) {\n",
              "    element.style[key] = styleAttributes[key];\n",
              "  }\n",
              "  return element;\n",
              "}\n",
              "\n",
              "// Max number of bytes which will be uploaded at a time.\n",
              "const MAX_PAYLOAD_SIZE = 100 * 1024;\n",
              "\n",
              "function _uploadFiles(inputId, outputId) {\n",
              "  const steps = uploadFilesStep(inputId, outputId);\n",
              "  const outputElement = document.getElementById(outputId);\n",
              "  // Cache steps on the outputElement to make it available for the next call\n",
              "  // to uploadFilesContinue from Python.\n",
              "  outputElement.steps = steps;\n",
              "\n",
              "  return _uploadFilesContinue(outputId);\n",
              "}\n",
              "\n",
              "// This is roughly an async generator (not supported in the browser yet),\n",
              "// where there are multiple asynchronous steps and the Python side is going\n",
              "// to poll for completion of each step.\n",
              "// This uses a Promise to block the python side on completion of each step,\n",
              "// then passes the result of the previous step as the input to the next step.\n",
              "function _uploadFilesContinue(outputId) {\n",
              "  const outputElement = document.getElementById(outputId);\n",
              "  const steps = outputElement.steps;\n",
              "\n",
              "  const next = steps.next(outputElement.lastPromiseValue);\n",
              "  return Promise.resolve(next.value.promise).then((value) => {\n",
              "    // Cache the last promise value to make it available to the next\n",
              "    // step of the generator.\n",
              "    outputElement.lastPromiseValue = value;\n",
              "    return next.value.response;\n",
              "  });\n",
              "}\n",
              "\n",
              "/**\n",
              " * Generator function which is called between each async step of the upload\n",
              " * process.\n",
              " * @param {string} inputId Element ID of the input file picker element.\n",
              " * @param {string} outputId Element ID of the output display.\n",
              " * @return {!Iterable<!Object>} Iterable of next steps.\n",
              " */\n",
              "function* uploadFilesStep(inputId, outputId) {\n",
              "  const inputElement = document.getElementById(inputId);\n",
              "  inputElement.disabled = false;\n",
              "\n",
              "  const outputElement = document.getElementById(outputId);\n",
              "  outputElement.innerHTML = '';\n",
              "\n",
              "  const pickedPromise = new Promise((resolve) => {\n",
              "    inputElement.addEventListener('change', (e) => {\n",
              "      resolve(e.target.files);\n",
              "    });\n",
              "  });\n",
              "\n",
              "  const cancel = document.createElement('button');\n",
              "  inputElement.parentElement.appendChild(cancel);\n",
              "  cancel.textContent = 'Cancel upload';\n",
              "  const cancelPromise = new Promise((resolve) => {\n",
              "    cancel.onclick = () => {\n",
              "      resolve(null);\n",
              "    };\n",
              "  });\n",
              "\n",
              "  // Wait for the user to pick the files.\n",
              "  const files = yield {\n",
              "    promise: Promise.race([pickedPromise, cancelPromise]),\n",
              "    response: {\n",
              "      action: 'starting',\n",
              "    }\n",
              "  };\n",
              "\n",
              "  cancel.remove();\n",
              "\n",
              "  // Disable the input element since further picks are not allowed.\n",
              "  inputElement.disabled = true;\n",
              "\n",
              "  if (!files) {\n",
              "    return {\n",
              "      response: {\n",
              "        action: 'complete',\n",
              "      }\n",
              "    };\n",
              "  }\n",
              "\n",
              "  for (const file of files) {\n",
              "    const li = document.createElement('li');\n",
              "    li.append(span(file.name, {fontWeight: 'bold'}));\n",
              "    li.append(span(\n",
              "        `(${file.type || 'n/a'}) - ${file.size} bytes, ` +\n",
              "        `last modified: ${\n",
              "            file.lastModifiedDate ? file.lastModifiedDate.toLocaleDateString() :\n",
              "                                    'n/a'} - `));\n",
              "    const percent = span('0% done');\n",
              "    li.appendChild(percent);\n",
              "\n",
              "    outputElement.appendChild(li);\n",
              "\n",
              "    const fileDataPromise = new Promise((resolve) => {\n",
              "      const reader = new FileReader();\n",
              "      reader.onload = (e) => {\n",
              "        resolve(e.target.result);\n",
              "      };\n",
              "      reader.readAsArrayBuffer(file);\n",
              "    });\n",
              "    // Wait for the data to be ready.\n",
              "    let fileData = yield {\n",
              "      promise: fileDataPromise,\n",
              "      response: {\n",
              "        action: 'continue',\n",
              "      }\n",
              "    };\n",
              "\n",
              "    // Use a chunked sending to avoid message size limits. See b/62115660.\n",
              "    let position = 0;\n",
              "    do {\n",
              "      const length = Math.min(fileData.byteLength - position, MAX_PAYLOAD_SIZE);\n",
              "      const chunk = new Uint8Array(fileData, position, length);\n",
              "      position += length;\n",
              "\n",
              "      const base64 = btoa(String.fromCharCode.apply(null, chunk));\n",
              "      yield {\n",
              "        response: {\n",
              "          action: 'append',\n",
              "          file: file.name,\n",
              "          data: base64,\n",
              "        },\n",
              "      };\n",
              "\n",
              "      let percentDone = fileData.byteLength === 0 ?\n",
              "          100 :\n",
              "          Math.round((position / fileData.byteLength) * 100);\n",
              "      percent.textContent = `${percentDone}% done`;\n",
              "\n",
              "    } while (position < fileData.byteLength);\n",
              "  }\n",
              "\n",
              "  // All done.\n",
              "  yield {\n",
              "    response: {\n",
              "      action: 'complete',\n",
              "    }\n",
              "  };\n",
              "}\n",
              "\n",
              "scope.google = scope.google || {};\n",
              "scope.google.colab = scope.google.colab || {};\n",
              "scope.google.colab._files = {\n",
              "  _uploadFiles,\n",
              "  _uploadFilesContinue,\n",
              "};\n",
              "})(self);\n",
              "</script> "
            ]
          },
          "metadata": {}
        },
        {
          "output_type": "stream",
          "name": "stdout",
          "text": [
            "Saving ttt.mp4 to ttt.mp4\n"
          ]
        }
      ]
    },
    {
      "cell_type": "code",
      "source": [
        "results = model_seg.predict(\n",
        "    source=video_path,\n",
        "    conf=0.5,\n",
        "    save=True\n",
        ")\n",
        "\n",
        "print(\"✅ Video segmentation results saved in:\", results[0].save_dir)\n"
      ],
      "metadata": {
        "colab": {
          "base_uri": "https://localhost:8080/"
        },
        "collapsed": true,
        "id": "oT9igyKnLgI6",
        "outputId": "3e91ed57-8500-445c-acd5-9f69770d7c53"
      },
      "execution_count": 23,
      "outputs": [
        {
          "output_type": "stream",
          "name": "stdout",
          "text": [
            "\n",
            "WARNING ⚠️ \n",
            "inference results will accumulate in RAM unless `stream=True` is passed, causing potential out-of-memory\n",
            "errors for large sources or long-running streams and videos. See https://docs.ultralytics.com/modes/predict/ for help.\n",
            "\n",
            "Example:\n",
            "    results = model(source=..., stream=True)  # generator of Results objects\n",
            "    for r in results:\n",
            "        boxes = r.boxes  # Boxes object for bbox outputs\n",
            "        masks = r.masks  # Masks object for segment masks outputs\n",
            "        probs = r.probs  # Class probabilities for classification outputs\n",
            "\n",
            "video 1/1 (frame 1/1546) /content/ttt.mp4: 384x640 1 new_academic_block, 13.9ms\n",
            "video 1/1 (frame 2/1546) /content/ttt.mp4: 384x640 1 new_academic_block, 13.8ms\n",
            "video 1/1 (frame 3/1546) /content/ttt.mp4: 384x640 1 new_academic_block, 14.7ms\n",
            "video 1/1 (frame 4/1546) /content/ttt.mp4: 384x640 1 new_academic_block, 21.6ms\n",
            "video 1/1 (frame 5/1546) /content/ttt.mp4: 384x640 1 new_academic_block, 14.9ms\n",
            "video 1/1 (frame 6/1546) /content/ttt.mp4: 384x640 1 new_academic_block, 15.0ms\n",
            "video 1/1 (frame 7/1546) /content/ttt.mp4: 384x640 1 new_academic_block, 19.8ms\n",
            "video 1/1 (frame 8/1546) /content/ttt.mp4: 384x640 1 new_academic_block, 14.9ms\n",
            "video 1/1 (frame 9/1546) /content/ttt.mp4: 384x640 1 new_academic_block, 17.6ms\n",
            "video 1/1 (frame 10/1546) /content/ttt.mp4: 384x640 1 new_academic_block, 14.3ms\n",
            "video 1/1 (frame 11/1546) /content/ttt.mp4: 384x640 1 new_academic_block, 24.7ms\n",
            "video 1/1 (frame 12/1546) /content/ttt.mp4: 384x640 1 new_academic_block, 18.2ms\n",
            "video 1/1 (frame 13/1546) /content/ttt.mp4: 384x640 1 new_academic_block, 15.6ms\n",
            "video 1/1 (frame 14/1546) /content/ttt.mp4: 384x640 1 new_academic_block, 19.6ms\n",
            "video 1/1 (frame 15/1546) /content/ttt.mp4: 384x640 1 new_academic_block, 13.8ms\n",
            "video 1/1 (frame 16/1546) /content/ttt.mp4: 384x640 1 new_academic_block, 14.2ms\n",
            "video 1/1 (frame 17/1546) /content/ttt.mp4: 384x640 1 new_academic_block, 16.8ms\n",
            "video 1/1 (frame 18/1546) /content/ttt.mp4: 384x640 1 new_academic_block, 14.1ms\n",
            "video 1/1 (frame 19/1546) /content/ttt.mp4: 384x640 1 new_academic_block, 13.8ms\n",
            "video 1/1 (frame 20/1546) /content/ttt.mp4: 384x640 1 new_academic_block, 13.8ms\n",
            "video 1/1 (frame 21/1546) /content/ttt.mp4: 384x640 1 new_academic_block, 13.9ms\n",
            "video 1/1 (frame 22/1546) /content/ttt.mp4: 384x640 1 new_academic_block, 13.9ms\n",
            "video 1/1 (frame 23/1546) /content/ttt.mp4: 384x640 1 new_academic_block, 13.8ms\n",
            "video 1/1 (frame 24/1546) /content/ttt.mp4: 384x640 1 new_academic_block, 13.8ms\n",
            "video 1/1 (frame 25/1546) /content/ttt.mp4: 384x640 1 new_academic_block, 13.9ms\n",
            "video 1/1 (frame 26/1546) /content/ttt.mp4: 384x640 1 new_academic_block, 13.8ms\n",
            "video 1/1 (frame 27/1546) /content/ttt.mp4: 384x640 1 new_academic_block, 13.8ms\n",
            "video 1/1 (frame 28/1546) /content/ttt.mp4: 384x640 1 new_academic_block, 17.3ms\n",
            "video 1/1 (frame 29/1546) /content/ttt.mp4: 384x640 1 new_academic_block, 13.8ms\n",
            "video 1/1 (frame 30/1546) /content/ttt.mp4: 384x640 1 new_academic_block, 13.8ms\n",
            "video 1/1 (frame 31/1546) /content/ttt.mp4: 384x640 1 new_academic_block, 13.8ms\n",
            "video 1/1 (frame 32/1546) /content/ttt.mp4: 384x640 1 new_academic_block, 13.8ms\n",
            "video 1/1 (frame 33/1546) /content/ttt.mp4: 384x640 1 new_academic_block, 13.8ms\n",
            "video 1/1 (frame 34/1546) /content/ttt.mp4: 384x640 1 new_academic_block, 13.9ms\n",
            "video 1/1 (frame 35/1546) /content/ttt.mp4: 384x640 1 new_academic_block, 13.8ms\n",
            "video 1/1 (frame 36/1546) /content/ttt.mp4: 384x640 1 new_academic_block, 13.8ms\n",
            "video 1/1 (frame 37/1546) /content/ttt.mp4: 384x640 1 new_academic_block, 14.0ms\n",
            "video 1/1 (frame 38/1546) /content/ttt.mp4: 384x640 1 new_academic_block, 14.7ms\n",
            "video 1/1 (frame 39/1546) /content/ttt.mp4: 384x640 1 new_academic_block, 13.8ms\n",
            "video 1/1 (frame 40/1546) /content/ttt.mp4: 384x640 1 new_academic_block, 16.9ms\n",
            "video 1/1 (frame 41/1546) /content/ttt.mp4: 384x640 1 new_academic_block, 15.1ms\n",
            "video 1/1 (frame 42/1546) /content/ttt.mp4: 384x640 1 new_academic_block, 13.9ms\n",
            "video 1/1 (frame 43/1546) /content/ttt.mp4: 384x640 1 new_academic_block, 13.9ms\n",
            "video 1/1 (frame 44/1546) /content/ttt.mp4: 384x640 1 new_academic_block, 13.8ms\n",
            "video 1/1 (frame 45/1546) /content/ttt.mp4: 384x640 1 new_academic_block, 13.8ms\n",
            "video 1/1 (frame 46/1546) /content/ttt.mp4: 384x640 1 new_academic_block, 16.8ms\n",
            "video 1/1 (frame 47/1546) /content/ttt.mp4: 384x640 1 new_academic_block, 14.5ms\n",
            "video 1/1 (frame 48/1546) /content/ttt.mp4: 384x640 1 new_academic_block, 16.2ms\n",
            "video 1/1 (frame 49/1546) /content/ttt.mp4: 384x640 1 new_academic_block, 14.4ms\n",
            "video 1/1 (frame 50/1546) /content/ttt.mp4: 384x640 1 new_academic_block, 13.8ms\n",
            "video 1/1 (frame 51/1546) /content/ttt.mp4: 384x640 1 new_academic_block, 14.8ms\n",
            "video 1/1 (frame 52/1546) /content/ttt.mp4: 384x640 1 new_academic_block, 15.7ms\n",
            "video 1/1 (frame 53/1546) /content/ttt.mp4: 384x640 1 new_academic_block, 15.1ms\n",
            "video 1/1 (frame 54/1546) /content/ttt.mp4: 384x640 1 new_academic_block, 15.2ms\n",
            "video 1/1 (frame 55/1546) /content/ttt.mp4: 384x640 1 new_academic_block, 13.8ms\n",
            "video 1/1 (frame 56/1546) /content/ttt.mp4: 384x640 1 new_academic_block, 13.8ms\n",
            "video 1/1 (frame 57/1546) /content/ttt.mp4: 384x640 1 new_academic_block, 13.8ms\n",
            "video 1/1 (frame 58/1546) /content/ttt.mp4: 384x640 1 new_academic_block, 13.8ms\n",
            "video 1/1 (frame 59/1546) /content/ttt.mp4: 384x640 1 new_academic_block, 13.8ms\n",
            "video 1/1 (frame 60/1546) /content/ttt.mp4: 384x640 1 new_academic_block, 13.8ms\n",
            "video 1/1 (frame 61/1546) /content/ttt.mp4: 384x640 1 new_academic_block, 13.8ms\n",
            "video 1/1 (frame 62/1546) /content/ttt.mp4: 384x640 1 new_academic_block, 15.3ms\n",
            "video 1/1 (frame 63/1546) /content/ttt.mp4: 384x640 1 new_academic_block, 13.8ms\n",
            "video 1/1 (frame 64/1546) /content/ttt.mp4: 384x640 1 new_academic_block, 13.8ms\n",
            "video 1/1 (frame 65/1546) /content/ttt.mp4: 384x640 1 new_academic_block, 13.8ms\n",
            "video 1/1 (frame 66/1546) /content/ttt.mp4: 384x640 1 new_academic_block, 13.8ms\n",
            "video 1/1 (frame 67/1546) /content/ttt.mp4: 384x640 1 new_academic_block, 13.8ms\n",
            "video 1/1 (frame 68/1546) /content/ttt.mp4: 384x640 1 new_academic_block, 13.8ms\n",
            "video 1/1 (frame 69/1546) /content/ttt.mp4: 384x640 1 new_academic_block, 13.0ms\n",
            "video 1/1 (frame 70/1546) /content/ttt.mp4: 384x640 1 new_academic_block, 12.9ms\n",
            "video 1/1 (frame 71/1546) /content/ttt.mp4: 384x640 1 new_academic_block, 12.9ms\n",
            "video 1/1 (frame 72/1546) /content/ttt.mp4: 384x640 1 new_academic_block, 12.9ms\n",
            "video 1/1 (frame 73/1546) /content/ttt.mp4: 384x640 1 new_academic_block, 13.0ms\n",
            "video 1/1 (frame 74/1546) /content/ttt.mp4: 384x640 1 new_academic_block, 13.0ms\n",
            "video 1/1 (frame 75/1546) /content/ttt.mp4: 384x640 1 new_academic_block, 12.7ms\n",
            "video 1/1 (frame 76/1546) /content/ttt.mp4: 384x640 1 new_academic_block, 12.7ms\n",
            "video 1/1 (frame 77/1546) /content/ttt.mp4: 384x640 1 new_academic_block, 12.7ms\n",
            "video 1/1 (frame 78/1546) /content/ttt.mp4: 384x640 1 new_academic_block, 12.7ms\n",
            "video 1/1 (frame 79/1546) /content/ttt.mp4: 384x640 1 new_academic_block, 12.7ms\n",
            "video 1/1 (frame 80/1546) /content/ttt.mp4: 384x640 1 new_academic_block, 12.7ms\n",
            "video 1/1 (frame 81/1546) /content/ttt.mp4: 384x640 1 new_academic_block, 12.7ms\n",
            "video 1/1 (frame 82/1546) /content/ttt.mp4: 384x640 1 new_academic_block, 12.7ms\n",
            "video 1/1 (frame 83/1546) /content/ttt.mp4: 384x640 1 new_academic_block, 12.7ms\n",
            "video 1/1 (frame 84/1546) /content/ttt.mp4: 384x640 1 new_academic_block, 12.7ms\n",
            "video 1/1 (frame 85/1546) /content/ttt.mp4: 384x640 1 new_academic_block, 12.7ms\n",
            "video 1/1 (frame 86/1546) /content/ttt.mp4: 384x640 1 new_academic_block, 12.4ms\n",
            "video 1/1 (frame 87/1546) /content/ttt.mp4: 384x640 1 new_academic_block, 12.5ms\n",
            "video 1/1 (frame 88/1546) /content/ttt.mp4: 384x640 1 new_academic_block, 12.4ms\n",
            "video 1/1 (frame 89/1546) /content/ttt.mp4: 384x640 1 new_academic_block, 12.5ms\n",
            "video 1/1 (frame 90/1546) /content/ttt.mp4: 384x640 1 new_academic_block, 12.5ms\n",
            "video 1/1 (frame 91/1546) /content/ttt.mp4: 384x640 1 new_academic_block, 13.7ms\n",
            "video 1/1 (frame 92/1546) /content/ttt.mp4: 384x640 1 new_academic_block, 12.6ms\n",
            "video 1/1 (frame 93/1546) /content/ttt.mp4: 384x640 1 new_academic_block, 12.9ms\n",
            "video 1/1 (frame 94/1546) /content/ttt.mp4: 384x640 1 new_academic_block, 12.4ms\n",
            "video 1/1 (frame 95/1546) /content/ttt.mp4: 384x640 1 new_academic_block, 12.6ms\n",
            "video 1/1 (frame 96/1546) /content/ttt.mp4: 384x640 1 new_academic_block, 12.5ms\n",
            "video 1/1 (frame 97/1546) /content/ttt.mp4: 384x640 1 new_academic_block, 12.6ms\n",
            "video 1/1 (frame 98/1546) /content/ttt.mp4: 384x640 1 new_academic_block, 12.5ms\n",
            "video 1/1 (frame 99/1546) /content/ttt.mp4: 384x640 1 new_academic_block, 12.7ms\n",
            "video 1/1 (frame 100/1546) /content/ttt.mp4: 384x640 1 new_academic_block, 12.4ms\n",
            "video 1/1 (frame 101/1546) /content/ttt.mp4: 384x640 1 new_academic_block, 12.6ms\n",
            "video 1/1 (frame 102/1546) /content/ttt.mp4: 384x640 1 new_academic_block, 12.4ms\n",
            "video 1/1 (frame 103/1546) /content/ttt.mp4: 384x640 1 new_academic_block, 12.5ms\n",
            "video 1/1 (frame 104/1546) /content/ttt.mp4: 384x640 1 new_academic_block, 12.4ms\n",
            "video 1/1 (frame 105/1546) /content/ttt.mp4: 384x640 1 new_academic_block, 12.9ms\n",
            "video 1/1 (frame 106/1546) /content/ttt.mp4: 384x640 1 new_academic_block, 12.5ms\n",
            "video 1/1 (frame 107/1546) /content/ttt.mp4: 384x640 1 new_academic_block, 12.7ms\n",
            "video 1/1 (frame 108/1546) /content/ttt.mp4: 384x640 1 new_academic_block, 12.5ms\n",
            "video 1/1 (frame 109/1546) /content/ttt.mp4: 384x640 1 new_academic_block, 12.5ms\n",
            "video 1/1 (frame 110/1546) /content/ttt.mp4: 384x640 1 new_academic_block, 12.3ms\n",
            "video 1/1 (frame 111/1546) /content/ttt.mp4: 384x640 1 new_academic_block, 12.4ms\n",
            "video 1/1 (frame 112/1546) /content/ttt.mp4: 384x640 1 new_academic_block, 12.2ms\n",
            "video 1/1 (frame 113/1546) /content/ttt.mp4: 384x640 1 new_academic_block, 12.2ms\n",
            "video 1/1 (frame 114/1546) /content/ttt.mp4: 384x640 1 new_academic_block, 12.2ms\n",
            "video 1/1 (frame 115/1546) /content/ttt.mp4: 384x640 1 new_academic_block, 12.2ms\n",
            "video 1/1 (frame 116/1546) /content/ttt.mp4: 384x640 1 new_academic_block, 12.2ms\n",
            "video 1/1 (frame 117/1546) /content/ttt.mp4: 384x640 1 new_academic_block, 12.2ms\n",
            "video 1/1 (frame 118/1546) /content/ttt.mp4: 384x640 1 new_academic_block, 12.2ms\n",
            "video 1/1 (frame 119/1546) /content/ttt.mp4: 384x640 1 new_academic_block, 12.2ms\n",
            "video 1/1 (frame 120/1546) /content/ttt.mp4: 384x640 1 new_academic_block, 13.5ms\n",
            "video 1/1 (frame 121/1546) /content/ttt.mp4: 384x640 1 new_academic_block, 12.4ms\n",
            "video 1/1 (frame 122/1546) /content/ttt.mp4: 384x640 1 new_academic_block, 12.4ms\n",
            "video 1/1 (frame 123/1546) /content/ttt.mp4: 384x640 1 new_academic_block, 12.6ms\n",
            "video 1/1 (frame 124/1546) /content/ttt.mp4: 384x640 1 new_academic_block, 12.2ms\n",
            "video 1/1 (frame 125/1546) /content/ttt.mp4: 384x640 1 new_academic_block, 12.3ms\n",
            "video 1/1 (frame 126/1546) /content/ttt.mp4: 384x640 1 new_academic_block, 12.3ms\n",
            "video 1/1 (frame 127/1546) /content/ttt.mp4: 384x640 1 new_academic_block, 12.2ms\n",
            "video 1/1 (frame 128/1546) /content/ttt.mp4: 384x640 1 new_academic_block, 12.2ms\n",
            "video 1/1 (frame 129/1546) /content/ttt.mp4: 384x640 1 new_academic_block, 12.3ms\n",
            "video 1/1 (frame 130/1546) /content/ttt.mp4: 384x640 1 new_academic_block, 13.7ms\n",
            "video 1/1 (frame 131/1546) /content/ttt.mp4: 384x640 1 new_academic_block, 12.2ms\n",
            "video 1/1 (frame 132/1546) /content/ttt.mp4: 384x640 1 new_academic_block, 12.2ms\n",
            "video 1/1 (frame 133/1546) /content/ttt.mp4: 384x640 1 new_academic_block, 12.2ms\n",
            "video 1/1 (frame 134/1546) /content/ttt.mp4: 384x640 1 new_academic_block, 12.2ms\n",
            "video 1/1 (frame 135/1546) /content/ttt.mp4: 384x640 1 new_academic_block, 12.2ms\n",
            "video 1/1 (frame 136/1546) /content/ttt.mp4: 384x640 1 new_academic_block, 12.4ms\n",
            "video 1/1 (frame 137/1546) /content/ttt.mp4: 384x640 1 new_academic_block, 12.2ms\n",
            "video 1/1 (frame 138/1546) /content/ttt.mp4: 384x640 1 new_academic_block, 12.2ms\n",
            "video 1/1 (frame 139/1546) /content/ttt.mp4: 384x640 1 new_academic_block, 12.2ms\n",
            "video 1/1 (frame 140/1546) /content/ttt.mp4: 384x640 1 new_academic_block, 12.2ms\n",
            "video 1/1 (frame 141/1546) /content/ttt.mp4: 384x640 1 new_academic_block, 12.2ms\n",
            "video 1/1 (frame 142/1546) /content/ttt.mp4: 384x640 1 new_academic_block, 12.2ms\n",
            "video 1/1 (frame 143/1546) /content/ttt.mp4: 384x640 1 new_academic_block, 12.4ms\n",
            "video 1/1 (frame 144/1546) /content/ttt.mp4: 384x640 1 new_academic_block, 12.2ms\n",
            "video 1/1 (frame 145/1546) /content/ttt.mp4: 384x640 1 new_academic_block, 12.2ms\n",
            "video 1/1 (frame 146/1546) /content/ttt.mp4: 384x640 1 new_academic_block, 12.2ms\n",
            "video 1/1 (frame 147/1546) /content/ttt.mp4: 384x640 1 new_academic_block, 12.2ms\n",
            "video 1/1 (frame 148/1546) /content/ttt.mp4: 384x640 1 new_academic_block, 12.7ms\n",
            "video 1/1 (frame 149/1546) /content/ttt.mp4: 384x640 1 new_academic_block, 12.2ms\n",
            "video 1/1 (frame 150/1546) /content/ttt.mp4: 384x640 1 new_academic_block, 12.3ms\n",
            "video 1/1 (frame 151/1546) /content/ttt.mp4: 384x640 1 new_academic_block, 12.2ms\n",
            "video 1/1 (frame 152/1546) /content/ttt.mp4: 384x640 1 new_academic_block, 12.4ms\n",
            "video 1/1 (frame 153/1546) /content/ttt.mp4: 384x640 1 new_academic_block, 12.3ms\n",
            "video 1/1 (frame 154/1546) /content/ttt.mp4: 384x640 1 new_academic_block, 12.3ms\n",
            "video 1/1 (frame 155/1546) /content/ttt.mp4: 384x640 1 new_academic_block, 12.3ms\n",
            "video 1/1 (frame 156/1546) /content/ttt.mp4: 384x640 1 new_academic_block, 12.2ms\n",
            "video 1/1 (frame 157/1546) /content/ttt.mp4: 384x640 1 new_academic_block, 12.2ms\n",
            "video 1/1 (frame 158/1546) /content/ttt.mp4: 384x640 1 new_academic_block, 12.2ms\n",
            "video 1/1 (frame 159/1546) /content/ttt.mp4: 384x640 1 new_academic_block, 12.3ms\n",
            "video 1/1 (frame 160/1546) /content/ttt.mp4: 384x640 1 new_academic_block, 12.5ms\n",
            "video 1/1 (frame 161/1546) /content/ttt.mp4: 384x640 1 new_academic_block, 12.5ms\n",
            "video 1/1 (frame 162/1546) /content/ttt.mp4: 384x640 1 new_academic_block, 12.6ms\n",
            "video 1/1 (frame 163/1546) /content/ttt.mp4: 384x640 1 new_academic_block, 12.5ms\n",
            "video 1/1 (frame 164/1546) /content/ttt.mp4: 384x640 1 new_academic_block, 12.5ms\n",
            "video 1/1 (frame 165/1546) /content/ttt.mp4: 384x640 1 new_academic_block, 12.6ms\n",
            "video 1/1 (frame 166/1546) /content/ttt.mp4: 384x640 1 new_academic_block, 13.2ms\n",
            "video 1/1 (frame 167/1546) /content/ttt.mp4: 384x640 1 new_academic_block, 12.7ms\n",
            "video 1/1 (frame 168/1546) /content/ttt.mp4: 384x640 1 new_academic_block, 12.7ms\n",
            "video 1/1 (frame 169/1546) /content/ttt.mp4: 384x640 1 new_academic_block, 12.7ms\n",
            "video 1/1 (frame 170/1546) /content/ttt.mp4: 384x640 1 new_academic_block, 12.7ms\n",
            "video 1/1 (frame 171/1546) /content/ttt.mp4: 384x640 1 new_academic_block, 12.5ms\n",
            "video 1/1 (frame 172/1546) /content/ttt.mp4: 384x640 1 new_academic_block, 12.4ms\n",
            "video 1/1 (frame 173/1546) /content/ttt.mp4: 384x640 1 new_academic_block, 12.4ms\n",
            "video 1/1 (frame 174/1546) /content/ttt.mp4: 384x640 1 new_academic_block, 12.5ms\n",
            "video 1/1 (frame 175/1546) /content/ttt.mp4: 384x640 1 new_academic_block, 12.4ms\n",
            "video 1/1 (frame 176/1546) /content/ttt.mp4: 384x640 1 new_academic_block, 12.5ms\n",
            "video 1/1 (frame 177/1546) /content/ttt.mp4: 384x640 1 new_academic_block, 12.4ms\n",
            "video 1/1 (frame 178/1546) /content/ttt.mp4: 384x640 1 new_academic_block, 15.8ms\n",
            "video 1/1 (frame 179/1546) /content/ttt.mp4: 384x640 1 new_academic_block, 12.6ms\n",
            "video 1/1 (frame 180/1546) /content/ttt.mp4: 384x640 1 new_academic_block, 13.0ms\n",
            "video 1/1 (frame 181/1546) /content/ttt.mp4: 384x640 1 new_academic_block, 13.4ms\n",
            "video 1/1 (frame 182/1546) /content/ttt.mp4: 384x640 1 new_academic_block, 12.5ms\n",
            "video 1/1 (frame 183/1546) /content/ttt.mp4: 384x640 1 new_academic_block, 12.4ms\n",
            "video 1/1 (frame 184/1546) /content/ttt.mp4: 384x640 1 new_academic_block, 12.5ms\n",
            "video 1/1 (frame 185/1546) /content/ttt.mp4: 384x640 1 new_academic_block, 12.5ms\n",
            "video 1/1 (frame 186/1546) /content/ttt.mp4: 384x640 1 new_academic_block, 12.4ms\n",
            "video 1/1 (frame 187/1546) /content/ttt.mp4: 384x640 1 new_academic_block, 12.5ms\n",
            "video 1/1 (frame 188/1546) /content/ttt.mp4: 384x640 1 new_academic_block, 12.4ms\n",
            "video 1/1 (frame 189/1546) /content/ttt.mp4: 384x640 1 new_academic_block, 12.5ms\n",
            "video 1/1 (frame 190/1546) /content/ttt.mp4: 384x640 1 new_academic_block, 12.4ms\n",
            "video 1/1 (frame 191/1546) /content/ttt.mp4: 384x640 1 new_academic_block, 12.5ms\n",
            "video 1/1 (frame 192/1546) /content/ttt.mp4: 384x640 1 new_academic_block, 12.4ms\n",
            "video 1/1 (frame 193/1546) /content/ttt.mp4: 384x640 1 new_academic_block, 12.5ms\n",
            "video 1/1 (frame 194/1546) /content/ttt.mp4: 384x640 1 new_academic_block, 12.4ms\n",
            "video 1/1 (frame 195/1546) /content/ttt.mp4: 384x640 1 new_academic_block, 12.5ms\n",
            "video 1/1 (frame 196/1546) /content/ttt.mp4: 384x640 1 new_academic_block, 12.5ms\n",
            "video 1/1 (frame 197/1546) /content/ttt.mp4: 384x640 1 new_academic_block, 12.4ms\n",
            "video 1/1 (frame 198/1546) /content/ttt.mp4: 384x640 1 new_academic_block, 12.4ms\n",
            "video 1/1 (frame 199/1546) /content/ttt.mp4: 384x640 1 new_academic_block, 12.6ms\n",
            "video 1/1 (frame 200/1546) /content/ttt.mp4: 384x640 1 new_academic_block, 12.4ms\n",
            "video 1/1 (frame 201/1546) /content/ttt.mp4: 384x640 1 new_academic_block, 12.4ms\n",
            "video 1/1 (frame 202/1546) /content/ttt.mp4: 384x640 1 new_academic_block, 12.5ms\n",
            "video 1/1 (frame 203/1546) /content/ttt.mp4: 384x640 1 new_academic_block, 12.5ms\n",
            "video 1/1 (frame 204/1546) /content/ttt.mp4: 384x640 1 new_academic_block, 12.5ms\n",
            "video 1/1 (frame 205/1546) /content/ttt.mp4: 384x640 1 new_academic_block, 12.4ms\n",
            "video 1/1 (frame 206/1546) /content/ttt.mp4: 384x640 1 new_academic_block, 12.4ms\n",
            "video 1/1 (frame 207/1546) /content/ttt.mp4: 384x640 1 new_academic_block, 12.4ms\n",
            "video 1/1 (frame 208/1546) /content/ttt.mp4: 384x640 1 new_academic_block, 13.3ms\n",
            "video 1/1 (frame 209/1546) /content/ttt.mp4: 384x640 1 new_academic_block, 12.5ms\n",
            "video 1/1 (frame 210/1546) /content/ttt.mp4: 384x640 1 new_academic_block, 12.4ms\n",
            "video 1/1 (frame 211/1546) /content/ttt.mp4: 384x640 1 new_academic_block, 12.4ms\n",
            "video 1/1 (frame 212/1546) /content/ttt.mp4: 384x640 1 new_academic_block, 12.5ms\n",
            "video 1/1 (frame 213/1546) /content/ttt.mp4: 384x640 1 new_academic_block, 13.0ms\n",
            "video 1/1 (frame 214/1546) /content/ttt.mp4: 384x640 1 new_academic_block, 12.5ms\n",
            "video 1/1 (frame 215/1546) /content/ttt.mp4: 384x640 1 new_academic_block, 12.4ms\n",
            "video 1/1 (frame 216/1546) /content/ttt.mp4: 384x640 1 new_academic_block, 12.2ms\n",
            "video 1/1 (frame 217/1546) /content/ttt.mp4: 384x640 1 new_academic_block, 12.2ms\n",
            "video 1/1 (frame 218/1546) /content/ttt.mp4: 384x640 1 new_academic_block, 12.7ms\n",
            "video 1/1 (frame 219/1546) /content/ttt.mp4: 384x640 1 new_academic_block, 12.2ms\n",
            "video 1/1 (frame 220/1546) /content/ttt.mp4: 384x640 1 new_academic_block, 12.4ms\n",
            "video 1/1 (frame 221/1546) /content/ttt.mp4: 384x640 1 new_academic_block, 12.8ms\n",
            "video 1/1 (frame 222/1546) /content/ttt.mp4: 384x640 1 new_academic_block, 12.2ms\n",
            "video 1/1 (frame 223/1546) /content/ttt.mp4: 384x640 1 new_academic_block, 12.2ms\n",
            "video 1/1 (frame 224/1546) /content/ttt.mp4: 384x640 1 new_academic_block, 12.2ms\n",
            "video 1/1 (frame 225/1546) /content/ttt.mp4: 384x640 1 central_library, 12.2ms\n",
            "video 1/1 (frame 226/1546) /content/ttt.mp4: 384x640 1 central_library, 12.2ms\n",
            "video 1/1 (frame 227/1546) /content/ttt.mp4: 384x640 1 central_library, 12.2ms\n",
            "video 1/1 (frame 228/1546) /content/ttt.mp4: 384x640 1 central_library, 12.2ms\n",
            "video 1/1 (frame 229/1546) /content/ttt.mp4: 384x640 1 central_library, 12.2ms\n",
            "video 1/1 (frame 230/1546) /content/ttt.mp4: 384x640 1 central_library, 12.2ms\n",
            "video 1/1 (frame 231/1546) /content/ttt.mp4: 384x640 1 central_library, 12.3ms\n",
            "video 1/1 (frame 232/1546) /content/ttt.mp4: 384x640 1 central_library, 12.2ms\n",
            "video 1/1 (frame 233/1546) /content/ttt.mp4: 384x640 1 central_library, 12.2ms\n",
            "video 1/1 (frame 234/1546) /content/ttt.mp4: 384x640 1 central_library, 12.2ms\n",
            "video 1/1 (frame 235/1546) /content/ttt.mp4: 384x640 1 central_library, 12.2ms\n",
            "video 1/1 (frame 236/1546) /content/ttt.mp4: 384x640 1 central_library, 12.2ms\n",
            "video 1/1 (frame 237/1546) /content/ttt.mp4: 384x640 1 central_library, 15.7ms\n",
            "video 1/1 (frame 238/1546) /content/ttt.mp4: 384x640 1 central_library, 12.2ms\n",
            "video 1/1 (frame 239/1546) /content/ttt.mp4: 384x640 1 central_library, 12.2ms\n",
            "video 1/1 (frame 240/1546) /content/ttt.mp4: 384x640 1 central_library, 12.2ms\n",
            "video 1/1 (frame 241/1546) /content/ttt.mp4: 384x640 1 central_library, 12.2ms\n",
            "video 1/1 (frame 242/1546) /content/ttt.mp4: 384x640 1 central_library, 12.2ms\n",
            "video 1/1 (frame 243/1546) /content/ttt.mp4: 384x640 1 central_library, 12.9ms\n",
            "video 1/1 (frame 244/1546) /content/ttt.mp4: 384x640 1 central_library, 12.2ms\n",
            "video 1/1 (frame 245/1546) /content/ttt.mp4: 384x640 1 central_library, 12.2ms\n",
            "video 1/1 (frame 246/1546) /content/ttt.mp4: 384x640 1 central_library, 12.7ms\n",
            "video 1/1 (frame 247/1546) /content/ttt.mp4: 384x640 1 central_library, 12.3ms\n",
            "video 1/1 (frame 248/1546) /content/ttt.mp4: 384x640 1 central_library, 12.2ms\n",
            "video 1/1 (frame 249/1546) /content/ttt.mp4: 384x640 1 central_library, 12.2ms\n",
            "video 1/1 (frame 250/1546) /content/ttt.mp4: 384x640 1 central_library, 12.2ms\n",
            "video 1/1 (frame 251/1546) /content/ttt.mp4: 384x640 1 central_library, 12.3ms\n",
            "video 1/1 (frame 252/1546) /content/ttt.mp4: 384x640 1 central_library, 12.2ms\n",
            "video 1/1 (frame 253/1546) /content/ttt.mp4: 384x640 1 central_library, 12.2ms\n",
            "video 1/1 (frame 254/1546) /content/ttt.mp4: 384x640 1 central_library, 12.2ms\n",
            "video 1/1 (frame 255/1546) /content/ttt.mp4: 384x640 1 central_library, 12.3ms\n",
            "video 1/1 (frame 256/1546) /content/ttt.mp4: 384x640 1 central_library, 12.4ms\n",
            "video 1/1 (frame 257/1546) /content/ttt.mp4: 384x640 1 central_library, 12.2ms\n",
            "video 1/1 (frame 258/1546) /content/ttt.mp4: 384x640 1 central_library, 12.2ms\n",
            "video 1/1 (frame 259/1546) /content/ttt.mp4: 384x640 1 central_library, 12.2ms\n",
            "video 1/1 (frame 260/1546) /content/ttt.mp4: 384x640 1 central_library, 12.2ms\n",
            "video 1/1 (frame 261/1546) /content/ttt.mp4: 384x640 1 central_library, 12.2ms\n",
            "video 1/1 (frame 262/1546) /content/ttt.mp4: 384x640 1 central_library, 16.5ms\n",
            "video 1/1 (frame 263/1546) /content/ttt.mp4: 384x640 1 central_library, 12.4ms\n",
            "video 1/1 (frame 264/1546) /content/ttt.mp4: 384x640 1 central_library, 12.2ms\n",
            "video 1/1 (frame 265/1546) /content/ttt.mp4: 384x640 1 central_library, 12.3ms\n",
            "video 1/1 (frame 266/1546) /content/ttt.mp4: 384x640 1 central_library, 17.0ms\n",
            "video 1/1 (frame 267/1546) /content/ttt.mp4: 384x640 1 central_library, 12.4ms\n",
            "video 1/1 (frame 268/1546) /content/ttt.mp4: 384x640 1 central_library, 12.8ms\n",
            "video 1/1 (frame 269/1546) /content/ttt.mp4: 384x640 1 central_library, 12.5ms\n",
            "video 1/1 (frame 270/1546) /content/ttt.mp4: 384x640 1 central_library, 12.8ms\n",
            "video 1/1 (frame 271/1546) /content/ttt.mp4: 384x640 1 central_library, 12.5ms\n",
            "video 1/1 (frame 272/1546) /content/ttt.mp4: 384x640 1 central_library, 12.7ms\n",
            "video 1/1 (frame 273/1546) /content/ttt.mp4: 384x640 1 central_library, 12.7ms\n",
            "video 1/1 (frame 274/1546) /content/ttt.mp4: 384x640 1 central_library, 13.7ms\n",
            "video 1/1 (frame 275/1546) /content/ttt.mp4: 384x640 1 central_library, 12.7ms\n",
            "video 1/1 (frame 276/1546) /content/ttt.mp4: 384x640 1 central_library, 12.9ms\n",
            "video 1/1 (frame 277/1546) /content/ttt.mp4: 384x640 1 central_library, 12.7ms\n",
            "video 1/1 (frame 278/1546) /content/ttt.mp4: 384x640 1 central_library, 12.7ms\n",
            "video 1/1 (frame 279/1546) /content/ttt.mp4: 384x640 1 central_library, 12.4ms\n",
            "video 1/1 (frame 280/1546) /content/ttt.mp4: 384x640 1 central_library, 12.7ms\n",
            "video 1/1 (frame 281/1546) /content/ttt.mp4: 384x640 1 central_library, 12.4ms\n",
            "video 1/1 (frame 282/1546) /content/ttt.mp4: 384x640 1 central_library, 12.9ms\n",
            "video 1/1 (frame 283/1546) /content/ttt.mp4: 384x640 1 central_library, 12.4ms\n",
            "video 1/1 (frame 284/1546) /content/ttt.mp4: 384x640 1 central_library, 12.8ms\n",
            "video 1/1 (frame 285/1546) /content/ttt.mp4: 384x640 1 central_library, 12.5ms\n",
            "video 1/1 (frame 286/1546) /content/ttt.mp4: 384x640 1 central_library, 12.5ms\n",
            "video 1/1 (frame 287/1546) /content/ttt.mp4: 384x640 1 central_library, 12.4ms\n",
            "video 1/1 (frame 288/1546) /content/ttt.mp4: 384x640 1 central_library, 12.7ms\n",
            "video 1/1 (frame 289/1546) /content/ttt.mp4: 384x640 1 central_library, 12.4ms\n",
            "video 1/1 (frame 290/1546) /content/ttt.mp4: 384x640 1 central_library, 12.9ms\n",
            "video 1/1 (frame 291/1546) /content/ttt.mp4: 384x640 1 central_library, 12.5ms\n",
            "video 1/1 (frame 292/1546) /content/ttt.mp4: 384x640 1 central_library, 13.6ms\n",
            "video 1/1 (frame 293/1546) /content/ttt.mp4: 384x640 1 central_library, 12.5ms\n",
            "video 1/1 (frame 294/1546) /content/ttt.mp4: 384x640 1 central_library, 12.6ms\n",
            "video 1/1 (frame 295/1546) /content/ttt.mp4: 384x640 1 central_library, 16.0ms\n",
            "video 1/1 (frame 296/1546) /content/ttt.mp4: 384x640 1 central_library, 12.9ms\n",
            "video 1/1 (frame 297/1546) /content/ttt.mp4: 384x640 1 central_library, 12.5ms\n",
            "video 1/1 (frame 298/1546) /content/ttt.mp4: 384x640 1 central_library, 12.4ms\n",
            "video 1/1 (frame 299/1546) /content/ttt.mp4: 384x640 1 central_library, 12.8ms\n",
            "video 1/1 (frame 300/1546) /content/ttt.mp4: 384x640 1 central_library, 12.5ms\n",
            "video 1/1 (frame 301/1546) /content/ttt.mp4: 384x640 1 central_library, 12.9ms\n",
            "video 1/1 (frame 302/1546) /content/ttt.mp4: 384x640 1 central_library, 12.5ms\n",
            "video 1/1 (frame 303/1546) /content/ttt.mp4: 384x640 1 central_library, 12.7ms\n",
            "video 1/1 (frame 304/1546) /content/ttt.mp4: 384x640 1 central_library, 12.5ms\n",
            "video 1/1 (frame 305/1546) /content/ttt.mp4: 384x640 1 central_library, 12.4ms\n",
            "video 1/1 (frame 306/1546) /content/ttt.mp4: 384x640 1 central_library, 12.5ms\n",
            "video 1/1 (frame 307/1546) /content/ttt.mp4: 384x640 1 central_library, 12.5ms\n",
            "video 1/1 (frame 308/1546) /content/ttt.mp4: 384x640 1 central_library, 12.4ms\n",
            "video 1/1 (frame 309/1546) /content/ttt.mp4: 384x640 1 central_library, 12.5ms\n",
            "video 1/1 (frame 310/1546) /content/ttt.mp4: 384x640 1 central_library, 12.5ms\n",
            "video 1/1 (frame 311/1546) /content/ttt.mp4: 384x640 1 central_library, 12.6ms\n",
            "video 1/1 (frame 312/1546) /content/ttt.mp4: 384x640 1 central_library, 12.4ms\n",
            "video 1/1 (frame 313/1546) /content/ttt.mp4: 384x640 1 central_library, 12.5ms\n",
            "video 1/1 (frame 314/1546) /content/ttt.mp4: 384x640 1 central_library, 12.9ms\n",
            "video 1/1 (frame 315/1546) /content/ttt.mp4: 384x640 1 central_library, 12.4ms\n",
            "video 1/1 (frame 316/1546) /content/ttt.mp4: 384x640 1 central_library, 12.4ms\n",
            "video 1/1 (frame 317/1546) /content/ttt.mp4: 384x640 1 central_library, 12.5ms\n",
            "video 1/1 (frame 318/1546) /content/ttt.mp4: 384x640 1 central_library, 12.5ms\n",
            "video 1/1 (frame 319/1546) /content/ttt.mp4: 384x640 1 central_library, 12.5ms\n",
            "video 1/1 (frame 320/1546) /content/ttt.mp4: 384x640 1 central_library, 12.5ms\n",
            "video 1/1 (frame 321/1546) /content/ttt.mp4: 384x640 1 central_library, 12.7ms\n",
            "video 1/1 (frame 322/1546) /content/ttt.mp4: 384x640 1 central_library, 12.4ms\n",
            "video 1/1 (frame 323/1546) /content/ttt.mp4: 384x640 1 central_library, 12.6ms\n",
            "video 1/1 (frame 324/1546) /content/ttt.mp4: 384x640 1 central_library, 13.9ms\n",
            "video 1/1 (frame 325/1546) /content/ttt.mp4: 384x640 1 central_library, 12.4ms\n",
            "video 1/1 (frame 326/1546) /content/ttt.mp4: 384x640 1 central_library, 12.4ms\n",
            "video 1/1 (frame 327/1546) /content/ttt.mp4: 384x640 1 central_library, 12.4ms\n",
            "video 1/1 (frame 328/1546) /content/ttt.mp4: 384x640 1 central_library, 12.9ms\n",
            "video 1/1 (frame 329/1546) /content/ttt.mp4: 384x640 1 central_library, 12.7ms\n",
            "video 1/1 (frame 330/1546) /content/ttt.mp4: 384x640 1 central_library, 13.0ms\n",
            "video 1/1 (frame 331/1546) /content/ttt.mp4: 384x640 1 central_library, 12.7ms\n",
            "video 1/1 (frame 332/1546) /content/ttt.mp4: 384x640 1 central_library, 12.7ms\n",
            "video 1/1 (frame 333/1546) /content/ttt.mp4: 384x640 1 central_library, 12.7ms\n",
            "video 1/1 (frame 334/1546) /content/ttt.mp4: 384x640 1 central_library, 12.8ms\n",
            "video 1/1 (frame 335/1546) /content/ttt.mp4: 384x640 1 central_library, 12.5ms\n",
            "video 1/1 (frame 336/1546) /content/ttt.mp4: 384x640 1 central_library, 13.6ms\n",
            "video 1/1 (frame 337/1546) /content/ttt.mp4: 384x640 1 central_library, 14.3ms\n",
            "video 1/1 (frame 338/1546) /content/ttt.mp4: 384x640 1 central_library, 13.2ms\n",
            "video 1/1 (frame 339/1546) /content/ttt.mp4: 384x640 1 central_library, 13.7ms\n",
            "video 1/1 (frame 340/1546) /content/ttt.mp4: 384x640 1 central_library, 13.7ms\n",
            "video 1/1 (frame 341/1546) /content/ttt.mp4: 384x640 1 central_library, 12.5ms\n",
            "video 1/1 (frame 342/1546) /content/ttt.mp4: 384x640 1 central_library, 12.7ms\n",
            "video 1/1 (frame 343/1546) /content/ttt.mp4: 384x640 1 central_library, 12.5ms\n",
            "video 1/1 (frame 344/1546) /content/ttt.mp4: 384x640 1 central_library, 12.8ms\n",
            "video 1/1 (frame 345/1546) /content/ttt.mp4: 384x640 1 central_library, 12.5ms\n",
            "video 1/1 (frame 346/1546) /content/ttt.mp4: 384x640 1 central_library, 13.7ms\n",
            "video 1/1 (frame 347/1546) /content/ttt.mp4: 384x640 1 central_library, 12.5ms\n",
            "video 1/1 (frame 348/1546) /content/ttt.mp4: 384x640 1 central_library, 12.9ms\n",
            "video 1/1 (frame 349/1546) /content/ttt.mp4: 384x640 1 central_library, 12.5ms\n",
            "video 1/1 (frame 350/1546) /content/ttt.mp4: 384x640 1 central_library, 12.5ms\n",
            "video 1/1 (frame 351/1546) /content/ttt.mp4: 384x640 1 central_library, 12.5ms\n",
            "video 1/1 (frame 352/1546) /content/ttt.mp4: 384x640 1 central_library, 12.5ms\n",
            "video 1/1 (frame 353/1546) /content/ttt.mp4: 384x640 1 central_library, 12.8ms\n",
            "video 1/1 (frame 354/1546) /content/ttt.mp4: 384x640 1 central_library, 12.6ms\n",
            "video 1/1 (frame 355/1546) /content/ttt.mp4: 384x640 1 central_library, 13.9ms\n",
            "video 1/1 (frame 356/1546) /content/ttt.mp4: 384x640 1 central_library, 12.9ms\n",
            "video 1/1 (frame 357/1546) /content/ttt.mp4: 384x640 1 central_library, 12.5ms\n",
            "video 1/1 (frame 358/1546) /content/ttt.mp4: 384x640 1 central_library, 13.9ms\n",
            "video 1/1 (frame 359/1546) /content/ttt.mp4: 384x640 1 central_library, 12.5ms\n",
            "video 1/1 (frame 360/1546) /content/ttt.mp4: 384x640 1 central_library, 12.9ms\n",
            "video 1/1 (frame 361/1546) /content/ttt.mp4: 384x640 1 central_library, 12.5ms\n",
            "video 1/1 (frame 362/1546) /content/ttt.mp4: 384x640 1 central_library, 13.0ms\n",
            "video 1/1 (frame 363/1546) /content/ttt.mp4: 384x640 1 central_library, 12.5ms\n",
            "video 1/1 (frame 364/1546) /content/ttt.mp4: 384x640 1 central_library, 13.3ms\n",
            "video 1/1 (frame 365/1546) /content/ttt.mp4: 384x640 1 central_library, 12.5ms\n",
            "video 1/1 (frame 366/1546) /content/ttt.mp4: 384x640 1 central_library, 12.8ms\n",
            "video 1/1 (frame 367/1546) /content/ttt.mp4: 384x640 1 central_library, 12.5ms\n",
            "video 1/1 (frame 368/1546) /content/ttt.mp4: 384x640 1 central_library, 13.1ms\n",
            "video 1/1 (frame 369/1546) /content/ttt.mp4: 384x640 1 central_library, 13.7ms\n",
            "video 1/1 (frame 370/1546) /content/ttt.mp4: 384x640 1 central_library, 16.8ms\n",
            "video 1/1 (frame 371/1546) /content/ttt.mp4: 384x640 1 central_library, 16.6ms\n",
            "video 1/1 (frame 372/1546) /content/ttt.mp4: 384x640 1 central_library, 12.5ms\n",
            "video 1/1 (frame 373/1546) /content/ttt.mp4: 384x640 1 central_library, 12.8ms\n",
            "video 1/1 (frame 374/1546) /content/ttt.mp4: 384x640 1 central_library, 16.8ms\n",
            "video 1/1 (frame 375/1546) /content/ttt.mp4: 384x640 1 central_library, 17.2ms\n",
            "video 1/1 (frame 376/1546) /content/ttt.mp4: 384x640 1 central_library, 17.9ms\n",
            "video 1/1 (frame 377/1546) /content/ttt.mp4: 384x640 1 central_library, 14.6ms\n",
            "video 1/1 (frame 378/1546) /content/ttt.mp4: 384x640 1 central_library, 14.9ms\n",
            "video 1/1 (frame 379/1546) /content/ttt.mp4: 384x640 1 central_library, 13.9ms\n",
            "video 1/1 (frame 380/1546) /content/ttt.mp4: 384x640 1 central_library, 15.1ms\n",
            "video 1/1 (frame 381/1546) /content/ttt.mp4: 384x640 1 central_library, 14.9ms\n",
            "video 1/1 (frame 382/1546) /content/ttt.mp4: 384x640 1 central_library, 15.2ms\n",
            "video 1/1 (frame 383/1546) /content/ttt.mp4: 384x640 1 central_library, 13.9ms\n",
            "video 1/1 (frame 384/1546) /content/ttt.mp4: 384x640 1 central_library, 14.2ms\n",
            "video 1/1 (frame 385/1546) /content/ttt.mp4: 384x640 1 central_library, 13.8ms\n",
            "video 1/1 (frame 386/1546) /content/ttt.mp4: 384x640 1 central_library, 13.8ms\n",
            "video 1/1 (frame 387/1546) /content/ttt.mp4: 384x640 1 central_library, 13.8ms\n",
            "video 1/1 (frame 388/1546) /content/ttt.mp4: 384x640 1 central_library, 13.8ms\n",
            "video 1/1 (frame 389/1546) /content/ttt.mp4: 384x640 1 central_library, 13.8ms\n",
            "video 1/1 (frame 390/1546) /content/ttt.mp4: 384x640 1 central_library, 13.8ms\n",
            "video 1/1 (frame 391/1546) /content/ttt.mp4: 384x640 1 central_library, 14.1ms\n",
            "video 1/1 (frame 392/1546) /content/ttt.mp4: 384x640 1 central_library, 13.8ms\n",
            "video 1/1 (frame 393/1546) /content/ttt.mp4: 384x640 1 central_library, 13.8ms\n",
            "video 1/1 (frame 394/1546) /content/ttt.mp4: 384x640 1 central_library, 13.8ms\n",
            "video 1/1 (frame 395/1546) /content/ttt.mp4: 384x640 1 central_library, 13.8ms\n",
            "video 1/1 (frame 396/1546) /content/ttt.mp4: 384x640 1 central_library, 13.8ms\n",
            "video 1/1 (frame 397/1546) /content/ttt.mp4: 384x640 1 central_library, 13.7ms\n",
            "video 1/1 (frame 398/1546) /content/ttt.mp4: 384x640 1 central_library, 13.2ms\n",
            "video 1/1 (frame 399/1546) /content/ttt.mp4: 384x640 1 central_library, 13.7ms\n",
            "video 1/1 (frame 400/1546) /content/ttt.mp4: 384x640 1 central_library, 13.3ms\n",
            "video 1/1 (frame 401/1546) /content/ttt.mp4: 384x640 1 central_library, 13.3ms\n",
            "video 1/1 (frame 402/1546) /content/ttt.mp4: 384x640 1 central_library, 13.2ms\n",
            "video 1/1 (frame 403/1546) /content/ttt.mp4: 384x640 1 central_library, 13.3ms\n",
            "video 1/1 (frame 404/1546) /content/ttt.mp4: 384x640 1 central_library, 13.5ms\n",
            "video 1/1 (frame 405/1546) /content/ttt.mp4: 384x640 1 central_library, 13.2ms\n",
            "video 1/1 (frame 406/1546) /content/ttt.mp4: 384x640 1 central_library, 13.6ms\n",
            "video 1/1 (frame 407/1546) /content/ttt.mp4: 384x640 1 central_library, 13.2ms\n",
            "video 1/1 (frame 408/1546) /content/ttt.mp4: 384x640 1 central_library, 13.4ms\n",
            "video 1/1 (frame 409/1546) /content/ttt.mp4: 384x640 1 central_library, 13.2ms\n",
            "video 1/1 (frame 410/1546) /content/ttt.mp4: 384x640 1 central_library, 13.8ms\n",
            "video 1/1 (frame 411/1546) /content/ttt.mp4: 384x640 1 central_library, 13.2ms\n",
            "video 1/1 (frame 412/1546) /content/ttt.mp4: 384x640 1 central_library, 13.7ms\n",
            "video 1/1 (frame 413/1546) /content/ttt.mp4: 384x640 1 central_library, 13.2ms\n",
            "video 1/1 (frame 414/1546) /content/ttt.mp4: 384x640 1 central_library, 13.8ms\n",
            "video 1/1 (frame 415/1546) /content/ttt.mp4: 384x640 1 central_library, 13.0ms\n",
            "video 1/1 (frame 416/1546) /content/ttt.mp4: 384x640 1 central_library, 13.2ms\n",
            "video 1/1 (frame 417/1546) /content/ttt.mp4: 384x640 1 central_library, 13.5ms\n",
            "video 1/1 (frame 418/1546) /content/ttt.mp4: 384x640 1 central_library, 13.3ms\n",
            "video 1/1 (frame 419/1546) /content/ttt.mp4: 384x640 1 central_library, 12.9ms\n",
            "video 1/1 (frame 420/1546) /content/ttt.mp4: 384x640 1 central_library, 12.9ms\n",
            "video 1/1 (frame 421/1546) /content/ttt.mp4: 384x640 1 central_library, 12.9ms\n",
            "video 1/1 (frame 422/1546) /content/ttt.mp4: 384x640 1 central_library, 12.9ms\n",
            "video 1/1 (frame 423/1546) /content/ttt.mp4: 384x640 1 central_library, 12.9ms\n",
            "video 1/1 (frame 424/1546) /content/ttt.mp4: 384x640 1 central_library, 13.0ms\n",
            "video 1/1 (frame 425/1546) /content/ttt.mp4: 384x640 1 central_library, 13.0ms\n",
            "video 1/1 (frame 426/1546) /content/ttt.mp4: 384x640 1 central_library, 13.3ms\n",
            "video 1/1 (frame 427/1546) /content/ttt.mp4: 384x640 1 central_library, 13.2ms\n",
            "video 1/1 (frame 428/1546) /content/ttt.mp4: 384x640 1 central_library, 13.0ms\n",
            "video 1/1 (frame 429/1546) /content/ttt.mp4: 384x640 1 central_library, 13.0ms\n",
            "video 1/1 (frame 430/1546) /content/ttt.mp4: 384x640 1 central_library, 13.0ms\n",
            "video 1/1 (frame 431/1546) /content/ttt.mp4: 384x640 1 central_library, 13.0ms\n",
            "video 1/1 (frame 432/1546) /content/ttt.mp4: 384x640 1 central_library, 13.0ms\n",
            "video 1/1 (frame 433/1546) /content/ttt.mp4: 384x640 1 central_library, 13.0ms\n",
            "video 1/1 (frame 434/1546) /content/ttt.mp4: 384x640 1 central_library, 13.0ms\n",
            "video 1/1 (frame 435/1546) /content/ttt.mp4: 384x640 1 central_library, 12.9ms\n",
            "video 1/1 (frame 436/1546) /content/ttt.mp4: 384x640 1 central_library, 13.0ms\n",
            "video 1/1 (frame 437/1546) /content/ttt.mp4: 384x640 1 central_library, 13.0ms\n",
            "video 1/1 (frame 438/1546) /content/ttt.mp4: 384x640 1 central_library, 13.5ms\n",
            "video 1/1 (frame 439/1546) /content/ttt.mp4: 384x640 1 central_library, 13.0ms\n",
            "video 1/1 (frame 440/1546) /content/ttt.mp4: 384x640 1 central_library, 13.0ms\n",
            "video 1/1 (frame 441/1546) /content/ttt.mp4: 384x640 1 central_library, 13.3ms\n",
            "video 1/1 (frame 442/1546) /content/ttt.mp4: 384x640 1 central_library, 13.1ms\n",
            "video 1/1 (frame 443/1546) /content/ttt.mp4: 384x640 1 central_library, 12.9ms\n",
            "video 1/1 (frame 444/1546) /content/ttt.mp4: 384x640 1 central_library, 13.0ms\n",
            "video 1/1 (frame 445/1546) /content/ttt.mp4: 384x640 1 central_library, 13.0ms\n",
            "video 1/1 (frame 446/1546) /content/ttt.mp4: 384x640 1 central_library, 13.0ms\n",
            "video 1/1 (frame 447/1546) /content/ttt.mp4: 384x640 1 central_library, 13.0ms\n",
            "video 1/1 (frame 448/1546) /content/ttt.mp4: 384x640 1 central_library, 13.0ms\n",
            "video 1/1 (frame 449/1546) /content/ttt.mp4: 384x640 1 central_library, 13.0ms\n",
            "video 1/1 (frame 450/1546) /content/ttt.mp4: 384x640 1 central_library, 13.0ms\n",
            "video 1/1 (frame 451/1546) /content/ttt.mp4: 384x640 1 central_library, 13.5ms\n",
            "video 1/1 (frame 452/1546) /content/ttt.mp4: 384x640 1 central_library, 12.7ms\n",
            "video 1/1 (frame 453/1546) /content/ttt.mp4: 384x640 1 central_library, 13.2ms\n",
            "video 1/1 (frame 454/1546) /content/ttt.mp4: 384x640 1 central_library, 12.8ms\n",
            "video 1/1 (frame 455/1546) /content/ttt.mp4: 384x640 1 central_library, 12.7ms\n",
            "video 1/1 (frame 456/1546) /content/ttt.mp4: 384x640 1 central_library, 13.3ms\n",
            "video 1/1 (frame 457/1546) /content/ttt.mp4: 384x640 1 central_library, 12.8ms\n",
            "video 1/1 (frame 458/1546) /content/ttt.mp4: 384x640 1 central_library, 12.7ms\n",
            "video 1/1 (frame 459/1546) /content/ttt.mp4: 384x640 1 central_library, 13.3ms\n",
            "video 1/1 (frame 460/1546) /content/ttt.mp4: 384x640 1 central_library, 12.7ms\n",
            "video 1/1 (frame 461/1546) /content/ttt.mp4: 384x640 1 central_library, 12.7ms\n",
            "video 1/1 (frame 462/1546) /content/ttt.mp4: 384x640 1 central_library, 12.7ms\n",
            "video 1/1 (frame 463/1546) /content/ttt.mp4: 384x640 1 central_library, 12.8ms\n",
            "video 1/1 (frame 464/1546) /content/ttt.mp4: 384x640 1 central_library, 12.7ms\n",
            "video 1/1 (frame 465/1546) /content/ttt.mp4: 384x640 1 central_library, 12.7ms\n",
            "video 1/1 (frame 466/1546) /content/ttt.mp4: 384x640 1 central_library, 12.7ms\n",
            "video 1/1 (frame 467/1546) /content/ttt.mp4: 384x640 1 central_library, 12.8ms\n",
            "video 1/1 (frame 468/1546) /content/ttt.mp4: 384x640 1 central_library, 12.7ms\n",
            "video 1/1 (frame 469/1546) /content/ttt.mp4: 384x640 1 central_library, 12.7ms\n",
            "video 1/1 (frame 470/1546) /content/ttt.mp4: 384x640 1 central_library, 12.8ms\n",
            "video 1/1 (frame 471/1546) /content/ttt.mp4: 384x640 1 central_library, 13.5ms\n",
            "video 1/1 (frame 472/1546) /content/ttt.mp4: 384x640 1 central_library, 12.7ms\n",
            "video 1/1 (frame 473/1546) /content/ttt.mp4: 384x640 1 central_library, 13.0ms\n",
            "video 1/1 (frame 474/1546) /content/ttt.mp4: 384x640 1 central_library, 12.7ms\n",
            "video 1/1 (frame 475/1546) /content/ttt.mp4: 384x640 1 central_library, 12.8ms\n",
            "video 1/1 (frame 476/1546) /content/ttt.mp4: 384x640 1 central_library, 12.7ms\n",
            "video 1/1 (frame 477/1546) /content/ttt.mp4: 384x640 1 central_library, 12.7ms\n",
            "video 1/1 (frame 478/1546) /content/ttt.mp4: 384x640 1 central_library, 13.1ms\n",
            "video 1/1 (frame 479/1546) /content/ttt.mp4: 384x640 1 central_library, 12.8ms\n",
            "video 1/1 (frame 480/1546) /content/ttt.mp4: 384x640 1 central_library, 12.7ms\n",
            "video 1/1 (frame 481/1546) /content/ttt.mp4: 384x640 1 central_library, 12.8ms\n",
            "video 1/1 (frame 482/1546) /content/ttt.mp4: 384x640 1 central_library, 13.0ms\n",
            "video 1/1 (frame 483/1546) /content/ttt.mp4: 384x640 1 central_library, 14.3ms\n",
            "video 1/1 (frame 484/1546) /content/ttt.mp4: 384x640 1 central_library, 12.7ms\n",
            "video 1/1 (frame 485/1546) /content/ttt.mp4: 384x640 1 central_library, 12.7ms\n",
            "video 1/1 (frame 486/1546) /content/ttt.mp4: 384x640 1 central_library, 12.7ms\n",
            "video 1/1 (frame 487/1546) /content/ttt.mp4: 384x640 1 central_library, 12.7ms\n",
            "video 1/1 (frame 488/1546) /content/ttt.mp4: 384x640 1 central_library, 12.7ms\n",
            "video 1/1 (frame 489/1546) /content/ttt.mp4: 384x640 1 central_library, 13.1ms\n",
            "video 1/1 (frame 490/1546) /content/ttt.mp4: 384x640 1 central_library, 12.7ms\n",
            "video 1/1 (frame 491/1546) /content/ttt.mp4: 384x640 1 central_library, 12.8ms\n",
            "video 1/1 (frame 492/1546) /content/ttt.mp4: 384x640 1 central_library, 12.7ms\n",
            "video 1/1 (frame 493/1546) /content/ttt.mp4: 384x640 1 central_library, 13.9ms\n",
            "video 1/1 (frame 494/1546) /content/ttt.mp4: 384x640 1 central_library, 12.8ms\n",
            "video 1/1 (frame 495/1546) /content/ttt.mp4: 384x640 1 central_library, 12.7ms\n",
            "video 1/1 (frame 496/1546) /content/ttt.mp4: 384x640 1 central_library, 12.7ms\n",
            "video 1/1 (frame 497/1546) /content/ttt.mp4: 384x640 1 central_library, 13.2ms\n",
            "video 1/1 (frame 498/1546) /content/ttt.mp4: 384x640 1 central_library, 12.7ms\n",
            "video 1/1 (frame 499/1546) /content/ttt.mp4: 384x640 1 central_library, 13.0ms\n",
            "video 1/1 (frame 500/1546) /content/ttt.mp4: 384x640 1 central_library, 12.7ms\n",
            "video 1/1 (frame 501/1546) /content/ttt.mp4: 384x640 1 central_library, 13.1ms\n",
            "video 1/1 (frame 502/1546) /content/ttt.mp4: 384x640 1 central_library, 12.7ms\n",
            "video 1/1 (frame 503/1546) /content/ttt.mp4: 384x640 1 central_library, 13.0ms\n",
            "video 1/1 (frame 504/1546) /content/ttt.mp4: 384x640 1 central_library, 12.7ms\n",
            "video 1/1 (frame 505/1546) /content/ttt.mp4: 384x640 1 central_library, 12.7ms\n",
            "video 1/1 (frame 506/1546) /content/ttt.mp4: 384x640 1 central_library, 12.7ms\n",
            "video 1/1 (frame 507/1546) /content/ttt.mp4: 384x640 1 central_library, 12.9ms\n",
            "video 1/1 (frame 508/1546) /content/ttt.mp4: 384x640 1 central_library, 12.7ms\n",
            "video 1/1 (frame 509/1546) /content/ttt.mp4: 384x640 1 central_library, 13.1ms\n",
            "video 1/1 (frame 510/1546) /content/ttt.mp4: 384x640 1 central_library, 12.7ms\n",
            "video 1/1 (frame 511/1546) /content/ttt.mp4: 384x640 1 central_library, 16.5ms\n",
            "video 1/1 (frame 512/1546) /content/ttt.mp4: 384x640 1 central_library, 12.7ms\n",
            "video 1/1 (frame 513/1546) /content/ttt.mp4: 384x640 1 central_library, 13.0ms\n",
            "video 1/1 (frame 514/1546) /content/ttt.mp4: 384x640 1 central_library, 12.7ms\n",
            "video 1/1 (frame 515/1546) /content/ttt.mp4: 384x640 1 central_library, 13.0ms\n",
            "video 1/1 (frame 516/1546) /content/ttt.mp4: 384x640 1 central_library, 13.3ms\n",
            "video 1/1 (frame 517/1546) /content/ttt.mp4: 384x640 1 central_library, 12.7ms\n",
            "video 1/1 (frame 518/1546) /content/ttt.mp4: 384x640 1 central_library, 12.8ms\n",
            "video 1/1 (frame 519/1546) /content/ttt.mp4: 384x640 1 central_library, 12.7ms\n",
            "video 1/1 (frame 520/1546) /content/ttt.mp4: 384x640 1 central_library, 12.7ms\n",
            "video 1/1 (frame 521/1546) /content/ttt.mp4: 384x640 1 central_library, 12.7ms\n",
            "video 1/1 (frame 522/1546) /content/ttt.mp4: 384x640 1 central_library, 12.7ms\n",
            "video 1/1 (frame 523/1546) /content/ttt.mp4: 384x640 1 central_library, 12.7ms\n",
            "video 1/1 (frame 524/1546) /content/ttt.mp4: 384x640 1 central_library, 13.0ms\n",
            "video 1/1 (frame 525/1546) /content/ttt.mp4: 384x640 1 central_library, 12.8ms\n",
            "video 1/1 (frame 526/1546) /content/ttt.mp4: 384x640 1 central_library, 12.7ms\n",
            "video 1/1 (frame 527/1546) /content/ttt.mp4: 384x640 1 central_library, 12.7ms\n",
            "video 1/1 (frame 528/1546) /content/ttt.mp4: 384x640 1 central_library, 12.9ms\n",
            "video 1/1 (frame 529/1546) /content/ttt.mp4: 384x640 1 central_library, 12.7ms\n",
            "video 1/1 (frame 530/1546) /content/ttt.mp4: 384x640 1 central_library, 12.9ms\n",
            "video 1/1 (frame 531/1546) /content/ttt.mp4: 384x640 1 central_library, 12.7ms\n",
            "video 1/1 (frame 532/1546) /content/ttt.mp4: 384x640 1 central_library, 12.7ms\n",
            "video 1/1 (frame 533/1546) /content/ttt.mp4: 384x640 1 central_library, 12.7ms\n",
            "video 1/1 (frame 534/1546) /content/ttt.mp4: 384x640 1 central_library, 12.9ms\n",
            "video 1/1 (frame 535/1546) /content/ttt.mp4: 384x640 1 central_library, 12.5ms\n",
            "video 1/1 (frame 536/1546) /content/ttt.mp4: 384x640 1 central_library, 12.5ms\n",
            "video 1/1 (frame 537/1546) /content/ttt.mp4: 384x640 1 central_library, 12.4ms\n",
            "video 1/1 (frame 538/1546) /content/ttt.mp4: 384x640 1 central_library, 12.7ms\n",
            "video 1/1 (frame 539/1546) /content/ttt.mp4: 384x640 1 central_library, 12.4ms\n",
            "video 1/1 (frame 540/1546) /content/ttt.mp4: 384x640 1 central_library, 15.6ms\n",
            "video 1/1 (frame 541/1546) /content/ttt.mp4: 384x640 1 central_library, 12.5ms\n",
            "video 1/1 (frame 542/1546) /content/ttt.mp4: 384x640 1 central_library, 12.7ms\n",
            "video 1/1 (frame 543/1546) /content/ttt.mp4: 384x640 1 central_library, 12.7ms\n",
            "video 1/1 (frame 544/1546) /content/ttt.mp4: 384x640 1 central_library, 13.1ms\n",
            "video 1/1 (frame 545/1546) /content/ttt.mp4: 384x640 1 central_library, 12.4ms\n",
            "video 1/1 (frame 546/1546) /content/ttt.mp4: 384x640 1 central_library, 12.8ms\n",
            "video 1/1 (frame 547/1546) /content/ttt.mp4: 384x640 1 central_library, 12.5ms\n",
            "video 1/1 (frame 548/1546) /content/ttt.mp4: 384x640 1 central_library, 13.2ms\n",
            "video 1/1 (frame 549/1546) /content/ttt.mp4: 384x640 1 central_library, 12.4ms\n",
            "video 1/1 (frame 550/1546) /content/ttt.mp4: 384x640 1 central_library, 12.7ms\n",
            "video 1/1 (frame 551/1546) /content/ttt.mp4: 384x640 1 central_library, 12.4ms\n",
            "video 1/1 (frame 552/1546) /content/ttt.mp4: 384x640 1 central_library, 12.8ms\n",
            "video 1/1 (frame 553/1546) /content/ttt.mp4: 384x640 1 central_library, 12.4ms\n",
            "video 1/1 (frame 554/1546) /content/ttt.mp4: 384x640 1 central_library, 12.6ms\n",
            "video 1/1 (frame 555/1546) /content/ttt.mp4: 384x640 1 central_library, 12.5ms\n",
            "video 1/1 (frame 556/1546) /content/ttt.mp4: 384x640 1 central_library, 12.4ms\n",
            "video 1/1 (frame 557/1546) /content/ttt.mp4: 384x640 1 central_library, 12.4ms\n",
            "video 1/1 (frame 558/1546) /content/ttt.mp4: 384x640 1 central_library, 12.4ms\n",
            "video 1/1 (frame 559/1546) /content/ttt.mp4: 384x640 1 central_library, 12.5ms\n",
            "video 1/1 (frame 560/1546) /content/ttt.mp4: 384x640 1 central_library, 12.4ms\n",
            "video 1/1 (frame 561/1546) /content/ttt.mp4: 384x640 1 central_library, 12.5ms\n",
            "video 1/1 (frame 562/1546) /content/ttt.mp4: 384x640 1 central_library, 13.4ms\n",
            "video 1/1 (frame 563/1546) /content/ttt.mp4: 384x640 1 central_library, 12.8ms\n",
            "video 1/1 (frame 564/1546) /content/ttt.mp4: 384x640 1 central_library, 12.8ms\n",
            "video 1/1 (frame 565/1546) /content/ttt.mp4: 384x640 1 central_library, 12.5ms\n",
            "video 1/1 (frame 566/1546) /content/ttt.mp4: 384x640 1 central_library, 12.4ms\n",
            "video 1/1 (frame 567/1546) /content/ttt.mp4: 384x640 1 central_library, 12.4ms\n",
            "video 1/1 (frame 568/1546) /content/ttt.mp4: 384x640 1 central_library, 12.5ms\n",
            "video 1/1 (frame 569/1546) /content/ttt.mp4: 384x640 1 central_library, 14.6ms\n",
            "video 1/1 (frame 570/1546) /content/ttt.mp4: 384x640 1 central_library, 12.5ms\n",
            "video 1/1 (frame 571/1546) /content/ttt.mp4: 384x640 1 central_library, 12.4ms\n",
            "video 1/1 (frame 572/1546) /content/ttt.mp4: 384x640 1 central_library, 12.5ms\n",
            "video 1/1 (frame 573/1546) /content/ttt.mp4: 384x640 1 central_library, 12.5ms\n",
            "video 1/1 (frame 574/1546) /content/ttt.mp4: 384x640 1 central_library, 12.5ms\n",
            "video 1/1 (frame 575/1546) /content/ttt.mp4: 384x640 1 central_library, 12.5ms\n",
            "video 1/1 (frame 576/1546) /content/ttt.mp4: 384x640 1 central_library, 12.5ms\n",
            "video 1/1 (frame 577/1546) /content/ttt.mp4: 384x640 1 central_library, 12.4ms\n",
            "video 1/1 (frame 578/1546) /content/ttt.mp4: 384x640 1 central_library, 12.6ms\n",
            "video 1/1 (frame 579/1546) /content/ttt.mp4: 384x640 1 central_library, 12.4ms\n",
            "video 1/1 (frame 580/1546) /content/ttt.mp4: 384x640 1 central_library, 12.5ms\n",
            "video 1/1 (frame 581/1546) /content/ttt.mp4: 384x640 1 central_library, 12.4ms\n",
            "video 1/1 (frame 582/1546) /content/ttt.mp4: 384x640 1 central_library, 12.5ms\n",
            "video 1/1 (frame 583/1546) /content/ttt.mp4: 384x640 1 central_library, 12.4ms\n",
            "video 1/1 (frame 584/1546) /content/ttt.mp4: 384x640 1 central_library, 12.5ms\n",
            "video 1/1 (frame 585/1546) /content/ttt.mp4: 384x640 1 central_library, 12.6ms\n",
            "video 1/1 (frame 586/1546) /content/ttt.mp4: 384x640 1 central_library, 12.8ms\n",
            "video 1/1 (frame 587/1546) /content/ttt.mp4: 384x640 1 central_library, 12.7ms\n",
            "video 1/1 (frame 588/1546) /content/ttt.mp4: 384x640 1 central_library, 12.7ms\n",
            "video 1/1 (frame 589/1546) /content/ttt.mp4: 384x640 1 central_library, 12.7ms\n",
            "video 1/1 (frame 590/1546) /content/ttt.mp4: 384x640 1 central_library, 12.7ms\n",
            "video 1/1 (frame 591/1546) /content/ttt.mp4: 384x640 1 central_library, 12.8ms\n",
            "video 1/1 (frame 592/1546) /content/ttt.mp4: 384x640 1 central_library, 12.5ms\n",
            "video 1/1 (frame 593/1546) /content/ttt.mp4: 384x640 1 central_library, 13.4ms\n",
            "video 1/1 (frame 594/1546) /content/ttt.mp4: 384x640 1 central_library, 12.4ms\n",
            "video 1/1 (frame 595/1546) /content/ttt.mp4: 384x640 1 central_library, 12.5ms\n",
            "video 1/1 (frame 596/1546) /content/ttt.mp4: 384x640 1 central_library, 12.5ms\n",
            "video 1/1 (frame 597/1546) /content/ttt.mp4: 384x640 1 central_library, 12.4ms\n",
            "video 1/1 (frame 598/1546) /content/ttt.mp4: 384x640 1 central_library, 12.4ms\n",
            "video 1/1 (frame 599/1546) /content/ttt.mp4: 384x640 1 central_library, 12.7ms\n",
            "video 1/1 (frame 600/1546) /content/ttt.mp4: 384x640 1 central_library, 12.4ms\n",
            "video 1/1 (frame 601/1546) /content/ttt.mp4: 384x640 1 central_library, 13.5ms\n",
            "video 1/1 (frame 602/1546) /content/ttt.mp4: 384x640 1 central_library, 12.5ms\n",
            "video 1/1 (frame 603/1546) /content/ttt.mp4: 384x640 1 central_library, 12.5ms\n",
            "video 1/1 (frame 604/1546) /content/ttt.mp4: 384x640 1 central_library, 12.4ms\n",
            "video 1/1 (frame 605/1546) /content/ttt.mp4: 384x640 1 central_library, 12.5ms\n",
            "video 1/1 (frame 606/1546) /content/ttt.mp4: 384x640 1 central_library, 12.5ms\n",
            "video 1/1 (frame 607/1546) /content/ttt.mp4: 384x640 1 central_library, 12.5ms\n",
            "video 1/1 (frame 608/1546) /content/ttt.mp4: 384x640 1 central_library, 12.5ms\n",
            "video 1/1 (frame 609/1546) /content/ttt.mp4: 384x640 1 central_library, 12.5ms\n",
            "video 1/1 (frame 610/1546) /content/ttt.mp4: 384x640 1 central_library, 12.4ms\n",
            "video 1/1 (frame 611/1546) /content/ttt.mp4: 384x640 1 central_library, 12.5ms\n",
            "video 1/1 (frame 612/1546) /content/ttt.mp4: 384x640 1 central_library, 12.5ms\n",
            "video 1/1 (frame 613/1546) /content/ttt.mp4: 384x640 1 central_library, 12.5ms\n",
            "video 1/1 (frame 614/1546) /content/ttt.mp4: 384x640 1 central_library, 12.5ms\n",
            "video 1/1 (frame 615/1546) /content/ttt.mp4: 384x640 1 central_library, 12.5ms\n",
            "video 1/1 (frame 616/1546) /content/ttt.mp4: 384x640 1 central_library, 12.5ms\n",
            "video 1/1 (frame 617/1546) /content/ttt.mp4: 384x640 1 central_library, 12.5ms\n",
            "video 1/1 (frame 618/1546) /content/ttt.mp4: 384x640 1 central_library, 12.5ms\n",
            "video 1/1 (frame 619/1546) /content/ttt.mp4: 384x640 1 central_library, 12.4ms\n",
            "video 1/1 (frame 620/1546) /content/ttt.mp4: 384x640 1 central_library, 12.4ms\n",
            "video 1/1 (frame 621/1546) /content/ttt.mp4: 384x640 1 central_library, 12.4ms\n",
            "video 1/1 (frame 622/1546) /content/ttt.mp4: 384x640 1 central_library, 12.4ms\n",
            "video 1/1 (frame 623/1546) /content/ttt.mp4: 384x640 1 central_library, 12.5ms\n",
            "video 1/1 (frame 624/1546) /content/ttt.mp4: 384x640 1 central_library, 12.5ms\n",
            "video 1/1 (frame 625/1546) /content/ttt.mp4: 384x640 1 central_library, 12.4ms\n",
            "video 1/1 (frame 626/1546) /content/ttt.mp4: 384x640 1 central_library, 12.5ms\n",
            "video 1/1 (frame 627/1546) /content/ttt.mp4: 384x640 1 central_library, 12.4ms\n",
            "video 1/1 (frame 628/1546) /content/ttt.mp4: 384x640 1 central_library, 14.6ms\n",
            "video 1/1 (frame 629/1546) /content/ttt.mp4: 384x640 1 central_library, 12.5ms\n",
            "video 1/1 (frame 630/1546) /content/ttt.mp4: 384x640 1 central_library, 12.5ms\n",
            "video 1/1 (frame 631/1546) /content/ttt.mp4: 384x640 1 central_library, 12.5ms\n",
            "video 1/1 (frame 632/1546) /content/ttt.mp4: 384x640 1 central_library, 12.8ms\n",
            "video 1/1 (frame 633/1546) /content/ttt.mp4: 384x640 1 central_library, 12.4ms\n",
            "video 1/1 (frame 634/1546) /content/ttt.mp4: 384x640 1 central_library, 12.7ms\n",
            "video 1/1 (frame 635/1546) /content/ttt.mp4: 384x640 1 central_library, 12.5ms\n",
            "video 1/1 (frame 636/1546) /content/ttt.mp4: 384x640 1 central_library, 12.7ms\n",
            "video 1/1 (frame 637/1546) /content/ttt.mp4: 384x640 1 central_library, 12.4ms\n",
            "video 1/1 (frame 638/1546) /content/ttt.mp4: 384x640 1 central_library, 12.5ms\n",
            "video 1/1 (frame 639/1546) /content/ttt.mp4: 384x640 1 central_library, 12.5ms\n",
            "video 1/1 (frame 640/1546) /content/ttt.mp4: 384x640 1 central_library, 12.7ms\n",
            "video 1/1 (frame 641/1546) /content/ttt.mp4: 384x640 1 central_library, 12.4ms\n",
            "video 1/1 (frame 642/1546) /content/ttt.mp4: 384x640 1 central_library, 12.7ms\n",
            "video 1/1 (frame 643/1546) /content/ttt.mp4: 384x640 1 central_library, 12.4ms\n",
            "video 1/1 (frame 644/1546) /content/ttt.mp4: 384x640 1 central_library, 12.7ms\n",
            "video 1/1 (frame 645/1546) /content/ttt.mp4: 384x640 1 central_library, 12.4ms\n",
            "video 1/1 (frame 646/1546) /content/ttt.mp4: 384x640 1 central_library, 12.5ms\n",
            "video 1/1 (frame 647/1546) /content/ttt.mp4: 384x640 1 central_library, 12.4ms\n",
            "video 1/1 (frame 648/1546) /content/ttt.mp4: 384x640 1 central_library, 12.4ms\n",
            "video 1/1 (frame 649/1546) /content/ttt.mp4: 384x640 1 central_library, 12.7ms\n",
            "video 1/1 (frame 650/1546) /content/ttt.mp4: 384x640 1 central_library, 12.4ms\n",
            "video 1/1 (frame 651/1546) /content/ttt.mp4: 384x640 1 central_library, 12.5ms\n",
            "video 1/1 (frame 652/1546) /content/ttt.mp4: 384x640 1 central_library, 12.5ms\n",
            "video 1/1 (frame 653/1546) /content/ttt.mp4: 384x640 1 central_library, 13.0ms\n",
            "video 1/1 (frame 654/1546) /content/ttt.mp4: 384x640 1 central_library, 12.5ms\n",
            "video 1/1 (frame 655/1546) /content/ttt.mp4: 384x640 1 central_library, 14.8ms\n",
            "video 1/1 (frame 656/1546) /content/ttt.mp4: 384x640 1 central_library, 12.7ms\n",
            "video 1/1 (frame 657/1546) /content/ttt.mp4: 384x640 1 central_library, 13.0ms\n",
            "video 1/1 (frame 658/1546) /content/ttt.mp4: 384x640 1 central_library, 12.7ms\n",
            "video 1/1 (frame 659/1546) /content/ttt.mp4: 384x640 1 central_library, 13.7ms\n",
            "video 1/1 (frame 660/1546) /content/ttt.mp4: 384x640 1 central_library, 13.8ms\n",
            "video 1/1 (frame 661/1546) /content/ttt.mp4: 384x640 1 central_library, 16.3ms\n",
            "video 1/1 (frame 662/1546) /content/ttt.mp4: 384x640 1 central_library, 15.8ms\n",
            "video 1/1 (frame 663/1546) /content/ttt.mp4: 384x640 1 central_library, 13.0ms\n",
            "video 1/1 (frame 664/1546) /content/ttt.mp4: 384x640 1 central_library, 13.0ms\n",
            "video 1/1 (frame 665/1546) /content/ttt.mp4: 384x640 1 central_library, 13.1ms\n",
            "video 1/1 (frame 666/1546) /content/ttt.mp4: 384x640 1 central_library, 13.0ms\n",
            "video 1/1 (frame 667/1546) /content/ttt.mp4: 384x640 1 central_library, 13.7ms\n",
            "video 1/1 (frame 668/1546) /content/ttt.mp4: 384x640 1 central_library, 13.3ms\n",
            "video 1/1 (frame 669/1546) /content/ttt.mp4: 384x640 1 central_library, 13.7ms\n",
            "video 1/1 (frame 670/1546) /content/ttt.mp4: 384x640 1 central_library, 13.0ms\n",
            "video 1/1 (frame 671/1546) /content/ttt.mp4: 384x640 1 central_library, 13.2ms\n",
            "video 1/1 (frame 672/1546) /content/ttt.mp4: 384x640 1 central_library, 14.0ms\n",
            "video 1/1 (frame 673/1546) /content/ttt.mp4: 384x640 1 central_library, 13.2ms\n",
            "video 1/1 (frame 674/1546) /content/ttt.mp4: 384x640 1 central_library, 13.7ms\n",
            "video 1/1 (frame 675/1546) /content/ttt.mp4: 384x640 1 central_library, 13.2ms\n",
            "video 1/1 (frame 676/1546) /content/ttt.mp4: 384x640 1 central_library, 14.0ms\n",
            "video 1/1 (frame 677/1546) /content/ttt.mp4: 384x640 1 central_library, 13.5ms\n",
            "video 1/1 (frame 678/1546) /content/ttt.mp4: 384x640 1 central_library, 14.0ms\n",
            "video 1/1 (frame 679/1546) /content/ttt.mp4: 384x640 1 central_library, 13.7ms\n",
            "video 1/1 (frame 680/1546) /content/ttt.mp4: 384x640 1 central_library, 17.0ms\n",
            "video 1/1 (frame 681/1546) /content/ttt.mp4: 384x640 1 central_library, 13.9ms\n",
            "video 1/1 (frame 682/1546) /content/ttt.mp4: 384x640 1 central_library, 14.3ms\n",
            "video 1/1 (frame 683/1546) /content/ttt.mp4: 384x640 1 central_library, 13.8ms\n",
            "video 1/1 (frame 684/1546) /content/ttt.mp4: 384x640 1 central_library, 14.5ms\n",
            "video 1/1 (frame 685/1546) /content/ttt.mp4: 384x640 1 central_library, 14.0ms\n",
            "video 1/1 (frame 686/1546) /content/ttt.mp4: 384x640 1 central_library, 14.9ms\n",
            "video 1/1 (frame 687/1546) /content/ttt.mp4: 384x640 1 central_library, 13.8ms\n",
            "video 1/1 (frame 688/1546) /content/ttt.mp4: 384x640 1 central_library, 14.6ms\n",
            "video 1/1 (frame 689/1546) /content/ttt.mp4: 384x640 1 central_library, 13.8ms\n",
            "video 1/1 (frame 690/1546) /content/ttt.mp4: 384x640 1 central_library, 13.8ms\n",
            "video 1/1 (frame 691/1546) /content/ttt.mp4: 384x640 1 central_library, 16.6ms\n",
            "video 1/1 (frame 692/1546) /content/ttt.mp4: 384x640 1 central_library, 14.8ms\n",
            "video 1/1 (frame 693/1546) /content/ttt.mp4: 384x640 1 central_library, 15.1ms\n",
            "video 1/1 (frame 694/1546) /content/ttt.mp4: 384x640 1 central_library, 17.0ms\n",
            "video 1/1 (frame 695/1546) /content/ttt.mp4: 384x640 1 central_library, 13.8ms\n",
            "video 1/1 (frame 696/1546) /content/ttt.mp4: 384x640 1 central_library, 13.9ms\n",
            "video 1/1 (frame 697/1546) /content/ttt.mp4: 384x640 1 central_library, 13.8ms\n",
            "video 1/1 (frame 698/1546) /content/ttt.mp4: 384x640 1 central_library, 13.9ms\n",
            "video 1/1 (frame 699/1546) /content/ttt.mp4: 384x640 1 central_library, 16.3ms\n",
            "video 1/1 (frame 700/1546) /content/ttt.mp4: 384x640 1 central_library, 18.4ms\n",
            "video 1/1 (frame 701/1546) /content/ttt.mp4: 384x640 1 central_library, 14.1ms\n",
            "video 1/1 (frame 702/1546) /content/ttt.mp4: 384x640 1 central_library, 14.7ms\n",
            "video 1/1 (frame 703/1546) /content/ttt.mp4: 384x640 1 central_library, 19.7ms\n",
            "video 1/1 (frame 704/1546) /content/ttt.mp4: 384x640 1 central_library, 15.5ms\n",
            "video 1/1 (frame 705/1546) /content/ttt.mp4: 384x640 1 central_library, 14.8ms\n",
            "video 1/1 (frame 706/1546) /content/ttt.mp4: 384x640 1 central_library, 16.3ms\n",
            "video 1/1 (frame 707/1546) /content/ttt.mp4: 384x640 1 central_library, 13.8ms\n",
            "video 1/1 (frame 708/1546) /content/ttt.mp4: 384x640 1 central_library, 14.5ms\n",
            "video 1/1 (frame 709/1546) /content/ttt.mp4: 384x640 1 central_library, 13.8ms\n",
            "video 1/1 (frame 710/1546) /content/ttt.mp4: 384x640 1 central_library, 13.8ms\n",
            "video 1/1 (frame 711/1546) /content/ttt.mp4: 384x640 1 central_library, 13.8ms\n",
            "video 1/1 (frame 712/1546) /content/ttt.mp4: 384x640 1 central_library, 13.9ms\n",
            "video 1/1 (frame 713/1546) /content/ttt.mp4: 384x640 1 central_library, 13.8ms\n",
            "video 1/1 (frame 714/1546) /content/ttt.mp4: 384x640 1 central_library, 13.9ms\n",
            "video 1/1 (frame 715/1546) /content/ttt.mp4: 384x640 1 central_library, 13.8ms\n",
            "video 1/1 (frame 716/1546) /content/ttt.mp4: 384x640 1 central_library, 14.0ms\n",
            "video 1/1 (frame 717/1546) /content/ttt.mp4: 384x640 1 central_library, 12.9ms\n",
            "video 1/1 (frame 718/1546) /content/ttt.mp4: 384x640 1 central_library, 13.0ms\n",
            "video 1/1 (frame 719/1546) /content/ttt.mp4: 384x640 1 central_library, 12.9ms\n",
            "video 1/1 (frame 720/1546) /content/ttt.mp4: 384x640 1 central_library, 13.2ms\n",
            "video 1/1 (frame 721/1546) /content/ttt.mp4: 384x640 1 central_library, 12.9ms\n",
            "video 1/1 (frame 722/1546) /content/ttt.mp4: 384x640 1 central_library, 13.0ms\n",
            "video 1/1 (frame 723/1546) /content/ttt.mp4: 384x640 1 central_library, 12.9ms\n",
            "video 1/1 (frame 724/1546) /content/ttt.mp4: 384x640 1 central_library, 13.0ms\n",
            "video 1/1 (frame 725/1546) /content/ttt.mp4: 384x640 1 central_library, 13.0ms\n",
            "video 1/1 (frame 726/1546) /content/ttt.mp4: 384x640 1 central_library, 13.1ms\n",
            "video 1/1 (frame 727/1546) /content/ttt.mp4: 384x640 1 central_library, 13.0ms\n",
            "video 1/1 (frame 728/1546) /content/ttt.mp4: 384x640 1 central_library, 12.4ms\n",
            "video 1/1 (frame 729/1546) /content/ttt.mp4: 384x640 1 central_library, 12.4ms\n",
            "video 1/1 (frame 730/1546) /content/ttt.mp4: 384x640 1 central_library, 12.5ms\n",
            "video 1/1 (frame 731/1546) /content/ttt.mp4: 384x640 1 central_library, 21.3ms\n",
            "video 1/1 (frame 732/1546) /content/ttt.mp4: 384x640 1 central_library, 12.5ms\n",
            "video 1/1 (frame 733/1546) /content/ttt.mp4: 384x640 1 central_library, 12.5ms\n",
            "video 1/1 (frame 734/1546) /content/ttt.mp4: 384x640 1 central_library, 12.4ms\n",
            "video 1/1 (frame 735/1546) /content/ttt.mp4: 384x640 1 central_library, 12.5ms\n",
            "video 1/1 (frame 736/1546) /content/ttt.mp4: 384x640 1 central_library, 12.5ms\n",
            "video 1/1 (frame 737/1546) /content/ttt.mp4: 384x640 1 central_library, 12.4ms\n",
            "video 1/1 (frame 738/1546) /content/ttt.mp4: 384x640 1 central_library, 12.5ms\n",
            "video 1/1 (frame 739/1546) /content/ttt.mp4: 384x640 1 central_library, 12.5ms\n",
            "video 1/1 (frame 740/1546) /content/ttt.mp4: 384x640 1 central_library, 12.4ms\n",
            "video 1/1 (frame 741/1546) /content/ttt.mp4: 384x640 1 central_library, 12.4ms\n",
            "video 1/1 (frame 742/1546) /content/ttt.mp4: 384x640 1 central_library, 12.5ms\n",
            "video 1/1 (frame 743/1546) /content/ttt.mp4: 384x640 1 central_library, 12.5ms\n",
            "video 1/1 (frame 744/1546) /content/ttt.mp4: 384x640 1 central_library, 12.6ms\n",
            "video 1/1 (frame 745/1546) /content/ttt.mp4: 384x640 1 central_library, 12.4ms\n",
            "video 1/1 (frame 746/1546) /content/ttt.mp4: 384x640 1 central_library, 12.5ms\n",
            "video 1/1 (frame 747/1546) /content/ttt.mp4: 384x640 1 central_library, 12.5ms\n",
            "video 1/1 (frame 748/1546) /content/ttt.mp4: 384x640 1 central_library, 12.5ms\n",
            "video 1/1 (frame 749/1546) /content/ttt.mp4: 384x640 1 central_library, 12.5ms\n",
            "video 1/1 (frame 750/1546) /content/ttt.mp4: 384x640 1 central_library, 12.8ms\n",
            "video 1/1 (frame 751/1546) /content/ttt.mp4: 384x640 1 central_library, 12.9ms\n",
            "video 1/1 (frame 752/1546) /content/ttt.mp4: 384x640 1 central_library, 13.2ms\n",
            "video 1/1 (frame 753/1546) /content/ttt.mp4: 384x640 1 central_library, 13.3ms\n",
            "video 1/1 (frame 754/1546) /content/ttt.mp4: 384x640 1 central_library, 12.4ms\n",
            "video 1/1 (frame 755/1546) /content/ttt.mp4: 384x640 1 central_library, 13.1ms\n",
            "video 1/1 (frame 756/1546) /content/ttt.mp4: 384x640 1 central_library, 12.5ms\n",
            "video 1/1 (frame 757/1546) /content/ttt.mp4: 384x640 1 central_library, 12.9ms\n",
            "video 1/1 (frame 758/1546) /content/ttt.mp4: 384x640 1 central_library, 12.5ms\n",
            "video 1/1 (frame 759/1546) /content/ttt.mp4: 384x640 1 central_library, 13.1ms\n",
            "video 1/1 (frame 760/1546) /content/ttt.mp4: 384x640 1 central_library, 15.4ms\n",
            "video 1/1 (frame 761/1546) /content/ttt.mp4: 384x640 1 central_library, 12.5ms\n",
            "video 1/1 (frame 762/1546) /content/ttt.mp4: 384x640 1 central_library, 12.5ms\n",
            "video 1/1 (frame 763/1546) /content/ttt.mp4: 384x640 1 central_library, 12.5ms\n",
            "video 1/1 (frame 764/1546) /content/ttt.mp4: 384x640 1 central_library, 12.5ms\n",
            "video 1/1 (frame 765/1546) /content/ttt.mp4: 384x640 1 central_library, 12.5ms\n",
            "video 1/1 (frame 766/1546) /content/ttt.mp4: 384x640 1 central_library, 13.0ms\n",
            "video 1/1 (frame 767/1546) /content/ttt.mp4: 384x640 1 central_library, 12.5ms\n",
            "video 1/1 (frame 768/1546) /content/ttt.mp4: 384x640 1 central_library, 13.1ms\n",
            "video 1/1 (frame 769/1546) /content/ttt.mp4: 384x640 1 central_library, 12.5ms\n",
            "video 1/1 (frame 770/1546) /content/ttt.mp4: 384x640 1 central_library, 12.5ms\n",
            "video 1/1 (frame 771/1546) /content/ttt.mp4: 384x640 1 central_library, 12.5ms\n",
            "video 1/1 (frame 772/1546) /content/ttt.mp4: 384x640 1 central_library, 12.4ms\n",
            "video 1/1 (frame 773/1546) /content/ttt.mp4: 384x640 1 central_library, 12.9ms\n",
            "video 1/1 (frame 774/1546) /content/ttt.mp4: 384x640 1 central_library, 12.4ms\n",
            "video 1/1 (frame 775/1546) /content/ttt.mp4: 384x640 1 central_library, 12.6ms\n",
            "video 1/1 (frame 776/1546) /content/ttt.mp4: 384x640 1 central_library, 12.4ms\n",
            "video 1/1 (frame 777/1546) /content/ttt.mp4: 384x640 1 central_library, 12.5ms\n",
            "video 1/1 (frame 778/1546) /content/ttt.mp4: 384x640 1 central_library, 12.4ms\n",
            "video 1/1 (frame 779/1546) /content/ttt.mp4: 384x640 1 central_library, 12.9ms\n",
            "video 1/1 (frame 780/1546) /content/ttt.mp4: 384x640 1 central_library, 12.5ms\n",
            "video 1/1 (frame 781/1546) /content/ttt.mp4: 384x640 1 central_library, 13.3ms\n",
            "video 1/1 (frame 782/1546) /content/ttt.mp4: 384x640 1 central_library, 12.6ms\n",
            "video 1/1 (frame 783/1546) /content/ttt.mp4: 384x640 1 central_library, 12.5ms\n",
            "video 1/1 (frame 784/1546) /content/ttt.mp4: 384x640 1 central_library, 12.4ms\n",
            "video 1/1 (frame 785/1546) /content/ttt.mp4: 384x640 1 central_library, 12.5ms\n",
            "video 1/1 (frame 786/1546) /content/ttt.mp4: 384x640 1 central_library, 12.4ms\n",
            "video 1/1 (frame 787/1546) /content/ttt.mp4: 384x640 1 central_library, 12.5ms\n",
            "video 1/1 (frame 788/1546) /content/ttt.mp4: 384x640 1 faculty_of_material_and_chemical_eng, 12.5ms\n",
            "video 1/1 (frame 789/1546) /content/ttt.mp4: 384x640 1 faculty_of_material_and_chemical_eng, 16.0ms\n",
            "video 1/1 (frame 790/1546) /content/ttt.mp4: 384x640 1 faculty_of_material_and_chemical_eng, 12.5ms\n",
            "video 1/1 (frame 791/1546) /content/ttt.mp4: 384x640 1 faculty_of_material_and_chemical_eng, 12.5ms\n",
            "video 1/1 (frame 792/1546) /content/ttt.mp4: 384x640 1 faculty_of_material_and_chemical_eng, 12.5ms\n",
            "video 1/1 (frame 793/1546) /content/ttt.mp4: 384x640 1 faculty_of_material_and_chemical_eng, 12.5ms\n",
            "video 1/1 (frame 794/1546) /content/ttt.mp4: 384x640 1 faculty_of_material_and_chemical_eng, 12.5ms\n",
            "video 1/1 (frame 795/1546) /content/ttt.mp4: 384x640 1 faculty_of_material_and_chemical_eng, 12.5ms\n",
            "video 1/1 (frame 796/1546) /content/ttt.mp4: 384x640 1 faculty_of_material_and_chemical_eng, 12.4ms\n",
            "video 1/1 (frame 797/1546) /content/ttt.mp4: 384x640 1 faculty_of_material_and_chemical_eng, 12.9ms\n",
            "video 1/1 (frame 798/1546) /content/ttt.mp4: 384x640 1 faculty_of_material_and_chemical_eng, 12.6ms\n",
            "video 1/1 (frame 799/1546) /content/ttt.mp4: 384x640 1 faculty_of_material_and_chemical_eng, 12.7ms\n",
            "video 1/1 (frame 800/1546) /content/ttt.mp4: 384x640 1 faculty_of_material_and_chemical_eng, 12.7ms\n",
            "video 1/1 (frame 801/1546) /content/ttt.mp4: 384x640 1 faculty_of_material_and_chemical_eng, 12.7ms\n",
            "video 1/1 (frame 802/1546) /content/ttt.mp4: 384x640 1 faculty_of_material_and_chemical_eng, 13.5ms\n",
            "video 1/1 (frame 803/1546) /content/ttt.mp4: 384x640 1 faculty_of_material_and_chemical_eng, 12.8ms\n",
            "video 1/1 (frame 804/1546) /content/ttt.mp4: 384x640 1 faculty_of_material_and_chemical_eng, 13.3ms\n",
            "video 1/1 (frame 805/1546) /content/ttt.mp4: 384x640 1 faculty_of_material_and_chemical_eng, 12.7ms\n",
            "video 1/1 (frame 806/1546) /content/ttt.mp4: 384x640 1 faculty_of_material_and_chemical_eng, 12.7ms\n",
            "video 1/1 (frame 807/1546) /content/ttt.mp4: 384x640 1 faculty_of_material_and_chemical_eng, 12.7ms\n",
            "video 1/1 (frame 808/1546) /content/ttt.mp4: 384x640 1 faculty_of_material_and_chemical_eng, 12.7ms\n",
            "video 1/1 (frame 809/1546) /content/ttt.mp4: 384x640 1 faculty_of_material_and_chemical_eng, 12.7ms\n",
            "video 1/1 (frame 810/1546) /content/ttt.mp4: 384x640 1 faculty_of_material_and_chemical_eng, 12.7ms\n",
            "video 1/1 (frame 811/1546) /content/ttt.mp4: 384x640 1 faculty_of_material_and_chemical_eng, 12.8ms\n",
            "video 1/1 (frame 812/1546) /content/ttt.mp4: 384x640 1 faculty_of_material_and_chemical_eng, 12.7ms\n",
            "video 1/1 (frame 813/1546) /content/ttt.mp4: 384x640 1 faculty_of_material_and_chemical_eng, 12.7ms\n",
            "video 1/1 (frame 814/1546) /content/ttt.mp4: 384x640 1 faculty_of_material_and_chemical_eng, 12.7ms\n",
            "video 1/1 (frame 815/1546) /content/ttt.mp4: 384x640 1 faculty_of_material_and_chemical_eng, 12.7ms\n",
            "video 1/1 (frame 816/1546) /content/ttt.mp4: 384x640 1 faculty_of_material_and_chemical_eng, 12.7ms\n",
            "video 1/1 (frame 817/1546) /content/ttt.mp4: 384x640 1 faculty_of_material_and_chemical_eng, 14.2ms\n",
            "video 1/1 (frame 818/1546) /content/ttt.mp4: 384x640 1 faculty_of_material_and_chemical_eng, 12.8ms\n",
            "video 1/1 (frame 819/1546) /content/ttt.mp4: 384x640 1 faculty_of_material_and_chemical_eng, 12.7ms\n",
            "video 1/1 (frame 820/1546) /content/ttt.mp4: 384x640 1 faculty_of_material_and_chemical_eng, 12.7ms\n",
            "video 1/1 (frame 821/1546) /content/ttt.mp4: 384x640 1 faculty_of_material_and_chemical_eng, 13.0ms\n",
            "video 1/1 (frame 822/1546) /content/ttt.mp4: 384x640 1 faculty_of_material_and_chemical_eng, 13.0ms\n",
            "video 1/1 (frame 823/1546) /content/ttt.mp4: 384x640 1 faculty_of_material_and_chemical_eng, 13.0ms\n",
            "video 1/1 (frame 824/1546) /content/ttt.mp4: 384x640 1 faculty_of_material_and_chemical_eng, 12.9ms\n",
            "video 1/1 (frame 825/1546) /content/ttt.mp4: 384x640 1 faculty_of_material_and_chemical_eng, 12.9ms\n",
            "video 1/1 (frame 826/1546) /content/ttt.mp4: 384x640 1 faculty_of_material_and_chemical_eng, 12.9ms\n",
            "video 1/1 (frame 827/1546) /content/ttt.mp4: 384x640 1 faculty_of_material_and_chemical_eng, 12.9ms\n",
            "video 1/1 (frame 828/1546) /content/ttt.mp4: 384x640 1 faculty_of_material_and_chemical_eng, 12.9ms\n",
            "video 1/1 (frame 829/1546) /content/ttt.mp4: 384x640 1 faculty_of_material_and_chemical_eng, 12.9ms\n",
            "video 1/1 (frame 830/1546) /content/ttt.mp4: 384x640 1 faculty_of_material_and_chemical_eng, 13.0ms\n",
            "video 1/1 (frame 831/1546) /content/ttt.mp4: 384x640 1 faculty_of_material_and_chemical_eng, 13.0ms\n",
            "video 1/1 (frame 832/1546) /content/ttt.mp4: 384x640 1 faculty_of_material_and_chemical_eng, 12.9ms\n",
            "video 1/1 (frame 833/1546) /content/ttt.mp4: 384x640 1 faculty_of_material_and_chemical_eng, 12.9ms\n",
            "video 1/1 (frame 834/1546) /content/ttt.mp4: 384x640 1 faculty_of_material_and_chemical_eng, 13.9ms\n",
            "video 1/1 (frame 835/1546) /content/ttt.mp4: 384x640 1 faculty_of_material_and_chemical_eng, 13.0ms\n",
            "video 1/1 (frame 836/1546) /content/ttt.mp4: 384x640 1 faculty_of_material_and_chemical_eng, 13.0ms\n",
            "video 1/1 (frame 837/1546) /content/ttt.mp4: 384x640 1 faculty_of_material_and_chemical_eng, 13.5ms\n",
            "video 1/1 (frame 838/1546) /content/ttt.mp4: 384x640 1 faculty_of_material_and_chemical_eng, 13.5ms\n",
            "video 1/1 (frame 839/1546) /content/ttt.mp4: 384x640 1 faculty_of_material_and_chemical_eng, 12.9ms\n",
            "video 1/1 (frame 840/1546) /content/ttt.mp4: 384x640 1 faculty_of_material_and_chemical_eng, 13.0ms\n",
            "video 1/1 (frame 841/1546) /content/ttt.mp4: 384x640 1 faculty_of_material_and_chemical_eng, 12.9ms\n",
            "video 1/1 (frame 842/1546) /content/ttt.mp4: 384x640 1 faculty_of_material_and_chemical_eng, 13.2ms\n",
            "video 1/1 (frame 843/1546) /content/ttt.mp4: 384x640 1 faculty_of_material_and_chemical_eng, 13.2ms\n",
            "video 1/1 (frame 844/1546) /content/ttt.mp4: 384x640 1 faculty_of_material_and_chemical_eng, 13.3ms\n",
            "video 1/1 (frame 845/1546) /content/ttt.mp4: 384x640 1 faculty_of_material_and_chemical_eng, 13.2ms\n",
            "video 1/1 (frame 846/1546) /content/ttt.mp4: 384x640 1 faculty_of_material_and_chemical_eng, 13.2ms\n",
            "video 1/1 (frame 847/1546) /content/ttt.mp4: 384x640 1 faculty_of_material_and_chemical_eng, 13.2ms\n",
            "video 1/1 (frame 848/1546) /content/ttt.mp4: 384x640 1 faculty_of_material_and_chemical_eng, 13.3ms\n",
            "video 1/1 (frame 849/1546) /content/ttt.mp4: 384x640 1 faculty_of_material_and_chemical_eng, 17.1ms\n",
            "video 1/1 (frame 850/1546) /content/ttt.mp4: 384x640 1 faculty_of_material_and_chemical_eng, 13.2ms\n",
            "video 1/1 (frame 851/1546) /content/ttt.mp4: 384x640 1 faculty_of_material_and_chemical_eng, 13.3ms\n",
            "video 1/1 (frame 852/1546) /content/ttt.mp4: 384x640 1 faculty_of_material_and_chemical_eng, 13.4ms\n",
            "video 1/1 (frame 853/1546) /content/ttt.mp4: 384x640 1 faculty_of_material_and_chemical_eng, 13.5ms\n",
            "video 1/1 (frame 854/1546) /content/ttt.mp4: 384x640 1 faculty_of_material_and_chemical_eng, 13.5ms\n",
            "video 1/1 (frame 855/1546) /content/ttt.mp4: 384x640 1 faculty_of_material_and_chemical_eng, 13.5ms\n",
            "video 1/1 (frame 856/1546) /content/ttt.mp4: 384x640 1 faculty_of_material_and_chemical_eng, 13.5ms\n",
            "video 1/1 (frame 857/1546) /content/ttt.mp4: 384x640 1 faculty_of_material_and_chemical_eng, 13.5ms\n",
            "video 1/1 (frame 858/1546) /content/ttt.mp4: 384x640 1 faculty_of_material_and_chemical_eng, 12.7ms\n",
            "video 1/1 (frame 859/1546) /content/ttt.mp4: 384x640 1 faculty_of_material_and_chemical_eng, 12.7ms\n",
            "video 1/1 (frame 860/1546) /content/ttt.mp4: 384x640 1 faculty_of_material_and_chemical_eng, 13.2ms\n",
            "video 1/1 (frame 861/1546) /content/ttt.mp4: 384x640 1 faculty_of_material_and_chemical_eng, 12.8ms\n",
            "video 1/1 (frame 862/1546) /content/ttt.mp4: 384x640 1 faculty_of_material_and_chemical_eng, 12.7ms\n",
            "video 1/1 (frame 863/1546) /content/ttt.mp4: 384x640 1 faculty_of_material_and_chemical_eng, 12.8ms\n",
            "video 1/1 (frame 864/1546) /content/ttt.mp4: 384x640 1 faculty_of_material_and_chemical_eng, 12.7ms\n",
            "video 1/1 (frame 865/1546) /content/ttt.mp4: 384x640 1 faculty_of_material_and_chemical_eng, 12.7ms\n",
            "video 1/1 (frame 866/1546) /content/ttt.mp4: 384x640 1 faculty_of_material_and_chemical_eng, 13.3ms\n",
            "video 1/1 (frame 867/1546) /content/ttt.mp4: 384x640 1 faculty_of_material_and_chemical_eng, 12.7ms\n",
            "video 1/1 (frame 868/1546) /content/ttt.mp4: 384x640 1 faculty_of_material_and_chemical_eng, 12.9ms\n",
            "video 1/1 (frame 869/1546) /content/ttt.mp4: 384x640 1 faculty_of_material_and_chemical_eng, 12.7ms\n",
            "video 1/1 (frame 870/1546) /content/ttt.mp4: 384x640 1 faculty_of_material_and_chemical_eng, 12.7ms\n",
            "video 1/1 (frame 871/1546) /content/ttt.mp4: 384x640 1 faculty_of_material_and_chemical_eng, 16.9ms\n",
            "video 1/1 (frame 872/1546) /content/ttt.mp4: 384x640 1 faculty_of_material_and_chemical_eng, 12.7ms\n",
            "video 1/1 (frame 873/1546) /content/ttt.mp4: 384x640 1 faculty_of_material_and_chemical_eng, 12.8ms\n",
            "video 1/1 (frame 874/1546) /content/ttt.mp4: 384x640 1 faculty_of_material_and_chemical_eng, 12.8ms\n",
            "video 1/1 (frame 875/1546) /content/ttt.mp4: 384x640 1 faculty_of_material_and_chemical_eng, 12.7ms\n",
            "video 1/1 (frame 876/1546) /content/ttt.mp4: 384x640 1 faculty_of_material_and_chemical_eng, 12.7ms\n",
            "video 1/1 (frame 877/1546) /content/ttt.mp4: 384x640 1 faculty_of_material_and_chemical_eng, 12.7ms\n",
            "video 1/1 (frame 878/1546) /content/ttt.mp4: 384x640 1 faculty_of_material_and_chemical_eng, 12.7ms\n",
            "video 1/1 (frame 879/1546) /content/ttt.mp4: 384x640 1 faculty_of_material_and_chemical_eng, 12.7ms\n",
            "video 1/1 (frame 880/1546) /content/ttt.mp4: 384x640 1 faculty_of_material_and_chemical_eng, 13.3ms\n",
            "video 1/1 (frame 881/1546) /content/ttt.mp4: 384x640 1 faculty_of_material_and_chemical_eng, 12.7ms\n",
            "video 1/1 (frame 882/1546) /content/ttt.mp4: 384x640 1 faculty_of_material_and_chemical_eng, 12.8ms\n",
            "video 1/1 (frame 883/1546) /content/ttt.mp4: 384x640 1 faculty_of_material_and_chemical_eng, 12.7ms\n",
            "video 1/1 (frame 884/1546) /content/ttt.mp4: 384x640 1 faculty_of_material_and_chemical_eng, 12.9ms\n",
            "video 1/1 (frame 885/1546) /content/ttt.mp4: 384x640 1 faculty_of_material_and_chemical_eng, 12.7ms\n",
            "video 1/1 (frame 886/1546) /content/ttt.mp4: 384x640 1 faculty_of_material_and_chemical_eng, 12.8ms\n",
            "video 1/1 (frame 887/1546) /content/ttt.mp4: 384x640 1 faculty_of_material_and_chemical_eng, 12.7ms\n",
            "video 1/1 (frame 888/1546) /content/ttt.mp4: 384x640 1 faculty_of_material_and_chemical_eng, 12.7ms\n",
            "video 1/1 (frame 889/1546) /content/ttt.mp4: 384x640 1 faculty_of_material_and_chemical_eng, 17.0ms\n",
            "video 1/1 (frame 890/1546) /content/ttt.mp4: 384x640 1 faculty_of_material_and_chemical_eng, 12.7ms\n",
            "video 1/1 (frame 891/1546) /content/ttt.mp4: 384x640 1 faculty_of_material_and_chemical_eng, 12.8ms\n",
            "video 1/1 (frame 892/1546) /content/ttt.mp4: 384x640 1 faculty_of_material_and_chemical_eng, 12.7ms\n",
            "video 1/1 (frame 893/1546) /content/ttt.mp4: 384x640 1 faculty_of_material_and_chemical_eng, 13.0ms\n",
            "video 1/1 (frame 894/1546) /content/ttt.mp4: 384x640 1 faculty_of_material_and_chemical_eng, 12.8ms\n",
            "video 1/1 (frame 895/1546) /content/ttt.mp4: 384x640 1 faculty_of_material_and_chemical_eng, 12.7ms\n",
            "video 1/1 (frame 896/1546) /content/ttt.mp4: 384x640 1 faculty_of_material_and_chemical_eng, 12.7ms\n",
            "video 1/1 (frame 897/1546) /content/ttt.mp4: 384x640 1 faculty_of_material_and_chemical_eng, 12.7ms\n",
            "video 1/1 (frame 898/1546) /content/ttt.mp4: 384x640 1 faculty_of_material_and_chemical_eng, 12.7ms\n",
            "video 1/1 (frame 899/1546) /content/ttt.mp4: 384x640 1 faculty_of_material_and_chemical_eng, 12.7ms\n",
            "video 1/1 (frame 900/1546) /content/ttt.mp4: 384x640 1 faculty_of_material_and_chemical_eng, 12.7ms\n",
            "video 1/1 (frame 901/1546) /content/ttt.mp4: 384x640 1 faculty_of_material_and_chemical_eng, 14.0ms\n",
            "video 1/1 (frame 902/1546) /content/ttt.mp4: 384x640 1 faculty_of_material_and_chemical_eng, 12.7ms\n",
            "video 1/1 (frame 903/1546) /content/ttt.mp4: 384x640 1 faculty_of_material_and_chemical_eng, 12.8ms\n",
            "video 1/1 (frame 904/1546) /content/ttt.mp4: 384x640 1 faculty_of_material_and_chemical_eng, 12.8ms\n",
            "video 1/1 (frame 905/1546) /content/ttt.mp4: 384x640 1 faculty_of_material_and_chemical_eng, 13.6ms\n",
            "video 1/1 (frame 906/1546) /content/ttt.mp4: 384x640 1 faculty_of_material_and_chemical_eng, 13.2ms\n",
            "video 1/1 (frame 907/1546) /content/ttt.mp4: 384x640 1 faculty_of_material_and_chemical_eng, 13.3ms\n",
            "video 1/1 (frame 908/1546) /content/ttt.mp4: 384x640 1 faculty_of_material_and_chemical_eng, 13.2ms\n",
            "video 1/1 (frame 909/1546) /content/ttt.mp4: 384x640 1 faculty_of_material_and_chemical_eng, 13.3ms\n",
            "video 1/1 (frame 910/1546) /content/ttt.mp4: 384x640 1 faculty_of_material_and_chemical_eng, 13.2ms\n",
            "video 1/1 (frame 911/1546) /content/ttt.mp4: 384x640 1 faculty_of_material_and_chemical_eng, 13.3ms\n",
            "video 1/1 (frame 912/1546) /content/ttt.mp4: 384x640 1 faculty_of_material_and_chemical_eng, 13.2ms\n",
            "video 1/1 (frame 913/1546) /content/ttt.mp4: 384x640 1 faculty_of_material_and_chemical_eng, 13.3ms\n",
            "video 1/1 (frame 914/1546) /content/ttt.mp4: 384x640 1 faculty_of_material_and_chemical_eng, 13.2ms\n",
            "video 1/1 (frame 915/1546) /content/ttt.mp4: 384x640 1 faculty_of_material_and_chemical_eng, 13.3ms\n",
            "video 1/1 (frame 916/1546) /content/ttt.mp4: 384x640 1 faculty_of_material_and_chemical_eng, 12.9ms\n",
            "video 1/1 (frame 917/1546) /content/ttt.mp4: 384x640 1 faculty_of_material_and_chemical_eng, 12.9ms\n",
            "video 1/1 (frame 918/1546) /content/ttt.mp4: 384x640 1 faculty_of_material_and_chemical_eng, 13.0ms\n",
            "video 1/1 (frame 919/1546) /content/ttt.mp4: 384x640 1 faculty_of_material_and_chemical_eng, 13.0ms\n",
            "video 1/1 (frame 920/1546) /content/ttt.mp4: 384x640 1 faculty_of_material_and_chemical_eng, 13.0ms\n",
            "video 1/1 (frame 921/1546) /content/ttt.mp4: 384x640 1 faculty_of_material_and_chemical_eng, 12.9ms\n",
            "video 1/1 (frame 922/1546) /content/ttt.mp4: 384x640 1 faculty_of_material_and_chemical_eng, 13.0ms\n",
            "video 1/1 (frame 923/1546) /content/ttt.mp4: 384x640 1 faculty_of_material_and_chemical_eng, 13.3ms\n",
            "video 1/1 (frame 924/1546) /content/ttt.mp4: 384x640 1 faculty_of_material_and_chemical_eng, 13.0ms\n",
            "video 1/1 (frame 925/1546) /content/ttt.mp4: 384x640 1 faculty_of_material_and_chemical_eng, 17.3ms\n",
            "video 1/1 (frame 926/1546) /content/ttt.mp4: 384x640 1 faculty_of_material_and_chemical_eng, 13.7ms\n",
            "video 1/1 (frame 927/1546) /content/ttt.mp4: 384x640 1 faculty_of_material_and_chemical_eng, 13.0ms\n",
            "video 1/1 (frame 928/1546) /content/ttt.mp4: 384x640 1 faculty_of_material_and_chemical_eng, 13.3ms\n",
            "video 1/1 (frame 929/1546) /content/ttt.mp4: 384x640 1 faculty_of_material_and_chemical_eng, 13.2ms\n",
            "video 1/1 (frame 930/1546) /content/ttt.mp4: 384x640 1 faculty_of_material_and_chemical_eng, 13.0ms\n",
            "video 1/1 (frame 931/1546) /content/ttt.mp4: 384x640 1 faculty_of_material_and_chemical_eng, 12.9ms\n",
            "video 1/1 (frame 932/1546) /content/ttt.mp4: 384x640 1 faculty_of_material_and_chemical_eng, 13.0ms\n",
            "video 1/1 (frame 933/1546) /content/ttt.mp4: 384x640 1 faculty_of_material_and_chemical_eng, 12.9ms\n",
            "video 1/1 (frame 934/1546) /content/ttt.mp4: 384x640 1 faculty_of_material_and_chemical_eng, 13.0ms\n",
            "video 1/1 (frame 935/1546) /content/ttt.mp4: 384x640 1 faculty_of_material_and_chemical_eng, 13.0ms\n",
            "video 1/1 (frame 936/1546) /content/ttt.mp4: 384x640 1 faculty_of_material_and_chemical_eng, 13.3ms\n",
            "video 1/1 (frame 937/1546) /content/ttt.mp4: 384x640 1 faculty_of_material_and_chemical_eng, 12.9ms\n",
            "video 1/1 (frame 938/1546) /content/ttt.mp4: 384x640 1 faculty_of_material_and_chemical_eng, 13.2ms\n",
            "video 1/1 (frame 939/1546) /content/ttt.mp4: 384x640 1 faculty_of_material_and_chemical_eng, 13.0ms\n",
            "video 1/1 (frame 940/1546) /content/ttt.mp4: 384x640 1 faculty_of_material_and_chemical_eng, 13.0ms\n",
            "video 1/1 (frame 941/1546) /content/ttt.mp4: 384x640 1 faculty_of_material_and_chemical_eng, 13.0ms\n",
            "video 1/1 (frame 942/1546) /content/ttt.mp4: 384x640 1 faculty_of_material_and_chemical_eng, 13.2ms\n",
            "video 1/1 (frame 943/1546) /content/ttt.mp4: 384x640 1 faculty_of_material_and_chemical_eng, 12.9ms\n",
            "video 1/1 (frame 944/1546) /content/ttt.mp4: 384x640 1 faculty_of_material_and_chemical_eng, 14.9ms\n",
            "video 1/1 (frame 945/1546) /content/ttt.mp4: 384x640 1 faculty_of_material_and_chemical_eng, 13.0ms\n",
            "video 1/1 (frame 946/1546) /content/ttt.mp4: 384x640 1 faculty_of_material_and_chemical_eng, 13.1ms\n",
            "video 1/1 (frame 947/1546) /content/ttt.mp4: 384x640 1 faculty_of_material_and_chemical_eng, 12.9ms\n",
            "video 1/1 (frame 948/1546) /content/ttt.mp4: 384x640 1 faculty_of_material_and_chemical_eng, 13.0ms\n",
            "video 1/1 (frame 949/1546) /content/ttt.mp4: 384x640 1 faculty_of_material_and_chemical_eng, 13.0ms\n",
            "video 1/1 (frame 950/1546) /content/ttt.mp4: 384x640 1 faculty_of_material_and_chemical_eng, 13.0ms\n",
            "video 1/1 (frame 951/1546) /content/ttt.mp4: 384x640 1 faculty_of_material_and_chemical_eng, 13.0ms\n",
            "video 1/1 (frame 952/1546) /content/ttt.mp4: 384x640 1 faculty_of_material_and_chemical_eng, 13.8ms\n",
            "video 1/1 (frame 953/1546) /content/ttt.mp4: 384x640 1 faculty_of_material_and_chemical_eng, 13.0ms\n",
            "video 1/1 (frame 954/1546) /content/ttt.mp4: 384x640 1 faculty_of_material_and_chemical_eng, 13.3ms\n",
            "video 1/1 (frame 955/1546) /content/ttt.mp4: 384x640 1 faculty_of_material_and_chemical_eng, 13.0ms\n",
            "video 1/1 (frame 956/1546) /content/ttt.mp4: 384x640 1 faculty_of_material_and_chemical_eng, 13.0ms\n",
            "video 1/1 (frame 957/1546) /content/ttt.mp4: 384x640 1 faculty_of_material_and_chemical_eng, 13.2ms\n",
            "video 1/1 (frame 958/1546) /content/ttt.mp4: 384x640 1 faculty_of_material_and_chemical_eng, 12.9ms\n",
            "video 1/1 (frame 959/1546) /content/ttt.mp4: 384x640 1 faculty_of_material_and_chemical_eng, 13.1ms\n",
            "video 1/1 (frame 960/1546) /content/ttt.mp4: 384x640 1 faculty_of_material_and_chemical_eng, 13.0ms\n",
            "video 1/1 (frame 961/1546) /content/ttt.mp4: 384x640 1 faculty_of_material_and_chemical_eng, 13.0ms\n",
            "video 1/1 (frame 962/1546) /content/ttt.mp4: 384x640 1 faculty_of_material_and_chemical_eng, 13.5ms\n",
            "video 1/1 (frame 963/1546) /content/ttt.mp4: 384x640 1 faculty_of_material_and_chemical_eng, 13.6ms\n",
            "video 1/1 (frame 964/1546) /content/ttt.mp4: 384x640 1 faculty_of_material_and_chemical_eng, 13.5ms\n",
            "video 1/1 (frame 965/1546) /content/ttt.mp4: 384x640 1 faculty_of_material_and_chemical_eng, 13.7ms\n",
            "video 1/1 (frame 966/1546) /content/ttt.mp4: 384x640 1 faculty_of_material_and_chemical_eng, 13.5ms\n",
            "video 1/1 (frame 967/1546) /content/ttt.mp4: 384x640 1 faculty_of_material_and_chemical_eng, 13.6ms\n",
            "video 1/1 (frame 968/1546) /content/ttt.mp4: 384x640 1 faculty_of_material_and_chemical_eng, 13.5ms\n",
            "video 1/1 (frame 969/1546) /content/ttt.mp4: 384x640 1 faculty_of_material_and_chemical_eng, 14.4ms\n",
            "video 1/1 (frame 970/1546) /content/ttt.mp4: 384x640 1 faculty_of_material_and_chemical_eng, 13.5ms\n",
            "video 1/1 (frame 971/1546) /content/ttt.mp4: 384x640 1 faculty_of_material_and_chemical_eng, 13.8ms\n",
            "video 1/1 (frame 972/1546) /content/ttt.mp4: 384x640 1 faculty_of_material_and_chemical_eng, 13.5ms\n",
            "video 1/1 (frame 973/1546) /content/ttt.mp4: 384x640 1 faculty_of_material_and_chemical_eng, 14.2ms\n",
            "video 1/1 (frame 974/1546) /content/ttt.mp4: 384x640 (no detections), 14.1ms\n",
            "video 1/1 (frame 975/1546) /content/ttt.mp4: 384x640 (no detections), 14.3ms\n",
            "video 1/1 (frame 976/1546) /content/ttt.mp4: 384x640 (no detections), 15.6ms\n",
            "video 1/1 (frame 977/1546) /content/ttt.mp4: 384x640 (no detections), 14.1ms\n",
            "video 1/1 (frame 978/1546) /content/ttt.mp4: 384x640 (no detections), 24.6ms\n",
            "video 1/1 (frame 979/1546) /content/ttt.mp4: 384x640 (no detections), 15.3ms\n",
            "video 1/1 (frame 980/1546) /content/ttt.mp4: 384x640 (no detections), 13.8ms\n",
            "video 1/1 (frame 981/1546) /content/ttt.mp4: 384x640 (no detections), 14.5ms\n",
            "video 1/1 (frame 982/1546) /content/ttt.mp4: 384x640 (no detections), 13.8ms\n",
            "video 1/1 (frame 983/1546) /content/ttt.mp4: 384x640 (no detections), 15.0ms\n",
            "video 1/1 (frame 984/1546) /content/ttt.mp4: 384x640 (no detections), 13.8ms\n",
            "video 1/1 (frame 985/1546) /content/ttt.mp4: 384x640 (no detections), 14.4ms\n",
            "video 1/1 (frame 986/1546) /content/ttt.mp4: 384x640 (no detections), 13.8ms\n",
            "video 1/1 (frame 987/1546) /content/ttt.mp4: 384x640 (no detections), 13.8ms\n",
            "video 1/1 (frame 988/1546) /content/ttt.mp4: 384x640 (no detections), 13.8ms\n",
            "video 1/1 (frame 989/1546) /content/ttt.mp4: 384x640 (no detections), 16.0ms\n",
            "video 1/1 (frame 990/1546) /content/ttt.mp4: 384x640 (no detections), 13.9ms\n",
            "video 1/1 (frame 991/1546) /content/ttt.mp4: 384x640 (no detections), 13.8ms\n",
            "video 1/1 (frame 992/1546) /content/ttt.mp4: 384x640 (no detections), 13.8ms\n",
            "video 1/1 (frame 993/1546) /content/ttt.mp4: 384x640 (no detections), 13.9ms\n",
            "video 1/1 (frame 994/1546) /content/ttt.mp4: 384x640 (no detections), 13.9ms\n",
            "video 1/1 (frame 995/1546) /content/ttt.mp4: 384x640 (no detections), 15.8ms\n",
            "video 1/1 (frame 996/1546) /content/ttt.mp4: 384x640 (no detections), 15.5ms\n",
            "video 1/1 (frame 997/1546) /content/ttt.mp4: 384x640 (no detections), 13.8ms\n",
            "video 1/1 (frame 998/1546) /content/ttt.mp4: 384x640 (no detections), 19.9ms\n",
            "video 1/1 (frame 999/1546) /content/ttt.mp4: 384x640 (no detections), 13.8ms\n",
            "video 1/1 (frame 1000/1546) /content/ttt.mp4: 384x640 (no detections), 14.1ms\n",
            "video 1/1 (frame 1001/1546) /content/ttt.mp4: 384x640 (no detections), 13.8ms\n",
            "video 1/1 (frame 1002/1546) /content/ttt.mp4: 384x640 (no detections), 14.3ms\n",
            "video 1/1 (frame 1003/1546) /content/ttt.mp4: 384x640 (no detections), 14.0ms\n",
            "video 1/1 (frame 1004/1546) /content/ttt.mp4: 384x640 (no detections), 15.8ms\n",
            "video 1/1 (frame 1005/1546) /content/ttt.mp4: 384x640 (no detections), 13.8ms\n",
            "video 1/1 (frame 1006/1546) /content/ttt.mp4: 384x640 (no detections), 13.9ms\n",
            "video 1/1 (frame 1007/1546) /content/ttt.mp4: 384x640 (no detections), 13.8ms\n",
            "video 1/1 (frame 1008/1546) /content/ttt.mp4: 384x640 (no detections), 14.3ms\n",
            "video 1/1 (frame 1009/1546) /content/ttt.mp4: 384x640 (no detections), 13.8ms\n",
            "video 1/1 (frame 1010/1546) /content/ttt.mp4: 384x640 (no detections), 14.2ms\n",
            "video 1/1 (frame 1011/1546) /content/ttt.mp4: 384x640 (no detections), 14.0ms\n",
            "video 1/1 (frame 1012/1546) /content/ttt.mp4: 384x640 (no detections), 18.4ms\n",
            "video 1/1 (frame 1013/1546) /content/ttt.mp4: 384x640 (no detections), 13.9ms\n",
            "video 1/1 (frame 1014/1546) /content/ttt.mp4: 384x640 (no detections), 16.5ms\n",
            "video 1/1 (frame 1015/1546) /content/ttt.mp4: 384x640 (no detections), 15.7ms\n",
            "video 1/1 (frame 1016/1546) /content/ttt.mp4: 384x640 (no detections), 13.8ms\n",
            "video 1/1 (frame 1017/1546) /content/ttt.mp4: 384x640 (no detections), 15.2ms\n",
            "video 1/1 (frame 1018/1546) /content/ttt.mp4: 384x640 (no detections), 17.1ms\n",
            "video 1/1 (frame 1019/1546) /content/ttt.mp4: 384x640 (no detections), 19.6ms\n",
            "video 1/1 (frame 1020/1546) /content/ttt.mp4: 384x640 (no detections), 16.5ms\n",
            "video 1/1 (frame 1021/1546) /content/ttt.mp4: 384x640 (no detections), 13.8ms\n",
            "video 1/1 (frame 1022/1546) /content/ttt.mp4: 384x640 (no detections), 15.2ms\n",
            "video 1/1 (frame 1023/1546) /content/ttt.mp4: 384x640 (no detections), 14.7ms\n",
            "video 1/1 (frame 1024/1546) /content/ttt.mp4: 384x640 (no detections), 14.7ms\n",
            "video 1/1 (frame 1025/1546) /content/ttt.mp4: 384x640 (no detections), 14.9ms\n",
            "video 1/1 (frame 1026/1546) /content/ttt.mp4: 384x640 (no detections), 18.9ms\n",
            "video 1/1 (frame 1027/1546) /content/ttt.mp4: 384x640 (no detections), 14.5ms\n",
            "video 1/1 (frame 1028/1546) /content/ttt.mp4: 384x640 (no detections), 13.8ms\n",
            "video 1/1 (frame 1029/1546) /content/ttt.mp4: 384x640 (no detections), 13.8ms\n",
            "video 1/1 (frame 1030/1546) /content/ttt.mp4: 384x640 (no detections), 13.8ms\n",
            "video 1/1 (frame 1031/1546) /content/ttt.mp4: 384x640 (no detections), 13.8ms\n",
            "video 1/1 (frame 1032/1546) /content/ttt.mp4: 384x640 (no detections), 14.3ms\n",
            "video 1/1 (frame 1033/1546) /content/ttt.mp4: 384x640 (no detections), 13.8ms\n",
            "video 1/1 (frame 1034/1546) /content/ttt.mp4: 384x640 (no detections), 13.8ms\n",
            "video 1/1 (frame 1035/1546) /content/ttt.mp4: 384x640 (no detections), 14.1ms\n",
            "video 1/1 (frame 1036/1546) /content/ttt.mp4: 384x640 (no detections), 13.8ms\n",
            "video 1/1 (frame 1037/1546) /content/ttt.mp4: 384x640 (no detections), 14.2ms\n",
            "video 1/1 (frame 1038/1546) /content/ttt.mp4: 384x640 (no detections), 13.5ms\n",
            "video 1/1 (frame 1039/1546) /content/ttt.mp4: 384x640 (no detections), 13.5ms\n",
            "video 1/1 (frame 1040/1546) /content/ttt.mp4: 384x640 (no detections), 13.5ms\n",
            "video 1/1 (frame 1041/1546) /content/ttt.mp4: 384x640 (no detections), 14.1ms\n",
            "video 1/1 (frame 1042/1546) /content/ttt.mp4: 384x640 (no detections), 14.5ms\n",
            "video 1/1 (frame 1043/1546) /content/ttt.mp4: 384x640 (no detections), 13.9ms\n",
            "video 1/1 (frame 1044/1546) /content/ttt.mp4: 384x640 (no detections), 13.5ms\n",
            "video 1/1 (frame 1045/1546) /content/ttt.mp4: 384x640 (no detections), 13.5ms\n",
            "video 1/1 (frame 1046/1546) /content/ttt.mp4: 384x640 (no detections), 13.5ms\n",
            "video 1/1 (frame 1047/1546) /content/ttt.mp4: 384x640 (no detections), 13.6ms\n",
            "video 1/1 (frame 1048/1546) /content/ttt.mp4: 384x640 (no detections), 13.5ms\n",
            "video 1/1 (frame 1049/1546) /content/ttt.mp4: 384x640 (no detections), 13.2ms\n",
            "video 1/1 (frame 1050/1546) /content/ttt.mp4: 384x640 (no detections), 13.2ms\n",
            "video 1/1 (frame 1051/1546) /content/ttt.mp4: 384x640 (no detections), 13.2ms\n",
            "video 1/1 (frame 1052/1546) /content/ttt.mp4: 384x640 (no detections), 13.3ms\n",
            "video 1/1 (frame 1053/1546) /content/ttt.mp4: 384x640 (no detections), 13.2ms\n",
            "video 1/1 (frame 1054/1546) /content/ttt.mp4: 384x640 (no detections), 13.3ms\n",
            "video 1/1 (frame 1055/1546) /content/ttt.mp4: 384x640 (no detections), 15.5ms\n",
            "video 1/1 (frame 1056/1546) /content/ttt.mp4: 384x640 (no detections), 13.4ms\n",
            "video 1/1 (frame 1057/1546) /content/ttt.mp4: 384x640 (no detections), 13.9ms\n",
            "video 1/1 (frame 1058/1546) /content/ttt.mp4: 384x640 (no detections), 13.2ms\n",
            "video 1/1 (frame 1059/1546) /content/ttt.mp4: 384x640 (no detections), 13.5ms\n",
            "video 1/1 (frame 1060/1546) /content/ttt.mp4: 384x640 (no detections), 13.3ms\n",
            "video 1/1 (frame 1061/1546) /content/ttt.mp4: 384x640 (no detections), 14.3ms\n",
            "video 1/1 (frame 1062/1546) /content/ttt.mp4: 384x640 (no detections), 13.2ms\n",
            "video 1/1 (frame 1063/1546) /content/ttt.mp4: 384x640 (no detections), 15.3ms\n",
            "video 1/1 (frame 1064/1546) /content/ttt.mp4: 384x640 (no detections), 13.2ms\n",
            "video 1/1 (frame 1065/1546) /content/ttt.mp4: 384x640 (no detections), 13.6ms\n",
            "video 1/1 (frame 1066/1546) /content/ttt.mp4: 384x640 (no detections), 13.2ms\n",
            "video 1/1 (frame 1067/1546) /content/ttt.mp4: 384x640 (no detections), 13.2ms\n",
            "video 1/1 (frame 1068/1546) /content/ttt.mp4: 384x640 (no detections), 13.2ms\n",
            "video 1/1 (frame 1069/1546) /content/ttt.mp4: 384x640 (no detections), 13.3ms\n",
            "video 1/1 (frame 1070/1546) /content/ttt.mp4: 384x640 (no detections), 13.3ms\n",
            "video 1/1 (frame 1071/1546) /content/ttt.mp4: 384x640 (no detections), 14.3ms\n",
            "video 1/1 (frame 1072/1546) /content/ttt.mp4: 384x640 (no detections), 13.2ms\n",
            "video 1/1 (frame 1073/1546) /content/ttt.mp4: 384x640 (no detections), 13.5ms\n",
            "video 1/1 (frame 1074/1546) /content/ttt.mp4: 384x640 (no detections), 13.2ms\n",
            "video 1/1 (frame 1075/1546) /content/ttt.mp4: 384x640 (no detections), 13.3ms\n",
            "video 1/1 (frame 1076/1546) /content/ttt.mp4: 384x640 (no detections), 13.2ms\n",
            "video 1/1 (frame 1077/1546) /content/ttt.mp4: 384x640 (no detections), 13.3ms\n",
            "video 1/1 (frame 1078/1546) /content/ttt.mp4: 384x640 (no detections), 13.7ms\n",
            "video 1/1 (frame 1079/1546) /content/ttt.mp4: 384x640 (no detections), 13.3ms\n",
            "video 1/1 (frame 1080/1546) /content/ttt.mp4: 384x640 (no detections), 13.2ms\n",
            "video 1/1 (frame 1081/1546) /content/ttt.mp4: 384x640 (no detections), 13.2ms\n",
            "video 1/1 (frame 1082/1546) /content/ttt.mp4: 384x640 (no detections), 13.3ms\n",
            "video 1/1 (frame 1083/1546) /content/ttt.mp4: 384x640 (no detections), 13.7ms\n",
            "video 1/1 (frame 1084/1546) /content/ttt.mp4: 384x640 (no detections), 13.2ms\n",
            "video 1/1 (frame 1085/1546) /content/ttt.mp4: 384x640 (no detections), 15.7ms\n",
            "video 1/1 (frame 1086/1546) /content/ttt.mp4: 384x640 (no detections), 14.9ms\n",
            "video 1/1 (frame 1087/1546) /content/ttt.mp4: 384x640 (no detections), 13.2ms\n",
            "video 1/1 (frame 1088/1546) /content/ttt.mp4: 384x640 (no detections), 13.4ms\n",
            "video 1/1 (frame 1089/1546) /content/ttt.mp4: 384x640 (no detections), 13.3ms\n",
            "video 1/1 (frame 1090/1546) /content/ttt.mp4: 384x640 (no detections), 13.4ms\n",
            "video 1/1 (frame 1091/1546) /content/ttt.mp4: 384x640 (no detections), 13.2ms\n",
            "video 1/1 (frame 1092/1546) /content/ttt.mp4: 384x640 (no detections), 13.2ms\n",
            "video 1/1 (frame 1093/1546) /content/ttt.mp4: 384x640 (no detections), 13.2ms\n",
            "video 1/1 (frame 1094/1546) /content/ttt.mp4: 384x640 (no detections), 13.2ms\n",
            "video 1/1 (frame 1095/1546) /content/ttt.mp4: 384x640 (no detections), 13.3ms\n",
            "video 1/1 (frame 1096/1546) /content/ttt.mp4: 384x640 (no detections), 13.2ms\n",
            "video 1/1 (frame 1097/1546) /content/ttt.mp4: 384x640 (no detections), 13.2ms\n",
            "video 1/1 (frame 1098/1546) /content/ttt.mp4: 384x640 (no detections), 13.2ms\n",
            "video 1/1 (frame 1099/1546) /content/ttt.mp4: 384x640 (no detections), 13.2ms\n",
            "video 1/1 (frame 1100/1546) /content/ttt.mp4: 384x640 (no detections), 13.2ms\n",
            "video 1/1 (frame 1101/1546) /content/ttt.mp4: 384x640 (no detections), 13.3ms\n",
            "video 1/1 (frame 1102/1546) /content/ttt.mp4: 384x640 (no detections), 14.6ms\n",
            "video 1/1 (frame 1103/1546) /content/ttt.mp4: 384x640 (no detections), 13.3ms\n",
            "video 1/1 (frame 1104/1546) /content/ttt.mp4: 384x640 (no detections), 13.2ms\n",
            "video 1/1 (frame 1105/1546) /content/ttt.mp4: 384x640 (no detections), 13.5ms\n",
            "video 1/1 (frame 1106/1546) /content/ttt.mp4: 384x640 (no detections), 13.5ms\n",
            "video 1/1 (frame 1107/1546) /content/ttt.mp4: 384x640 (no detections), 13.6ms\n",
            "video 1/1 (frame 1108/1546) /content/ttt.mp4: 384x640 (no detections), 13.5ms\n",
            "video 1/1 (frame 1109/1546) /content/ttt.mp4: 384x640 (no detections), 13.5ms\n",
            "video 1/1 (frame 1110/1546) /content/ttt.mp4: 384x640 (no detections), 13.5ms\n",
            "video 1/1 (frame 1111/1546) /content/ttt.mp4: 384x640 (no detections), 13.2ms\n",
            "video 1/1 (frame 1112/1546) /content/ttt.mp4: 384x640 (no detections), 13.3ms\n",
            "video 1/1 (frame 1113/1546) /content/ttt.mp4: 384x640 (no detections), 13.2ms\n",
            "video 1/1 (frame 1114/1546) /content/ttt.mp4: 384x640 (no detections), 13.3ms\n",
            "video 1/1 (frame 1115/1546) /content/ttt.mp4: 384x640 (no detections), 13.2ms\n",
            "video 1/1 (frame 1116/1546) /content/ttt.mp4: 384x640 (no detections), 13.3ms\n",
            "video 1/1 (frame 1117/1546) /content/ttt.mp4: 384x640 (no detections), 13.2ms\n",
            "video 1/1 (frame 1118/1546) /content/ttt.mp4: 384x640 (no detections), 13.2ms\n",
            "video 1/1 (frame 1119/1546) /content/ttt.mp4: 384x640 (no detections), 13.2ms\n",
            "video 1/1 (frame 1120/1546) /content/ttt.mp4: 384x640 (no detections), 13.2ms\n",
            "video 1/1 (frame 1121/1546) /content/ttt.mp4: 384x640 (no detections), 13.2ms\n",
            "video 1/1 (frame 1122/1546) /content/ttt.mp4: 384x640 (no detections), 13.2ms\n",
            "video 1/1 (frame 1123/1546) /content/ttt.mp4: 384x640 (no detections), 13.3ms\n",
            "video 1/1 (frame 1124/1546) /content/ttt.mp4: 384x640 (no detections), 13.2ms\n",
            "video 1/1 (frame 1125/1546) /content/ttt.mp4: 384x640 (no detections), 13.3ms\n",
            "video 1/1 (frame 1126/1546) /content/ttt.mp4: 384x640 (no detections), 13.2ms\n",
            "video 1/1 (frame 1127/1546) /content/ttt.mp4: 384x640 (no detections), 13.4ms\n",
            "video 1/1 (frame 1128/1546) /content/ttt.mp4: 384x640 (no detections), 13.2ms\n",
            "video 1/1 (frame 1129/1546) /content/ttt.mp4: 384x640 (no detections), 14.3ms\n",
            "video 1/1 (frame 1130/1546) /content/ttt.mp4: 384x640 (no detections), 13.2ms\n",
            "video 1/1 (frame 1131/1546) /content/ttt.mp4: 384x640 (no detections), 13.5ms\n",
            "video 1/1 (frame 1132/1546) /content/ttt.mp4: 384x640 (no detections), 13.2ms\n",
            "video 1/1 (frame 1133/1546) /content/ttt.mp4: 384x640 (no detections), 13.2ms\n",
            "video 1/1 (frame 1134/1546) /content/ttt.mp4: 384x640 (no detections), 13.3ms\n",
            "video 1/1 (frame 1135/1546) /content/ttt.mp4: 384x640 (no detections), 13.3ms\n",
            "video 1/1 (frame 1136/1546) /content/ttt.mp4: 384x640 (no detections), 13.2ms\n",
            "video 1/1 (frame 1137/1546) /content/ttt.mp4: 384x640 (no detections), 13.2ms\n",
            "video 1/1 (frame 1138/1546) /content/ttt.mp4: 384x640 (no detections), 13.2ms\n",
            "video 1/1 (frame 1139/1546) /content/ttt.mp4: 384x640 (no detections), 13.2ms\n",
            "video 1/1 (frame 1140/1546) /content/ttt.mp4: 384x640 (no detections), 13.2ms\n",
            "video 1/1 (frame 1141/1546) /content/ttt.mp4: 384x640 (no detections), 13.2ms\n",
            "video 1/1 (frame 1142/1546) /content/ttt.mp4: 384x640 (no detections), 14.0ms\n",
            "video 1/1 (frame 1143/1546) /content/ttt.mp4: 384x640 (no detections), 13.2ms\n",
            "video 1/1 (frame 1144/1546) /content/ttt.mp4: 384x640 (no detections), 13.3ms\n",
            "video 1/1 (frame 1145/1546) /content/ttt.mp4: 384x640 (no detections), 13.2ms\n",
            "video 1/1 (frame 1146/1546) /content/ttt.mp4: 384x640 (no detections), 15.0ms\n",
            "video 1/1 (frame 1147/1546) /content/ttt.mp4: 384x640 (no detections), 13.3ms\n",
            "video 1/1 (frame 1148/1546) /content/ttt.mp4: 384x640 (no detections), 13.2ms\n",
            "video 1/1 (frame 1149/1546) /content/ttt.mp4: 384x640 (no detections), 13.3ms\n",
            "video 1/1 (frame 1150/1546) /content/ttt.mp4: 384x640 (no detections), 13.3ms\n",
            "video 1/1 (frame 1151/1546) /content/ttt.mp4: 384x640 (no detections), 13.3ms\n",
            "video 1/1 (frame 1152/1546) /content/ttt.mp4: 384x640 (no detections), 13.2ms\n",
            "video 1/1 (frame 1153/1546) /content/ttt.mp4: 384x640 (no detections), 13.2ms\n",
            "video 1/1 (frame 1154/1546) /content/ttt.mp4: 384x640 (no detections), 13.3ms\n",
            "video 1/1 (frame 1155/1546) /content/ttt.mp4: 384x640 (no detections), 13.2ms\n",
            "video 1/1 (frame 1156/1546) /content/ttt.mp4: 384x640 (no detections), 13.2ms\n",
            "video 1/1 (frame 1157/1546) /content/ttt.mp4: 384x640 (no detections), 13.3ms\n",
            "video 1/1 (frame 1158/1546) /content/ttt.mp4: 384x640 (no detections), 13.2ms\n",
            "video 1/1 (frame 1159/1546) /content/ttt.mp4: 384x640 (no detections), 13.3ms\n",
            "video 1/1 (frame 1160/1546) /content/ttt.mp4: 384x640 (no detections), 13.5ms\n",
            "video 1/1 (frame 1161/1546) /content/ttt.mp4: 384x640 (no detections), 13.2ms\n",
            "video 1/1 (frame 1162/1546) /content/ttt.mp4: 384x640 (no detections), 13.3ms\n",
            "video 1/1 (frame 1163/1546) /content/ttt.mp4: 384x640 (no detections), 13.2ms\n",
            "video 1/1 (frame 1164/1546) /content/ttt.mp4: 384x640 (no detections), 13.3ms\n",
            "video 1/1 (frame 1165/1546) /content/ttt.mp4: 384x640 (no detections), 13.2ms\n",
            "video 1/1 (frame 1166/1546) /content/ttt.mp4: 384x640 (no detections), 13.6ms\n",
            "video 1/1 (frame 1167/1546) /content/ttt.mp4: 384x640 (no detections), 13.2ms\n",
            "video 1/1 (frame 1168/1546) /content/ttt.mp4: 384x640 (no detections), 13.5ms\n",
            "video 1/1 (frame 1169/1546) /content/ttt.mp4: 384x640 (no detections), 13.2ms\n",
            "video 1/1 (frame 1170/1546) /content/ttt.mp4: 384x640 (no detections), 13.2ms\n",
            "video 1/1 (frame 1171/1546) /content/ttt.mp4: 384x640 (no detections), 13.2ms\n",
            "video 1/1 (frame 1172/1546) /content/ttt.mp4: 384x640 (no detections), 14.0ms\n",
            "video 1/1 (frame 1173/1546) /content/ttt.mp4: 384x640 (no detections), 13.8ms\n",
            "video 1/1 (frame 1174/1546) /content/ttt.mp4: 384x640 (no detections), 13.4ms\n",
            "video 1/1 (frame 1175/1546) /content/ttt.mp4: 384x640 (no detections), 13.2ms\n",
            "video 1/1 (frame 1176/1546) /content/ttt.mp4: 384x640 (no detections), 13.2ms\n",
            "video 1/1 (frame 1177/1546) /content/ttt.mp4: 384x640 (no detections), 13.2ms\n",
            "video 1/1 (frame 1178/1546) /content/ttt.mp4: 384x640 (no detections), 13.3ms\n",
            "video 1/1 (frame 1179/1546) /content/ttt.mp4: 384x640 (no detections), 13.2ms\n",
            "video 1/1 (frame 1180/1546) /content/ttt.mp4: 384x640 (no detections), 13.2ms\n",
            "video 1/1 (frame 1181/1546) /content/ttt.mp4: 384x640 (no detections), 13.2ms\n",
            "video 1/1 (frame 1182/1546) /content/ttt.mp4: 384x640 (no detections), 13.3ms\n",
            "video 1/1 (frame 1183/1546) /content/ttt.mp4: 384x640 (no detections), 13.3ms\n",
            "video 1/1 (frame 1184/1546) /content/ttt.mp4: 384x640 (no detections), 13.3ms\n",
            "video 1/1 (frame 1185/1546) /content/ttt.mp4: 384x640 (no detections), 13.2ms\n",
            "video 1/1 (frame 1186/1546) /content/ttt.mp4: 384x640 (no detections), 13.4ms\n",
            "video 1/1 (frame 1187/1546) /content/ttt.mp4: 384x640 (no detections), 13.2ms\n",
            "video 1/1 (frame 1188/1546) /content/ttt.mp4: 384x640 (no detections), 13.3ms\n",
            "video 1/1 (frame 1189/1546) /content/ttt.mp4: 384x640 (no detections), 13.3ms\n",
            "video 1/1 (frame 1190/1546) /content/ttt.mp4: 384x640 (no detections), 13.2ms\n",
            "video 1/1 (frame 1191/1546) /content/ttt.mp4: 384x640 (no detections), 13.2ms\n",
            "video 1/1 (frame 1192/1546) /content/ttt.mp4: 384x640 (no detections), 13.5ms\n",
            "video 1/1 (frame 1193/1546) /content/ttt.mp4: 384x640 (no detections), 13.2ms\n",
            "video 1/1 (frame 1194/1546) /content/ttt.mp4: 384x640 (no detections), 13.2ms\n",
            "video 1/1 (frame 1195/1546) /content/ttt.mp4: 384x640 (no detections), 13.2ms\n",
            "video 1/1 (frame 1196/1546) /content/ttt.mp4: 384x640 (no detections), 13.4ms\n",
            "video 1/1 (frame 1197/1546) /content/ttt.mp4: 384x640 (no detections), 13.5ms\n",
            "video 1/1 (frame 1198/1546) /content/ttt.mp4: 384x640 (no detections), 13.5ms\n",
            "video 1/1 (frame 1199/1546) /content/ttt.mp4: 384x640 (no detections), 13.5ms\n",
            "video 1/1 (frame 1200/1546) /content/ttt.mp4: 384x640 (no detections), 13.5ms\n",
            "video 1/1 (frame 1201/1546) /content/ttt.mp4: 384x640 (no detections), 13.6ms\n",
            "video 1/1 (frame 1202/1546) /content/ttt.mp4: 384x640 (no detections), 13.5ms\n",
            "video 1/1 (frame 1203/1546) /content/ttt.mp4: 384x640 (no detections), 13.5ms\n",
            "video 1/1 (frame 1204/1546) /content/ttt.mp4: 384x640 (no detections), 14.0ms\n",
            "video 1/1 (frame 1205/1546) /content/ttt.mp4: 384x640 (no detections), 13.5ms\n",
            "video 1/1 (frame 1206/1546) /content/ttt.mp4: 384x640 (no detections), 13.5ms\n",
            "video 1/1 (frame 1207/1546) /content/ttt.mp4: 384x640 (no detections), 13.5ms\n",
            "video 1/1 (frame 1208/1546) /content/ttt.mp4: 384x640 (no detections), 13.5ms\n",
            "video 1/1 (frame 1209/1546) /content/ttt.mp4: 384x640 (no detections), 13.5ms\n",
            "video 1/1 (frame 1210/1546) /content/ttt.mp4: 384x640 (no detections), 13.5ms\n",
            "video 1/1 (frame 1211/1546) /content/ttt.mp4: 384x640 (no detections), 13.5ms\n",
            "video 1/1 (frame 1212/1546) /content/ttt.mp4: 384x640 (no detections), 13.5ms\n",
            "video 1/1 (frame 1213/1546) /content/ttt.mp4: 384x640 (no detections), 13.5ms\n",
            "video 1/1 (frame 1214/1546) /content/ttt.mp4: 384x640 (no detections), 13.5ms\n",
            "video 1/1 (frame 1215/1546) /content/ttt.mp4: 384x640 (no detections), 13.5ms\n",
            "video 1/1 (frame 1216/1546) /content/ttt.mp4: 384x640 (no detections), 13.7ms\n",
            "video 1/1 (frame 1217/1546) /content/ttt.mp4: 384x640 (no detections), 13.5ms\n",
            "video 1/1 (frame 1218/1546) /content/ttt.mp4: 384x640 (no detections), 13.5ms\n",
            "video 1/1 (frame 1219/1546) /content/ttt.mp4: 384x640 (no detections), 13.5ms\n",
            "video 1/1 (frame 1220/1546) /content/ttt.mp4: 384x640 (no detections), 13.5ms\n",
            "video 1/1 (frame 1221/1546) /content/ttt.mp4: 384x640 (no detections), 13.5ms\n",
            "video 1/1 (frame 1222/1546) /content/ttt.mp4: 384x640 (no detections), 13.6ms\n",
            "video 1/1 (frame 1223/1546) /content/ttt.mp4: 384x640 (no detections), 13.5ms\n",
            "video 1/1 (frame 1224/1546) /content/ttt.mp4: 384x640 (no detections), 13.2ms\n",
            "video 1/1 (frame 1225/1546) /content/ttt.mp4: 384x640 (no detections), 13.2ms\n",
            "video 1/1 (frame 1226/1546) /content/ttt.mp4: 384x640 (no detections), 13.2ms\n",
            "video 1/1 (frame 1227/1546) /content/ttt.mp4: 384x640 1 faculty_of_material_and_chemical_eng, 13.2ms\n",
            "video 1/1 (frame 1228/1546) /content/ttt.mp4: 384x640 1 faculty_of_material_and_chemical_eng, 13.3ms\n",
            "video 1/1 (frame 1229/1546) /content/ttt.mp4: 384x640 1 faculty_of_material_and_chemical_eng, 13.5ms\n",
            "video 1/1 (frame 1230/1546) /content/ttt.mp4: 384x640 1 faculty_of_material_and_chemical_eng, 13.3ms\n",
            "video 1/1 (frame 1231/1546) /content/ttt.mp4: 384x640 1 faculty_of_material_and_chemical_eng, 18.7ms\n",
            "video 1/1 (frame 1232/1546) /content/ttt.mp4: 384x640 1 faculty_of_material_and_chemical_eng, 13.2ms\n",
            "video 1/1 (frame 1233/1546) /content/ttt.mp4: 384x640 1 faculty_of_material_and_chemical_eng, 13.2ms\n",
            "video 1/1 (frame 1234/1546) /content/ttt.mp4: 384x640 1 faculty_of_material_and_chemical_eng, 13.2ms\n",
            "video 1/1 (frame 1235/1546) /content/ttt.mp4: 384x640 1 faculty_of_material_and_chemical_eng, 13.3ms\n",
            "video 1/1 (frame 1236/1546) /content/ttt.mp4: 384x640 1 faculty_of_material_and_chemical_eng, 13.3ms\n",
            "video 1/1 (frame 1237/1546) /content/ttt.mp4: 384x640 1 faculty_of_material_and_chemical_eng, 13.2ms\n",
            "video 1/1 (frame 1238/1546) /content/ttt.mp4: 384x640 1 faculty_of_material_and_chemical_eng, 13.2ms\n",
            "video 1/1 (frame 1239/1546) /content/ttt.mp4: 384x640 1 faculty_of_material_and_chemical_eng, 13.4ms\n",
            "video 1/1 (frame 1240/1546) /content/ttt.mp4: 384x640 1 faculty_of_material_and_chemical_eng, 13.2ms\n",
            "video 1/1 (frame 1241/1546) /content/ttt.mp4: 384x640 1 faculty_of_material_and_chemical_eng, 13.3ms\n",
            "video 1/1 (frame 1242/1546) /content/ttt.mp4: 384x640 1 faculty_of_material_and_chemical_eng, 13.6ms\n",
            "video 1/1 (frame 1243/1546) /content/ttt.mp4: 384x640 1 faculty_of_material_and_chemical_eng, 13.3ms\n",
            "video 1/1 (frame 1244/1546) /content/ttt.mp4: 384x640 1 faculty_of_material_and_chemical_eng, 13.8ms\n",
            "video 1/1 (frame 1245/1546) /content/ttt.mp4: 384x640 1 faculty_of_material_and_chemical_eng, 14.6ms\n",
            "video 1/1 (frame 1246/1546) /content/ttt.mp4: 384x640 1 faculty_of_material_and_chemical_eng, 15.6ms\n",
            "video 1/1 (frame 1247/1546) /content/ttt.mp4: 384x640 1 faculty_of_material_and_chemical_eng, 13.4ms\n",
            "video 1/1 (frame 1248/1546) /content/ttt.mp4: 384x640 1 faculty_of_material_and_chemical_eng, 13.3ms\n",
            "video 1/1 (frame 1249/1546) /content/ttt.mp4: 384x640 1 faculty_of_material_and_chemical_eng, 13.3ms\n",
            "video 1/1 (frame 1250/1546) /content/ttt.mp4: 384x640 1 faculty_of_material_and_chemical_eng, 14.4ms\n",
            "video 1/1 (frame 1251/1546) /content/ttt.mp4: 384x640 1 faculty_of_material_and_chemical_eng, 15.5ms\n",
            "video 1/1 (frame 1252/1546) /content/ttt.mp4: 384x640 1 faculty_of_material_and_chemical_eng, 15.4ms\n",
            "video 1/1 (frame 1253/1546) /content/ttt.mp4: 384x640 1 faculty_of_material_and_chemical_eng, 13.3ms\n",
            "video 1/1 (frame 1254/1546) /content/ttt.mp4: 384x640 1 faculty_of_material_and_chemical_eng, 18.2ms\n",
            "video 1/1 (frame 1255/1546) /content/ttt.mp4: 384x640 1 faculty_of_material_and_chemical_eng, 16.1ms\n",
            "video 1/1 (frame 1256/1546) /content/ttt.mp4: 384x640 1 faculty_of_material_and_chemical_eng, 16.6ms\n",
            "video 1/1 (frame 1257/1546) /content/ttt.mp4: 384x640 1 faculty_of_material_and_chemical_eng, 15.2ms\n",
            "video 1/1 (frame 1258/1546) /content/ttt.mp4: 384x640 1 faculty_of_material_and_chemical_eng, 13.6ms\n",
            "video 1/1 (frame 1259/1546) /content/ttt.mp4: 384x640 1 faculty_of_material_and_chemical_eng, 13.6ms\n",
            "video 1/1 (frame 1260/1546) /content/ttt.mp4: 384x640 1 faculty_of_material_and_chemical_eng, 13.3ms\n",
            "video 1/1 (frame 1261/1546) /content/ttt.mp4: 384x640 1 faculty_of_material_and_chemical_eng, 14.1ms\n",
            "video 1/1 (frame 1262/1546) /content/ttt.mp4: 384x640 1 faculty_of_material_and_chemical_eng, 16.0ms\n",
            "video 1/1 (frame 1263/1546) /content/ttt.mp4: 384x640 1 faculty_of_material_and_chemical_eng, 13.4ms\n",
            "video 1/1 (frame 1264/1546) /content/ttt.mp4: 384x640 1 faculty_of_material_and_chemical_eng, 13.9ms\n",
            "video 1/1 (frame 1265/1546) /content/ttt.mp4: 384x640 1 faculty_of_material_and_chemical_eng, 14.3ms\n",
            "video 1/1 (frame 1266/1546) /content/ttt.mp4: 384x640 1 faculty_of_material_and_chemical_eng, 22.0ms\n",
            "video 1/1 (frame 1267/1546) /content/ttt.mp4: 384x640 1 faculty_of_material_and_chemical_eng, 13.9ms\n",
            "video 1/1 (frame 1268/1546) /content/ttt.mp4: 384x640 1 faculty_of_material_and_chemical_eng, 13.8ms\n",
            "video 1/1 (frame 1269/1546) /content/ttt.mp4: 384x640 1 faculty_of_material_and_chemical_eng, 14.4ms\n",
            "video 1/1 (frame 1270/1546) /content/ttt.mp4: 384x640 1 faculty_of_material_and_chemical_eng, 14.2ms\n",
            "video 1/1 (frame 1271/1546) /content/ttt.mp4: 384x640 1 faculty_of_material_and_chemical_eng, 14.0ms\n",
            "video 1/1 (frame 1272/1546) /content/ttt.mp4: 384x640 1 faculty_of_material_and_chemical_eng, 14.0ms\n",
            "video 1/1 (frame 1273/1546) /content/ttt.mp4: 384x640 1 faculty_of_material_and_chemical_eng, 18.6ms\n",
            "video 1/1 (frame 1274/1546) /content/ttt.mp4: 384x640 1 faculty_of_material_and_chemical_eng, 14.7ms\n",
            "video 1/1 (frame 1275/1546) /content/ttt.mp4: 384x640 1 faculty_of_material_and_chemical_eng, 15.3ms\n",
            "video 1/1 (frame 1276/1546) /content/ttt.mp4: 384x640 1 faculty_of_material_and_chemical_eng, 15.0ms\n",
            "video 1/1 (frame 1277/1546) /content/ttt.mp4: 384x640 1 faculty_of_material_and_chemical_eng, 14.4ms\n",
            "video 1/1 (frame 1278/1546) /content/ttt.mp4: 384x640 1 faculty_of_material_and_chemical_eng, 22.2ms\n",
            "video 1/1 (frame 1279/1546) /content/ttt.mp4: 384x640 1 faculty_of_material_and_chemical_eng, 13.9ms\n",
            "video 1/1 (frame 1280/1546) /content/ttt.mp4: 384x640 1 faculty_of_material_and_chemical_eng, 16.4ms\n",
            "video 1/1 (frame 1281/1546) /content/ttt.mp4: 384x640 1 faculty_of_material_and_chemical_eng, 14.6ms\n",
            "video 1/1 (frame 1282/1546) /content/ttt.mp4: 384x640 1 faculty_of_material_and_chemical_eng, 15.8ms\n",
            "video 1/1 (frame 1283/1546) /content/ttt.mp4: 384x640 1 faculty_of_material_and_chemical_eng, 15.8ms\n",
            "video 1/1 (frame 1284/1546) /content/ttt.mp4: 384x640 1 faculty_of_material_and_chemical_eng, 14.3ms\n",
            "video 1/1 (frame 1285/1546) /content/ttt.mp4: 384x640 1 faculty_of_material_and_chemical_eng, 14.3ms\n",
            "video 1/1 (frame 1286/1546) /content/ttt.mp4: 384x640 1 faculty_of_material_and_chemical_eng, 15.2ms\n",
            "video 1/1 (frame 1287/1546) /content/ttt.mp4: 384x640 1 faculty_of_material_and_chemical_eng, 17.3ms\n",
            "video 1/1 (frame 1288/1546) /content/ttt.mp4: 384x640 1 faculty_of_material_and_chemical_eng, 20.0ms\n",
            "video 1/1 (frame 1289/1546) /content/ttt.mp4: 384x640 1 faculty_of_material_and_chemical_eng, 14.9ms\n",
            "video 1/1 (frame 1290/1546) /content/ttt.mp4: 384x640 1 faculty_of_material_and_chemical_eng, 13.8ms\n",
            "video 1/1 (frame 1291/1546) /content/ttt.mp4: 384x640 1 faculty_of_material_and_chemical_eng, 13.9ms\n",
            "video 1/1 (frame 1292/1546) /content/ttt.mp4: 384x640 1 faculty_of_material_and_chemical_eng, 17.6ms\n",
            "video 1/1 (frame 1293/1546) /content/ttt.mp4: 384x640 1 faculty_of_material_and_chemical_eng, 16.9ms\n",
            "video 1/1 (frame 1294/1546) /content/ttt.mp4: 384x640 1 faculty_of_material_and_chemical_eng, 13.9ms\n",
            "video 1/1 (frame 1295/1546) /content/ttt.mp4: 384x640 1 faculty_of_material_and_chemical_eng, 14.4ms\n",
            "video 1/1 (frame 1296/1546) /content/ttt.mp4: 384x640 1 faculty_of_material_and_chemical_eng, 13.8ms\n",
            "video 1/1 (frame 1297/1546) /content/ttt.mp4: 384x640 1 faculty_of_material_and_chemical_eng, 15.1ms\n",
            "video 1/1 (frame 1298/1546) /content/ttt.mp4: 384x640 1 faculty_of_material_and_chemical_eng, 17.5ms\n",
            "video 1/1 (frame 1299/1546) /content/ttt.mp4: 384x640 1 faculty_of_material_and_chemical_eng, 20.7ms\n",
            "video 1/1 (frame 1300/1546) /content/ttt.mp4: 384x640 1 faculty_of_material_and_chemical_eng, 16.5ms\n",
            "video 1/1 (frame 1301/1546) /content/ttt.mp4: 384x640 1 faculty_of_material_and_chemical_eng, 13.9ms\n",
            "video 1/1 (frame 1302/1546) /content/ttt.mp4: 384x640 1 faculty_of_material_and_chemical_eng, 13.8ms\n",
            "video 1/1 (frame 1303/1546) /content/ttt.mp4: 384x640 1 faculty_of_material_and_chemical_eng, 16.7ms\n",
            "video 1/1 (frame 1304/1546) /content/ttt.mp4: 384x640 1 faculty_of_material_and_chemical_eng, 13.8ms\n",
            "video 1/1 (frame 1305/1546) /content/ttt.mp4: 384x640 1 faculty_of_material_and_chemical_eng, 13.9ms\n",
            "video 1/1 (frame 1306/1546) /content/ttt.mp4: 384x640 1 faculty_of_material_and_chemical_eng, 13.9ms\n",
            "video 1/1 (frame 1307/1546) /content/ttt.mp4: 384x640 1 faculty_of_material_and_chemical_eng, 14.1ms\n",
            "video 1/1 (frame 1308/1546) /content/ttt.mp4: 384x640 1 faculty_of_material_and_chemical_eng, 14.2ms\n",
            "video 1/1 (frame 1309/1546) /content/ttt.mp4: 384x640 1 faculty_of_material_and_chemical_eng, 16.6ms\n",
            "video 1/1 (frame 1310/1546) /content/ttt.mp4: 384x640 1 faculty_of_material_and_chemical_eng, 14.4ms\n",
            "video 1/1 (frame 1311/1546) /content/ttt.mp4: 384x640 1 faculty_of_material_and_chemical_eng, 14.3ms\n",
            "video 1/1 (frame 1312/1546) /content/ttt.mp4: 384x640 1 faculty_of_material_and_chemical_eng, 13.9ms\n",
            "video 1/1 (frame 1313/1546) /content/ttt.mp4: 384x640 1 faculty_of_material_and_chemical_eng, 14.3ms\n",
            "video 1/1 (frame 1314/1546) /content/ttt.mp4: 384x640 1 faculty_of_material_and_chemical_eng, 15.3ms\n",
            "video 1/1 (frame 1315/1546) /content/ttt.mp4: 384x640 1 faculty_of_material_and_chemical_eng, 13.9ms\n",
            "video 1/1 (frame 1316/1546) /content/ttt.mp4: 384x640 1 faculty_of_material_and_chemical_eng, 15.4ms\n",
            "video 1/1 (frame 1317/1546) /content/ttt.mp4: 384x640 1 faculty_of_material_and_chemical_eng, 14.1ms\n",
            "video 1/1 (frame 1318/1546) /content/ttt.mp4: 384x640 1 faculty_of_material_and_chemical_eng, 13.9ms\n",
            "video 1/1 (frame 1319/1546) /content/ttt.mp4: 384x640 1 faculty_of_material_and_chemical_eng, 16.2ms\n",
            "video 1/1 (frame 1320/1546) /content/ttt.mp4: 384x640 1 faculty_of_material_and_chemical_eng, 18.7ms\n",
            "video 1/1 (frame 1321/1546) /content/ttt.mp4: 384x640 1 faculty_of_material_and_chemical_eng, 16.3ms\n",
            "video 1/1 (frame 1322/1546) /content/ttt.mp4: 384x640 1 faculty_of_material_and_chemical_eng, 14.0ms\n",
            "video 1/1 (frame 1323/1546) /content/ttt.mp4: 384x640 1 faculty_of_material_and_chemical_eng, 14.1ms\n",
            "video 1/1 (frame 1324/1546) /content/ttt.mp4: 384x640 1 faculty_of_material_and_chemical_eng, 16.1ms\n",
            "video 1/1 (frame 1325/1546) /content/ttt.mp4: 384x640 1 faculty_of_material_and_chemical_eng, 16.2ms\n",
            "video 1/1 (frame 1326/1546) /content/ttt.mp4: 384x640 1 faculty_of_material_and_chemical_eng, 16.7ms\n",
            "video 1/1 (frame 1327/1546) /content/ttt.mp4: 384x640 2 faculty_of_material_and_chemical_engs, 15.0ms\n",
            "video 1/1 (frame 1328/1546) /content/ttt.mp4: 384x640 2 faculty_of_material_and_chemical_engs, 13.9ms\n",
            "video 1/1 (frame 1329/1546) /content/ttt.mp4: 384x640 1 faculty_of_material_and_chemical_eng, 14.3ms\n",
            "video 1/1 (frame 1330/1546) /content/ttt.mp4: 384x640 1 faculty_of_material_and_chemical_eng, 17.3ms\n",
            "video 1/1 (frame 1331/1546) /content/ttt.mp4: 384x640 1 faculty_of_material_and_chemical_eng, 14.8ms\n",
            "video 1/1 (frame 1332/1546) /content/ttt.mp4: 384x640 1 faculty_of_material_and_chemical_eng, 16.0ms\n",
            "video 1/1 (frame 1333/1546) /content/ttt.mp4: 384x640 1 faculty_of_material_and_chemical_eng, 15.3ms\n",
            "video 1/1 (frame 1334/1546) /content/ttt.mp4: 384x640 1 faculty_of_material_and_chemical_eng, 17.5ms\n",
            "video 1/1 (frame 1335/1546) /content/ttt.mp4: 384x640 1 faculty_of_material_and_chemical_eng, 13.8ms\n",
            "video 1/1 (frame 1336/1546) /content/ttt.mp4: 384x640 2 faculty_of_material_and_chemical_engs, 13.8ms\n",
            "video 1/1 (frame 1337/1546) /content/ttt.mp4: 384x640 2 faculty_of_material_and_chemical_engs, 13.8ms\n",
            "video 1/1 (frame 1338/1546) /content/ttt.mp4: 384x640 1 faculty_of_material_and_chemical_eng, 13.8ms\n",
            "video 1/1 (frame 1339/1546) /content/ttt.mp4: 384x640 1 faculty_of_material_and_chemical_eng, 13.8ms\n",
            "video 1/1 (frame 1340/1546) /content/ttt.mp4: 384x640 1 faculty_of_material_and_chemical_eng, 13.8ms\n",
            "video 1/1 (frame 1341/1546) /content/ttt.mp4: 384x640 1 faculty_of_material_and_chemical_eng, 13.9ms\n",
            "video 1/1 (frame 1342/1546) /content/ttt.mp4: 384x640 2 faculty_of_material_and_chemical_engs, 13.9ms\n",
            "video 1/1 (frame 1343/1546) /content/ttt.mp4: 384x640 2 faculty_of_material_and_chemical_engs, 14.6ms\n",
            "video 1/1 (frame 1344/1546) /content/ttt.mp4: 384x640 2 faculty_of_material_and_chemical_engs, 13.9ms\n",
            "video 1/1 (frame 1345/1546) /content/ttt.mp4: 384x640 2 faculty_of_material_and_chemical_engs, 13.8ms\n",
            "video 1/1 (frame 1346/1546) /content/ttt.mp4: 384x640 2 faculty_of_material_and_chemical_engs, 13.9ms\n",
            "video 1/1 (frame 1347/1546) /content/ttt.mp4: 384x640 2 faculty_of_material_and_chemical_engs, 13.8ms\n",
            "video 1/1 (frame 1348/1546) /content/ttt.mp4: 384x640 2 faculty_of_material_and_chemical_engs, 13.8ms\n",
            "video 1/1 (frame 1349/1546) /content/ttt.mp4: 384x640 2 faculty_of_material_and_chemical_engs, 13.9ms\n",
            "video 1/1 (frame 1350/1546) /content/ttt.mp4: 384x640 2 faculty_of_material_and_chemical_engs, 14.0ms\n",
            "video 1/1 (frame 1351/1546) /content/ttt.mp4: 384x640 1 faculty_of_material_and_chemical_eng, 13.9ms\n",
            "video 1/1 (frame 1352/1546) /content/ttt.mp4: 384x640 1 faculty_of_material_and_chemical_eng, 13.8ms\n",
            "video 1/1 (frame 1353/1546) /content/ttt.mp4: 384x640 1 faculty_of_material_and_chemical_eng, 13.9ms\n",
            "video 1/1 (frame 1354/1546) /content/ttt.mp4: 384x640 1 faculty_of_material_and_chemical_eng, 13.8ms\n",
            "video 1/1 (frame 1355/1546) /content/ttt.mp4: 384x640 1 faculty_of_material_and_chemical_eng, 13.8ms\n",
            "video 1/1 (frame 1356/1546) /content/ttt.mp4: 384x640 1 faculty_of_material_and_chemical_eng, 14.4ms\n",
            "video 1/1 (frame 1357/1546) /content/ttt.mp4: 384x640 1 faculty_of_material_and_chemical_eng, 13.9ms\n",
            "video 1/1 (frame 1358/1546) /content/ttt.mp4: 384x640 1 faculty_of_material_and_chemical_eng, 13.9ms\n",
            "video 1/1 (frame 1359/1546) /content/ttt.mp4: 384x640 1 faculty_of_material_and_chemical_eng, 13.8ms\n",
            "video 1/1 (frame 1360/1546) /content/ttt.mp4: 384x640 1 faculty_of_material_and_chemical_eng, 13.9ms\n",
            "video 1/1 (frame 1361/1546) /content/ttt.mp4: 384x640 1 faculty_of_material_and_chemical_eng, 13.8ms\n",
            "video 1/1 (frame 1362/1546) /content/ttt.mp4: 384x640 1 faculty_of_material_and_chemical_eng, 13.8ms\n",
            "video 1/1 (frame 1363/1546) /content/ttt.mp4: 384x640 1 faculty_of_material_and_chemical_eng, 13.9ms\n",
            "video 1/1 (frame 1364/1546) /content/ttt.mp4: 384x640 1 faculty_of_material_and_chemical_eng, 13.8ms\n",
            "video 1/1 (frame 1365/1546) /content/ttt.mp4: 384x640 1 faculty_of_material_and_chemical_eng, 13.8ms\n",
            "video 1/1 (frame 1366/1546) /content/ttt.mp4: 384x640 1 faculty_of_material_and_chemical_eng, 13.8ms\n",
            "video 1/1 (frame 1367/1546) /content/ttt.mp4: 384x640 1 faculty_of_material_and_chemical_eng, 14.0ms\n",
            "video 1/1 (frame 1368/1546) /content/ttt.mp4: 384x640 1 faculty_of_material_and_chemical_eng, 13.8ms\n",
            "video 1/1 (frame 1369/1546) /content/ttt.mp4: 384x640 1 faculty_of_material_and_chemical_eng, 13.8ms\n",
            "video 1/1 (frame 1370/1546) /content/ttt.mp4: 384x640 1 faculty_of_material_and_chemical_eng, 13.8ms\n",
            "video 1/1 (frame 1371/1546) /content/ttt.mp4: 384x640 1 faculty_of_material_and_chemical_eng, 13.8ms\n",
            "video 1/1 (frame 1372/1546) /content/ttt.mp4: 384x640 1 faculty_of_material_and_chemical_eng, 13.9ms\n",
            "video 1/1 (frame 1373/1546) /content/ttt.mp4: 384x640 1 faculty_of_material_and_chemical_eng, 14.0ms\n",
            "video 1/1 (frame 1374/1546) /content/ttt.mp4: 384x640 1 faculty_of_material_and_chemical_eng, 13.8ms\n",
            "video 1/1 (frame 1375/1546) /content/ttt.mp4: 384x640 1 faculty_of_material_and_chemical_eng, 13.8ms\n",
            "video 1/1 (frame 1376/1546) /content/ttt.mp4: 384x640 1 faculty_of_material_and_chemical_eng, 13.9ms\n",
            "video 1/1 (frame 1377/1546) /content/ttt.mp4: 384x640 1 faculty_of_material_and_chemical_eng, 13.9ms\n",
            "video 1/1 (frame 1378/1546) /content/ttt.mp4: 384x640 1 faculty_of_material_and_chemical_eng, 13.9ms\n",
            "video 1/1 (frame 1379/1546) /content/ttt.mp4: 384x640 1 faculty_of_material_and_chemical_eng, 13.9ms\n",
            "video 1/1 (frame 1380/1546) /content/ttt.mp4: 384x640 1 faculty_of_material_and_chemical_eng, 13.8ms\n",
            "video 1/1 (frame 1381/1546) /content/ttt.mp4: 384x640 1 faculty_of_material_and_chemical_eng, 14.0ms\n",
            "video 1/1 (frame 1382/1546) /content/ttt.mp4: 384x640 1 faculty_of_material_and_chemical_eng, 13.8ms\n",
            "video 1/1 (frame 1383/1546) /content/ttt.mp4: 384x640 1 faculty_of_material_and_chemical_eng, 13.9ms\n",
            "video 1/1 (frame 1384/1546) /content/ttt.mp4: 384x640 1 faculty_of_material_and_chemical_eng, 13.9ms\n",
            "video 1/1 (frame 1385/1546) /content/ttt.mp4: 384x640 1 faculty_of_material_and_chemical_eng, 13.8ms\n",
            "video 1/1 (frame 1386/1546) /content/ttt.mp4: 384x640 1 faculty_of_material_and_chemical_eng, 13.8ms\n",
            "video 1/1 (frame 1387/1546) /content/ttt.mp4: 384x640 1 faculty_of_material_and_chemical_eng, 13.9ms\n",
            "video 1/1 (frame 1388/1546) /content/ttt.mp4: 384x640 1 faculty_of_material_and_chemical_eng, 13.8ms\n",
            "video 1/1 (frame 1389/1546) /content/ttt.mp4: 384x640 1 faculty_of_material_and_chemical_eng, 13.8ms\n",
            "video 1/1 (frame 1390/1546) /content/ttt.mp4: 384x640 1 faculty_of_material_and_chemical_eng, 14.2ms\n",
            "video 1/1 (frame 1391/1546) /content/ttt.mp4: 384x640 1 faculty_of_material_and_chemical_eng, 13.8ms\n",
            "video 1/1 (frame 1392/1546) /content/ttt.mp4: 384x640 1 faculty_of_material_and_chemical_eng, 15.3ms\n",
            "video 1/1 (frame 1393/1546) /content/ttt.mp4: 384x640 1 faculty_of_material_and_chemical_eng, 13.8ms\n",
            "video 1/1 (frame 1394/1546) /content/ttt.mp4: 384x640 1 faculty_of_material_and_chemical_eng, 13.8ms\n",
            "video 1/1 (frame 1395/1546) /content/ttt.mp4: 384x640 1 faculty_of_material_and_chemical_eng, 13.8ms\n",
            "video 1/1 (frame 1396/1546) /content/ttt.mp4: 384x640 1 faculty_of_material_and_chemical_eng, 13.8ms\n",
            "video 1/1 (frame 1397/1546) /content/ttt.mp4: 384x640 1 faculty_of_material_and_chemical_eng, 13.8ms\n",
            "video 1/1 (frame 1398/1546) /content/ttt.mp4: 384x640 1 faculty_of_material_and_chemical_eng, 13.9ms\n",
            "video 1/1 (frame 1399/1546) /content/ttt.mp4: 384x640 1 faculty_of_material_and_chemical_eng, 13.8ms\n",
            "video 1/1 (frame 1400/1546) /content/ttt.mp4: 384x640 1 faculty_of_material_and_chemical_eng, 13.8ms\n",
            "video 1/1 (frame 1401/1546) /content/ttt.mp4: 384x640 1 faculty_of_material_and_chemical_eng, 13.8ms\n",
            "video 1/1 (frame 1402/1546) /content/ttt.mp4: 384x640 1 faculty_of_material_and_chemical_eng, 13.8ms\n",
            "video 1/1 (frame 1403/1546) /content/ttt.mp4: 384x640 1 faculty_of_material_and_chemical_eng, 13.9ms\n",
            "video 1/1 (frame 1404/1546) /content/ttt.mp4: 384x640 1 faculty_of_material_and_chemical_eng, 13.9ms\n",
            "video 1/1 (frame 1405/1546) /content/ttt.mp4: 384x640 1 faculty_of_material_and_chemical_eng, 13.9ms\n",
            "video 1/1 (frame 1406/1546) /content/ttt.mp4: 384x640 1 faculty_of_material_and_chemical_eng, 14.8ms\n",
            "video 1/1 (frame 1407/1546) /content/ttt.mp4: 384x640 1 faculty_of_material_and_chemical_eng, 13.8ms\n",
            "video 1/1 (frame 1408/1546) /content/ttt.mp4: 384x640 1 faculty_of_material_and_chemical_eng, 13.8ms\n",
            "video 1/1 (frame 1409/1546) /content/ttt.mp4: 384x640 1 faculty_of_material_and_chemical_eng, 13.8ms\n",
            "video 1/1 (frame 1410/1546) /content/ttt.mp4: 384x640 1 faculty_of_material_and_chemical_eng, 13.8ms\n",
            "video 1/1 (frame 1411/1546) /content/ttt.mp4: 384x640 1 faculty_of_material_and_chemical_eng, 13.8ms\n",
            "video 1/1 (frame 1412/1546) /content/ttt.mp4: 384x640 1 faculty_of_material_and_chemical_eng, 13.8ms\n",
            "video 1/1 (frame 1413/1546) /content/ttt.mp4: 384x640 1 faculty_of_material_and_chemical_eng, 13.8ms\n",
            "video 1/1 (frame 1414/1546) /content/ttt.mp4: 384x640 1 faculty_of_material_and_chemical_eng, 13.8ms\n",
            "video 1/1 (frame 1415/1546) /content/ttt.mp4: 384x640 1 faculty_of_material_and_chemical_eng, 13.8ms\n",
            "video 1/1 (frame 1416/1546) /content/ttt.mp4: 384x640 1 faculty_of_material_and_chemical_eng, 13.8ms\n",
            "video 1/1 (frame 1417/1546) /content/ttt.mp4: 384x640 1 faculty_of_material_and_chemical_eng, 13.8ms\n",
            "video 1/1 (frame 1418/1546) /content/ttt.mp4: 384x640 1 faculty_of_material_and_chemical_eng, 13.9ms\n",
            "video 1/1 (frame 1419/1546) /content/ttt.mp4: 384x640 1 faculty_of_material_and_chemical_eng, 14.0ms\n",
            "video 1/1 (frame 1420/1546) /content/ttt.mp4: 384x640 1 faculty_of_material_and_chemical_eng, 13.9ms\n",
            "video 1/1 (frame 1421/1546) /content/ttt.mp4: 384x640 1 faculty_of_material_and_chemical_eng, 14.0ms\n",
            "video 1/1 (frame 1422/1546) /content/ttt.mp4: 384x640 1 faculty_of_material_and_chemical_eng, 13.9ms\n",
            "video 1/1 (frame 1423/1546) /content/ttt.mp4: 384x640 1 faculty_of_material_and_chemical_eng, 13.8ms\n",
            "video 1/1 (frame 1424/1546) /content/ttt.mp4: 384x640 1 faculty_of_material_and_chemical_eng, 13.8ms\n",
            "video 1/1 (frame 1425/1546) /content/ttt.mp4: 384x640 1 faculty_of_material_and_chemical_eng, 13.8ms\n",
            "video 1/1 (frame 1426/1546) /content/ttt.mp4: 384x640 1 faculty_of_material_and_chemical_eng, 13.9ms\n",
            "video 1/1 (frame 1427/1546) /content/ttt.mp4: 384x640 1 faculty_of_material_and_chemical_eng, 13.9ms\n",
            "video 1/1 (frame 1428/1546) /content/ttt.mp4: 384x640 1 faculty_of_material_and_chemical_eng, 13.8ms\n",
            "video 1/1 (frame 1429/1546) /content/ttt.mp4: 384x640 1 faculty_of_material_and_chemical_eng, 13.8ms\n",
            "video 1/1 (frame 1430/1546) /content/ttt.mp4: 384x640 1 faculty_of_material_and_chemical_eng, 13.8ms\n",
            "video 1/1 (frame 1431/1546) /content/ttt.mp4: 384x640 1 faculty_of_material_and_chemical_eng, 13.8ms\n",
            "video 1/1 (frame 1432/1546) /content/ttt.mp4: 384x640 1 faculty_of_material_and_chemical_eng, 13.9ms\n",
            "video 1/1 (frame 1433/1546) /content/ttt.mp4: 384x640 1 faculty_of_material_and_chemical_eng, 13.8ms\n",
            "video 1/1 (frame 1434/1546) /content/ttt.mp4: 384x640 1 faculty_of_material_and_chemical_eng, 13.8ms\n",
            "video 1/1 (frame 1435/1546) /content/ttt.mp4: 384x640 1 faculty_of_material_and_chemical_eng, 13.8ms\n",
            "video 1/1 (frame 1436/1546) /content/ttt.mp4: 384x640 1 faculty_of_material_and_chemical_eng, 13.8ms\n",
            "video 1/1 (frame 1437/1546) /content/ttt.mp4: 384x640 1 faculty_of_material_and_chemical_eng, 13.8ms\n",
            "video 1/1 (frame 1438/1546) /content/ttt.mp4: 384x640 1 faculty_of_material_and_chemical_eng, 13.8ms\n",
            "video 1/1 (frame 1439/1546) /content/ttt.mp4: 384x640 1 faculty_of_material_and_chemical_eng, 13.8ms\n",
            "video 1/1 (frame 1440/1546) /content/ttt.mp4: 384x640 1 faculty_of_material_and_chemical_eng, 13.9ms\n",
            "video 1/1 (frame 1441/1546) /content/ttt.mp4: 384x640 1 faculty_of_material_and_chemical_eng, 13.8ms\n",
            "video 1/1 (frame 1442/1546) /content/ttt.mp4: 384x640 1 faculty_of_material_and_chemical_eng, 13.8ms\n",
            "video 1/1 (frame 1443/1546) /content/ttt.mp4: 384x640 1 faculty_of_material_and_chemical_eng, 13.8ms\n",
            "video 1/1 (frame 1444/1546) /content/ttt.mp4: 384x640 1 faculty_of_material_and_chemical_eng, 13.8ms\n",
            "video 1/1 (frame 1445/1546) /content/ttt.mp4: 384x640 1 faculty_of_material_and_chemical_eng, 13.8ms\n",
            "video 1/1 (frame 1446/1546) /content/ttt.mp4: 384x640 1 faculty_of_material_and_chemical_eng, 13.8ms\n",
            "video 1/1 (frame 1447/1546) /content/ttt.mp4: 384x640 1 faculty_of_material_and_chemical_eng, 14.8ms\n",
            "video 1/1 (frame 1448/1546) /content/ttt.mp4: 384x640 1 faculty_of_material_and_chemical_eng, 13.9ms\n",
            "video 1/1 (frame 1449/1546) /content/ttt.mp4: 384x640 1 faculty_of_material_and_chemical_eng, 13.8ms\n",
            "video 1/1 (frame 1450/1546) /content/ttt.mp4: 384x640 1 faculty_of_material_and_chemical_eng, 13.8ms\n",
            "video 1/1 (frame 1451/1546) /content/ttt.mp4: 384x640 1 faculty_of_material_and_chemical_eng, 13.8ms\n",
            "video 1/1 (frame 1452/1546) /content/ttt.mp4: 384x640 1 faculty_of_material_and_chemical_eng, 13.8ms\n",
            "video 1/1 (frame 1453/1546) /content/ttt.mp4: 384x640 1 faculty_of_material_and_chemical_eng, 13.8ms\n",
            "video 1/1 (frame 1454/1546) /content/ttt.mp4: 384x640 1 faculty_of_material_and_chemical_eng, 13.9ms\n",
            "video 1/1 (frame 1455/1546) /content/ttt.mp4: 384x640 1 faculty_of_material_and_chemical_eng, 13.8ms\n",
            "video 1/1 (frame 1456/1546) /content/ttt.mp4: 384x640 1 faculty_of_material_and_chemical_eng, 13.8ms\n",
            "video 1/1 (frame 1457/1546) /content/ttt.mp4: 384x640 1 faculty_of_material_and_chemical_eng, 13.8ms\n",
            "video 1/1 (frame 1458/1546) /content/ttt.mp4: 384x640 1 faculty_of_material_and_chemical_eng, 13.8ms\n",
            "video 1/1 (frame 1459/1546) /content/ttt.mp4: 384x640 1 faculty_of_material_and_chemical_eng, 13.8ms\n",
            "video 1/1 (frame 1460/1546) /content/ttt.mp4: 384x640 1 faculty_of_material_and_chemical_eng, 13.8ms\n",
            "video 1/1 (frame 1461/1546) /content/ttt.mp4: 384x640 1 faculty_of_material_and_chemical_eng, 13.8ms\n",
            "video 1/1 (frame 1462/1546) /content/ttt.mp4: 384x640 1 faculty_of_material_and_chemical_eng, 13.8ms\n",
            "video 1/1 (frame 1463/1546) /content/ttt.mp4: 384x640 1 faculty_of_material_and_chemical_eng, 13.9ms\n",
            "video 1/1 (frame 1464/1546) /content/ttt.mp4: 384x640 1 faculty_of_material_and_chemical_eng, 13.8ms\n",
            "video 1/1 (frame 1465/1546) /content/ttt.mp4: 384x640 1 faculty_of_material_and_chemical_eng, 13.8ms\n",
            "video 1/1 (frame 1466/1546) /content/ttt.mp4: 384x640 1 faculty_of_material_and_chemical_eng, 13.8ms\n",
            "video 1/1 (frame 1467/1546) /content/ttt.mp4: 384x640 1 faculty_of_material_and_chemical_eng, 13.8ms\n",
            "video 1/1 (frame 1468/1546) /content/ttt.mp4: 384x640 1 faculty_of_material_and_chemical_eng, 13.5ms\n",
            "video 1/1 (frame 1469/1546) /content/ttt.mp4: 384x640 1 faculty_of_material_and_chemical_eng, 13.3ms\n",
            "video 1/1 (frame 1470/1546) /content/ttt.mp4: 384x640 1 faculty_of_material_and_chemical_eng, 13.2ms\n",
            "video 1/1 (frame 1471/1546) /content/ttt.mp4: 384x640 1 faculty_of_material_and_chemical_eng, 13.3ms\n",
            "video 1/1 (frame 1472/1546) /content/ttt.mp4: 384x640 1 faculty_of_material_and_chemical_eng, 13.7ms\n",
            "video 1/1 (frame 1473/1546) /content/ttt.mp4: 384x640 1 faculty_of_material_and_chemical_eng, 14.1ms\n",
            "video 1/1 (frame 1474/1546) /content/ttt.mp4: 384x640 1 faculty_of_material_and_chemical_eng, 15.4ms\n",
            "video 1/1 (frame 1475/1546) /content/ttt.mp4: 384x640 1 faculty_of_material_and_chemical_eng, 13.3ms\n",
            "video 1/1 (frame 1476/1546) /content/ttt.mp4: 384x640 1 faculty_of_material_and_chemical_eng, 13.5ms\n",
            "video 1/1 (frame 1477/1546) /content/ttt.mp4: 384x640 1 faculty_of_material_and_chemical_eng, 13.2ms\n",
            "video 1/1 (frame 1478/1546) /content/ttt.mp4: 384x640 1 faculty_of_material_and_chemical_eng, 13.5ms\n",
            "video 1/1 (frame 1479/1546) /content/ttt.mp4: 384x640 1 faculty_of_material_and_chemical_eng, 13.2ms\n",
            "video 1/1 (frame 1480/1546) /content/ttt.mp4: 384x640 1 faculty_of_material_and_chemical_eng, 13.2ms\n",
            "video 1/1 (frame 1481/1546) /content/ttt.mp4: 384x640 1 faculty_of_material_and_chemical_eng, 13.2ms\n",
            "video 1/1 (frame 1482/1546) /content/ttt.mp4: 384x640 1 faculty_of_material_and_chemical_eng, 13.3ms\n",
            "video 1/1 (frame 1483/1546) /content/ttt.mp4: 384x640 2 faculty_of_material_and_chemical_engs, 13.2ms\n",
            "video 1/1 (frame 1484/1546) /content/ttt.mp4: 384x640 2 faculty_of_material_and_chemical_engs, 13.2ms\n",
            "video 1/1 (frame 1485/1546) /content/ttt.mp4: 384x640 2 faculty_of_material_and_chemical_engs, 13.3ms\n",
            "video 1/1 (frame 1486/1546) /content/ttt.mp4: 384x640 2 faculty_of_material_and_chemical_engs, 13.2ms\n",
            "video 1/1 (frame 1487/1546) /content/ttt.mp4: 384x640 2 faculty_of_material_and_chemical_engs, 13.8ms\n",
            "video 1/1 (frame 1488/1546) /content/ttt.mp4: 384x640 2 faculty_of_material_and_chemical_engs, 13.2ms\n",
            "video 1/1 (frame 1489/1546) /content/ttt.mp4: 384x640 2 faculty_of_material_and_chemical_engs, 14.4ms\n",
            "video 1/1 (frame 1490/1546) /content/ttt.mp4: 384x640 2 faculty_of_material_and_chemical_engs, 13.2ms\n",
            "video 1/1 (frame 1491/1546) /content/ttt.mp4: 384x640 2 faculty_of_material_and_chemical_engs, 13.2ms\n",
            "video 1/1 (frame 1492/1546) /content/ttt.mp4: 384x640 2 faculty_of_material_and_chemical_engs, 13.3ms\n",
            "video 1/1 (frame 1493/1546) /content/ttt.mp4: 384x640 2 faculty_of_material_and_chemical_engs, 13.2ms\n",
            "video 1/1 (frame 1494/1546) /content/ttt.mp4: 384x640 2 faculty_of_material_and_chemical_engs, 13.2ms\n",
            "video 1/1 (frame 1495/1546) /content/ttt.mp4: 384x640 2 faculty_of_material_and_chemical_engs, 13.2ms\n",
            "video 1/1 (frame 1496/1546) /content/ttt.mp4: 384x640 2 faculty_of_material_and_chemical_engs, 13.6ms\n",
            "video 1/1 (frame 1497/1546) /content/ttt.mp4: 384x640 2 faculty_of_material_and_chemical_engs, 13.6ms\n",
            "video 1/1 (frame 1498/1546) /content/ttt.mp4: 384x640 2 faculty_of_material_and_chemical_engs, 14.0ms\n",
            "video 1/1 (frame 1499/1546) /content/ttt.mp4: 384x640 2 faculty_of_material_and_chemical_engs, 13.6ms\n",
            "video 1/1 (frame 1500/1546) /content/ttt.mp4: 384x640 2 faculty_of_material_and_chemical_engs, 14.2ms\n",
            "video 1/1 (frame 1501/1546) /content/ttt.mp4: 384x640 2 faculty_of_material_and_chemical_engs, 13.4ms\n",
            "video 1/1 (frame 1502/1546) /content/ttt.mp4: 384x640 2 faculty_of_material_and_chemical_engs, 14.7ms\n",
            "video 1/1 (frame 1503/1546) /content/ttt.mp4: 384x640 2 faculty_of_material_and_chemical_engs, 13.2ms\n",
            "video 1/1 (frame 1504/1546) /content/ttt.mp4: 384x640 2 faculty_of_material_and_chemical_engs, 13.3ms\n",
            "video 1/1 (frame 1505/1546) /content/ttt.mp4: 384x640 2 faculty_of_material_and_chemical_engs, 13.2ms\n",
            "video 1/1 (frame 1506/1546) /content/ttt.mp4: 384x640 2 faculty_of_material_and_chemical_engs, 13.2ms\n",
            "video 1/1 (frame 1507/1546) /content/ttt.mp4: 384x640 2 faculty_of_material_and_chemical_engs, 13.5ms\n",
            "video 1/1 (frame 1508/1546) /content/ttt.mp4: 384x640 2 faculty_of_material_and_chemical_engs, 13.2ms\n",
            "video 1/1 (frame 1509/1546) /content/ttt.mp4: 384x640 2 faculty_of_material_and_chemical_engs, 13.3ms\n",
            "video 1/1 (frame 1510/1546) /content/ttt.mp4: 384x640 2 faculty_of_material_and_chemical_engs, 13.3ms\n",
            "video 1/1 (frame 1511/1546) /content/ttt.mp4: 384x640 2 faculty_of_material_and_chemical_engs, 13.2ms\n",
            "video 1/1 (frame 1512/1546) /content/ttt.mp4: 384x640 2 faculty_of_material_and_chemical_engs, 13.2ms\n",
            "video 1/1 (frame 1513/1546) /content/ttt.mp4: 384x640 2 faculty_of_material_and_chemical_engs, 13.8ms\n",
            "video 1/1 (frame 1514/1546) /content/ttt.mp4: 384x640 2 faculty_of_material_and_chemical_engs, 13.8ms\n",
            "video 1/1 (frame 1515/1546) /content/ttt.mp4: 384x640 2 faculty_of_material_and_chemical_engs, 13.8ms\n",
            "video 1/1 (frame 1516/1546) /content/ttt.mp4: 384x640 2 faculty_of_material_and_chemical_engs, 13.9ms\n",
            "video 1/1 (frame 1517/1546) /content/ttt.mp4: 384x640 2 faculty_of_material_and_chemical_engs, 13.8ms\n",
            "video 1/1 (frame 1518/1546) /content/ttt.mp4: 384x640 2 faculty_of_material_and_chemical_engs, 14.1ms\n",
            "video 1/1 (frame 1519/1546) /content/ttt.mp4: 384x640 2 faculty_of_material_and_chemical_engs, 13.8ms\n",
            "video 1/1 (frame 1520/1546) /content/ttt.mp4: 384x640 2 faculty_of_material_and_chemical_engs, 13.8ms\n",
            "video 1/1 (frame 1521/1546) /content/ttt.mp4: 384x640 2 faculty_of_material_and_chemical_engs, 13.8ms\n",
            "video 1/1 (frame 1522/1546) /content/ttt.mp4: 384x640 2 faculty_of_material_and_chemical_engs, 13.9ms\n",
            "video 1/1 (frame 1523/1546) /content/ttt.mp4: 384x640 2 faculty_of_material_and_chemical_engs, 13.8ms\n",
            "video 1/1 (frame 1524/1546) /content/ttt.mp4: 384x640 2 faculty_of_material_and_chemical_engs, 13.8ms\n",
            "video 1/1 (frame 1525/1546) /content/ttt.mp4: 384x640 2 faculty_of_material_and_chemical_engs, 13.8ms\n",
            "video 1/1 (frame 1526/1546) /content/ttt.mp4: 384x640 2 faculty_of_material_and_chemical_engs, 13.9ms\n",
            "video 1/1 (frame 1527/1546) /content/ttt.mp4: 384x640 2 faculty_of_material_and_chemical_engs, 13.8ms\n",
            "video 1/1 (frame 1528/1546) /content/ttt.mp4: 384x640 2 faculty_of_material_and_chemical_engs, 13.8ms\n",
            "video 1/1 (frame 1529/1546) /content/ttt.mp4: 384x640 2 faculty_of_material_and_chemical_engs, 13.8ms\n",
            "video 1/1 (frame 1530/1546) /content/ttt.mp4: 384x640 2 faculty_of_material_and_chemical_engs, 13.8ms\n",
            "video 1/1 (frame 1531/1546) /content/ttt.mp4: 384x640 2 faculty_of_material_and_chemical_engs, 13.8ms\n",
            "video 1/1 (frame 1532/1546) /content/ttt.mp4: 384x640 2 faculty_of_material_and_chemical_engs, 13.8ms\n",
            "video 1/1 (frame 1533/1546) /content/ttt.mp4: 384x640 2 faculty_of_material_and_chemical_engs, 13.8ms\n",
            "video 1/1 (frame 1534/1546) /content/ttt.mp4: 384x640 2 faculty_of_material_and_chemical_engs, 13.8ms\n",
            "video 1/1 (frame 1535/1546) /content/ttt.mp4: 384x640 2 faculty_of_material_and_chemical_engs, 15.0ms\n",
            "video 1/1 (frame 1536/1546) /content/ttt.mp4: 384x640 2 faculty_of_material_and_chemical_engs, 13.9ms\n",
            "video 1/1 (frame 1537/1546) /content/ttt.mp4: 384x640 2 faculty_of_material_and_chemical_engs, 13.8ms\n",
            "video 1/1 (frame 1538/1546) /content/ttt.mp4: 384x640 3 faculty_of_material_and_chemical_engs, 13.9ms\n",
            "video 1/1 (frame 1539/1546) /content/ttt.mp4: 384x640 2 faculty_of_material_and_chemical_engs, 13.8ms\n",
            "video 1/1 (frame 1540/1546) /content/ttt.mp4: 384x640 2 faculty_of_material_and_chemical_engs, 13.8ms\n",
            "video 1/1 (frame 1541/1546) /content/ttt.mp4: 384x640 2 faculty_of_material_and_chemical_engs, 13.9ms\n",
            "video 1/1 (frame 1542/1546) /content/ttt.mp4: 384x640 2 faculty_of_material_and_chemical_engs, 13.8ms\n",
            "video 1/1 (frame 1543/1546) /content/ttt.mp4: 384x640 2 faculty_of_material_and_chemical_engs, 13.8ms\n",
            "video 1/1 (frame 1544/1546) /content/ttt.mp4: 384x640 2 faculty_of_material_and_chemical_engs, 13.9ms\n",
            "video 1/1 (frame 1545/1546) /content/ttt.mp4: 384x640 2 faculty_of_material_and_chemical_engs, 13.8ms\n",
            "video 1/1 (frame 1546/1546) /content/ttt.mp4: 384x640 2 faculty_of_material_and_chemical_engs, 13.9ms\n",
            "Speed: 2.1ms preprocess, 13.4ms inference, 2.1ms postprocess per image at shape (1, 3, 384, 640)\n",
            "Results saved to \u001b[1mruns/segment/train3\u001b[0m\n",
            "✅ Video segmentation results saved in: runs/segment/train3\n"
          ]
        }
      ]
    },
    {
      "cell_type": "code",
      "source": [
        "import os\n",
        "print(os.listdir(results[0].save_dir))\n"
      ],
      "metadata": {
        "colab": {
          "base_uri": "https://localhost:8080/"
        },
        "id": "jTV62pUWL1fz",
        "outputId": "8ac76992-f7de-49fb-a2d1-21266a40e21e"
      },
      "execution_count": 24,
      "outputs": [
        {
          "output_type": "stream",
          "name": "stdout",
          "text": [
            "['ttt.avi']\n"
          ]
        }
      ]
    },
    {
      "cell_type": "code",
      "source": [
        "print(results[0].save_dir)\n"
      ],
      "metadata": {
        "colab": {
          "base_uri": "https://localhost:8080/"
        },
        "id": "E1R1mTryMLM7",
        "outputId": "21b72a0f-5356-423c-ea7a-0ce8ce998347"
      },
      "execution_count": 26,
      "outputs": [
        {
          "output_type": "stream",
          "name": "stdout",
          "text": [
            "runs/segment/train3\n"
          ]
        }
      ]
    },
    {
      "cell_type": "code",
      "source": [
        "import os\n",
        "print(os.listdir(results[0].save_dir))\n"
      ],
      "metadata": {
        "colab": {
          "base_uri": "https://localhost:8080/"
        },
        "id": "8ANE79vlMVTH",
        "outputId": "5894a28c-b6ef-40fa-a383-3f5e25a67be0"
      },
      "execution_count": 27,
      "outputs": [
        {
          "output_type": "stream",
          "name": "stdout",
          "text": [
            "['ttt.avi']\n"
          ]
        }
      ]
    },
    {
      "cell_type": "code",
      "source": [
        "files.download(\"runs/segment/train3/ttt.avi\")\n"
      ],
      "metadata": {
        "colab": {
          "base_uri": "https://localhost:8080/",
          "height": 17
        },
        "id": "8sL3Bq1bNWoT",
        "outputId": "f6c3625d-7b5a-4c37-de6b-a3aeed7b7c9b"
      },
      "execution_count": 30,
      "outputs": [
        {
          "output_type": "display_data",
          "data": {
            "text/plain": [
              "<IPython.core.display.Javascript object>"
            ],
            "application/javascript": [
              "\n",
              "    async function download(id, filename, size) {\n",
              "      if (!google.colab.kernel.accessAllowed) {\n",
              "        return;\n",
              "      }\n",
              "      const div = document.createElement('div');\n",
              "      const label = document.createElement('label');\n",
              "      label.textContent = `Downloading \"${filename}\": `;\n",
              "      div.appendChild(label);\n",
              "      const progress = document.createElement('progress');\n",
              "      progress.max = size;\n",
              "      div.appendChild(progress);\n",
              "      document.body.appendChild(div);\n",
              "\n",
              "      const buffers = [];\n",
              "      let downloaded = 0;\n",
              "\n",
              "      const channel = await google.colab.kernel.comms.open(id);\n",
              "      // Send a message to notify the kernel that we're ready.\n",
              "      channel.send({})\n",
              "\n",
              "      for await (const message of channel.messages) {\n",
              "        // Send a message to notify the kernel that we're ready.\n",
              "        channel.send({})\n",
              "        if (message.buffers) {\n",
              "          for (const buffer of message.buffers) {\n",
              "            buffers.push(buffer);\n",
              "            downloaded += buffer.byteLength;\n",
              "            progress.value = downloaded;\n",
              "          }\n",
              "        }\n",
              "      }\n",
              "      const blob = new Blob(buffers, {type: 'application/binary'});\n",
              "      const a = document.createElement('a');\n",
              "      a.href = window.URL.createObjectURL(blob);\n",
              "      a.download = filename;\n",
              "      div.appendChild(a);\n",
              "      a.click();\n",
              "      div.remove();\n",
              "    }\n",
              "  "
            ]
          },
          "metadata": {}
        },
        {
          "output_type": "display_data",
          "data": {
            "text/plain": [
              "<IPython.core.display.Javascript object>"
            ],
            "application/javascript": [
              "download(\"download_70b54eed-ada6-4e46-af59-17463f70069d\", \"ttt.avi\", 140867378)"
            ]
          },
          "metadata": {}
        }
      ]
    },
    {
      "cell_type": "code",
      "source": [],
      "metadata": {
        "id": "0KNlAED7Nb7u"
      },
      "execution_count": null,
      "outputs": []
    }
  ]
}